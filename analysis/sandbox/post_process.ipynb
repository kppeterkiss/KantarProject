{
 "cells": [
  {
   "cell_type": "code",
   "execution_count": 3,
   "id": "initial_id",
   "metadata": {
    "collapsed": true,
    "ExecuteTime": {
     "end_time": "2023-11-24T09:16:28.259232Z",
     "start_time": "2023-11-24T09:16:28.248360Z"
    }
   },
   "outputs": [],
   "source": [
    "import pandas as pd\n",
    "import os\n",
    "import numpy as np\n",
    "\n"
   ]
  },
  {
   "cell_type": "code",
   "execution_count": 4,
   "outputs": [],
   "source": [
    "figure_dir='./figures/'\n",
    "data_dir = './data_kantar/'"
   ],
   "metadata": {
    "collapsed": false,
    "ExecuteTime": {
     "end_time": "2023-11-24T09:16:28.558677Z",
     "start_time": "2023-11-24T09:16:28.547493Z"
    }
   },
   "id": "60a53ac1d86664c4"
  },
  {
   "cell_type": "code",
   "execution_count": 5,
   "outputs": [],
   "source": [
    "transaction_limits = [1, 20, 100, 1500, np.inf]\n",
    "intervals = list(zip(transaction_limits[:-1], transaction_limits[1:]))"
   ],
   "metadata": {
    "collapsed": false,
    "ExecuteTime": {
     "end_time": "2023-11-24T09:16:28.916395Z",
     "start_time": "2023-11-24T09:16:28.906092Z"
    }
   },
   "id": "6459a725d3724809"
  },
  {
   "cell_type": "code",
   "execution_count": 6,
   "outputs": [
    {
     "data": {
      "text/plain": "'2022_raw_1-20.dta'"
     },
     "execution_count": 6,
     "metadata": {},
     "output_type": "execute_result"
    }
   ],
   "source": [
    "\n",
    "year=2022\n",
    "t=intervals[0]\n",
    "def get_name(year,state,interval):\n",
    "    return f'{year}_{state}_{interval[0]}-{interval[1]}.dta'\n",
    "\n",
    "get_name(year,'raw',t)"
   ],
   "metadata": {
    "collapsed": false,
    "ExecuteTime": {
     "end_time": "2023-11-24T09:16:29.854714Z",
     "start_time": "2023-11-24T09:16:29.840220Z"
    }
   },
   "id": "9e5d48101cc03ad6"
  },
  {
   "cell_type": "code",
   "execution_count": 7,
   "outputs": [],
   "source": [
    "dfs={}\n",
    "for t in intervals:\n",
    "    dfs[t]=pd.read_stata(data_dir+get_name(year,'o',t))"
   ],
   "metadata": {
    "collapsed": false,
    "ExecuteTime": {
     "end_time": "2023-11-24T09:16:45.534708Z",
     "start_time": "2023-11-24T09:16:30.888089Z"
    }
   },
   "id": "f4ca2579acd427f8"
  },
  {
   "cell_type": "code",
   "execution_count": 8,
   "outputs": [],
   "source": [
    "df_shops = pd.read_stata(data_dir+f'{year}_shops.dta') \n",
    "df_products = pd.read_stata(data_dir+f'{year}_products.dta') \n"
   ],
   "metadata": {
    "collapsed": false,
    "ExecuteTime": {
     "end_time": "2023-11-24T09:17:52.987947Z",
     "start_time": "2023-11-24T09:17:43.359640Z"
    }
   },
   "id": "e07d9af735a9df11"
  },
  {
   "cell_type": "code",
   "execution_count": 20,
   "outputs": [],
   "source": [
    "df_customers = pd.read_stata(data_dir+f'{year}_customers.dta') \n"
   ],
   "metadata": {
    "collapsed": false,
    "ExecuteTime": {
     "end_time": "2023-11-24T09:47:14.394901Z",
     "start_time": "2023-11-24T09:47:14.342076Z"
    }
   },
   "id": "a0df74a20fa7c520"
  },
  {
   "cell_type": "code",
   "execution_count": 9,
   "outputs": [
    {
     "data": {
      "text/plain": "   index  CodLugarCompra  Lugar_Compra                Canal\n0      0              79     Mercadona          SUPER+AUTOS\n1      1              28        CONDIS          SUPER+AUTOS\n2      2              33           DIA             DISCOUNT\n3    462             121  AUTOSERVICIO          SUPER+AUTOS\n4    463             123       TIENDAS  TDA.DE ALIMENTACION",
      "text/html": "<div>\n<style scoped>\n    .dataframe tbody tr th:only-of-type {\n        vertical-align: middle;\n    }\n\n    .dataframe tbody tr th {\n        vertical-align: top;\n    }\n\n    .dataframe thead th {\n        text-align: right;\n    }\n</style>\n<table border=\"1\" class=\"dataframe\">\n  <thead>\n    <tr style=\"text-align: right;\">\n      <th></th>\n      <th>index</th>\n      <th>CodLugarCompra</th>\n      <th>Lugar_Compra</th>\n      <th>Canal</th>\n    </tr>\n  </thead>\n  <tbody>\n    <tr>\n      <th>0</th>\n      <td>0</td>\n      <td>79</td>\n      <td>Mercadona</td>\n      <td>SUPER+AUTOS</td>\n    </tr>\n    <tr>\n      <th>1</th>\n      <td>1</td>\n      <td>28</td>\n      <td>CONDIS</td>\n      <td>SUPER+AUTOS</td>\n    </tr>\n    <tr>\n      <th>2</th>\n      <td>2</td>\n      <td>33</td>\n      <td>DIA</td>\n      <td>DISCOUNT</td>\n    </tr>\n    <tr>\n      <th>3</th>\n      <td>462</td>\n      <td>121</td>\n      <td>AUTOSERVICIO</td>\n      <td>SUPER+AUTOS</td>\n    </tr>\n    <tr>\n      <th>4</th>\n      <td>463</td>\n      <td>123</td>\n      <td>TIENDAS</td>\n      <td>TDA.DE ALIMENTACION</td>\n    </tr>\n  </tbody>\n</table>\n</div>"
     },
     "execution_count": 9,
     "metadata": {},
     "output_type": "execute_result"
    }
   ],
   "source": [
    "df_shops.head()"
   ],
   "metadata": {
    "collapsed": false,
    "ExecuteTime": {
     "end_time": "2023-11-24T09:43:07.753725Z",
     "start_time": "2023-11-24T09:43:07.702491Z"
    }
   },
   "id": "13d9498f89bef50c"
  },
  {
   "cell_type": "markdown",
   "source": [],
   "metadata": {
    "collapsed": false
   },
   "id": "17c045617bcfa0f1"
  },
  {
   "cell_type": "code",
   "execution_count": 14,
   "outputs": [],
   "source": [
    "duplicates_in_shops = df_shops['CodLugarCompra'].duplicated().any()"
   ],
   "metadata": {
    "collapsed": false,
    "ExecuteTime": {
     "end_time": "2023-11-24T09:44:15.847692Z",
     "start_time": "2023-11-24T09:44:15.832095Z"
    }
   },
   "id": "37127940c5075591"
  },
  {
   "cell_type": "code",
   "execution_count": 13,
   "outputs": [
    {
     "data": {
      "text/plain": "False"
     },
     "execution_count": 13,
     "metadata": {},
     "output_type": "execute_result"
    }
   ],
   "source": [],
   "metadata": {
    "collapsed": false,
    "ExecuteTime": {
     "end_time": "2023-11-24T09:43:49.345274Z",
     "start_time": "2023-11-24T09:43:49.329458Z"
    }
   },
   "id": "7f77c02b57f367b1"
  },
  {
   "cell_type": "code",
   "execution_count": 15,
   "outputs": [
    {
     "data": {
      "text/plain": "   index  CodProducto   CodigoBarras CodVF                        VF  SA7_BPL  \\\n0      0       791031  8480000105424    30  LECHE LARGA CONSERVACION        1   \n1      1       675179  8410702020886   524           V.C.D. ESPAÑOLA        1   \n2      2       204305     SSA1410202    10  FRUTA FRESCA A PESO (CB)        1   \n3      6       290307     SSA1070201    10  FRUTA FRESCA A PESO (CB)        1   \n4      7       290355     SSA1130202    10  FRUTA FRESCA A PESO (CB)        1   \n\n             SA4_Fabricante      SA3_Marca   SA2_Submarca X102_Aditivos  ...  \\\n0            MERCADONA S.A.      HACENDADO      HACENDADO   SIN ADITIVO  ...   \n1  CONDIS SUPERMERCATS S.A.        TRIVIUM        TRIVIUM           nan  ...   \n2             NINGUNA MARCA  NINGUNA MARCA  NINGUNA MARCA           nan  ...   \n3             NINGUNA MARCA  NINGUNA MARCA  NINGUNA MARCA           nan  ...   \n4             NINGUNA MARCA  NINGUNA MARCA  NINGUNA MARCA           nan  ...   \n\n  X558_Variedad_Queso X571_Peso_Bebe X674_Tipo_Helado X901_Localizacion  \\\n0                 nan            nan              nan        ESTANTERIA   \n1                 nan            nan              nan        ESTANTERIA   \n2                 nan            nan              nan               nan   \n3                 nan            nan              nan               nan   \n4                 nan            nan              nan               nan   \n\n  X902_Tipo_Producto          X903_Envase X904_Variedad_Sabor  \\\n0              LECHE  BOTELLA DE PLASTICO             NATURAL   \n1               TORO      BOTELLA CRISTAL       TINTA DE TORO   \n2                nan                  nan                 nan   \n3                nan                  nan                 nan   \n4                nan                  nan                 nan   \n\n  X5_Num_Tot_Unidades X18_Num_Tot_Paquetes_Botes X66_Preferred_Unit_Measure  \n0                   1                          0                       1500  \n1                   1                          0                        750  \n2                   0                          0                          1  \n3                   0                          0                          1  \n4                   0                          0                          1  \n\n[5 rows x 56 columns]",
      "text/html": "<div>\n<style scoped>\n    .dataframe tbody tr th:only-of-type {\n        vertical-align: middle;\n    }\n\n    .dataframe tbody tr th {\n        vertical-align: top;\n    }\n\n    .dataframe thead th {\n        text-align: right;\n    }\n</style>\n<table border=\"1\" class=\"dataframe\">\n  <thead>\n    <tr style=\"text-align: right;\">\n      <th></th>\n      <th>index</th>\n      <th>CodProducto</th>\n      <th>CodigoBarras</th>\n      <th>CodVF</th>\n      <th>VF</th>\n      <th>SA7_BPL</th>\n      <th>SA4_Fabricante</th>\n      <th>SA3_Marca</th>\n      <th>SA2_Submarca</th>\n      <th>X102_Aditivos</th>\n      <th>...</th>\n      <th>X558_Variedad_Queso</th>\n      <th>X571_Peso_Bebe</th>\n      <th>X674_Tipo_Helado</th>\n      <th>X901_Localizacion</th>\n      <th>X902_Tipo_Producto</th>\n      <th>X903_Envase</th>\n      <th>X904_Variedad_Sabor</th>\n      <th>X5_Num_Tot_Unidades</th>\n      <th>X18_Num_Tot_Paquetes_Botes</th>\n      <th>X66_Preferred_Unit_Measure</th>\n    </tr>\n  </thead>\n  <tbody>\n    <tr>\n      <th>0</th>\n      <td>0</td>\n      <td>791031</td>\n      <td>8480000105424</td>\n      <td>30</td>\n      <td>LECHE LARGA CONSERVACION</td>\n      <td>1</td>\n      <td>MERCADONA S.A.</td>\n      <td>HACENDADO</td>\n      <td>HACENDADO</td>\n      <td>SIN ADITIVO</td>\n      <td>...</td>\n      <td>nan</td>\n      <td>nan</td>\n      <td>nan</td>\n      <td>ESTANTERIA</td>\n      <td>LECHE</td>\n      <td>BOTELLA DE PLASTICO</td>\n      <td>NATURAL</td>\n      <td>1</td>\n      <td>0</td>\n      <td>1500</td>\n    </tr>\n    <tr>\n      <th>1</th>\n      <td>1</td>\n      <td>675179</td>\n      <td>8410702020886</td>\n      <td>524</td>\n      <td>V.C.D. ESPAÑOLA</td>\n      <td>1</td>\n      <td>CONDIS SUPERMERCATS S.A.</td>\n      <td>TRIVIUM</td>\n      <td>TRIVIUM</td>\n      <td>nan</td>\n      <td>...</td>\n      <td>nan</td>\n      <td>nan</td>\n      <td>nan</td>\n      <td>ESTANTERIA</td>\n      <td>TORO</td>\n      <td>BOTELLA CRISTAL</td>\n      <td>TINTA DE TORO</td>\n      <td>1</td>\n      <td>0</td>\n      <td>750</td>\n    </tr>\n    <tr>\n      <th>2</th>\n      <td>2</td>\n      <td>204305</td>\n      <td>SSA1410202</td>\n      <td>10</td>\n      <td>FRUTA FRESCA A PESO (CB)</td>\n      <td>1</td>\n      <td>NINGUNA MARCA</td>\n      <td>NINGUNA MARCA</td>\n      <td>NINGUNA MARCA</td>\n      <td>nan</td>\n      <td>...</td>\n      <td>nan</td>\n      <td>nan</td>\n      <td>nan</td>\n      <td>nan</td>\n      <td>nan</td>\n      <td>nan</td>\n      <td>nan</td>\n      <td>0</td>\n      <td>0</td>\n      <td>1</td>\n    </tr>\n    <tr>\n      <th>3</th>\n      <td>6</td>\n      <td>290307</td>\n      <td>SSA1070201</td>\n      <td>10</td>\n      <td>FRUTA FRESCA A PESO (CB)</td>\n      <td>1</td>\n      <td>NINGUNA MARCA</td>\n      <td>NINGUNA MARCA</td>\n      <td>NINGUNA MARCA</td>\n      <td>nan</td>\n      <td>...</td>\n      <td>nan</td>\n      <td>nan</td>\n      <td>nan</td>\n      <td>nan</td>\n      <td>nan</td>\n      <td>nan</td>\n      <td>nan</td>\n      <td>0</td>\n      <td>0</td>\n      <td>1</td>\n    </tr>\n    <tr>\n      <th>4</th>\n      <td>7</td>\n      <td>290355</td>\n      <td>SSA1130202</td>\n      <td>10</td>\n      <td>FRUTA FRESCA A PESO (CB)</td>\n      <td>1</td>\n      <td>NINGUNA MARCA</td>\n      <td>NINGUNA MARCA</td>\n      <td>NINGUNA MARCA</td>\n      <td>nan</td>\n      <td>...</td>\n      <td>nan</td>\n      <td>nan</td>\n      <td>nan</td>\n      <td>nan</td>\n      <td>nan</td>\n      <td>nan</td>\n      <td>nan</td>\n      <td>0</td>\n      <td>0</td>\n      <td>1</td>\n    </tr>\n  </tbody>\n</table>\n<p>5 rows × 56 columns</p>\n</div>"
     },
     "execution_count": 15,
     "metadata": {},
     "output_type": "execute_result"
    }
   ],
   "source": [
    "df_products.head()"
   ],
   "metadata": {
    "collapsed": false,
    "ExecuteTime": {
     "end_time": "2023-11-24T09:45:10.237509Z",
     "start_time": "2023-11-24T09:45:10.234260Z"
    }
   },
   "id": "8cf0195e4f8cc775"
  },
  {
   "cell_type": "code",
   "execution_count": null,
   "outputs": [],
   "source": [],
   "metadata": {
    "collapsed": false
   },
   "id": "d10630b4b0bdede3"
  },
  {
   "cell_type": "code",
   "execution_count": 42,
   "outputs": [],
   "source": [
    "dfp1=df_products.drop('index',axis=1)"
   ],
   "metadata": {
    "collapsed": false,
    "ExecuteTime": {
     "end_time": "2023-11-24T10:08:54.262947Z",
     "start_time": "2023-11-24T10:08:54.260044Z"
    }
   },
   "id": "81b63c70e260da34"
  },
  {
   "cell_type": "code",
   "execution_count": 43,
   "outputs": [],
   "source": [
    "dfp1=dfp1.drop_duplicates()"
   ],
   "metadata": {
    "collapsed": false,
    "ExecuteTime": {
     "end_time": "2023-11-24T10:09:11.945273Z",
     "start_time": "2023-11-24T10:09:11.069128Z"
    }
   },
   "id": "5cecbf15f616fc20"
  },
  {
   "cell_type": "code",
   "execution_count": 44,
   "outputs": [
    {
     "data": {
      "text/plain": "True"
     },
     "execution_count": 44,
     "metadata": {},
     "output_type": "execute_result"
    }
   ],
   "source": [
    "dfp1['CodProducto'].duplicated().any()\n",
    "\n"
   ],
   "metadata": {
    "collapsed": false,
    "ExecuteTime": {
     "end_time": "2023-11-24T10:09:23.544680Z",
     "start_time": "2023-11-24T10:09:23.516441Z"
    }
   },
   "id": "6d2df71c8065688b"
  },
  {
   "cell_type": "code",
   "execution_count": 49,
   "outputs": [],
   "source": [
    "product_duplicates=dfp1[dfp1['CodProducto'].duplicated(keep=False)].sort_values('CodProducto')\n"
   ],
   "metadata": {
    "collapsed": false,
    "ExecuteTime": {
     "end_time": "2023-11-24T10:21:19.566816Z",
     "start_time": "2023-11-24T10:21:19.546165Z"
    }
   },
   "id": "dba05767422e44bf"
  },
  {
   "cell_type": "code",
   "execution_count": 51,
   "outputs": [],
   "source": [
    "d_records= product_duplicates[product_duplicates['CodProducto'] == product_duplicates.iloc[0]['CodProducto']]"
   ],
   "metadata": {
    "collapsed": false,
    "ExecuteTime": {
     "end_time": "2023-11-24T10:22:07.032166Z",
     "start_time": "2023-11-24T10:22:07.011146Z"
    }
   },
   "id": "f91f318332a43919"
  },
  {
   "cell_type": "code",
   "execution_count": 55,
   "outputs": [
    {
     "data": {
      "text/plain": "        CodProducto          CodigoBarras CodVF                 VF  SA7_BPL  \\\n126326        13755  E8A14003010704650308   834  OTROS QUESOS (CB)        1   \n127830        13755  E8A14002010704650308   834  OTROS QUESOS (CB)        1   \n\n                     SA4_Fabricante     SA3_Marca  SA2_Submarca X102_Aditivos  \\\n126326  QUESERIAS ENTREPINARES S.A.  ENTREPINARES  ENTREPINARES           nan   \n127830  QUESERIAS ENTREPINARES S.A.  ENTREPINARES  ENTREPINARES           nan   \n\n       X108_Usuario  ... X558_Variedad_Queso X571_Peso_Bebe X674_Tipo_Helado  \\\n126326          nan  ...               OVEJA            nan              nan   \n127830          nan  ...               OVEJA            nan              nan   \n\n       X901_Localizacion X902_Tipo_Producto X903_Envase X904_Variedad_Sabor  \\\n126326               nan                nan         nan                 nan   \n127830               nan                nan         nan                 nan   \n\n       X5_Num_Tot_Unidades X18_Num_Tot_Paquetes_Botes  \\\n126326                   0                          0   \n127830                   0                          0   \n\n       X66_Preferred_Unit_Measure  \n126326                          1  \n127830                          1  \n\n[2 rows x 55 columns]",
      "text/html": "<div>\n<style scoped>\n    .dataframe tbody tr th:only-of-type {\n        vertical-align: middle;\n    }\n\n    .dataframe tbody tr th {\n        vertical-align: top;\n    }\n\n    .dataframe thead th {\n        text-align: right;\n    }\n</style>\n<table border=\"1\" class=\"dataframe\">\n  <thead>\n    <tr style=\"text-align: right;\">\n      <th></th>\n      <th>CodProducto</th>\n      <th>CodigoBarras</th>\n      <th>CodVF</th>\n      <th>VF</th>\n      <th>SA7_BPL</th>\n      <th>SA4_Fabricante</th>\n      <th>SA3_Marca</th>\n      <th>SA2_Submarca</th>\n      <th>X102_Aditivos</th>\n      <th>X108_Usuario</th>\n      <th>...</th>\n      <th>X558_Variedad_Queso</th>\n      <th>X571_Peso_Bebe</th>\n      <th>X674_Tipo_Helado</th>\n      <th>X901_Localizacion</th>\n      <th>X902_Tipo_Producto</th>\n      <th>X903_Envase</th>\n      <th>X904_Variedad_Sabor</th>\n      <th>X5_Num_Tot_Unidades</th>\n      <th>X18_Num_Tot_Paquetes_Botes</th>\n      <th>X66_Preferred_Unit_Measure</th>\n    </tr>\n  </thead>\n  <tbody>\n    <tr>\n      <th>126326</th>\n      <td>13755</td>\n      <td>E8A14003010704650308</td>\n      <td>834</td>\n      <td>OTROS QUESOS (CB)</td>\n      <td>1</td>\n      <td>QUESERIAS ENTREPINARES S.A.</td>\n      <td>ENTREPINARES</td>\n      <td>ENTREPINARES</td>\n      <td>nan</td>\n      <td>nan</td>\n      <td>...</td>\n      <td>OVEJA</td>\n      <td>nan</td>\n      <td>nan</td>\n      <td>nan</td>\n      <td>nan</td>\n      <td>nan</td>\n      <td>nan</td>\n      <td>0</td>\n      <td>0</td>\n      <td>1</td>\n    </tr>\n    <tr>\n      <th>127830</th>\n      <td>13755</td>\n      <td>E8A14002010704650308</td>\n      <td>834</td>\n      <td>OTROS QUESOS (CB)</td>\n      <td>1</td>\n      <td>QUESERIAS ENTREPINARES S.A.</td>\n      <td>ENTREPINARES</td>\n      <td>ENTREPINARES</td>\n      <td>nan</td>\n      <td>nan</td>\n      <td>...</td>\n      <td>OVEJA</td>\n      <td>nan</td>\n      <td>nan</td>\n      <td>nan</td>\n      <td>nan</td>\n      <td>nan</td>\n      <td>nan</td>\n      <td>0</td>\n      <td>0</td>\n      <td>1</td>\n    </tr>\n  </tbody>\n</table>\n<p>2 rows × 55 columns</p>\n</div>"
     },
     "execution_count": 55,
     "metadata": {},
     "output_type": "execute_result"
    }
   ],
   "source": [
    "d_records"
   ],
   "metadata": {
    "collapsed": false,
    "ExecuteTime": {
     "end_time": "2023-11-24T10:28:35.850811Z",
     "start_time": "2023-11-24T10:28:35.835415Z"
    }
   },
   "id": "b5a39523fdd54f13"
  },
  {
   "cell_type": "code",
   "execution_count": 54,
   "outputs": [
    {
     "name": "stdout",
     "output_type": "stream",
     "text": [
      "CodigoBarras: E8A14003010704650308!=E8A14002010704650308\n"
     ]
    }
   ],
   "source": [
    "#_records.diff(periods=1,axis=0)\n",
    "for c in d_records.columns:\n",
    "    if d_records.iloc[0][c]!=d_records.iloc[1][c]:\n",
    "        print(f'{c}: {d_records.iloc[0][c]}!={d_records.iloc[1][c]}')"
   ],
   "metadata": {
    "collapsed": false,
    "ExecuteTime": {
     "end_time": "2023-11-24T10:28:09.526742Z",
     "start_time": "2023-11-24T10:28:09.503517Z"
    }
   },
   "id": "7ff648da7801faaf"
  },
  {
   "cell_type": "code",
   "execution_count": 21,
   "outputs": [
    {
     "data": {
      "text/plain": "   index  CodPanelista CodIndividuo        CC_AA  Edad_Ama NF Numero_Gatos  \\\n0      0        364917            0  Com. Madrid        47  1            0   \n1      1         30109            1    Andalucia        62  3            0   \n2      2         30109            0    Andalucia        62  3            0   \n3    133         30109            2    Andalucia        62  3            0   \n4   1883         30131            1    Andalucia        62  3            0   \n\n   Numero_Perros Presencia_Ni_os CodIMC        IMC  Ponderacion  \\\n0              0              No      3  Sobrepeso            2   \n1              0              No      3  Sobrepeso            0   \n2              0              No      3  Sobrepeso            0   \n3              0              No      3  Sobrepeso            0   \n4              1              No      2     Normal            1   \n\n                  Ciclo_Vida   Clase_EGM Clase_Social Habitat_Metropolitano  \\\n0     Adultos Independientes       Media        Media             AM Madrid   \n1  Parejas Adultas sin hijos  Media Alta        Media             No Metrop   \n2  Parejas Adultas sin hijos  Media Alta        Media             No Metrop   \n3  Parejas Adultas sin hijos  Media Alta        Media             No Metrop   \n4  Parejas con hijos mayores       Media   Media baja            AM Sevilla   \n\n  Habitat_Municipal_Std  Inmigrante Provincia     Region  \n0           más 1000000           1    Madrid     MDD AM  \n1         20001 a 30000           1      Jaen  Andalucia  \n2         20001 a 30000           1      Jaen  Andalucia  \n3         20001 a 30000           1      Jaen  Andalucia  \n4      500001 a 1000000           1   Sevilla  Andalucia  ",
      "text/html": "<div>\n<style scoped>\n    .dataframe tbody tr th:only-of-type {\n        vertical-align: middle;\n    }\n\n    .dataframe tbody tr th {\n        vertical-align: top;\n    }\n\n    .dataframe thead th {\n        text-align: right;\n    }\n</style>\n<table border=\"1\" class=\"dataframe\">\n  <thead>\n    <tr style=\"text-align: right;\">\n      <th></th>\n      <th>index</th>\n      <th>CodPanelista</th>\n      <th>CodIndividuo</th>\n      <th>CC_AA</th>\n      <th>Edad_Ama</th>\n      <th>NF</th>\n      <th>Numero_Gatos</th>\n      <th>Numero_Perros</th>\n      <th>Presencia_Ni_os</th>\n      <th>CodIMC</th>\n      <th>IMC</th>\n      <th>Ponderacion</th>\n      <th>Ciclo_Vida</th>\n      <th>Clase_EGM</th>\n      <th>Clase_Social</th>\n      <th>Habitat_Metropolitano</th>\n      <th>Habitat_Municipal_Std</th>\n      <th>Inmigrante</th>\n      <th>Provincia</th>\n      <th>Region</th>\n    </tr>\n  </thead>\n  <tbody>\n    <tr>\n      <th>0</th>\n      <td>0</td>\n      <td>364917</td>\n      <td>0</td>\n      <td>Com. Madrid</td>\n      <td>47</td>\n      <td>1</td>\n      <td>0</td>\n      <td>0</td>\n      <td>No</td>\n      <td>3</td>\n      <td>Sobrepeso</td>\n      <td>2</td>\n      <td>Adultos Independientes</td>\n      <td>Media</td>\n      <td>Media</td>\n      <td>AM Madrid</td>\n      <td>más 1000000</td>\n      <td>1</td>\n      <td>Madrid</td>\n      <td>MDD AM</td>\n    </tr>\n    <tr>\n      <th>1</th>\n      <td>1</td>\n      <td>30109</td>\n      <td>1</td>\n      <td>Andalucia</td>\n      <td>62</td>\n      <td>3</td>\n      <td>0</td>\n      <td>0</td>\n      <td>No</td>\n      <td>3</td>\n      <td>Sobrepeso</td>\n      <td>0</td>\n      <td>Parejas Adultas sin hijos</td>\n      <td>Media Alta</td>\n      <td>Media</td>\n      <td>No Metrop</td>\n      <td>20001 a 30000</td>\n      <td>1</td>\n      <td>Jaen</td>\n      <td>Andalucia</td>\n    </tr>\n    <tr>\n      <th>2</th>\n      <td>2</td>\n      <td>30109</td>\n      <td>0</td>\n      <td>Andalucia</td>\n      <td>62</td>\n      <td>3</td>\n      <td>0</td>\n      <td>0</td>\n      <td>No</td>\n      <td>3</td>\n      <td>Sobrepeso</td>\n      <td>0</td>\n      <td>Parejas Adultas sin hijos</td>\n      <td>Media Alta</td>\n      <td>Media</td>\n      <td>No Metrop</td>\n      <td>20001 a 30000</td>\n      <td>1</td>\n      <td>Jaen</td>\n      <td>Andalucia</td>\n    </tr>\n    <tr>\n      <th>3</th>\n      <td>133</td>\n      <td>30109</td>\n      <td>2</td>\n      <td>Andalucia</td>\n      <td>62</td>\n      <td>3</td>\n      <td>0</td>\n      <td>0</td>\n      <td>No</td>\n      <td>3</td>\n      <td>Sobrepeso</td>\n      <td>0</td>\n      <td>Parejas Adultas sin hijos</td>\n      <td>Media Alta</td>\n      <td>Media</td>\n      <td>No Metrop</td>\n      <td>20001 a 30000</td>\n      <td>1</td>\n      <td>Jaen</td>\n      <td>Andalucia</td>\n    </tr>\n    <tr>\n      <th>4</th>\n      <td>1883</td>\n      <td>30131</td>\n      <td>1</td>\n      <td>Andalucia</td>\n      <td>62</td>\n      <td>3</td>\n      <td>0</td>\n      <td>1</td>\n      <td>No</td>\n      <td>2</td>\n      <td>Normal</td>\n      <td>1</td>\n      <td>Parejas con hijos mayores</td>\n      <td>Media</td>\n      <td>Media baja</td>\n      <td>AM Sevilla</td>\n      <td>500001 a 1000000</td>\n      <td>1</td>\n      <td>Sevilla</td>\n      <td>Andalucia</td>\n    </tr>\n  </tbody>\n</table>\n</div>"
     },
     "execution_count": 21,
     "metadata": {},
     "output_type": "execute_result"
    }
   ],
   "source": [
    "df_customers.head()"
   ],
   "metadata": {
    "collapsed": false,
    "ExecuteTime": {
     "end_time": "2023-11-24T09:47:25.080757Z",
     "start_time": "2023-11-24T09:47:25.068013Z"
    }
   },
   "id": "1642232997987105"
  },
  {
   "cell_type": "code",
   "execution_count": 23,
   "outputs": [],
   "source": [
    "duplicates_in_customers = df_customers['CodPanelista'].duplicated().any()\n"
   ],
   "metadata": {
    "collapsed": false,
    "ExecuteTime": {
     "end_time": "2023-11-24T09:53:33.319748Z",
     "start_time": "2023-11-24T09:53:33.294181Z"
    }
   },
   "id": "c10a50a6fc54c49f"
  },
  {
   "cell_type": "code",
   "execution_count": 24,
   "outputs": [
    {
     "data": {
      "text/plain": "True"
     },
     "execution_count": 24,
     "metadata": {},
     "output_type": "execute_result"
    }
   ],
   "source": [
    "duplicates_in_customers"
   ],
   "metadata": {
    "collapsed": false,
    "ExecuteTime": {
     "end_time": "2023-11-24T09:53:40.745042Z",
     "start_time": "2023-11-24T09:53:40.725020Z"
    }
   },
   "id": "79047d612ab911f7"
  },
  {
   "cell_type": "code",
   "execution_count": 29,
   "outputs": [
    {
     "data": {
      "text/plain": "Index(['index', 'CodPanelista', 'CodIndividuo', 'CC_AA', 'Edad_Ama', 'NF',\n       'Numero_Gatos', 'Numero_Perros', 'Presencia_Ni_os', 'CodIMC', 'IMC',\n       'Ponderacion', 'Ciclo_Vida', 'Clase_EGM', 'Clase_Social',\n       'Habitat_Metropolitano', 'Habitat_Municipal_Std', 'Inmigrante',\n       'Provincia', 'Region'],\n      dtype='object')"
     },
     "execution_count": 29,
     "metadata": {},
     "output_type": "execute_result"
    }
   ],
   "source": [
    "df_customers.columns"
   ],
   "metadata": {
    "collapsed": false,
    "ExecuteTime": {
     "end_time": "2023-11-24T09:57:28.917217Z",
     "start_time": "2023-11-24T09:57:28.900647Z"
    }
   },
   "id": "fb68473da6b7cda1"
  },
  {
   "cell_type": "code",
   "execution_count": 39,
   "outputs": [],
   "source": [
    "dfc1=df_customers.drop(['CodIndividuo','index'],axis=1)"
   ],
   "metadata": {
    "collapsed": false,
    "ExecuteTime": {
     "end_time": "2023-11-24T10:07:15.177073Z",
     "start_time": "2023-11-24T10:07:15.144215Z"
    }
   },
   "id": "207ba9f2b84a534b"
  },
  {
   "cell_type": "code",
   "execution_count": 40,
   "outputs": [],
   "source": [
    "dfc1=dfc1.drop_duplicates()"
   ],
   "metadata": {
    "collapsed": false,
    "ExecuteTime": {
     "end_time": "2023-11-24T10:07:19.034352Z",
     "start_time": "2023-11-24T10:07:18.985288Z"
    }
   },
   "id": "9eebd9313aa5ec3d"
  },
  {
   "cell_type": "code",
   "execution_count": 41,
   "outputs": [
    {
     "data": {
      "text/plain": "False"
     },
     "execution_count": 41,
     "metadata": {},
     "output_type": "execute_result"
    }
   ],
   "source": [
    "dfc1['CodPanelista'].duplicated().any()\n"
   ],
   "metadata": {
    "collapsed": false,
    "ExecuteTime": {
     "end_time": "2023-11-24T10:07:34.935358Z",
     "start_time": "2023-11-24T10:07:34.916536Z"
    }
   },
   "id": "766ffee10cec28f2"
  },
  {
   "cell_type": "code",
   "execution_count": 34,
   "outputs": [
    {
     "data": {
      "text/plain": "True"
     },
     "execution_count": 34,
     "metadata": {},
     "output_type": "execute_result"
    }
   ],
   "source": [
    "duplicates_in_customers"
   ],
   "metadata": {
    "collapsed": false,
    "ExecuteTime": {
     "end_time": "2023-11-24T09:59:05.105585Z",
     "start_time": "2023-11-24T09:59:05.071390Z"
    }
   },
   "id": "358a2bc538d4c6db"
  },
  {
   "cell_type": "code",
   "execution_count": 37,
   "outputs": [
    {
     "data": {
      "text/plain": "         index  CodPanelista                 CC_AA  Edad_Ama NF Numero_Gatos  \\\n1            1         30109             Andalucia        62  3            0   \n2            2         30109             Andalucia        62  3            0   \n3          133         30109             Andalucia        62  3            0   \n4         1883         30131             Andalucia        62  3            0   \n5         1913         30131             Andalucia        62  3            0   \n...        ...           ...                   ...       ... ..          ...   \n13999  7580165        401917    Castilla la mancha        31  4            0   \n14001  7581557        439823  Comunitat Valenciana        47  4            1   \n14002  7581560        439823  Comunitat Valenciana        47  4            1   \n14003  7581563        439823  Comunitat Valenciana        47  4            1   \n14004  7581665        439823  Comunitat Valenciana        47  4            1   \n\n       Numero_Perros Presencia_Ni_os CodIMC        IMC  Ponderacion  \\\n1                  0              No      3  Sobrepeso            0   \n2                  0              No      3  Sobrepeso            0   \n3                  0              No      3  Sobrepeso            0   \n4                  1              No      2     Normal            1   \n5                  1              No      2     Normal            1   \n...              ...             ...    ...        ...          ...   \n13999              0       Niños 0-5      4   Obesidad            2   \n14001              5      Niños 6-15      3  Sobrepeso            1   \n14002              5      Niños 6-15      3  Sobrepeso            1   \n14003              5      Niños 6-15      3  Sobrepeso            1   \n14004              5      Niños 6-15      3  Sobrepeso            1   \n\n                         Ciclo_Vida   Clase_EGM Clase_Social  \\\n1         Parejas Adultas sin hijos  Media Alta        Media   \n2         Parejas Adultas sin hijos  Media Alta        Media   \n3         Parejas Adultas sin hijos  Media Alta        Media   \n4         Parejas con hijos mayores       Media   Media baja   \n5         Parejas con hijos mayores       Media   Media baja   \n...                             ...         ...          ...   \n13999    Parejas con hijos pequeños        Alta        Media   \n14001  Parejas con hijos edad media  Media Alta        Media   \n14002  Parejas con hijos edad media  Media Alta        Media   \n14003  Parejas con hijos edad media  Media Alta        Media   \n14004  Parejas con hijos edad media  Media Alta        Media   \n\n      Habitat_Metropolitano Habitat_Municipal_Std  Inmigrante    Provincia  \\\n1                 No Metrop         20001 a 30000           1         Jaen   \n2                 No Metrop         20001 a 30000           1         Jaen   \n3                 No Metrop         20001 a 30000           1         Jaen   \n4                AM Sevilla      500001 a 1000000           1      Sevilla   \n5                AM Sevilla      500001 a 1000000           1      Sevilla   \n...                     ...                   ...         ...          ...   \n13999             No Metrop         10001 a 20000           1  Ciudad Real   \n14001             No Metrop         20001 a 30000           1     Valencia   \n14002             No Metrop         20001 a 30000           1     Valencia   \n14003             No Metrop         20001 a 30000           1     Valencia   \n14004             No Metrop         20001 a 30000           1     Valencia   \n\n           Region  \n1       Andalucia  \n2       Andalucia  \n3       Andalucia  \n4       Andalucia  \n5       Andalucia  \n...           ...  \n13999  Rto Centro  \n14001     Levante  \n14002     Levante  \n14003     Levante  \n14004     Levante  \n\n[11245 rows x 19 columns]",
      "text/html": "<div>\n<style scoped>\n    .dataframe tbody tr th:only-of-type {\n        vertical-align: middle;\n    }\n\n    .dataframe tbody tr th {\n        vertical-align: top;\n    }\n\n    .dataframe thead th {\n        text-align: right;\n    }\n</style>\n<table border=\"1\" class=\"dataframe\">\n  <thead>\n    <tr style=\"text-align: right;\">\n      <th></th>\n      <th>index</th>\n      <th>CodPanelista</th>\n      <th>CC_AA</th>\n      <th>Edad_Ama</th>\n      <th>NF</th>\n      <th>Numero_Gatos</th>\n      <th>Numero_Perros</th>\n      <th>Presencia_Ni_os</th>\n      <th>CodIMC</th>\n      <th>IMC</th>\n      <th>Ponderacion</th>\n      <th>Ciclo_Vida</th>\n      <th>Clase_EGM</th>\n      <th>Clase_Social</th>\n      <th>Habitat_Metropolitano</th>\n      <th>Habitat_Municipal_Std</th>\n      <th>Inmigrante</th>\n      <th>Provincia</th>\n      <th>Region</th>\n    </tr>\n  </thead>\n  <tbody>\n    <tr>\n      <th>1</th>\n      <td>1</td>\n      <td>30109</td>\n      <td>Andalucia</td>\n      <td>62</td>\n      <td>3</td>\n      <td>0</td>\n      <td>0</td>\n      <td>No</td>\n      <td>3</td>\n      <td>Sobrepeso</td>\n      <td>0</td>\n      <td>Parejas Adultas sin hijos</td>\n      <td>Media Alta</td>\n      <td>Media</td>\n      <td>No Metrop</td>\n      <td>20001 a 30000</td>\n      <td>1</td>\n      <td>Jaen</td>\n      <td>Andalucia</td>\n    </tr>\n    <tr>\n      <th>2</th>\n      <td>2</td>\n      <td>30109</td>\n      <td>Andalucia</td>\n      <td>62</td>\n      <td>3</td>\n      <td>0</td>\n      <td>0</td>\n      <td>No</td>\n      <td>3</td>\n      <td>Sobrepeso</td>\n      <td>0</td>\n      <td>Parejas Adultas sin hijos</td>\n      <td>Media Alta</td>\n      <td>Media</td>\n      <td>No Metrop</td>\n      <td>20001 a 30000</td>\n      <td>1</td>\n      <td>Jaen</td>\n      <td>Andalucia</td>\n    </tr>\n    <tr>\n      <th>3</th>\n      <td>133</td>\n      <td>30109</td>\n      <td>Andalucia</td>\n      <td>62</td>\n      <td>3</td>\n      <td>0</td>\n      <td>0</td>\n      <td>No</td>\n      <td>3</td>\n      <td>Sobrepeso</td>\n      <td>0</td>\n      <td>Parejas Adultas sin hijos</td>\n      <td>Media Alta</td>\n      <td>Media</td>\n      <td>No Metrop</td>\n      <td>20001 a 30000</td>\n      <td>1</td>\n      <td>Jaen</td>\n      <td>Andalucia</td>\n    </tr>\n    <tr>\n      <th>4</th>\n      <td>1883</td>\n      <td>30131</td>\n      <td>Andalucia</td>\n      <td>62</td>\n      <td>3</td>\n      <td>0</td>\n      <td>1</td>\n      <td>No</td>\n      <td>2</td>\n      <td>Normal</td>\n      <td>1</td>\n      <td>Parejas con hijos mayores</td>\n      <td>Media</td>\n      <td>Media baja</td>\n      <td>AM Sevilla</td>\n      <td>500001 a 1000000</td>\n      <td>1</td>\n      <td>Sevilla</td>\n      <td>Andalucia</td>\n    </tr>\n    <tr>\n      <th>5</th>\n      <td>1913</td>\n      <td>30131</td>\n      <td>Andalucia</td>\n      <td>62</td>\n      <td>3</td>\n      <td>0</td>\n      <td>1</td>\n      <td>No</td>\n      <td>2</td>\n      <td>Normal</td>\n      <td>1</td>\n      <td>Parejas con hijos mayores</td>\n      <td>Media</td>\n      <td>Media baja</td>\n      <td>AM Sevilla</td>\n      <td>500001 a 1000000</td>\n      <td>1</td>\n      <td>Sevilla</td>\n      <td>Andalucia</td>\n    </tr>\n    <tr>\n      <th>...</th>\n      <td>...</td>\n      <td>...</td>\n      <td>...</td>\n      <td>...</td>\n      <td>...</td>\n      <td>...</td>\n      <td>...</td>\n      <td>...</td>\n      <td>...</td>\n      <td>...</td>\n      <td>...</td>\n      <td>...</td>\n      <td>...</td>\n      <td>...</td>\n      <td>...</td>\n      <td>...</td>\n      <td>...</td>\n      <td>...</td>\n      <td>...</td>\n    </tr>\n    <tr>\n      <th>13999</th>\n      <td>7580165</td>\n      <td>401917</td>\n      <td>Castilla la mancha</td>\n      <td>31</td>\n      <td>4</td>\n      <td>0</td>\n      <td>0</td>\n      <td>Niños 0-5</td>\n      <td>4</td>\n      <td>Obesidad</td>\n      <td>2</td>\n      <td>Parejas con hijos pequeños</td>\n      <td>Alta</td>\n      <td>Media</td>\n      <td>No Metrop</td>\n      <td>10001 a 20000</td>\n      <td>1</td>\n      <td>Ciudad Real</td>\n      <td>Rto Centro</td>\n    </tr>\n    <tr>\n      <th>14001</th>\n      <td>7581557</td>\n      <td>439823</td>\n      <td>Comunitat Valenciana</td>\n      <td>47</td>\n      <td>4</td>\n      <td>1</td>\n      <td>5</td>\n      <td>Niños 6-15</td>\n      <td>3</td>\n      <td>Sobrepeso</td>\n      <td>1</td>\n      <td>Parejas con hijos edad media</td>\n      <td>Media Alta</td>\n      <td>Media</td>\n      <td>No Metrop</td>\n      <td>20001 a 30000</td>\n      <td>1</td>\n      <td>Valencia</td>\n      <td>Levante</td>\n    </tr>\n    <tr>\n      <th>14002</th>\n      <td>7581560</td>\n      <td>439823</td>\n      <td>Comunitat Valenciana</td>\n      <td>47</td>\n      <td>4</td>\n      <td>1</td>\n      <td>5</td>\n      <td>Niños 6-15</td>\n      <td>3</td>\n      <td>Sobrepeso</td>\n      <td>1</td>\n      <td>Parejas con hijos edad media</td>\n      <td>Media Alta</td>\n      <td>Media</td>\n      <td>No Metrop</td>\n      <td>20001 a 30000</td>\n      <td>1</td>\n      <td>Valencia</td>\n      <td>Levante</td>\n    </tr>\n    <tr>\n      <th>14003</th>\n      <td>7581563</td>\n      <td>439823</td>\n      <td>Comunitat Valenciana</td>\n      <td>47</td>\n      <td>4</td>\n      <td>1</td>\n      <td>5</td>\n      <td>Niños 6-15</td>\n      <td>3</td>\n      <td>Sobrepeso</td>\n      <td>1</td>\n      <td>Parejas con hijos edad media</td>\n      <td>Media Alta</td>\n      <td>Media</td>\n      <td>No Metrop</td>\n      <td>20001 a 30000</td>\n      <td>1</td>\n      <td>Valencia</td>\n      <td>Levante</td>\n    </tr>\n    <tr>\n      <th>14004</th>\n      <td>7581665</td>\n      <td>439823</td>\n      <td>Comunitat Valenciana</td>\n      <td>47</td>\n      <td>4</td>\n      <td>1</td>\n      <td>5</td>\n      <td>Niños 6-15</td>\n      <td>3</td>\n      <td>Sobrepeso</td>\n      <td>1</td>\n      <td>Parejas con hijos edad media</td>\n      <td>Media Alta</td>\n      <td>Media</td>\n      <td>No Metrop</td>\n      <td>20001 a 30000</td>\n      <td>1</td>\n      <td>Valencia</td>\n      <td>Levante</td>\n    </tr>\n  </tbody>\n</table>\n<p>11245 rows × 19 columns</p>\n</div>"
     },
     "execution_count": 37,
     "metadata": {},
     "output_type": "execute_result"
    }
   ],
   "source": [
    "dfc1[dfc1['CodPanelista'].duplicated(keep=False)]"
   ],
   "metadata": {
    "collapsed": false,
    "ExecuteTime": {
     "end_time": "2023-11-24T10:06:38.135894Z",
     "start_time": "2023-11-24T10:06:38.068799Z"
    }
   },
   "id": "240d933b747645c7"
  },
  {
   "cell_type": "code",
   "execution_count": null,
   "outputs": [],
   "source": [],
   "metadata": {
    "collapsed": false
   },
   "id": "572ffe56d1ed4b3e"
  }
 ],
 "metadata": {
  "kernelspec": {
   "display_name": "Python 3",
   "language": "python",
   "name": "python3"
  },
  "language_info": {
   "codemirror_mode": {
    "name": "ipython",
    "version": 2
   },
   "file_extension": ".py",
   "mimetype": "text/x-python",
   "name": "python",
   "nbconvert_exporter": "python",
   "pygments_lexer": "ipython2",
   "version": "2.7.6"
  }
 },
 "nbformat": 4,
 "nbformat_minor": 5
}

{
 "cells": [
  {
   "cell_type": "code",
   "execution_count": 145,
   "id": "initial_id",
   "metadata": {
    "collapsed": true,
    "ExecuteTime": {
     "end_time": "2023-11-11T14:56:05.499228Z",
     "start_time": "2023-11-11T14:56:05.491379Z"
    }
   },
   "outputs": [],
   "source": [
    "import os\n",
    "import pandas as pd"
   ]
  },
  {
   "cell_type": "code",
   "execution_count": 146,
   "outputs": [
    {
     "data": {
      "text/plain": "['Datos_2022.csv',\n 'Explicacion_VariablesV2.xlsx',\n 'Carrefour_2019_2020_2021_prepared2_02_11_2023.dta']"
     },
     "execution_count": 146,
     "metadata": {},
     "output_type": "execute_result"
    }
   ],
   "source": [
    "data_dir='./data_kantar/'\n",
    "os.listdir(data_dir)"
   ],
   "metadata": {
    "collapsed": false,
    "ExecuteTime": {
     "end_time": "2023-11-11T14:56:25.510733Z",
     "start_time": "2023-11-11T14:56:25.499932Z"
    }
   },
   "id": "5e84d96b75b8ad1f"
  },
  {
   "cell_type": "code",
   "execution_count": 8,
   "outputs": [],
   "source": [
    "#target= pd.read_stata(data_dir+'Carrefour_2019_2020_2021_prepared2_02_11_2023.dta')"
   ],
   "metadata": {
    "collapsed": false,
    "ExecuteTime": {
     "end_time": "2023-11-10T14:49:43.165462Z",
     "start_time": "2023-11-10T14:49:37.369915Z"
    }
   },
   "id": "fde0fdc02f01d152"
  },
  {
   "cell_type": "code",
   "execution_count": 9,
   "outputs": [
    {
     "data": {
      "text/plain": "Index(['codpanelista', 'codproducto', 'codigobarras', 'fechacesta',\n       'preciocompra', 'cantidad', 'precio', 'codlugarcompra', 'lugar_compra',\n       'canal',\n       ...\n       'EComposite', 'ESnacks', 'EDrinks', 'EALCOHOL', 'EResidual', 'sample',\n       'Eg', 'nvals', 'shoptrip_period', 'sample1'],\n      dtype='object', length=305)"
     },
     "execution_count": 9,
     "metadata": {},
     "output_type": "execute_result"
    }
   ],
   "source": [
    "#target.columns"
   ],
   "metadata": {
    "collapsed": false,
    "ExecuteTime": {
     "end_time": "2023-11-10T14:50:48.345608Z",
     "start_time": "2023-11-10T14:50:48.261940Z"
    }
   },
   "id": "fdd987ad49a98cd5"
  },
  {
   "cell_type": "code",
   "execution_count": null,
   "outputs": [],
   "source": [
    "#target= pd.read_stata(data_dir+'Carrefour_2019_2020_2021_prepared2_02_11_2023.dta')\n"
   ],
   "metadata": {
    "collapsed": false
   },
   "id": "eb25477013c7aeeb"
  },
  {
   "cell_type": "code",
   "execution_count": null,
   "outputs": [],
   "source": [],
   "metadata": {
    "collapsed": false
   },
   "id": "35f85f84ada21663"
  },
  {
   "cell_type": "code",
   "execution_count": 29,
   "outputs": [
    {
     "data": {
      "text/plain": "Variable         object\nExplicación      object\nTipo Variable    object\ndtype: object"
     },
     "execution_count": 29,
     "metadata": {},
     "output_type": "execute_result"
    }
   ],
   "source": [],
   "metadata": {
    "collapsed": false,
    "ExecuteTime": {
     "end_time": "2023-11-10T19:05:58.821416Z",
     "start_time": "2023-11-10T19:05:58.801802Z"
    }
   },
   "id": "651e1c162f5470df"
  },
  {
   "cell_type": "code",
   "execution_count": 160,
   "outputs": [],
   "source": [
    "read_able_columns = pd.read_excel(data_dir+'Explicacion_VariablesV3.xlsx', engine='openpyxl')"
   ],
   "metadata": {
    "collapsed": false,
    "ExecuteTime": {
     "end_time": "2023-11-11T15:49:41.018605Z",
     "start_time": "2023-11-11T15:49:40.738829Z"
    }
   },
   "id": "fcd3094645c1a411"
  },
  {
   "cell_type": "code",
   "execution_count": 148,
   "outputs": [],
   "source": [
    "read_able_columns=read_able_columns.dropna(how='all')"
   ],
   "metadata": {
    "collapsed": false,
    "ExecuteTime": {
     "end_time": "2023-11-11T14:57:03.444813Z",
     "start_time": "2023-11-11T14:57:03.418999Z"
    }
   },
   "id": "f57ac5ba2d3f2a98"
  },
  {
   "cell_type": "code",
   "execution_count": 149,
   "outputs": [
    {
     "data": {
      "text/plain": "         Variable                                        Explicación  \\\n0        idCompra                                        Purchase ID   \n1     CodProducto                            Product identifier code   \n2    CodigoBarras                Barcode associated with the product   \n3      FechaCesta                                   Date of purchase   \n4    PrecioCompra               Price paid for the complete purchase   \n..            ...                                                ...   \n80  Promo_Folleto  Indicator of whether the purchase has been mad...   \n81   Promo_Envase  Indicator of whether the purchase has been mad...   \n82      Promo_TPR  indicator of whether the purchase has been a t...   \n83  promo_folleto  information about the type of brochure promoti...   \n84   promo_envase  information about the type of package promotio...   \n\n   Tipo Variable  \n0             ID  \n1             ID  \n2             ID  \n3          Fecha  \n4       Numérica  \n..           ...  \n80    Dicotómica  \n81    Dicotómica  \n82    Dicotómica  \n83    Categórica  \n84    Categórica  \n\n[85 rows x 3 columns]",
      "text/html": "<div>\n<style scoped>\n    .dataframe tbody tr th:only-of-type {\n        vertical-align: middle;\n    }\n\n    .dataframe tbody tr th {\n        vertical-align: top;\n    }\n\n    .dataframe thead th {\n        text-align: right;\n    }\n</style>\n<table border=\"1\" class=\"dataframe\">\n  <thead>\n    <tr style=\"text-align: right;\">\n      <th></th>\n      <th>Variable</th>\n      <th>Explicación</th>\n      <th>Tipo Variable</th>\n    </tr>\n  </thead>\n  <tbody>\n    <tr>\n      <th>0</th>\n      <td>idCompra</td>\n      <td>Purchase ID</td>\n      <td>ID</td>\n    </tr>\n    <tr>\n      <th>1</th>\n      <td>CodProducto</td>\n      <td>Product identifier code</td>\n      <td>ID</td>\n    </tr>\n    <tr>\n      <th>2</th>\n      <td>CodigoBarras</td>\n      <td>Barcode associated with the product</td>\n      <td>ID</td>\n    </tr>\n    <tr>\n      <th>3</th>\n      <td>FechaCesta</td>\n      <td>Date of purchase</td>\n      <td>Fecha</td>\n    </tr>\n    <tr>\n      <th>4</th>\n      <td>PrecioCompra</td>\n      <td>Price paid for the complete purchase</td>\n      <td>Numérica</td>\n    </tr>\n    <tr>\n      <th>...</th>\n      <td>...</td>\n      <td>...</td>\n      <td>...</td>\n    </tr>\n    <tr>\n      <th>80</th>\n      <td>Promo_Folleto</td>\n      <td>Indicator of whether the purchase has been mad...</td>\n      <td>Dicotómica</td>\n    </tr>\n    <tr>\n      <th>81</th>\n      <td>Promo_Envase</td>\n      <td>Indicator of whether the purchase has been mad...</td>\n      <td>Dicotómica</td>\n    </tr>\n    <tr>\n      <th>82</th>\n      <td>Promo_TPR</td>\n      <td>indicator of whether the purchase has been a t...</td>\n      <td>Dicotómica</td>\n    </tr>\n    <tr>\n      <th>83</th>\n      <td>promo_folleto</td>\n      <td>information about the type of brochure promoti...</td>\n      <td>Categórica</td>\n    </tr>\n    <tr>\n      <th>84</th>\n      <td>promo_envase</td>\n      <td>information about the type of package promotio...</td>\n      <td>Categórica</td>\n    </tr>\n  </tbody>\n</table>\n<p>85 rows × 3 columns</p>\n</div>"
     },
     "execution_count": 149,
     "metadata": {},
     "output_type": "execute_result"
    }
   ],
   "source": [
    "read_able_columns"
   ],
   "metadata": {
    "collapsed": false,
    "ExecuteTime": {
     "end_time": "2023-11-11T14:57:03.563689Z",
     "start_time": "2023-11-11T14:57:03.493708Z"
    }
   },
   "id": "e1bab051b5c86894"
  },
  {
   "cell_type": "code",
   "execution_count": 150,
   "outputs": [
    {
     "data": {
      "text/plain": "array(['ID', 'Fecha', 'Numérica', 'Categórica', 'Dicotómica'],\n      dtype=object)"
     },
     "execution_count": 150,
     "metadata": {},
     "output_type": "execute_result"
    }
   ],
   "source": [
    "read_able_columns['Tipo Variable'].unique()\n"
   ],
   "metadata": {
    "collapsed": false,
    "ExecuteTime": {
     "end_time": "2023-11-11T14:57:03.564695Z",
     "start_time": "2023-11-11T14:57:03.527131Z"
    }
   },
   "id": "a0c54101b3352310"
  },
  {
   "cell_type": "markdown",
   "source": [
    "https://stackoverflow.com/questions/41517273/how-to-change-pandas-category-type-using-a-dtype-dict"
   ],
   "metadata": {
    "collapsed": false
   },
   "id": "db180dca31bda3bc"
  },
  {
   "cell_type": "markdown",
   "source": [],
   "metadata": {
    "collapsed": false
   },
   "id": "27b87e50a99ac0c3"
  },
  {
   "cell_type": "code",
   "execution_count": null,
   "outputs": [],
   "source": [],
   "metadata": {
    "collapsed": false
   },
   "id": "23538b1cfdb7dfd8"
  },
  {
   "cell_type": "code",
   "execution_count": 151,
   "outputs": [],
   "source": [
    "type_dict=dict(zip(read_able_columns['Variable'],read_able_columns['Tipo Variable']))\n",
    "type_translation={'ID':'int64','Fecha':'datetime','Numérica':'int64','Categórica':'category','Dicotómica':'bool'}   "
   ],
   "metadata": {
    "collapsed": false,
    "ExecuteTime": {
     "end_time": "2023-11-11T14:57:32.037939Z",
     "start_time": "2023-11-11T14:57:31.999968Z"
    }
   },
   "id": "a9424b3414850dce"
  },
  {
   "cell_type": "code",
   "execution_count": 152,
   "outputs": [],
   "source": [
    "type_dict_new ={ k:type_translation[v] for k,v in type_dict.items() if v != 'NaN'}"
   ],
   "metadata": {
    "collapsed": false,
    "ExecuteTime": {
     "end_time": "2023-11-11T14:57:42.672157Z",
     "start_time": "2023-11-11T14:57:42.668095Z"
    }
   },
   "id": "4e0eb6092d35bbc4"
  },
  {
   "cell_type": "code",
   "execution_count": null,
   "outputs": [],
   "source": [
    "type_dict_new"
   ],
   "metadata": {
    "collapsed": false
   },
   "id": "a2c4e457e9c9f7d4"
  },
  {
   "cell_type": "code",
   "execution_count": 153,
   "outputs": [
    {
     "data": {
      "text/plain": "         Variable                                        Explicación  \\\n0        idCompra                                        Purchase ID   \n1     CodProducto                            Product identifier code   \n2    CodigoBarras                Barcode associated with the product   \n3      FechaCesta                                   Date of purchase   \n4    PrecioCompra               Price paid for the complete purchase   \n..            ...                                                ...   \n80  Promo_Folleto  Indicator of whether the purchase has been mad...   \n81   Promo_Envase  Indicator of whether the purchase has been mad...   \n82      Promo_TPR  indicator of whether the purchase has been a t...   \n83  promo_folleto  information about the type of brochure promoti...   \n84   promo_envase  information about the type of package promotio...   \n\n   Tipo Variable  \n0             ID  \n1             ID  \n2             ID  \n3          Fecha  \n4       Numérica  \n..           ...  \n80    Dicotómica  \n81    Dicotómica  \n82    Dicotómica  \n83    Categórica  \n84    Categórica  \n\n[85 rows x 3 columns]",
      "text/html": "<div>\n<style scoped>\n    .dataframe tbody tr th:only-of-type {\n        vertical-align: middle;\n    }\n\n    .dataframe tbody tr th {\n        vertical-align: top;\n    }\n\n    .dataframe thead th {\n        text-align: right;\n    }\n</style>\n<table border=\"1\" class=\"dataframe\">\n  <thead>\n    <tr style=\"text-align: right;\">\n      <th></th>\n      <th>Variable</th>\n      <th>Explicación</th>\n      <th>Tipo Variable</th>\n    </tr>\n  </thead>\n  <tbody>\n    <tr>\n      <th>0</th>\n      <td>idCompra</td>\n      <td>Purchase ID</td>\n      <td>ID</td>\n    </tr>\n    <tr>\n      <th>1</th>\n      <td>CodProducto</td>\n      <td>Product identifier code</td>\n      <td>ID</td>\n    </tr>\n    <tr>\n      <th>2</th>\n      <td>CodigoBarras</td>\n      <td>Barcode associated with the product</td>\n      <td>ID</td>\n    </tr>\n    <tr>\n      <th>3</th>\n      <td>FechaCesta</td>\n      <td>Date of purchase</td>\n      <td>Fecha</td>\n    </tr>\n    <tr>\n      <th>4</th>\n      <td>PrecioCompra</td>\n      <td>Price paid for the complete purchase</td>\n      <td>Numérica</td>\n    </tr>\n    <tr>\n      <th>...</th>\n      <td>...</td>\n      <td>...</td>\n      <td>...</td>\n    </tr>\n    <tr>\n      <th>80</th>\n      <td>Promo_Folleto</td>\n      <td>Indicator of whether the purchase has been mad...</td>\n      <td>Dicotómica</td>\n    </tr>\n    <tr>\n      <th>81</th>\n      <td>Promo_Envase</td>\n      <td>Indicator of whether the purchase has been mad...</td>\n      <td>Dicotómica</td>\n    </tr>\n    <tr>\n      <th>82</th>\n      <td>Promo_TPR</td>\n      <td>indicator of whether the purchase has been a t...</td>\n      <td>Dicotómica</td>\n    </tr>\n    <tr>\n      <th>83</th>\n      <td>promo_folleto</td>\n      <td>information about the type of brochure promoti...</td>\n      <td>Categórica</td>\n    </tr>\n    <tr>\n      <th>84</th>\n      <td>promo_envase</td>\n      <td>information about the type of package promotio...</td>\n      <td>Categórica</td>\n    </tr>\n  </tbody>\n</table>\n<p>85 rows × 3 columns</p>\n</div>"
     },
     "execution_count": 153,
     "metadata": {},
     "output_type": "execute_result"
    }
   ],
   "source": [
    "read_able_columns"
   ],
   "metadata": {
    "collapsed": false,
    "ExecuteTime": {
     "end_time": "2023-11-11T14:57:42.695984Z",
     "start_time": "2023-11-11T14:57:42.674100Z"
    }
   },
   "id": "3760e50ebdc6132c"
  },
  {
   "cell_type": "code",
   "execution_count": 58,
   "outputs": [],
   "source": [
    "read_able_columns['description']=read_able_columns['Explicación'].apply(lambda x: x.split(' of the purchased product')[0].strip().replace(' ','_'))"
   ],
   "metadata": {
    "collapsed": false,
    "ExecuteTime": {
     "end_time": "2023-11-10T19:16:31.548160Z",
     "start_time": "2023-11-10T19:16:31.538543Z"
    }
   },
   "id": "ffdbda8697281bb1"
  },
  {
   "cell_type": "code",
   "execution_count": 59,
   "outputs": [
    {
     "data": {
      "text/plain": "         Variable                                        Explicación  \\\n0        idCompra                                        Purchase ID   \n1     CodProducto                            Product identifier code   \n2    CodigoBarras                Barcode associated with the product   \n3      FechaCesta                                   Date of purchase   \n4    PrecioCompra               Price paid for the complete purchase   \n..            ...                                                ...   \n80  Promo_Folleto  Indicator of whether the purchase has been mad...   \n81   Promo_Envase  Indicator of whether the purchase has been mad...   \n82      Promo_TPR  indicator of whether the purchase has been a t...   \n83  promo_folleto  information about the type of brochure promoti...   \n84   promo_envase  information about the type of package promotio...   \n\n   Tipo Variable                                        description  \n0             ID                                        Purchase_ID  \n1             ID                            Product_identifier_code  \n2             ID                Barcode_associated_with_the_product  \n3          Fecha                                   Date_of_purchase  \n4       Numérica               Price_paid_for_the_complete_purchase  \n..           ...                                                ...  \n80    Dicotómica  Indicator_of_whether_the_purchase_has_been_mad...  \n81    Dicotómica  Indicator_of_whether_the_purchase_has_been_mad...  \n82    Dicotómica  indicator_of_whether_the_purchase_has_been_a_t...  \n83    Categórica  information_about_the_type_of_brochure_promoti...  \n84    Categórica  information_about_the_type_of_package_promotio...  \n\n[85 rows x 4 columns]",
      "text/html": "<div>\n<style scoped>\n    .dataframe tbody tr th:only-of-type {\n        vertical-align: middle;\n    }\n\n    .dataframe tbody tr th {\n        vertical-align: top;\n    }\n\n    .dataframe thead th {\n        text-align: right;\n    }\n</style>\n<table border=\"1\" class=\"dataframe\">\n  <thead>\n    <tr style=\"text-align: right;\">\n      <th></th>\n      <th>Variable</th>\n      <th>Explicación</th>\n      <th>Tipo Variable</th>\n      <th>description</th>\n    </tr>\n  </thead>\n  <tbody>\n    <tr>\n      <th>0</th>\n      <td>idCompra</td>\n      <td>Purchase ID</td>\n      <td>ID</td>\n      <td>Purchase_ID</td>\n    </tr>\n    <tr>\n      <th>1</th>\n      <td>CodProducto</td>\n      <td>Product identifier code</td>\n      <td>ID</td>\n      <td>Product_identifier_code</td>\n    </tr>\n    <tr>\n      <th>2</th>\n      <td>CodigoBarras</td>\n      <td>Barcode associated with the product</td>\n      <td>ID</td>\n      <td>Barcode_associated_with_the_product</td>\n    </tr>\n    <tr>\n      <th>3</th>\n      <td>FechaCesta</td>\n      <td>Date of purchase</td>\n      <td>Fecha</td>\n      <td>Date_of_purchase</td>\n    </tr>\n    <tr>\n      <th>4</th>\n      <td>PrecioCompra</td>\n      <td>Price paid for the complete purchase</td>\n      <td>Numérica</td>\n      <td>Price_paid_for_the_complete_purchase</td>\n    </tr>\n    <tr>\n      <th>...</th>\n      <td>...</td>\n      <td>...</td>\n      <td>...</td>\n      <td>...</td>\n    </tr>\n    <tr>\n      <th>80</th>\n      <td>Promo_Folleto</td>\n      <td>Indicator of whether the purchase has been mad...</td>\n      <td>Dicotómica</td>\n      <td>Indicator_of_whether_the_purchase_has_been_mad...</td>\n    </tr>\n    <tr>\n      <th>81</th>\n      <td>Promo_Envase</td>\n      <td>Indicator of whether the purchase has been mad...</td>\n      <td>Dicotómica</td>\n      <td>Indicator_of_whether_the_purchase_has_been_mad...</td>\n    </tr>\n    <tr>\n      <th>82</th>\n      <td>Promo_TPR</td>\n      <td>indicator of whether the purchase has been a t...</td>\n      <td>Dicotómica</td>\n      <td>indicator_of_whether_the_purchase_has_been_a_t...</td>\n    </tr>\n    <tr>\n      <th>83</th>\n      <td>promo_folleto</td>\n      <td>information about the type of brochure promoti...</td>\n      <td>Categórica</td>\n      <td>information_about_the_type_of_brochure_promoti...</td>\n    </tr>\n    <tr>\n      <th>84</th>\n      <td>promo_envase</td>\n      <td>information about the type of package promotio...</td>\n      <td>Categórica</td>\n      <td>information_about_the_type_of_package_promotio...</td>\n    </tr>\n  </tbody>\n</table>\n<p>85 rows × 4 columns</p>\n</div>"
     },
     "execution_count": 59,
     "metadata": {},
     "output_type": "execute_result"
    }
   ],
   "source": [
    "read_able_columns"
   ],
   "metadata": {
    "collapsed": false,
    "ExecuteTime": {
     "end_time": "2023-11-10T19:16:38.995972Z",
     "start_time": "2023-11-10T19:16:38.978596Z"
    }
   },
   "id": "eb17d3faf55270f2"
  },
  {
   "cell_type": "code",
   "execution_count": 118,
   "outputs": [
    {
     "data": {
      "text/plain": "{'idCompra': 'int64',\n 'CodProducto': 'int64',\n 'CodigoBarras': 'str',\n 'PrecioCompra': 'int64',\n 'Cantidad': 'int64',\n 'Precio': 'int64',\n 'CodLugarCompra': 'int64',\n 'Lugar_Compra': 'category',\n 'Canal': 'category',\n 'CodPanelista': 'int64',\n 'CodIndividuo': 'category',\n 'CC_AA': 'category',\n 'Ciclo_Vida': 'category',\n 'Clase_EGM': 'category',\n 'Clase_Social': 'category',\n 'Edad_Ama': 'int64',\n 'Habitat_Metropolitano': 'category',\n 'Habitat_Municipal_Std': 'category',\n 'Inmigrante': 'bool',\n 'NF': 'category',\n 'Numero_Gatos': 'category',\n 'Numero_Perros': 'int64',\n 'Presencia_Niños': 'int64',\n 'Provincia': 'category',\n 'Region': 'category',\n 'CodIMC': 'category',\n 'IMC': 'category',\n 'Ponderacion': 'int64',\n 'CodVF': 'category',\n 'VF': 'category',\n 'SA7_BPL': 'bool',\n 'SA4_Fabricante': 'category',\n 'SA3_Marca': 'category',\n 'SA2_Submarca': 'category',\n 'X102_Aditivos': 'category',\n 'X108_Usuario': 'category',\n 'X109_Estado': 'category',\n 'X112_Niv_Calorias': 'category',\n 'X124_Estilo': 'category',\n 'X127_Tipo_Bañado_Choc': 'category',\n 'X129_Tipo_Pasteleria': 'category',\n 'X135_Uso': 'category',\n 'X143_Tipo_Corte': 'category',\n 'X163_Info_Cafeina': 'category',\n 'X167_Grado_Curacion': 'category',\n 'X169_Cont_Materia_Grasa': 'category',\n 'X174_Despiece.Corte': 'category',\n 'X182_Tipo_Queso': 'category',\n 'X188_Tipo_Pan': 'category',\n 'X189_Tipo_Viena': 'category',\n 'X206_Tipo_Pescado': 'category',\n 'X230_Niv_Concentracion': 'category',\n 'X314_Tipo_Cena.Entrante': 'category',\n 'X315_Tipo_Carne': 'category',\n 'X323_Tipo_Sazonamiento': 'category',\n 'X328_Tipo_Aceite': 'category',\n 'X329_Pureness_Niveau': 'category',\n 'X360_Tipo_Verdura': 'category',\n 'X366_Tipo_Postre': 'category',\n 'X383_Tipo_Yogurt': 'category',\n 'X384_Tipo_Cena': 'category',\n 'X490_Fresca.Congelada': 'bool',\n 'X498_Marcas_Queso': 'category',\n 'X500_Tipo_Embutido': 'category',\n 'X514_Tipo_Carne': 'category',\n 'X527_Tipo_Cafe': 'category',\n 'X529_Tipo_Producto': 'category',\n 'X531_Info_Biologica': 'category',\n 'X558_Variedad_Queso': 'category',\n 'X571_Peso_Bebe': 'category',\n 'X904_Variedad.Sabor': 'category',\n 'X5_Num_Tot_Unidades': 'int64',\n 'X18_Num_Tot_Paquetes.Botes': 'int64',\n 'X66_Preferred_Unit_Measure': 'int64',\n 'TipoMaquina': 'category',\n 'Promo_Folleto': 'bool',\n 'Promo_Envase': 'bool',\n 'Promo_TPR': 'bool',\n 'promo_folleto': 'category',\n 'promo_envase': 'category',\n 'X489_Como_Compro.': 'category',\n 'X497_Tipo_Queso': 'category',\n 'X491_Presentacion': 'category',\n 'X674_Tipo_Helado': 'category',\n 'X901_Localizacion': 'category',\n 'X902_Tipo_Producto': 'category'}"
     },
     "execution_count": 118,
     "metadata": {},
     "output_type": "execute_result"
    }
   ],
   "source": [
    "type_dict_new"
   ],
   "metadata": {
    "collapsed": false,
    "ExecuteTime": {
     "end_time": "2023-11-11T09:22:11.922141Z",
     "start_time": "2023-11-11T09:22:11.872811Z"
    }
   },
   "id": "1db8f3260f778557"
  },
  {
   "cell_type": "code",
   "execution_count": 119,
   "outputs": [
    {
     "data": {
      "text/plain": "         Variable                                        Explicación  \\\n0        idCompra                                        Purchase ID   \n1     CodProducto                            Product identifier code   \n2    CodigoBarras                Barcode associated with the product   \n3      FechaCesta                                   Date of purchase   \n4    PrecioCompra               Price paid for the complete purchase   \n..            ...                                                ...   \n80  Promo_Folleto  Indicator of whether the purchase has been mad...   \n81   Promo_Envase  Indicator of whether the purchase has been mad...   \n82      Promo_TPR  indicator of whether the purchase has been a t...   \n83  promo_folleto  information about the type of brochure promoti...   \n84   promo_envase  information about the type of package promotio...   \n\n   Tipo Variable                                        description  \n0             ID                                        Purchase_ID  \n1             ID                            Product_identifier_code  \n2             ID                Barcode_associated_with_the_product  \n3          Fecha                                   Date_of_purchase  \n4       Numérica               Price_paid_for_the_complete_purchase  \n..           ...                                                ...  \n80    Dicotómica  Indicator_of_whether_the_purchase_has_been_mad...  \n81    Dicotómica  Indicator_of_whether_the_purchase_has_been_mad...  \n82    Dicotómica  indicator_of_whether_the_purchase_has_been_a_t...  \n83    Categórica  information_about_the_type_of_brochure_promoti...  \n84    Categórica  information_about_the_type_of_package_promotio...  \n\n[85 rows x 4 columns]",
      "text/html": "<div>\n<style scoped>\n    .dataframe tbody tr th:only-of-type {\n        vertical-align: middle;\n    }\n\n    .dataframe tbody tr th {\n        vertical-align: top;\n    }\n\n    .dataframe thead th {\n        text-align: right;\n    }\n</style>\n<table border=\"1\" class=\"dataframe\">\n  <thead>\n    <tr style=\"text-align: right;\">\n      <th></th>\n      <th>Variable</th>\n      <th>Explicación</th>\n      <th>Tipo Variable</th>\n      <th>description</th>\n    </tr>\n  </thead>\n  <tbody>\n    <tr>\n      <th>0</th>\n      <td>idCompra</td>\n      <td>Purchase ID</td>\n      <td>ID</td>\n      <td>Purchase_ID</td>\n    </tr>\n    <tr>\n      <th>1</th>\n      <td>CodProducto</td>\n      <td>Product identifier code</td>\n      <td>ID</td>\n      <td>Product_identifier_code</td>\n    </tr>\n    <tr>\n      <th>2</th>\n      <td>CodigoBarras</td>\n      <td>Barcode associated with the product</td>\n      <td>ID</td>\n      <td>Barcode_associated_with_the_product</td>\n    </tr>\n    <tr>\n      <th>3</th>\n      <td>FechaCesta</td>\n      <td>Date of purchase</td>\n      <td>Fecha</td>\n      <td>Date_of_purchase</td>\n    </tr>\n    <tr>\n      <th>4</th>\n      <td>PrecioCompra</td>\n      <td>Price paid for the complete purchase</td>\n      <td>Numérica</td>\n      <td>Price_paid_for_the_complete_purchase</td>\n    </tr>\n    <tr>\n      <th>...</th>\n      <td>...</td>\n      <td>...</td>\n      <td>...</td>\n      <td>...</td>\n    </tr>\n    <tr>\n      <th>80</th>\n      <td>Promo_Folleto</td>\n      <td>Indicator of whether the purchase has been mad...</td>\n      <td>Dicotómica</td>\n      <td>Indicator_of_whether_the_purchase_has_been_mad...</td>\n    </tr>\n    <tr>\n      <th>81</th>\n      <td>Promo_Envase</td>\n      <td>Indicator of whether the purchase has been mad...</td>\n      <td>Dicotómica</td>\n      <td>Indicator_of_whether_the_purchase_has_been_mad...</td>\n    </tr>\n    <tr>\n      <th>82</th>\n      <td>Promo_TPR</td>\n      <td>indicator of whether the purchase has been a t...</td>\n      <td>Dicotómica</td>\n      <td>indicator_of_whether_the_purchase_has_been_a_t...</td>\n    </tr>\n    <tr>\n      <th>83</th>\n      <td>promo_folleto</td>\n      <td>information about the type of brochure promoti...</td>\n      <td>Categórica</td>\n      <td>information_about_the_type_of_brochure_promoti...</td>\n    </tr>\n    <tr>\n      <th>84</th>\n      <td>promo_envase</td>\n      <td>information about the type of package promotio...</td>\n      <td>Categórica</td>\n      <td>information_about_the_type_of_package_promotio...</td>\n    </tr>\n  </tbody>\n</table>\n<p>85 rows × 4 columns</p>\n</div>"
     },
     "execution_count": 119,
     "metadata": {},
     "output_type": "execute_result"
    }
   ],
   "source": [],
   "metadata": {
    "collapsed": false,
    "ExecuteTime": {
     "end_time": "2023-11-11T09:22:35.905469Z",
     "start_time": "2023-11-11T09:22:35.779906Z"
    }
   },
   "id": "f85173e914d6fc04"
  },
  {
   "cell_type": "code",
   "execution_count": 61,
   "outputs": [],
   "source": [
    "replacing_values= dict(zip(read_able_columns['Variable'],read_able_columns['Explicación']))"
   ],
   "metadata": {
    "collapsed": false,
    "ExecuteTime": {
     "end_time": "2023-11-10T19:17:28.933456Z",
     "start_time": "2023-11-10T19:17:28.921487Z"
    }
   },
   "id": "79927aa318115ebf"
  },
  {
   "cell_type": "code",
   "execution_count": 154,
   "outputs": [],
   "source": [
    "source_df_test=pd.read_csv(data_dir+'Datos_2022.csv',nrows=1000, encoding = \"ISO-8859-1\", delimiter=\";\" ,error_bad_lines=False, parse_dates=['FechaCesta'])"
   ],
   "metadata": {
    "collapsed": false,
    "ExecuteTime": {
     "end_time": "2023-11-11T14:58:52.278527Z",
     "start_time": "2023-11-11T14:58:52.081107Z"
    }
   },
   "id": "b7081d8016d6c44"
  },
  {
   "cell_type": "code",
   "execution_count": 155,
   "outputs": [],
   "source": [
    "source_df_test.loc[source_df_test['Presencia_Niños'].str.contains('No'),'Presencia_Niños']=0\n"
   ],
   "metadata": {
    "collapsed": false,
    "ExecuteTime": {
     "end_time": "2023-11-11T14:59:33.907009Z",
     "start_time": "2023-11-11T14:59:33.811555Z"
    }
   },
   "id": "48841232de280355"
  },
  {
   "cell_type": "code",
   "execution_count": 157,
   "outputs": [
    {
     "data": {
      "text/plain": "88"
     },
     "execution_count": 157,
     "metadata": {},
     "output_type": "execute_result"
    }
   ],
   "source": [
    "source_df_test.columns.size"
   ],
   "metadata": {
    "collapsed": false,
    "ExecuteTime": {
     "end_time": "2023-11-11T15:00:09.474539Z",
     "start_time": "2023-11-11T15:00:09.439571Z"
    }
   },
   "id": "eaa0d30177590153"
  },
  {
   "cell_type": "code",
   "execution_count": 159,
   "outputs": [
    {
     "data": {
      "text/plain": "(85, 3)"
     },
     "execution_count": 159,
     "metadata": {},
     "output_type": "execute_result"
    }
   ],
   "source": [
    "read_able_columns.shape"
   ],
   "metadata": {
    "collapsed": false,
    "ExecuteTime": {
     "end_time": "2023-11-11T15:02:47.267278Z",
     "start_time": "2023-11-11T15:02:47.115279Z"
    }
   },
   "id": "7f6d11e265f3e6e1"
  },
  {
   "cell_type": "code",
   "execution_count": 80,
   "outputs": [],
   "source": [
    "source_df_test=source_df.head(100)"
   ],
   "metadata": {
    "collapsed": false,
    "ExecuteTime": {
     "end_time": "2023-11-10T19:45:41.549118Z",
     "start_time": "2023-11-10T19:45:41.534023Z"
    }
   },
   "id": "fccea854188654e7"
  },
  {
   "cell_type": "code",
   "execution_count": 83,
   "outputs": [
    {
     "data": {
      "text/plain": "Index(['idCompra', 'CodPanelista', 'CodProducto', 'CodigoBarras', 'FechaCesta',\n       'PrecioCompra', 'Cantidad', 'Precio', 'CodLugarCompra', 'Lugar_Compra',\n       'Canal', 'CodIndividuo', 'CC_AA', 'Edad_Ama', 'NF', 'Numero_Gatos',\n       'Numero_Perros', 'Presencia_Niños', 'CodIMC', 'IMC', 'Ponderacion',\n       'CodVF', 'VF', 'SA7_BPL', 'SA4_Fabricante', 'SA3_Marca', 'SA2_Submarca',\n       'X102_Aditivos', 'X108_Usuario', 'X109_Estado', 'X112_Niv_Calorias',\n       'X124_Estilo', 'X127_Tipo_Bañado_Choc', 'X129_Tipo_Pasteleria',\n       'X135_Uso', 'X143_Tipo_Corte', 'X163_Info_Cafeina',\n       'X167_Grado_Curacion', 'X169_Cont_Materia_Grasa', 'X174_Despiece.Corte',\n       'X182_Tipo_Queso', 'X188_Tipo_Pan', 'X189_Tipo_Viena',\n       'X206_Tipo_Pescado', 'X230_Niv_Concentracion',\n       'X314_Tipo_Cena.Entrante', 'X315_Tipo_Carne', 'X323_Tipo_Sazonamiento',\n       'X328_Tipo_Aceite', 'X329_Pureness_Niveau', 'X360_Tipo_Verdura',\n       'X366_Tipo_Postre', 'X383_Tipo_Yogurt', 'X384_Tipo_Cena',\n       'X489_Como_Compro.', 'X490_Fresca.Congelada', 'X491_Presentacion',\n       'X497_Tipo_Queso', 'X498_Marcas_Queso', 'X500_Tipo_Embutido',\n       'X514_Tipo_Carne', 'X527_Tipo_Cafe', 'X529_Tipo_Producto',\n       'X531_Info_Biologica', 'X558_Variedad_Queso', 'X571_Peso_Bebe',\n       'X674_Tipo_Helado', 'X901_Localizacion', 'X902_Tipo_Producto',\n       'X903_Envase', 'X904_Variedad.Sabor', 'X5_Num_Tot_Unidades',\n       'X18_Num_Tot_Paquetes.Botes', 'X66_Preferred_Unit_Measure',\n       'TipoMaquina', 'Promo_Folleto', 'Promo_Envase', 'Promo_TPR',\n       'Ciclo_Vida', 'Clase_EGM', 'Clase_Social', 'Habitat_Metropolitano',\n       'Habitat_Municipal_Std', 'Inmigrante', 'Provincia', 'Region',\n       'promo_folleto', 'promo_envase'],\n      dtype='object')"
     },
     "execution_count": 83,
     "metadata": {},
     "output_type": "execute_result"
    }
   ],
   "source": [
    "source_df_test.columns"
   ],
   "metadata": {
    "collapsed": false,
    "ExecuteTime": {
     "end_time": "2023-11-10T19:47:32.632253Z",
     "start_time": "2023-11-10T19:47:32.617596Z"
    }
   },
   "id": "54b3304407e7966b"
  },
  {
   "cell_type": "code",
   "execution_count": 93,
   "outputs": [
    {
     "ename": "KeyError",
     "evalue": "'FechaCesta'",
     "output_type": "error",
     "traceback": [
      "\u001B[0;31m---------------------------------------------------------------------------\u001B[0m",
      "\u001B[0;31mKeyError\u001B[0m                                  Traceback (most recent call last)",
      "\u001B[0;32m<ipython-input-93-692a2e86eb6d>\u001B[0m in \u001B[0;36m<module>\u001B[0;34m\u001B[0m\n\u001B[1;32m      1\u001B[0m \u001B[0mtype_dict_new\u001B[0m\u001B[0;34m=\u001B[0m\u001B[0;34m{\u001B[0m\u001B[0;34m(\u001B[0m\u001B[0;34m'X'\u001B[0m\u001B[0;34m+\u001B[0m\u001B[0mk\u001B[0m \u001B[0;32mif\u001B[0m \u001B[0mk\u001B[0m\u001B[0;34m[\u001B[0m\u001B[0;36m0\u001B[0m\u001B[0;34m]\u001B[0m\u001B[0;34m.\u001B[0m\u001B[0misdigit\u001B[0m\u001B[0;34m(\u001B[0m\u001B[0;34m)\u001B[0m \u001B[0;32melse\u001B[0m \u001B[0mk\u001B[0m\u001B[0;34m)\u001B[0m\u001B[0;34m:\u001B[0m\u001B[0mv\u001B[0m \u001B[0;32mfor\u001B[0m \u001B[0mk\u001B[0m\u001B[0;34m,\u001B[0m\u001B[0mv\u001B[0m \u001B[0;32min\u001B[0m \u001B[0mtype_dict_new\u001B[0m\u001B[0;34m.\u001B[0m\u001B[0mitems\u001B[0m\u001B[0;34m(\u001B[0m\u001B[0;34m)\u001B[0m \u001B[0;34m}\u001B[0m\u001B[0;34m\u001B[0m\u001B[0m\n\u001B[1;32m      2\u001B[0m \u001B[0mtype_dict_new\u001B[0m\u001B[0;34m[\u001B[0m\u001B[0;34m'CodigoBarras'\u001B[0m\u001B[0;34m]\u001B[0m\u001B[0;34m=\u001B[0m\u001B[0;34m'str'\u001B[0m\u001B[0;34m\u001B[0m\u001B[0m\n\u001B[0;32m----> 3\u001B[0;31m \u001B[0;32mdel\u001B[0m \u001B[0mtype_dict_new\u001B[0m\u001B[0;34m[\u001B[0m\u001B[0;34m'FechaCesta'\u001B[0m\u001B[0;34m]\u001B[0m\u001B[0;34m\u001B[0m\u001B[0m\n\u001B[0m\u001B[1;32m      4\u001B[0m \u001B[0mtype_dict_new\u001B[0m\u001B[0;34m=\u001B[0m\u001B[0;34m{\u001B[0m\u001B[0;34m(\u001B[0m\u001B[0mk\u001B[0m\u001B[0;34m.\u001B[0m\u001B[0mreplace\u001B[0m\u001B[0;34m(\u001B[0m\u001B[0;34m'/'\u001B[0m\u001B[0;34m,\u001B[0m\u001B[0;34m'.'\u001B[0m\u001B[0;34m)\u001B[0m\u001B[0;34m)\u001B[0m\u001B[0;34m:\u001B[0m\u001B[0mv\u001B[0m \u001B[0;32mfor\u001B[0m \u001B[0mk\u001B[0m\u001B[0;34m,\u001B[0m\u001B[0mv\u001B[0m \u001B[0;32min\u001B[0m \u001B[0mtype_dict_new\u001B[0m\u001B[0;34m.\u001B[0m\u001B[0mitems\u001B[0m\u001B[0;34m(\u001B[0m\u001B[0;34m)\u001B[0m \u001B[0;34m}\u001B[0m\u001B[0;34m\u001B[0m\u001B[0m\n\u001B[1;32m      5\u001B[0m \u001B[0;34m\u001B[0m\u001B[0m\n",
      "\u001B[0;31mKeyError\u001B[0m: 'FechaCesta'"
     ]
    }
   ],
   "source": [
    "type_dict_new={('X'+k if k[0].isdigit() else k):v for k,v in type_dict_new.items() }\n",
    "type_dict_new['CodigoBarras']='str'\n",
    "del type_dict_new['FechaCesta']\n",
    "\n"
   ],
   "metadata": {
    "collapsed": false,
    "ExecuteTime": {
     "end_time": "2023-11-10T19:57:49.263548Z",
     "start_time": "2023-11-10T19:57:49.222524Z"
    }
   },
   "id": "8839807cefadf2b8"
  },
  {
   "cell_type": "code",
   "execution_count": null,
   "outputs": [],
   "source": [],
   "metadata": {
    "collapsed": false
   },
   "id": "f93ef66de7d8b72"
  },
  {
   "cell_type": "code",
   "execution_count": 98,
   "outputs": [],
   "source": [
    "type_dict_new={(k.replace('/','.')).strip():v for k,v in type_dict_new.items() }\n"
   ],
   "metadata": {
    "collapsed": false,
    "ExecuteTime": {
     "end_time": "2023-11-10T20:00:57.292080Z",
     "start_time": "2023-11-10T20:00:57.276600Z"
    }
   },
   "id": "8059bb107b608f24"
  },
  {
   "cell_type": "code",
   "execution_count": 100,
   "outputs": [],
   "source": [
    "type_dict_new['X489_Como_Compro.']=type_dict_new['X489_Como_Compro?']\n",
    "del type_dict_new['X489_Como_Compro?']"
   ],
   "metadata": {
    "collapsed": false,
    "ExecuteTime": {
     "end_time": "2023-11-10T20:03:20.782888Z",
     "start_time": "2023-11-10T20:03:20.767700Z"
    }
   },
   "id": "db6af9aee8fcff13"
  },
  {
   "cell_type": "code",
   "execution_count": 130,
   "outputs": [],
   "source": [
    "read_able_columns.loc[read_able_columns['Variable'].str.contains('489_Como_Compro')]='X489_Como_Compro.'\n"
   ],
   "metadata": {
    "collapsed": false,
    "ExecuteTime": {
     "end_time": "2023-11-11T09:28:24.892332Z",
     "start_time": "2023-11-11T09:28:24.879946Z"
    }
   },
   "id": "b37b0a10c3194848"
  },
  {
   "cell_type": "code",
   "execution_count": 132,
   "outputs": [],
   "source": [
    "read_able_columns['Variable']=read_able_columns['Variable'].apply(lambda x: 'X'+x if x[0].isdigit() else x)"
   ],
   "metadata": {
    "collapsed": false,
    "ExecuteTime": {
     "end_time": "2023-11-11T09:30:47.113953Z",
     "start_time": "2023-11-11T09:30:47.098449Z"
    }
   },
   "id": "e630523af17fe964"
  },
  {
   "cell_type": "code",
   "execution_count": null,
   "outputs": [],
   "source": [],
   "metadata": {
    "collapsed": false
   },
   "id": "638d98f44c22e7b3"
  },
  {
   "cell_type": "code",
   "execution_count": 129,
   "outputs": [
    {
     "name": "stderr",
     "output_type": "stream",
     "text": [
      "/Users/peterkiss/anaconda3/envs/kantar_data_env/lib/python3.7/site-packages/ipykernel_launcher.py:1: SettingWithCopyWarning: \n",
      "A value is trying to be set on a copy of a slice from a DataFrame.\n",
      "Try using .loc[row_indexer,col_indexer] = value instead\n",
      "\n",
      "See the caveats in the documentation: https://pandas.pydata.org/pandas-docs/stable/user_guide/indexing.html#returning-a-view-versus-a-copy\n",
      "  \"\"\"Entry point for launching an IPython kernel.\n"
     ]
    }
   ],
   "source": [],
   "metadata": {
    "collapsed": false,
    "ExecuteTime": {
     "end_time": "2023-11-11T09:27:56.975781Z",
     "start_time": "2023-11-11T09:27:56.958303Z"
    }
   },
   "id": "2c9f01f216671e05"
  },
  {
   "cell_type": "code",
   "execution_count": 103,
   "outputs": [],
   "source": [
    "type_dict_new['X497_Tipo_Queso'] = type_dict_new['X491_Presentacion_Tipo_Queso']\n",
    "type_dict_new['X491_Presentacion']=type_dict_new['X491_Presentacion_Tipo_Queso']\n",
    "del type_dict_new['X491_Presentacion_Tipo_Queso']"
   ],
   "metadata": {
    "collapsed": false,
    "ExecuteTime": {
     "end_time": "2023-11-10T20:06:06.107706Z",
     "start_time": "2023-11-10T20:06:06.095045Z"
    }
   },
   "id": "fb663fd4ed43a58f"
  },
  {
   "cell_type": "markdown",
   "source": [],
   "metadata": {
    "collapsed": false
   },
   "id": "68e606a02d31d395"
  },
  {
   "cell_type": "code",
   "execution_count": 139,
   "outputs": [],
   "source": [
    "row1 = read_able_columns.loc[read_able_columns['Variable'].str.contains('X491_Presentacion_Tipo_Queso'),:].copy()\n",
    "row2= read_able_columns.loc[read_able_columns['Variable'].str.contains('X491_Presentacion_Tipo_Queso'),:].copy()\n"
   ],
   "metadata": {
    "collapsed": false,
    "ExecuteTime": {
     "end_time": "2023-11-11T09:39:46.421354Z",
     "start_time": "2023-11-11T09:39:46.400117Z"
    }
   },
   "id": "5b73202a16b55c1"
  },
  {
   "cell_type": "code",
   "execution_count": 141,
   "outputs": [],
   "source": [
    "row1['Variable']='X491_Presentacion'\n",
    "read_able_columns=pd.concat([read_able_columns,row1]).sort_index()\n",
    "row2['Variable']='X497_Tipo_Queso'\n",
    "read_able_columns=pd.concat([read_able_columns,row2]).sort_index()"
   ],
   "metadata": {
    "collapsed": false,
    "ExecuteTime": {
     "end_time": "2023-11-11T09:40:46.061497Z",
     "start_time": "2023-11-11T09:40:46.035227Z"
    }
   },
   "id": "c6897fdf3ae5efee"
  },
  {
   "cell_type": "code",
   "execution_count": 144,
   "outputs": [
    {
     "data": {
      "text/plain": "         Variable                                        Explicación  \\\n0        idCompra                                        Purchase ID   \n1     CodProducto                            Product identifier code   \n2    CodigoBarras                Barcode associated with the product   \n3      FechaCesta                                   Date of purchase   \n4    PrecioCompra               Price paid for the complete purchase   \n..            ...                                                ...   \n80  Promo_Folleto  Indicator of whether the purchase has been mad...   \n81   Promo_Envase  Indicator of whether the purchase has been mad...   \n82      Promo_TPR  indicator of whether the purchase has been a t...   \n83  promo_folleto  information about the type of brochure promoti...   \n84   promo_envase  information about the type of package promotio...   \n\n   Tipo Variable                                        description  \n0             ID                                        Purchase_ID  \n1             ID                            Product_identifier_code  \n2             ID                Barcode_associated_with_the_product  \n3          Fecha                                   Date_of_purchase  \n4       Numérica               Price_paid_for_the_complete_purchase  \n..           ...                                                ...  \n80    Dicotómica  Indicator_of_whether_the_purchase_has_been_mad...  \n81    Dicotómica  Indicator_of_whether_the_purchase_has_been_mad...  \n82    Dicotómica  indicator_of_whether_the_purchase_has_been_a_t...  \n83    Categórica  information_about_the_type_of_brochure_promoti...  \n84    Categórica  information_about_the_type_of_package_promotio...  \n\n[84 rows x 4 columns]",
      "text/html": "<div>\n<style scoped>\n    .dataframe tbody tr th:only-of-type {\n        vertical-align: middle;\n    }\n\n    .dataframe tbody tr th {\n        vertical-align: top;\n    }\n\n    .dataframe thead th {\n        text-align: right;\n    }\n</style>\n<table border=\"1\" class=\"dataframe\">\n  <thead>\n    <tr style=\"text-align: right;\">\n      <th></th>\n      <th>Variable</th>\n      <th>Explicación</th>\n      <th>Tipo Variable</th>\n      <th>description</th>\n    </tr>\n  </thead>\n  <tbody>\n    <tr>\n      <th>0</th>\n      <td>idCompra</td>\n      <td>Purchase ID</td>\n      <td>ID</td>\n      <td>Purchase_ID</td>\n    </tr>\n    <tr>\n      <th>1</th>\n      <td>CodProducto</td>\n      <td>Product identifier code</td>\n      <td>ID</td>\n      <td>Product_identifier_code</td>\n    </tr>\n    <tr>\n      <th>2</th>\n      <td>CodigoBarras</td>\n      <td>Barcode associated with the product</td>\n      <td>ID</td>\n      <td>Barcode_associated_with_the_product</td>\n    </tr>\n    <tr>\n      <th>3</th>\n      <td>FechaCesta</td>\n      <td>Date of purchase</td>\n      <td>Fecha</td>\n      <td>Date_of_purchase</td>\n    </tr>\n    <tr>\n      <th>4</th>\n      <td>PrecioCompra</td>\n      <td>Price paid for the complete purchase</td>\n      <td>Numérica</td>\n      <td>Price_paid_for_the_complete_purchase</td>\n    </tr>\n    <tr>\n      <th>...</th>\n      <td>...</td>\n      <td>...</td>\n      <td>...</td>\n      <td>...</td>\n    </tr>\n    <tr>\n      <th>80</th>\n      <td>Promo_Folleto</td>\n      <td>Indicator of whether the purchase has been mad...</td>\n      <td>Dicotómica</td>\n      <td>Indicator_of_whether_the_purchase_has_been_mad...</td>\n    </tr>\n    <tr>\n      <th>81</th>\n      <td>Promo_Envase</td>\n      <td>Indicator of whether the purchase has been mad...</td>\n      <td>Dicotómica</td>\n      <td>Indicator_of_whether_the_purchase_has_been_mad...</td>\n    </tr>\n    <tr>\n      <th>82</th>\n      <td>Promo_TPR</td>\n      <td>indicator of whether the purchase has been a t...</td>\n      <td>Dicotómica</td>\n      <td>indicator_of_whether_the_purchase_has_been_a_t...</td>\n    </tr>\n    <tr>\n      <th>83</th>\n      <td>promo_folleto</td>\n      <td>information about the type of brochure promoti...</td>\n      <td>Categórica</td>\n      <td>information_about_the_type_of_brochure_promoti...</td>\n    </tr>\n    <tr>\n      <th>84</th>\n      <td>promo_envase</td>\n      <td>information about the type of package promotio...</td>\n      <td>Categórica</td>\n      <td>information_about_the_type_of_package_promotio...</td>\n    </tr>\n  </tbody>\n</table>\n<p>84 rows × 4 columns</p>\n</div>"
     },
     "execution_count": 144,
     "metadata": {},
     "output_type": "execute_result"
    }
   ],
   "source": [
    "read_able_columns.drop(read_able_columns[read_able_columns['Variable'].str.contains('X491_Presentacion_Tipo_Queso')].index)"
   ],
   "metadata": {
    "collapsed": false,
    "ExecuteTime": {
     "end_time": "2023-11-11T09:42:50.700707Z",
     "start_time": "2023-11-11T09:42:50.669622Z"
    }
   },
   "id": "d91e81eeb16d2efe"
  },
  {
   "cell_type": "code",
   "execution_count": 107,
   "outputs": [
    {
     "ename": "KeyError",
     "evalue": "'X674_Tipo_Helado_Localizacion'",
     "output_type": "error",
     "traceback": [
      "\u001B[0;31m---------------------------------------------------------------------------\u001B[0m",
      "\u001B[0;31mKeyError\u001B[0m                                  Traceback (most recent call last)",
      "\u001B[0;32m<ipython-input-107-6b2f3ebdd5f6>\u001B[0m in \u001B[0;36m<module>\u001B[0;34m\u001B[0m\n\u001B[0;32m----> 1\u001B[0;31m \u001B[0mtype_dict_new\u001B[0m\u001B[0;34m[\u001B[0m\u001B[0;34m'X674_Tipo_Helado'\u001B[0m\u001B[0;34m]\u001B[0m \u001B[0;34m=\u001B[0m\u001B[0mtype_dict_new\u001B[0m\u001B[0;34m[\u001B[0m\u001B[0;34m'X674_Tipo_Helado_Localizacion'\u001B[0m\u001B[0;34m]\u001B[0m\u001B[0;34m\u001B[0m\u001B[0m\n\u001B[0m\u001B[1;32m      2\u001B[0m \u001B[0mtype_dict_new\u001B[0m\u001B[0;34m[\u001B[0m\u001B[0;34m'X903_Envase'\u001B[0m\u001B[0;34m]\u001B[0m\u001B[0;34m=\u001B[0m\u001B[0mtype_dict_new\u001B[0m\u001B[0;34m[\u001B[0m\u001B[0;34m'X674_Tipo_Helado_Localizacion'\u001B[0m\u001B[0;34m]\u001B[0m\u001B[0;34m\u001B[0m\u001B[0m\n\u001B[1;32m      3\u001B[0m \u001B[0;32mdel\u001B[0m \u001B[0mtype_dict_new\u001B[0m\u001B[0;34m[\u001B[0m\u001B[0;34m'X674_Tipo_Helado_Localizacion'\u001B[0m\u001B[0;34m]\u001B[0m\u001B[0;34m\u001B[0m\u001B[0m\n",
      "\u001B[0;31mKeyError\u001B[0m: 'X674_Tipo_Helado_Localizacion'"
     ]
    }
   ],
   "source": [
    "type_dict_new['X674_Tipo_Helado'] =type_dict_new['X674_Tipo_Helado_Localizacion']\n",
    "type_dict_new['X901_Localizacion']=type_dict_new['X674_Tipo_Helado_Localizacion']\n",
    "del type_dict_new['X674_Tipo_Helado_Localizacion']"
   ],
   "metadata": {
    "collapsed": false,
    "ExecuteTime": {
     "end_time": "2023-11-10T20:09:31.044973Z",
     "start_time": "2023-11-10T20:09:31.021998Z"
    }
   },
   "id": "d47728095dbae9a1"
  },
  {
   "cell_type": "code",
   "execution_count": null,
   "outputs": [],
   "source": [],
   "metadata": {
    "collapsed": false
   },
   "id": "a39b11a656c7c1ae"
  },
  {
   "cell_type": "code",
   "execution_count": 108,
   "outputs": [],
   "source": [
    "type_dict_new['X902_Tipo_Producto'] =type_dict_new['X902_Tipo_Producto_Envase']\n",
    "type_dict_new['X903_Envase']=type_dict_new['X902_Tipo_Producto_Envase']\n",
    "del type_dict_new['X902_Tipo_Producto_Envase']"
   ],
   "metadata": {
    "collapsed": false,
    "ExecuteTime": {
     "end_time": "2023-11-10T20:10:18.963341Z",
     "start_time": "2023-11-10T20:10:18.947362Z"
    }
   },
   "id": "7f06d99b31a59699"
  },
  {
   "cell_type": "code",
   "execution_count": 110,
   "outputs": [
    {
     "data": {
      "text/plain": "{'idCompra': 'int64',\n 'CodProducto': 'int64',\n 'CodigoBarras': 'str',\n 'PrecioCompra': 'int64',\n 'Cantidad': 'int64',\n 'Precio': 'int64',\n 'CodLugarCompra': 'int64',\n 'Lugar_Compra': 'category',\n 'Canal': 'category',\n 'CodPanelista': 'int64',\n 'CodIndividuo': 'category',\n 'CC_AA': 'category',\n 'Ciclo_Vida': 'category',\n 'Clase_EGM': 'category',\n 'Clase_Social': 'category',\n 'Edad_Ama': 'int64',\n 'Habitat_Metropolitano': 'category',\n 'Habitat_Municipal_Std': 'category',\n 'Inmigrante': 'bool',\n 'NF': 'category',\n 'Numero_Gatos': 'category',\n 'Numero_Perros': 'int64',\n 'Presencia_Niños': 'int64',\n 'Provincia': 'category',\n 'Region': 'category',\n 'CodIMC': 'category',\n 'IMC': 'category',\n 'Ponderacion': 'int64',\n 'CodVF': 'category',\n 'VF': 'category',\n 'SA7_BPL': 'bool',\n 'SA4_Fabricante': 'category',\n 'SA3_Marca': 'category',\n 'SA2_Submarca': 'category',\n 'X102_Aditivos': 'category',\n 'X108_Usuario': 'category',\n 'X109_Estado': 'category',\n 'X112_Niv_Calorias': 'category',\n 'X124_Estilo': 'category',\n 'X127_Tipo_Bañado_Choc': 'category',\n 'X129_Tipo_Pasteleria': 'category',\n 'X135_Uso': 'category',\n 'X143_Tipo_Corte': 'category',\n 'X163_Info_Cafeina': 'category',\n 'X167_Grado_Curacion': 'category',\n 'X169_Cont_Materia_Grasa': 'category',\n 'X174_Despiece.Corte': 'category',\n 'X182_Tipo_Queso': 'category',\n 'X188_Tipo_Pan': 'category',\n 'X189_Tipo_Viena': 'category',\n 'X206_Tipo_Pescado': 'category',\n 'X230_Niv_Concentracion': 'category',\n 'X314_Tipo_Cena.Entrante': 'category',\n 'X315_Tipo_Carne': 'category',\n 'X323_Tipo_Sazonamiento': 'category',\n 'X328_Tipo_Aceite': 'category',\n 'X329_Pureness_Niveau': 'category',\n 'X360_Tipo_Verdura': 'category',\n 'X366_Tipo_Postre': 'category',\n 'X383_Tipo_Yogurt': 'category',\n 'X384_Tipo_Cena': 'category',\n 'X490_Fresca.Congelada': 'bool',\n 'X498_Marcas_Queso': 'category',\n 'X500_Tipo_Embutido': 'category',\n 'X514_Tipo_Carne': 'category',\n 'X527_Tipo_Cafe': 'category',\n 'X529_Tipo_Producto': 'category',\n 'X531_Info_Biologica': 'category',\n 'X558_Variedad_Queso': 'category',\n 'X571_Peso_Bebe': 'category',\n 'X904_Variedad.Sabor': 'category',\n 'X5_Num_Tot_Unidades': 'int64',\n 'X18_Num_Tot_Paquetes.Botes': 'int64',\n 'X66_Preferred_Unit_Measure': 'int64',\n 'TipoMaquina': 'category',\n 'Promo_Folleto': 'bool',\n 'Promo_Envase': 'bool',\n 'Promo_TPR': 'bool',\n 'promo_folleto': 'category',\n 'promo_envase': 'category',\n 'X489_Como_Compro.': 'category',\n 'X497_Tipo_Queso': 'category',\n 'X491_Presentacion': 'category',\n 'X674_Tipo_Helado': 'category',\n 'X901_Localizacion': 'category',\n 'X902_Tipo_Producto': 'category'}"
     },
     "execution_count": 110,
     "metadata": {},
     "output_type": "execute_result"
    }
   ],
   "source": [
    "type_dict_new"
   ],
   "metadata": {
    "collapsed": false,
    "ExecuteTime": {
     "end_time": "2023-11-10T20:11:09.379679Z",
     "start_time": "2023-11-10T20:11:09.366155Z"
    }
   },
   "id": "ed1e3fa04834b75c"
  },
  {
   "cell_type": "code",
   "execution_count": 109,
   "outputs": [
    {
     "name": "stdout",
     "output_type": "stream",
     "text": [
      "idCompra int64\n",
      "CodProducto int64\n",
      "CodigoBarras str\n",
      "PrecioCompra int64\n",
      "Cantidad int64\n",
      "Precio int64\n",
      "CodLugarCompra int64\n",
      "Lugar_Compra category\n",
      "Canal category\n",
      "CodPanelista int64\n",
      "CodIndividuo category\n",
      "CC_AA category\n",
      "Ciclo_Vida category\n",
      "Clase_EGM category\n",
      "Clase_Social category\n",
      "Edad_Ama int64\n",
      "Habitat_Metropolitano category\n",
      "Habitat_Municipal_Std category\n",
      "Inmigrante bool\n",
      "NF category\n",
      "Numero_Gatos category\n",
      "Numero_Perros int64\n",
      "Presencia_Niños int64\n",
      "Provincia category\n",
      "Region category\n",
      "CodIMC category\n",
      "IMC category\n",
      "Ponderacion int64\n",
      "CodVF category\n",
      "VF category\n",
      "SA7_BPL bool\n",
      "SA4_Fabricante category\n",
      "SA3_Marca category\n",
      "SA2_Submarca category\n",
      "X102_Aditivos category\n",
      "X108_Usuario category\n",
      "X109_Estado category\n",
      "X112_Niv_Calorias category\n",
      "X124_Estilo category\n",
      "X127_Tipo_Bañado_Choc category\n",
      "X129_Tipo_Pasteleria category\n",
      "X135_Uso category\n",
      "X143_Tipo_Corte category\n",
      "X163_Info_Cafeina category\n",
      "X167_Grado_Curacion category\n",
      "X169_Cont_Materia_Grasa category\n",
      "X174_Despiece.Corte category\n",
      "X182_Tipo_Queso category\n",
      "X188_Tipo_Pan category\n",
      "X189_Tipo_Viena category\n",
      "X206_Tipo_Pescado category\n",
      "X230_Niv_Concentracion category\n",
      "X314_Tipo_Cena.Entrante category\n",
      "X315_Tipo_Carne category\n",
      "X323_Tipo_Sazonamiento category\n",
      "X328_Tipo_Aceite category\n",
      "X329_Pureness_Niveau category\n",
      "X360_Tipo_Verdura category\n",
      "X366_Tipo_Postre category\n",
      "X383_Tipo_Yogurt category\n",
      "X384_Tipo_Cena category\n",
      "X490_Fresca.Congelada bool\n",
      "X498_Marcas_Queso category\n",
      "X500_Tipo_Embutido category\n",
      "X514_Tipo_Carne category\n",
      "X527_Tipo_Cafe category\n",
      "X529_Tipo_Producto category\n",
      "X531_Info_Biologica category\n",
      "X558_Variedad_Queso category\n",
      "X571_Peso_Bebe category\n",
      "X904_Variedad.Sabor category\n",
      "X5_Num_Tot_Unidades int64\n",
      "X18_Num_Tot_Paquetes.Botes int64\n",
      "X66_Preferred_Unit_Measure int64\n",
      "TipoMaquina category\n",
      "Promo_Folleto bool\n",
      "Promo_Envase bool\n",
      "Promo_TPR bool\n",
      "promo_folleto category\n",
      "promo_envase category\n",
      "X489_Como_Compro. category\n",
      "X497_Tipo_Queso category\n",
      "X491_Presentacion category\n",
      "X674_Tipo_Helado category\n",
      "X901_Localizacion category\n",
      "X902_Tipo_Producto category\n"
     ]
    }
   ],
   "source": [
    "for k,v in type_dict_new.items():\n",
    "    print(k,v)\n",
    "    source_df_test.astype({k:v})"
   ],
   "metadata": {
    "collapsed": false,
    "ExecuteTime": {
     "end_time": "2023-11-10T20:10:27.638934Z",
     "start_time": "2023-11-10T20:10:26.627754Z"
    }
   },
   "id": "22b9e3f8ee24f1d2"
  },
  {
   "cell_type": "code",
   "execution_count": 111,
   "outputs": [
    {
     "data": {
      "text/plain": "    idCompra  CodPanelista  CodProducto   CodigoBarras FechaCesta  \\\n0  191945938        364917       791031  8480000105424 2022-12-12   \n1  190744241         30109       675179  8410702020886 2022-11-06   \n2  182162741         30109       204305     SSA1410202 2022-01-20   \n3  189827808         30109       204305     SSA1410202 2022-10-09   \n4  182203652         30109       204305     SSA1410202 2022-01-12   \n\n   PrecioCompra  Cantidad  Precio  CodLugarCompra Lugar_Compra  ...  \\\n0          1650     12000    1716              79    Mercadona  ...   \n1           400      2000     400              28       CONDIS  ...   \n2          2088       445      56              33          DIA  ...   \n3          1071       625      87              33          DIA  ...   \n4           969       935      83              33          DIA  ...   \n\n                  Ciclo_Vida   Clase_EGM Clase_Social  Habitat_Metropolitano  \\\n0     Adultos Independientes       Media        Media              AM Madrid   \n1  Parejas Adultas sin hijos  Media Alta        Media              No Metrop   \n2  Parejas Adultas sin hijos  Media Alta        Media              No Metrop   \n3  Parejas Adultas sin hijos  Media Alta        Media              No Metrop   \n4  Parejas Adultas sin hijos  Media Alta        Media              No Metrop   \n\n   Habitat_Municipal_Std  Inmigrante  Provincia     Region  promo_folleto  \\\n0            más 1000000          No     Madrid     MDD AM            NaN   \n1          20001 a 30000          No       Jaen  Andalucia            NaN   \n2          20001 a 30000          No       Jaen  Andalucia            NaN   \n3          20001 a 30000          No       Jaen  Andalucia            NaN   \n4          20001 a 30000          No       Jaen  Andalucia            NaN   \n\n  promo_envase  \n0          NaN  \n1          NaN  \n2          NaN  \n3          NaN  \n4          NaN  \n\n[5 rows x 88 columns]",
      "text/html": "<div>\n<style scoped>\n    .dataframe tbody tr th:only-of-type {\n        vertical-align: middle;\n    }\n\n    .dataframe tbody tr th {\n        vertical-align: top;\n    }\n\n    .dataframe thead th {\n        text-align: right;\n    }\n</style>\n<table border=\"1\" class=\"dataframe\">\n  <thead>\n    <tr style=\"text-align: right;\">\n      <th></th>\n      <th>idCompra</th>\n      <th>CodPanelista</th>\n      <th>CodProducto</th>\n      <th>CodigoBarras</th>\n      <th>FechaCesta</th>\n      <th>PrecioCompra</th>\n      <th>Cantidad</th>\n      <th>Precio</th>\n      <th>CodLugarCompra</th>\n      <th>Lugar_Compra</th>\n      <th>...</th>\n      <th>Ciclo_Vida</th>\n      <th>Clase_EGM</th>\n      <th>Clase_Social</th>\n      <th>Habitat_Metropolitano</th>\n      <th>Habitat_Municipal_Std</th>\n      <th>Inmigrante</th>\n      <th>Provincia</th>\n      <th>Region</th>\n      <th>promo_folleto</th>\n      <th>promo_envase</th>\n    </tr>\n  </thead>\n  <tbody>\n    <tr>\n      <th>0</th>\n      <td>191945938</td>\n      <td>364917</td>\n      <td>791031</td>\n      <td>8480000105424</td>\n      <td>2022-12-12</td>\n      <td>1650</td>\n      <td>12000</td>\n      <td>1716</td>\n      <td>79</td>\n      <td>Mercadona</td>\n      <td>...</td>\n      <td>Adultos Independientes</td>\n      <td>Media</td>\n      <td>Media</td>\n      <td>AM Madrid</td>\n      <td>más 1000000</td>\n      <td>No</td>\n      <td>Madrid</td>\n      <td>MDD AM</td>\n      <td>NaN</td>\n      <td>NaN</td>\n    </tr>\n    <tr>\n      <th>1</th>\n      <td>190744241</td>\n      <td>30109</td>\n      <td>675179</td>\n      <td>8410702020886</td>\n      <td>2022-11-06</td>\n      <td>400</td>\n      <td>2000</td>\n      <td>400</td>\n      <td>28</td>\n      <td>CONDIS</td>\n      <td>...</td>\n      <td>Parejas Adultas sin hijos</td>\n      <td>Media Alta</td>\n      <td>Media</td>\n      <td>No Metrop</td>\n      <td>20001 a 30000</td>\n      <td>No</td>\n      <td>Jaen</td>\n      <td>Andalucia</td>\n      <td>NaN</td>\n      <td>NaN</td>\n    </tr>\n    <tr>\n      <th>2</th>\n      <td>182162741</td>\n      <td>30109</td>\n      <td>204305</td>\n      <td>SSA1410202</td>\n      <td>2022-01-20</td>\n      <td>2088</td>\n      <td>445</td>\n      <td>56</td>\n      <td>33</td>\n      <td>DIA</td>\n      <td>...</td>\n      <td>Parejas Adultas sin hijos</td>\n      <td>Media Alta</td>\n      <td>Media</td>\n      <td>No Metrop</td>\n      <td>20001 a 30000</td>\n      <td>No</td>\n      <td>Jaen</td>\n      <td>Andalucia</td>\n      <td>NaN</td>\n      <td>NaN</td>\n    </tr>\n    <tr>\n      <th>3</th>\n      <td>189827808</td>\n      <td>30109</td>\n      <td>204305</td>\n      <td>SSA1410202</td>\n      <td>2022-10-09</td>\n      <td>1071</td>\n      <td>625</td>\n      <td>87</td>\n      <td>33</td>\n      <td>DIA</td>\n      <td>...</td>\n      <td>Parejas Adultas sin hijos</td>\n      <td>Media Alta</td>\n      <td>Media</td>\n      <td>No Metrop</td>\n      <td>20001 a 30000</td>\n      <td>No</td>\n      <td>Jaen</td>\n      <td>Andalucia</td>\n      <td>NaN</td>\n      <td>NaN</td>\n    </tr>\n    <tr>\n      <th>4</th>\n      <td>182203652</td>\n      <td>30109</td>\n      <td>204305</td>\n      <td>SSA1410202</td>\n      <td>2022-01-12</td>\n      <td>969</td>\n      <td>935</td>\n      <td>83</td>\n      <td>33</td>\n      <td>DIA</td>\n      <td>...</td>\n      <td>Parejas Adultas sin hijos</td>\n      <td>Media Alta</td>\n      <td>Media</td>\n      <td>No Metrop</td>\n      <td>20001 a 30000</td>\n      <td>No</td>\n      <td>Jaen</td>\n      <td>Andalucia</td>\n      <td>NaN</td>\n      <td>NaN</td>\n    </tr>\n  </tbody>\n</table>\n<p>5 rows × 88 columns</p>\n</div>"
     },
     "execution_count": 111,
     "metadata": {},
     "output_type": "execute_result"
    }
   ],
   "source": [
    "source_df.to_csv('re_typed.csv')\n",
    "source_df.head()"
   ],
   "metadata": {
    "collapsed": false,
    "ExecuteTime": {
     "end_time": "2023-11-10T20:17:39.814578Z",
     "start_time": "2023-11-10T20:12:19.972213Z"
    }
   },
   "id": "dd295c19863d4b8d"
  },
  {
   "cell_type": "code",
   "execution_count": 113,
   "outputs": [
    {
     "data": {
      "text/plain": "0          idCompra\n1       CodProducto\n2      CodigoBarras\n3        FechaCesta\n4      PrecioCompra\n          ...      \n80    Promo_Folleto\n81     Promo_Envase\n82        Promo_TPR\n83    promo_folleto\n84     promo_envase\nName: Variable, Length: 85, dtype: object"
     },
     "execution_count": 113,
     "metadata": {},
     "output_type": "execute_result"
    }
   ],
   "source": [
    "read_able_columns['Variable']"
   ],
   "metadata": {
    "collapsed": false,
    "ExecuteTime": {
     "end_time": "2023-11-10T20:23:33.678176Z",
     "start_time": "2023-11-10T20:23:33.657180Z"
    }
   },
   "id": "13a64d84196ed792"
  },
  {
   "cell_type": "code",
   "execution_count": 116,
   "outputs": [],
   "source": [
    "a=read_able_columns.loc[read_able_columns['Variable'].str.contains('674_Tipo_Helado_Localizacion')]"
   ],
   "metadata": {
    "collapsed": false,
    "ExecuteTime": {
     "end_time": "2023-11-10T20:25:30.296329Z",
     "start_time": "2023-11-10T20:25:30.251235Z"
    }
   },
   "id": "cd7033f4467b4283"
  },
  {
   "cell_type": "code",
   "execution_count": 117,
   "outputs": [
    {
     "data": {
      "text/plain": "                        Variable          Explicación Tipo Variable  \\\n73  674_Tipo_Helado_Localizacion  ice cream location     Categórica   \n\n           description  \n73  ice_cream_location  ",
      "text/html": "<div>\n<style scoped>\n    .dataframe tbody tr th:only-of-type {\n        vertical-align: middle;\n    }\n\n    .dataframe tbody tr th {\n        vertical-align: top;\n    }\n\n    .dataframe thead th {\n        text-align: right;\n    }\n</style>\n<table border=\"1\" class=\"dataframe\">\n  <thead>\n    <tr style=\"text-align: right;\">\n      <th></th>\n      <th>Variable</th>\n      <th>Explicación</th>\n      <th>Tipo Variable</th>\n      <th>description</th>\n    </tr>\n  </thead>\n  <tbody>\n    <tr>\n      <th>73</th>\n      <td>674_Tipo_Helado_Localizacion</td>\n      <td>ice cream location</td>\n      <td>Categórica</td>\n      <td>ice_cream_location</td>\n    </tr>\n  </tbody>\n</table>\n</div>"
     },
     "execution_count": 117,
     "metadata": {},
     "output_type": "execute_result"
    }
   ],
   "source": [
    "a"
   ],
   "metadata": {
    "collapsed": false,
    "ExecuteTime": {
     "end_time": "2023-11-10T20:25:38.907436Z",
     "start_time": "2023-11-10T20:25:38.896504Z"
    }
   },
   "id": "af0bb85277c0841f"
  },
  {
   "cell_type": "code",
   "execution_count": null,
   "outputs": [],
   "source": [
    "source_df.rename(columns=replacing_values)\n"
   ],
   "metadata": {
    "collapsed": false
   },
   "id": "98ca4d72046e49d1"
  },
  {
   "cell_type": "code",
   "execution_count": null,
   "outputs": [],
   "source": [],
   "metadata": {
    "collapsed": false
   },
   "id": "e033348f02512d13"
  },
  {
   "cell_type": "code",
   "execution_count": 47,
   "outputs": [
    {
     "data": {
      "text/plain": "         Purchase_ID  Buyer_panelist_identifier_code  Product_identifier_code  \\\n0          191945938                          364917                   791031   \n1          190744241                           30109                   675179   \n2          182162741                           30109                   204305   \n3          189827808                           30109                   204305   \n4          182203652                           30109                   204305   \n...              ...                             ...                      ...   \n7584152    185781057                          439823                    66071   \n7584153    184433656                          439823                   993081   \n7584154    183760208                          439823                    37869   \n7584155    187438974                          439823                   271963   \n7584156    182500865                          439823                   415559   \n\n        Barcode_associated_with_the_product Date_of_purchase  \\\n0                             8480000105424       2022-12-12   \n1                             8410702020886       2022-11-06   \n2                                SSA1410202       2022-01-20   \n3                                SSA1410202       2022-10-09   \n4                                SSA1410202       2022-01-12   \n...                                     ...              ...   \n7584152                       5411361092507       2022-05-03   \n7584153                       8436554168811       2022-03-27   \n7584154                       8436554168781       2022-03-27   \n7584155                          SVA1360201       2022-07-12   \n7584156                          TJA1010302       2022-01-16   \n\n         Price_paid_for_the_complete_purchase  \\\n0                                        1650   \n1                                         400   \n2                                        2088   \n3                                        1071   \n4                                         969   \n...                                       ...   \n7584152                                  5500   \n7584153                                   745   \n7584154                                   745   \n7584155                                   450   \n7584156                                   150   \n\n         Quantity_of_products_purchased_(of_the_product_in_order)  \\\n0                                                    12000          \n1                                                     2000          \n2                                                      445          \n3                                                      625          \n4                                                      935          \n...                                                    ...          \n7584152                                               2000          \n7584153                                               1000          \n7584154                                               1000          \n7584155                                               1000          \n7584156                                              12000          \n\n         Price_paid_for_the_total_number_of_products_purchased_(of_the_product_in_question)  \\\n0                                                     1716                                    \n1                                                      400                                    \n2                                                       56                                    \n3                                                       87                                    \n4                                                       83                                    \n...                                                    ...                                    \n7584152                                                560                                    \n7584153                                                450                                    \n7584154                                                295                                    \n7584155                                                 79                                    \n7584156                                                150                                    \n\n         Identifier_code_of_the_place_of_purchase  \\\n0                                              79   \n1                                              28   \n2                                              33   \n3                                              33   \n4                                              33   \n...                                           ...   \n7584152                                       325   \n7584153                                       900   \n7584154                                       900   \n7584155                                       991   \n7584156                                       991   \n\n                     Descritption_of_the_place_of_purchase  ...  \\\n0                                                Mercadona  ...   \n1                                                   CONDIS  ...   \n2                                                      DIA  ...   \n3                                                      DIA  ...   \n4                                                      DIA  ...   \n...                                                    ...  ...   \n7584152  Cash Family                                   ...  ...   \n7584153                                      EROSKI CENTER  ...   \n7584154                                      EROSKI CENTER  ...   \n7584155                                              OTROS  ...   \n7584156                                              OTROS  ...   \n\n        Profile_of_the_panelist's_family_nucleus  EGM_social_class  \\\n0                         Adultos Independientes             Media   \n1                      Parejas Adultas sin hijos        Media Alta   \n2                      Parejas Adultas sin hijos        Media Alta   \n3                      Parejas Adultas sin hijos        Media Alta   \n4                      Parejas Adultas sin hijos        Media Alta   \n...                                          ...               ...   \n7584152             Parejas con hijos edad media        Media Alta   \n7584153             Parejas con hijos edad media        Media Alta   \n7584154             Parejas con hijos edad media        Media Alta   \n7584155             Parejas con hijos edad media        Media Alta   \n7584156             Parejas con hijos edad media        Media Alta   \n\n        Social_class_of_the_panelist  \\\n0                              Media   \n1                              Media   \n2                              Media   \n3                              Media   \n4                              Media   \n...                              ...   \n7584152                        Media   \n7584153                        Media   \n7584154                        Media   \n7584155                        Media   \n7584156                        Media   \n\n         Metropolitan_area_to_which_the_panelist_belongs  \\\n0                                              AM Madrid   \n1                                              No Metrop   \n2                                              No Metrop   \n3                                              No Metrop   \n4                                              No Metrop   \n...                                                  ...   \n7584152                                        No Metrop   \n7584153                                        No Metrop   \n7584154                                        No Metrop   \n7584155                                        No Metrop   \n7584156                                        No Metrop   \n\n         Inhabitants_of_the_municipality_where_the_panelist_resides  \\\n0                                              más 1000000            \n1                                            20001 a 30000            \n2                                            20001 a 30000            \n3                                            20001 a 30000            \n4                                            20001 a 30000            \n...                                                    ...            \n7584152                                      20001 a 30000            \n7584153                                      20001 a 30000            \n7584154                                      20001 a 30000            \n7584155                                      20001 a 30000            \n7584156                                      20001 a 30000            \n\n         Immigration_indicator  \\\n0                           No   \n1                           No   \n2                           No   \n3                           No   \n4                           No   \n...                        ...   \n7584152                     No   \n7584153                     No   \n7584154                     No   \n7584155                     No   \n7584156                     No   \n\n         Province_in_which_the_collaborating_home_is_located  \\\n0                                                   Madrid     \n1                                                     Jaen     \n2                                                     Jaen     \n3                                                     Jaen     \n4                                                     Jaen     \n...                                                    ...     \n7584152                                           Valencia     \n7584153                                           Valencia     \n7584154                                           Valencia     \n7584155                                           Valencia     \n7584156                                           Valencia     \n\n        Region_in_which_the_collaborating_home_is_located  \\\n0                                                  MDD AM   \n1                                               Andalucia   \n2                                               Andalucia   \n3                                               Andalucia   \n4                                               Andalucia   \n...                                                   ...   \n7584152                                           Levante   \n7584153                                           Levante   \n7584154                                           Levante   \n7584155                                           Levante   \n7584156                                           Levante   \n\n         information_about_the_type_of_brochure_promotion_applied_to_the_purchase  \\\n0                                                      NaN                          \n1                                                      NaN                          \n2                                                      NaN                          \n3                                                      NaN                          \n4                                                      NaN                          \n...                                                    ...                          \n7584152                                                NaN                          \n7584153                                                NaN                          \n7584154                                                NaN                          \n7584155                                                NaN                          \n7584156                                                NaN                          \n\n        information_about_the_type_of_package_promotion_applied_to_the_purchase  \n0                                                      NaN                       \n1                                                      NaN                       \n2                                                      NaN                       \n3                                                      NaN                       \n4                                                      NaN                       \n...                                                    ...                       \n7584152                                                NaN                       \n7584153                                                NaN                       \n7584154                                                NaN                       \n7584155                                                NaN                       \n7584156                                                NaN                       \n\n[7584157 rows x 88 columns]",
      "text/html": "<div>\n<style scoped>\n    .dataframe tbody tr th:only-of-type {\n        vertical-align: middle;\n    }\n\n    .dataframe tbody tr th {\n        vertical-align: top;\n    }\n\n    .dataframe thead th {\n        text-align: right;\n    }\n</style>\n<table border=\"1\" class=\"dataframe\">\n  <thead>\n    <tr style=\"text-align: right;\">\n      <th></th>\n      <th>Purchase_ID</th>\n      <th>Buyer_panelist_identifier_code</th>\n      <th>Product_identifier_code</th>\n      <th>Barcode_associated_with_the_product</th>\n      <th>Date_of_purchase</th>\n      <th>Price_paid_for_the_complete_purchase</th>\n      <th>Quantity_of_products_purchased_(of_the_product_in_order)</th>\n      <th>Price_paid_for_the_total_number_of_products_purchased_(of_the_product_in_question)</th>\n      <th>Identifier_code_of_the_place_of_purchase</th>\n      <th>Descritption_of_the_place_of_purchase</th>\n      <th>...</th>\n      <th>Profile_of_the_panelist's_family_nucleus</th>\n      <th>EGM_social_class</th>\n      <th>Social_class_of_the_panelist</th>\n      <th>Metropolitan_area_to_which_the_panelist_belongs</th>\n      <th>Inhabitants_of_the_municipality_where_the_panelist_resides</th>\n      <th>Immigration_indicator</th>\n      <th>Province_in_which_the_collaborating_home_is_located</th>\n      <th>Region_in_which_the_collaborating_home_is_located</th>\n      <th>information_about_the_type_of_brochure_promotion_applied_to_the_purchase</th>\n      <th>information_about_the_type_of_package_promotion_applied_to_the_purchase</th>\n    </tr>\n  </thead>\n  <tbody>\n    <tr>\n      <th>0</th>\n      <td>191945938</td>\n      <td>364917</td>\n      <td>791031</td>\n      <td>8480000105424</td>\n      <td>2022-12-12</td>\n      <td>1650</td>\n      <td>12000</td>\n      <td>1716</td>\n      <td>79</td>\n      <td>Mercadona</td>\n      <td>...</td>\n      <td>Adultos Independientes</td>\n      <td>Media</td>\n      <td>Media</td>\n      <td>AM Madrid</td>\n      <td>más 1000000</td>\n      <td>No</td>\n      <td>Madrid</td>\n      <td>MDD AM</td>\n      <td>NaN</td>\n      <td>NaN</td>\n    </tr>\n    <tr>\n      <th>1</th>\n      <td>190744241</td>\n      <td>30109</td>\n      <td>675179</td>\n      <td>8410702020886</td>\n      <td>2022-11-06</td>\n      <td>400</td>\n      <td>2000</td>\n      <td>400</td>\n      <td>28</td>\n      <td>CONDIS</td>\n      <td>...</td>\n      <td>Parejas Adultas sin hijos</td>\n      <td>Media Alta</td>\n      <td>Media</td>\n      <td>No Metrop</td>\n      <td>20001 a 30000</td>\n      <td>No</td>\n      <td>Jaen</td>\n      <td>Andalucia</td>\n      <td>NaN</td>\n      <td>NaN</td>\n    </tr>\n    <tr>\n      <th>2</th>\n      <td>182162741</td>\n      <td>30109</td>\n      <td>204305</td>\n      <td>SSA1410202</td>\n      <td>2022-01-20</td>\n      <td>2088</td>\n      <td>445</td>\n      <td>56</td>\n      <td>33</td>\n      <td>DIA</td>\n      <td>...</td>\n      <td>Parejas Adultas sin hijos</td>\n      <td>Media Alta</td>\n      <td>Media</td>\n      <td>No Metrop</td>\n      <td>20001 a 30000</td>\n      <td>No</td>\n      <td>Jaen</td>\n      <td>Andalucia</td>\n      <td>NaN</td>\n      <td>NaN</td>\n    </tr>\n    <tr>\n      <th>3</th>\n      <td>189827808</td>\n      <td>30109</td>\n      <td>204305</td>\n      <td>SSA1410202</td>\n      <td>2022-10-09</td>\n      <td>1071</td>\n      <td>625</td>\n      <td>87</td>\n      <td>33</td>\n      <td>DIA</td>\n      <td>...</td>\n      <td>Parejas Adultas sin hijos</td>\n      <td>Media Alta</td>\n      <td>Media</td>\n      <td>No Metrop</td>\n      <td>20001 a 30000</td>\n      <td>No</td>\n      <td>Jaen</td>\n      <td>Andalucia</td>\n      <td>NaN</td>\n      <td>NaN</td>\n    </tr>\n    <tr>\n      <th>4</th>\n      <td>182203652</td>\n      <td>30109</td>\n      <td>204305</td>\n      <td>SSA1410202</td>\n      <td>2022-01-12</td>\n      <td>969</td>\n      <td>935</td>\n      <td>83</td>\n      <td>33</td>\n      <td>DIA</td>\n      <td>...</td>\n      <td>Parejas Adultas sin hijos</td>\n      <td>Media Alta</td>\n      <td>Media</td>\n      <td>No Metrop</td>\n      <td>20001 a 30000</td>\n      <td>No</td>\n      <td>Jaen</td>\n      <td>Andalucia</td>\n      <td>NaN</td>\n      <td>NaN</td>\n    </tr>\n    <tr>\n      <th>...</th>\n      <td>...</td>\n      <td>...</td>\n      <td>...</td>\n      <td>...</td>\n      <td>...</td>\n      <td>...</td>\n      <td>...</td>\n      <td>...</td>\n      <td>...</td>\n      <td>...</td>\n      <td>...</td>\n      <td>...</td>\n      <td>...</td>\n      <td>...</td>\n      <td>...</td>\n      <td>...</td>\n      <td>...</td>\n      <td>...</td>\n      <td>...</td>\n      <td>...</td>\n      <td>...</td>\n    </tr>\n    <tr>\n      <th>7584152</th>\n      <td>185781057</td>\n      <td>439823</td>\n      <td>66071</td>\n      <td>5411361092507</td>\n      <td>2022-05-03</td>\n      <td>5500</td>\n      <td>2000</td>\n      <td>560</td>\n      <td>325</td>\n      <td>Cash Family                                   ...</td>\n      <td>...</td>\n      <td>Parejas con hijos edad media</td>\n      <td>Media Alta</td>\n      <td>Media</td>\n      <td>No Metrop</td>\n      <td>20001 a 30000</td>\n      <td>No</td>\n      <td>Valencia</td>\n      <td>Levante</td>\n      <td>NaN</td>\n      <td>NaN</td>\n    </tr>\n    <tr>\n      <th>7584153</th>\n      <td>184433656</td>\n      <td>439823</td>\n      <td>993081</td>\n      <td>8436554168811</td>\n      <td>2022-03-27</td>\n      <td>745</td>\n      <td>1000</td>\n      <td>450</td>\n      <td>900</td>\n      <td>EROSKI CENTER</td>\n      <td>...</td>\n      <td>Parejas con hijos edad media</td>\n      <td>Media Alta</td>\n      <td>Media</td>\n      <td>No Metrop</td>\n      <td>20001 a 30000</td>\n      <td>No</td>\n      <td>Valencia</td>\n      <td>Levante</td>\n      <td>NaN</td>\n      <td>NaN</td>\n    </tr>\n    <tr>\n      <th>7584154</th>\n      <td>183760208</td>\n      <td>439823</td>\n      <td>37869</td>\n      <td>8436554168781</td>\n      <td>2022-03-27</td>\n      <td>745</td>\n      <td>1000</td>\n      <td>295</td>\n      <td>900</td>\n      <td>EROSKI CENTER</td>\n      <td>...</td>\n      <td>Parejas con hijos edad media</td>\n      <td>Media Alta</td>\n      <td>Media</td>\n      <td>No Metrop</td>\n      <td>20001 a 30000</td>\n      <td>No</td>\n      <td>Valencia</td>\n      <td>Levante</td>\n      <td>NaN</td>\n      <td>NaN</td>\n    </tr>\n    <tr>\n      <th>7584155</th>\n      <td>187438974</td>\n      <td>439823</td>\n      <td>271963</td>\n      <td>SVA1360201</td>\n      <td>2022-07-12</td>\n      <td>450</td>\n      <td>1000</td>\n      <td>79</td>\n      <td>991</td>\n      <td>OTROS</td>\n      <td>...</td>\n      <td>Parejas con hijos edad media</td>\n      <td>Media Alta</td>\n      <td>Media</td>\n      <td>No Metrop</td>\n      <td>20001 a 30000</td>\n      <td>No</td>\n      <td>Valencia</td>\n      <td>Levante</td>\n      <td>NaN</td>\n      <td>NaN</td>\n    </tr>\n    <tr>\n      <th>7584156</th>\n      <td>182500865</td>\n      <td>439823</td>\n      <td>415559</td>\n      <td>TJA1010302</td>\n      <td>2022-01-16</td>\n      <td>150</td>\n      <td>12000</td>\n      <td>150</td>\n      <td>991</td>\n      <td>OTROS</td>\n      <td>...</td>\n      <td>Parejas con hijos edad media</td>\n      <td>Media Alta</td>\n      <td>Media</td>\n      <td>No Metrop</td>\n      <td>20001 a 30000</td>\n      <td>No</td>\n      <td>Valencia</td>\n      <td>Levante</td>\n      <td>NaN</td>\n      <td>NaN</td>\n    </tr>\n  </tbody>\n</table>\n<p>7584157 rows × 88 columns</p>\n</div>"
     },
     "execution_count": 47,
     "metadata": {},
     "output_type": "execute_result"
    }
   ],
   "source": [
    "source_df.rename(columns=replacing_values)"
   ],
   "metadata": {
    "collapsed": false,
    "ExecuteTime": {
     "end_time": "2023-11-10T17:31:03.784086Z",
     "start_time": "2023-11-10T17:30:20.939213Z"
    }
   },
   "id": "b4977139401158a5"
  },
  {
   "cell_type": "code",
   "execution_count": 48,
   "outputs": [
    {
     "data": {
      "text/plain": "idCompra          int64\nCodPanelista      int64\nCodProducto       int64\nCodigoBarras     object\nFechaCesta       object\n                  ...  \nInmigrante       object\nProvincia        object\nRegion           object\npromo_folleto    object\npromo_envase     object\nLength: 88, dtype: object"
     },
     "execution_count": 48,
     "metadata": {},
     "output_type": "execute_result"
    }
   ],
   "source": [
    "source_df.dtypes"
   ],
   "metadata": {
    "collapsed": false,
    "ExecuteTime": {
     "end_time": "2023-11-10T17:33:25.333587Z",
     "start_time": "2023-11-10T17:33:25.243009Z"
    }
   },
   "id": "6e93158f262e0994"
  },
  {
   "cell_type": "code",
   "execution_count": 50,
   "outputs": [
    {
     "data": {
      "text/plain": "       Variable                           Explicación Tipo Variable\n0      idCompra                           Purchase_ID            ID\n1   CodProducto               Product_identifier_code            ID\n2  CodigoBarras   Barcode_associated_with_the_product            ID\n3    FechaCesta                      Date_of_purchase         Fecha\n4  PrecioCompra  Price_paid_for_the_complete_purchase      Numérica",
      "text/html": "<div>\n<style scoped>\n    .dataframe tbody tr th:only-of-type {\n        vertical-align: middle;\n    }\n\n    .dataframe tbody tr th {\n        vertical-align: top;\n    }\n\n    .dataframe thead th {\n        text-align: right;\n    }\n</style>\n<table border=\"1\" class=\"dataframe\">\n  <thead>\n    <tr style=\"text-align: right;\">\n      <th></th>\n      <th>Variable</th>\n      <th>Explicación</th>\n      <th>Tipo Variable</th>\n    </tr>\n  </thead>\n  <tbody>\n    <tr>\n      <th>0</th>\n      <td>idCompra</td>\n      <td>Purchase_ID</td>\n      <td>ID</td>\n    </tr>\n    <tr>\n      <th>1</th>\n      <td>CodProducto</td>\n      <td>Product_identifier_code</td>\n      <td>ID</td>\n    </tr>\n    <tr>\n      <th>2</th>\n      <td>CodigoBarras</td>\n      <td>Barcode_associated_with_the_product</td>\n      <td>ID</td>\n    </tr>\n    <tr>\n      <th>3</th>\n      <td>FechaCesta</td>\n      <td>Date_of_purchase</td>\n      <td>Fecha</td>\n    </tr>\n    <tr>\n      <th>4</th>\n      <td>PrecioCompra</td>\n      <td>Price_paid_for_the_complete_purchase</td>\n      <td>Numérica</td>\n    </tr>\n  </tbody>\n</table>\n</div>"
     },
     "execution_count": 50,
     "metadata": {},
     "output_type": "execute_result"
    }
   ],
   "source": [
    "a.head()"
   ],
   "metadata": {
    "collapsed": false,
    "ExecuteTime": {
     "end_time": "2023-11-10T17:53:35.543418Z",
     "start_time": "2023-11-10T17:53:35.532569Z"
    }
   },
   "id": "6f995811a5df76d2"
  },
  {
   "cell_type": "code",
   "execution_count": 51,
   "outputs": [
    {
     "data": {
      "text/plain": "                    Variable  \\\nVariable                       \nidCompra            idCompra   \nCodProducto      CodProducto   \nCodigoBarras    CodigoBarras   \nFechaCesta        FechaCesta   \nPrecioCompra    PrecioCompra   \n...                      ...   \nPromo_Folleto  Promo_Folleto   \nPromo_Envase    Promo_Envase   \nPromo_TPR          Promo_TPR   \npromo_folleto  promo_folleto   \npromo_envase    promo_envase   \n\n                                                     Explicación Tipo Variable  \nVariable                                                                        \nidCompra                                             Purchase_ID            ID  \nCodProducto                              Product_identifier_code            ID  \nCodigoBarras                 Barcode_associated_with_the_product            ID  \nFechaCesta                                      Date_of_purchase         Fecha  \nPrecioCompra                Price_paid_for_the_complete_purchase      Numérica  \n...                                                          ...           ...  \nPromo_Folleto  Indicator_of_whether_the_purchase_has_been_mad...    Dicotómica  \nPromo_Envase   Indicator_of_whether_the_purchase_has_been_mad...    Dicotómica  \nPromo_TPR      indicator_of_whether_the_purchase_has_been_a_t...    Dicotómica  \npromo_folleto  information_about_the_type_of_brochure_promoti...    Categórica  \npromo_envase   information_about_the_type_of_package_promotio...    Categórica  \n\n[85 rows x 3 columns]",
      "text/html": "<div>\n<style scoped>\n    .dataframe tbody tr th:only-of-type {\n        vertical-align: middle;\n    }\n\n    .dataframe tbody tr th {\n        vertical-align: top;\n    }\n\n    .dataframe thead th {\n        text-align: right;\n    }\n</style>\n<table border=\"1\" class=\"dataframe\">\n  <thead>\n    <tr style=\"text-align: right;\">\n      <th></th>\n      <th>Variable</th>\n      <th>Explicación</th>\n      <th>Tipo Variable</th>\n    </tr>\n    <tr>\n      <th>Variable</th>\n      <th></th>\n      <th></th>\n      <th></th>\n    </tr>\n  </thead>\n  <tbody>\n    <tr>\n      <th>idCompra</th>\n      <td>idCompra</td>\n      <td>Purchase_ID</td>\n      <td>ID</td>\n    </tr>\n    <tr>\n      <th>CodProducto</th>\n      <td>CodProducto</td>\n      <td>Product_identifier_code</td>\n      <td>ID</td>\n    </tr>\n    <tr>\n      <th>CodigoBarras</th>\n      <td>CodigoBarras</td>\n      <td>Barcode_associated_with_the_product</td>\n      <td>ID</td>\n    </tr>\n    <tr>\n      <th>FechaCesta</th>\n      <td>FechaCesta</td>\n      <td>Date_of_purchase</td>\n      <td>Fecha</td>\n    </tr>\n    <tr>\n      <th>PrecioCompra</th>\n      <td>PrecioCompra</td>\n      <td>Price_paid_for_the_complete_purchase</td>\n      <td>Numérica</td>\n    </tr>\n    <tr>\n      <th>...</th>\n      <td>...</td>\n      <td>...</td>\n      <td>...</td>\n    </tr>\n    <tr>\n      <th>Promo_Folleto</th>\n      <td>Promo_Folleto</td>\n      <td>Indicator_of_whether_the_purchase_has_been_mad...</td>\n      <td>Dicotómica</td>\n    </tr>\n    <tr>\n      <th>Promo_Envase</th>\n      <td>Promo_Envase</td>\n      <td>Indicator_of_whether_the_purchase_has_been_mad...</td>\n      <td>Dicotómica</td>\n    </tr>\n    <tr>\n      <th>Promo_TPR</th>\n      <td>Promo_TPR</td>\n      <td>indicator_of_whether_the_purchase_has_been_a_t...</td>\n      <td>Dicotómica</td>\n    </tr>\n    <tr>\n      <th>promo_folleto</th>\n      <td>promo_folleto</td>\n      <td>information_about_the_type_of_brochure_promoti...</td>\n      <td>Categórica</td>\n    </tr>\n    <tr>\n      <th>promo_envase</th>\n      <td>promo_envase</td>\n      <td>information_about_the_type_of_package_promotio...</td>\n      <td>Categórica</td>\n    </tr>\n  </tbody>\n</table>\n<p>85 rows × 3 columns</p>\n</div>"
     },
     "execution_count": 51,
     "metadata": {},
     "output_type": "execute_result"
    }
   ],
   "source": [
    "a.set_index(a['Variable'])\n"
   ],
   "metadata": {
    "collapsed": false,
    "ExecuteTime": {
     "end_time": "2023-11-10T17:55:04.568088Z",
     "start_time": "2023-11-10T17:55:04.534250Z"
    }
   },
   "id": "e8ece97d5947ef10"
  },
  {
   "cell_type": "code",
   "execution_count": 54,
   "outputs": [
    {
     "ename": "KeyError",
     "evalue": "'idCompra'",
     "output_type": "error",
     "traceback": [
      "\u001B[0;31m---------------------------------------------------------------------------\u001B[0m",
      "\u001B[0;31mKeyError\u001B[0m                                  Traceback (most recent call last)",
      "\u001B[0;32m~/anaconda3/envs/kantar_data_env/lib/python3.7/site-packages/pandas/core/indexes/base.py\u001B[0m in \u001B[0;36mget_loc\u001B[0;34m(self, key, method, tolerance)\u001B[0m\n\u001B[1;32m   2894\u001B[0m             \u001B[0;32mtry\u001B[0m\u001B[0;34m:\u001B[0m\u001B[0;34m\u001B[0m\u001B[0m\n\u001B[0;32m-> 2895\u001B[0;31m                 \u001B[0;32mreturn\u001B[0m \u001B[0mself\u001B[0m\u001B[0;34m.\u001B[0m\u001B[0m_engine\u001B[0m\u001B[0;34m.\u001B[0m\u001B[0mget_loc\u001B[0m\u001B[0;34m(\u001B[0m\u001B[0mcasted_key\u001B[0m\u001B[0;34m)\u001B[0m\u001B[0;34m\u001B[0m\u001B[0m\n\u001B[0m\u001B[1;32m   2896\u001B[0m             \u001B[0;32mexcept\u001B[0m \u001B[0mKeyError\u001B[0m \u001B[0;32mas\u001B[0m \u001B[0merr\u001B[0m\u001B[0;34m:\u001B[0m\u001B[0;34m\u001B[0m\u001B[0m\n",
      "\u001B[0;32mpandas/_libs/index.pyx\u001B[0m in \u001B[0;36mpandas._libs.index.IndexEngine.get_loc\u001B[0;34m()\u001B[0m\n",
      "\u001B[0;32mpandas/_libs/index.pyx\u001B[0m in \u001B[0;36mpandas._libs.index.IndexEngine.get_loc\u001B[0;34m()\u001B[0m\n",
      "\u001B[0;32mpandas/_libs/hashtable_class_helper.pxi\u001B[0m in \u001B[0;36mpandas._libs.hashtable.PyObjectHashTable.get_item\u001B[0;34m()\u001B[0m\n",
      "\u001B[0;32mpandas/_libs/hashtable_class_helper.pxi\u001B[0m in \u001B[0;36mpandas._libs.hashtable.PyObjectHashTable.get_item\u001B[0;34m()\u001B[0m\n",
      "\u001B[0;31mKeyError\u001B[0m: 'idCompra'",
      "\nThe above exception was the direct cause of the following exception:\n",
      "\u001B[0;31mKeyError\u001B[0m                                  Traceback (most recent call last)",
      "\u001B[0;32m<ipython-input-54-7a9575c5fd0b>\u001B[0m in \u001B[0;36m<module>\u001B[0;34m\u001B[0m\n\u001B[0;32m----> 1\u001B[0;31m \u001B[0ma\u001B[0m\u001B[0;34m[\u001B[0m\u001B[0;34m'idCompra'\u001B[0m\u001B[0;34m]\u001B[0m\u001B[0;34m[\u001B[0m\u001B[0;34m'Typo Variable'\u001B[0m\u001B[0;34m]\u001B[0m\u001B[0;34m\u001B[0m\u001B[0m\n\u001B[0m",
      "\u001B[0;32m~/anaconda3/envs/kantar_data_env/lib/python3.7/site-packages/pandas/core/frame.py\u001B[0m in \u001B[0;36m__getitem__\u001B[0;34m(self, key)\u001B[0m\n\u001B[1;32m   2900\u001B[0m             \u001B[0;32mif\u001B[0m \u001B[0mself\u001B[0m\u001B[0;34m.\u001B[0m\u001B[0mcolumns\u001B[0m\u001B[0;34m.\u001B[0m\u001B[0mnlevels\u001B[0m \u001B[0;34m>\u001B[0m \u001B[0;36m1\u001B[0m\u001B[0;34m:\u001B[0m\u001B[0;34m\u001B[0m\u001B[0m\n\u001B[1;32m   2901\u001B[0m                 \u001B[0;32mreturn\u001B[0m \u001B[0mself\u001B[0m\u001B[0;34m.\u001B[0m\u001B[0m_getitem_multilevel\u001B[0m\u001B[0;34m(\u001B[0m\u001B[0mkey\u001B[0m\u001B[0;34m)\u001B[0m\u001B[0;34m\u001B[0m\u001B[0m\n\u001B[0;32m-> 2902\u001B[0;31m             \u001B[0mindexer\u001B[0m \u001B[0;34m=\u001B[0m \u001B[0mself\u001B[0m\u001B[0;34m.\u001B[0m\u001B[0mcolumns\u001B[0m\u001B[0;34m.\u001B[0m\u001B[0mget_loc\u001B[0m\u001B[0;34m(\u001B[0m\u001B[0mkey\u001B[0m\u001B[0;34m)\u001B[0m\u001B[0;34m\u001B[0m\u001B[0m\n\u001B[0m\u001B[1;32m   2903\u001B[0m             \u001B[0;32mif\u001B[0m \u001B[0mis_integer\u001B[0m\u001B[0;34m(\u001B[0m\u001B[0mindexer\u001B[0m\u001B[0;34m)\u001B[0m\u001B[0;34m:\u001B[0m\u001B[0;34m\u001B[0m\u001B[0m\n\u001B[1;32m   2904\u001B[0m                 \u001B[0mindexer\u001B[0m \u001B[0;34m=\u001B[0m \u001B[0;34m[\u001B[0m\u001B[0mindexer\u001B[0m\u001B[0;34m]\u001B[0m\u001B[0;34m\u001B[0m\u001B[0m\n",
      "\u001B[0;32m~/anaconda3/envs/kantar_data_env/lib/python3.7/site-packages/pandas/core/indexes/base.py\u001B[0m in \u001B[0;36mget_loc\u001B[0;34m(self, key, method, tolerance)\u001B[0m\n\u001B[1;32m   2895\u001B[0m                 \u001B[0;32mreturn\u001B[0m \u001B[0mself\u001B[0m\u001B[0;34m.\u001B[0m\u001B[0m_engine\u001B[0m\u001B[0;34m.\u001B[0m\u001B[0mget_loc\u001B[0m\u001B[0;34m(\u001B[0m\u001B[0mcasted_key\u001B[0m\u001B[0;34m)\u001B[0m\u001B[0;34m\u001B[0m\u001B[0m\n\u001B[1;32m   2896\u001B[0m             \u001B[0;32mexcept\u001B[0m \u001B[0mKeyError\u001B[0m \u001B[0;32mas\u001B[0m \u001B[0merr\u001B[0m\u001B[0;34m:\u001B[0m\u001B[0;34m\u001B[0m\u001B[0m\n\u001B[0;32m-> 2897\u001B[0;31m                 \u001B[0;32mraise\u001B[0m \u001B[0mKeyError\u001B[0m\u001B[0;34m(\u001B[0m\u001B[0mkey\u001B[0m\u001B[0;34m)\u001B[0m \u001B[0;32mfrom\u001B[0m \u001B[0merr\u001B[0m\u001B[0;34m\u001B[0m\u001B[0m\n\u001B[0m\u001B[1;32m   2898\u001B[0m \u001B[0;34m\u001B[0m\u001B[0m\n\u001B[1;32m   2899\u001B[0m         \u001B[0;32mif\u001B[0m \u001B[0mtolerance\u001B[0m \u001B[0;32mis\u001B[0m \u001B[0;32mnot\u001B[0m \u001B[0;32mNone\u001B[0m\u001B[0;34m:\u001B[0m\u001B[0;34m\u001B[0m\u001B[0m\n",
      "\u001B[0;31mKeyError\u001B[0m: 'idCompra'"
     ]
    }
   ],
   "source": [
    "a['idCompra']['Typo Variable']"
   ],
   "metadata": {
    "collapsed": false,
    "ExecuteTime": {
     "end_time": "2023-11-10T17:56:05.138731Z",
     "start_time": "2023-11-10T17:56:05.099872Z"
    }
   },
   "id": "abd7221c00af9ee7"
  },
  {
   "cell_type": "code",
   "execution_count": 55,
   "outputs": [],
   "source": [
    "type_dict=dict(zip(a['Variable'],a['Tipo Variable']))"
   ],
   "metadata": {
    "collapsed": false,
    "ExecuteTime": {
     "end_time": "2023-11-10T17:57:40.052934Z",
     "start_time": "2023-11-10T17:57:40.024561Z"
    }
   },
   "id": "e7929d971c71d98c"
  },
  {
   "cell_type": "code",
   "execution_count": null,
   "outputs": [],
   "source": [
    "type_dict[]"
   ],
   "metadata": {
    "collapsed": false
   },
   "id": "efe605470e1095a7"
  }
 ],
 "metadata": {
  "kernelspec": {
   "display_name": "Python 3",
   "language": "python",
   "name": "python3"
  },
  "language_info": {
   "codemirror_mode": {
    "name": "ipython",
    "version": 2
   },
   "file_extension": ".py",
   "mimetype": "text/x-python",
   "name": "python",
   "nbconvert_exporter": "python",
   "pygments_lexer": "ipython2",
   "version": "2.7.6"
  }
 },
 "nbformat": 4,
 "nbformat_minor": 5
}

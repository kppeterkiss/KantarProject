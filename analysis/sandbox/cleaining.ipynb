{
 "cells": [
  {
   "cell_type": "code",
   "execution_count": 2,
   "id": "initial_id",
   "metadata": {
    "collapsed": true,
    "ExecuteTime": {
     "end_time": "2023-11-13T09:30:34.271238Z",
     "start_time": "2023-11-13T09:30:31.485620Z"
    }
   },
   "outputs": [],
   "source": [
    "import os\n",
    "import pandas as pd"
   ]
  },
  {
   "cell_type": "code",
   "execution_count": 3,
   "outputs": [
    {
     "data": {
      "text/plain": "['Datos_2022.csv',\n 'Explicacion_VariablesV3.xlsx',\n 'Explicacion_VariablesV2.xlsx',\n 'Explicacion_VariablesV3.numbers',\n 'eng_re_typed.csv',\n 'Carrefour_2019_2020_2021_prepared2_02_11_2023.dta',\n 're_typed.csv']"
     },
     "execution_count": 3,
     "metadata": {},
     "output_type": "execute_result"
    }
   ],
   "source": [
    "data_dir='./data_kantar/'\n",
    "os.listdir(data_dir)"
   ],
   "metadata": {
    "collapsed": false,
    "ExecuteTime": {
     "end_time": "2023-11-13T09:30:34.291229Z",
     "start_time": "2023-11-13T09:30:34.271433Z"
    }
   },
   "id": "f069eb6dd0a3cb2f"
  },
  {
   "cell_type": "code",
   "execution_count": 4,
   "outputs": [],
   "source": [
    "read_able_columns = pd.read_excel(data_dir+'Explicacion_VariablesV3.xlsx', engine='openpyxl')\n"
   ],
   "metadata": {
    "collapsed": false,
    "ExecuteTime": {
     "end_time": "2023-11-13T09:30:34.637603Z",
     "start_time": "2023-11-13T09:30:34.288715Z"
    }
   },
   "id": "e420d457fb82e4eb"
  },
  {
   "cell_type": "code",
   "execution_count": 34,
   "outputs": [],
   "source": [
    "type_dict=dict(zip(read_able_columns['Variable'].str.strip(),read_able_columns['Tipo Variable'].str.strip()))\n",
    "type_translation={'ID':'int64','Fecha':'datetime','Numérica':'int64','Categórica':'category','Dicotómica':'bool'}   "
   ],
   "metadata": {
    "collapsed": false,
    "ExecuteTime": {
     "end_time": "2023-11-13T14:31:35.994116Z",
     "start_time": "2023-11-13T14:31:35.981693Z"
    }
   },
   "id": "52ad9a61a3122e63"
  },
  {
   "cell_type": "code",
   "execution_count": 35,
   "outputs": [],
   "source": [
    "type_dict_new ={ k:type_translation[v] for k,v in type_dict.items() }\n"
   ],
   "metadata": {
    "collapsed": false,
    "ExecuteTime": {
     "end_time": "2023-11-13T14:31:37.641479Z",
     "start_time": "2023-11-13T14:31:37.635973Z"
    }
   },
   "id": "3650f71f67cb3a6e"
  },
  {
   "cell_type": "code",
   "execution_count": 36,
   "outputs": [],
   "source": [
    "type_dict_new={('X'+k if k[0].isdigit() else k):v for k,v in type_dict_new.items() }\n",
    "type_dict_new['CodigoBarras']='str'\n",
    "del type_dict_new['FechaCesta']\n"
   ],
   "metadata": {
    "collapsed": false,
    "ExecuteTime": {
     "end_time": "2023-11-13T14:31:39.411570Z",
     "start_time": "2023-11-13T14:31:39.393138Z"
    }
   },
   "id": "32030073ca58910c"
  },
  {
   "cell_type": "code",
   "execution_count": 37,
   "outputs": [],
   "source": [
    "read_able_columns['description']=read_able_columns['Explicación'].apply(lambda x: x.split(' of the purchased product')[0].strip().replace(' ','_'))"
   ],
   "metadata": {
    "collapsed": false,
    "ExecuteTime": {
     "end_time": "2023-11-13T14:31:48.910692Z",
     "start_time": "2023-11-13T14:31:48.893015Z"
    }
   },
   "id": "b10a4765ea89e671"
  },
  {
   "cell_type": "code",
   "execution_count": 38,
   "outputs": [],
   "source": [
    "replacing_values= dict(zip(read_able_columns['Variable'],read_able_columns['Explicación']))\n"
   ],
   "metadata": {
    "collapsed": false,
    "ExecuteTime": {
     "end_time": "2023-11-13T14:31:54.724860Z",
     "start_time": "2023-11-13T14:31:54.704999Z"
    }
   },
   "id": "bab6bd62cdf13c05"
  },
  {
   "cell_type": "code",
   "execution_count": 59,
   "outputs": [
    {
     "name": "stderr",
     "output_type": "stream",
     "text": [
      "/Users/peterkiss/anaconda3/envs/kantar_data_env/lib/python3.7/site-packages/IPython/core/interactiveshell.py:3146: DtypeWarning: Columns (28,42,45,51) have mixed types.Specify dtype option on import or set low_memory=False.\n",
      "  interactivity=interactivity, compiler=compiler, result=result)\n"
     ]
    }
   ],
   "source": [
    "source_df_test=pd.read_csv(data_dir+'Datos_2022.csv',#nrows=1000,\n",
    "                           encoding = \"ISO-8859-1\", delimiter=\";\" ,error_bad_lines=False, parse_dates=['FechaCesta'])"
   ],
   "metadata": {
    "collapsed": false,
    "ExecuteTime": {
     "end_time": "2023-11-13T15:13:19.606923Z",
     "start_time": "2023-11-13T15:11:01.298068Z"
    }
   },
   "id": "9680ba870f0a1aa8"
  },
  {
   "cell_type": "code",
   "execution_count": 60,
   "outputs": [],
   "source": [
    "source_df_test.loc[source_df_test['Presencia_Niños'].str.contains('No'),'Presencia_Niños']=0"
   ],
   "metadata": {
    "collapsed": false,
    "ExecuteTime": {
     "end_time": "2023-11-13T15:13:32.311754Z",
     "start_time": "2023-11-13T15:13:26.467256Z"
    }
   },
   "id": "e0bc1c3431cdc05d"
  },
  {
   "cell_type": "code",
   "execution_count": 41,
   "outputs": [
    {
     "data": {
      "text/plain": "Index(['idCompra', 'CodPanelista', 'CodProducto', 'CodigoBarras', 'FechaCesta',\n       'PrecioCompra', 'Cantidad', 'Precio', 'CodLugarCompra', 'Lugar_Compra',\n       'Canal', 'CodIndividuo', 'CC_AA', 'Edad_Ama', 'NF', 'Numero_Gatos',\n       'Numero_Perros', 'Presencia_Niños', 'CodIMC', 'IMC', 'Ponderacion',\n       'CodVF', 'VF', 'SA7_BPL', 'SA4_Fabricante', 'SA3_Marca', 'SA2_Submarca',\n       'X102_Aditivos', 'X108_Usuario', 'X109_Estado', 'X112_Niv_Calorias',\n       'X124_Estilo', 'X127_Tipo_Bañado_Choc', 'X129_Tipo_Pasteleria',\n       'X135_Uso', 'X143_Tipo_Corte', 'X163_Info_Cafeina',\n       'X167_Grado_Curacion', 'X169_Cont_Materia_Grasa', 'X174_Despiece.Corte',\n       'X182_Tipo_Queso', 'X188_Tipo_Pan', 'X189_Tipo_Viena',\n       'X206_Tipo_Pescado', 'X230_Niv_Concentracion',\n       'X314_Tipo_Cena.Entrante', 'X315_Tipo_Carne', 'X323_Tipo_Sazonamiento',\n       'X328_Tipo_Aceite', 'X329_Pureness_Niveau', 'X360_Tipo_Verdura',\n       'X366_Tipo_Postre', 'X383_Tipo_Yogurt', 'X384_Tipo_Cena',\n       'X489_Como_Compro.', 'X490_Fresca.Congelada', 'X491_Presentacion',\n       'X497_Tipo_Queso', 'X498_Marcas_Queso', 'X500_Tipo_Embutido',\n       'X514_Tipo_Carne', 'X527_Tipo_Cafe', 'X529_Tipo_Producto',\n       'X531_Info_Biologica', 'X558_Variedad_Queso', 'X571_Peso_Bebe',\n       'X674_Tipo_Helado', 'X901_Localizacion', 'X902_Tipo_Producto',\n       'X903_Envase', 'X904_Variedad.Sabor', 'X5_Num_Tot_Unidades',\n       'X18_Num_Tot_Paquetes.Botes', 'X66_Preferred_Unit_Measure',\n       'TipoMaquina', 'Promo_Folleto', 'Promo_Envase', 'Promo_TPR',\n       'Ciclo_Vida', 'Clase_EGM', 'Clase_Social', 'Habitat_Metropolitano',\n       'Habitat_Municipal_Std', 'Inmigrante', 'Provincia', 'Region',\n       'promo_folleto', 'promo_envase'],\n      dtype='object')"
     },
     "execution_count": 41,
     "metadata": {},
     "output_type": "execute_result"
    }
   ],
   "source": [
    "source_df_test.columns\n",
    "\n"
   ],
   "metadata": {
    "collapsed": false,
    "ExecuteTime": {
     "end_time": "2023-11-13T14:31:59.298111Z",
     "start_time": "2023-11-13T14:31:59.269677Z"
    }
   },
   "id": "f1be51490b58e3d0"
  },
  {
   "cell_type": "markdown",
   "source": [
    "### Reset types"
   ],
   "metadata": {
    "collapsed": false
   },
   "id": "43c4a37e1c0d053f"
  },
  {
   "cell_type": "code",
   "execution_count": 33,
   "outputs": [
    {
     "name": "stdout",
     "output_type": "stream",
     "text": [
      "idCompra int64\n",
      "CodProducto int64\n",
      "CodigoBarras str\n",
      "PrecioCompra int64\n",
      "Cantidad int64\n",
      "Precio int64\n",
      "CodLugarCompra int64\n",
      "Lugar_Compra category\n",
      "Canal category\n",
      "CodPanelista int64\n",
      "CodIndividuo category\n",
      "CC_AA category\n",
      "Ciclo_Vida category\n",
      "Clase_EGM category\n",
      "Clase_Social category\n",
      "Edad_Ama int64\n",
      "Habitat_Metropolitano category\n",
      "Habitat_Municipal_Std category\n",
      "Inmigrante bool\n",
      "NF category\n",
      "Numero_Gatos category\n",
      "Numero_Perros int64\n",
      "Presencia_Niños int64\n",
      "Provincia category\n",
      "Region category\n",
      "CodIMC category\n",
      "IMC category\n",
      "Ponderacion int64\n",
      "CodVF category\n",
      "VF category\n",
      "SA7_BPL bool\n",
      "SA4_Fabricante category\n",
      "SA3_Marca category\n",
      "SA2_Submarca category\n",
      "X102_Aditivos category\n",
      "X108_Usuario category\n",
      "X109_Estado category\n",
      "X112_Niv_Calorias category\n",
      "X124_Estilo category\n",
      "X127_Tipo_Bañado_Choc category\n",
      "X129_Tipo_Pasteleria category\n",
      "X135_Uso category\n",
      "X143_Tipo_Corte category\n",
      "X163_Info_Cafeina category\n",
      "X167_Grado_Curacion category\n",
      "X169_Cont_Materia_Grasa category\n",
      "X174_Despiece.Corte category\n",
      "X182_Tipo_Queso category\n",
      "X188_Tipo_Pan category\n",
      "X189_Tipo_Viena category\n",
      "X206_Tipo_Pescado category\n",
      "X230_Niv_Concentracion category\n",
      "X314_Tipo_Cena.Entrante category\n",
      "X315_Tipo_Carne category\n",
      "X323_Tipo_Sazonamiento category\n",
      "X328_Tipo_Aceite category\n",
      "X329_Pureness_Niveau category\n",
      "X360_Tipo_Verdura category\n",
      "X366_Tipo_Postre category\n",
      "X383_Tipo_Yogurt category\n",
      "X384_Tipo_Cena category\n",
      "X489_Como_Compro. category\n",
      "X490_Fresca.Congelada bool\n",
      "X491_Presentacion category\n",
      "X497_Tipo_Queso category\n",
      "X498_Marcas_Queso category\n",
      "X500_Tipo_Embutido category\n",
      "X514_Tipo_Carne category\n",
      "X527_Tipo_Cafe category\n",
      "X529_Tipo_Producto category\n",
      "X531_Info_Biologica category\n",
      "X558_Variedad_Queso category\n",
      "X571_Peso_Bebe category\n",
      "X674_Tipo_Helado category\n",
      "X901_Localizacion category\n",
      "X902_Tipo_Producto category\n",
      "X903_Envase category\n",
      "X904_Variedad.Sabor category\n",
      "X5_Num_Tot_Unidades int64\n",
      "X18_Num_Tot_Paquetes.Botes int64\n",
      "X66_Preferred_Unit_Measure int64\n",
      "TipoMaquina category\n",
      "Promo_Folleto bool\n",
      "Promo_Envase bool\n",
      "Promo_TPR bool\n",
      "promo_folleto category\n",
      "promo_envase category\n"
     ]
    }
   ],
   "source": [
    "#source_df_test.astype(type_dict_new)\n",
    "'''\n",
    "for k,v in type_dict_new.items():\n",
    "    print(k.strip(),v)\n",
    "    source_df_test.astype({k.strip():v})\n",
    "'''"
   ],
   "metadata": {
    "collapsed": false,
    "ExecuteTime": {
     "end_time": "2023-11-13T14:30:45.484564Z",
     "start_time": "2023-11-13T14:30:44.471271Z"
    }
   },
   "id": "14cba3ae9ba8330d"
  },
  {
   "cell_type": "code",
   "execution_count": 62,
   "outputs": [],
   "source": [
    "type_dict_new['Presencia_Niños']='category'\n",
    "\n",
    "source_df_test=source_df_test.astype(type_dict_new)"
   ],
   "metadata": {
    "collapsed": false,
    "ExecuteTime": {
     "end_time": "2023-11-13T15:16:18.932313Z",
     "start_time": "2023-11-13T15:15:29.622068Z"
    }
   },
   "id": "e887f9786b22c40a"
  },
  {
   "cell_type": "code",
   "execution_count": 14,
   "outputs": [],
   "source": [
    "#source_df_test.to_csv(data_dir+'re_typed.csv')\n"
   ],
   "metadata": {
    "collapsed": false,
    "ExecuteTime": {
     "end_time": "2023-11-13T09:30:36.010758Z",
     "start_time": "2023-11-13T09:30:35.948237Z"
    }
   },
   "id": "3ae87810a4e3f1f1"
  },
  {
   "cell_type": "code",
   "execution_count": 15,
   "outputs": [],
   "source": [
    "#source_df= pd.read_csv(data_dir+'re_typed.csv')"
   ],
   "metadata": {
    "collapsed": false,
    "ExecuteTime": {
     "end_time": "2023-11-13T09:30:36.054637Z",
     "start_time": "2023-11-13T09:30:36.011974Z"
    }
   },
   "id": "5024d9716905e7a6"
  },
  {
   "cell_type": "code",
   "execution_count": 16,
   "outputs": [],
   "source": [
    "#source_df.rename(columns=replacing_values)\n",
    "#source_df.to_csv(data_dir+'eng_re_typed.csv')\n"
   ],
   "metadata": {
    "collapsed": false,
    "ExecuteTime": {
     "end_time": "2023-11-13T09:30:36.076618Z",
     "start_time": "2023-11-13T09:30:36.055004Z"
    }
   },
   "id": "8965eb24ff064047"
  },
  {
   "cell_type": "code",
   "execution_count": 17,
   "outputs": [],
   "source": [
    "#replacing_values"
   ],
   "metadata": {
    "collapsed": false,
    "ExecuteTime": {
     "end_time": "2023-11-13T09:30:36.078111Z",
     "start_time": "2023-11-13T09:30:36.060712Z"
    }
   },
   "id": "93704498ce390134"
  },
  {
   "cell_type": "code",
   "execution_count": 18,
   "outputs": [],
   "source": [
    "import numpy as np"
   ],
   "metadata": {
    "collapsed": false,
    "ExecuteTime": {
     "end_time": "2023-11-13T09:30:36.098003Z",
     "start_time": "2023-11-13T09:30:36.074413Z"
    }
   },
   "id": "6fc865ab3e8c5d24"
  },
  {
   "cell_type": "code",
   "execution_count": 19,
   "outputs": [],
   "source": [
    "#source_df=pd.read_csv(data_dir+'eng_re_typed.csv')\n",
    "#source_df=pd.read_csv(data_dir+'re_typed.csv')\n"
   ],
   "metadata": {
    "collapsed": false,
    "ExecuteTime": {
     "end_time": "2023-11-13T09:30:36.128005Z",
     "start_time": "2023-11-13T09:30:36.083722Z"
    }
   },
   "id": "9709a9e7c6d23dd7"
  },
  {
   "cell_type": "code",
   "execution_count": 43,
   "outputs": [
    {
     "data": {
      "text/plain": "idCompra                  int64\nCodPanelista              int64\nCodProducto               int64\nCodigoBarras             object\nFechaCesta       datetime64[ns]\n                      ...      \nInmigrante                 bool\nProvincia              category\nRegion                 category\npromo_folleto          category\npromo_envase           category\nLength: 88, dtype: object"
     },
     "execution_count": 43,
     "metadata": {},
     "output_type": "execute_result"
    }
   ],
   "source": [
    "source_df_test.dtypes"
   ],
   "metadata": {
    "collapsed": false,
    "ExecuteTime": {
     "end_time": "2023-11-13T14:34:26.823305Z",
     "start_time": "2023-11-13T14:34:26.790214Z"
    }
   },
   "id": "4c885a419263f9aa"
  },
  {
   "cell_type": "code",
   "execution_count": 44,
   "outputs": [],
   "source": [
    "#source_df_test.select_dtypes(include=np.number)"
   ],
   "metadata": {
    "collapsed": false,
    "ExecuteTime": {
     "end_time": "2023-11-13T14:34:47.780678Z",
     "start_time": "2023-11-13T14:34:47.775252Z"
    }
   },
   "id": "c08670adc2810616"
  },
  {
   "cell_type": "code",
   "execution_count": 396,
   "outputs": [
    {
     "data": {
      "text/plain": "     idCompra  CodPanelista  CodProducto   CodigoBarras FechaCesta  \\\n0   191945938        364917       791031  8480000105424 2022-12-12   \n1   190744241         30109       675179  8410702020886 2022-11-06   \n2   182162741         30109       204305     SSA1410202 2022-01-20   \n3   189827808         30109       204305     SSA1410202 2022-10-09   \n4   182203652         30109       204305     SSA1410202 2022-01-12   \n..        ...           ...          ...            ...        ...   \n95  183559928         30109       209952  8480017269966 2022-02-09   \n96  183420841         30109       209952  8480017269966 2022-02-05   \n97  183215414         30109       209952  8480017269966 2022-02-17   \n98  182944041         30109       279449  8480017377760 2022-02-17   \n99  182353198         30109       838654  8410104895013 2022-01-20   \n\n    PrecioCompra  Cantidad  Precio  CodLugarCompra Lugar_Compra  ...  \\\n0           1650     12000    1716              79    Mercadona  ...   \n1            400      2000     400              28       CONDIS  ...   \n2           2088       445      56              33          DIA  ...   \n3           1071       625      87              33          DIA  ...   \n4            969       935      83              33          DIA  ...   \n..           ...       ...     ...             ...          ...  ...   \n95           540      2000     106              33          DIA  ...   \n96           791      3000     159              33          DIA  ...   \n97          3631      3000     159              33          DIA  ...   \n98          3631      1000      22              33          DIA  ...   \n99          2088      1000     100              33          DIA  ...   \n\n     Clase_EGM Clase_Social Habitat_Metropolitano  Habitat_Municipal_Std  \\\n0        Media        Media             AM Madrid            más 1000000   \n1   Media Alta        Media             No Metrop          20001 a 30000   \n2   Media Alta        Media             No Metrop          20001 a 30000   \n3   Media Alta        Media             No Metrop          20001 a 30000   \n4   Media Alta        Media             No Metrop          20001 a 30000   \n..         ...          ...                   ...                    ...   \n95  Media Alta        Media             No Metrop          20001 a 30000   \n96  Media Alta        Media             No Metrop          20001 a 30000   \n97  Media Alta        Media             No Metrop          20001 a 30000   \n98  Media Alta        Media             No Metrop          20001 a 30000   \n99  Media Alta        Media             No Metrop          20001 a 30000   \n\n   Inmigrante Provincia     Region promo_folleto promo_envase price_per_unit  \n0        True    Madrid     MDD AM           NaN          NaN       0.143000  \n1        True      Jaen  Andalucia           NaN          NaN       0.200000  \n2        True      Jaen  Andalucia           NaN          NaN       0.125843  \n3        True      Jaen  Andalucia           NaN          NaN       0.139200  \n4        True      Jaen  Andalucia           NaN          NaN       0.088770  \n..        ...       ...        ...           ...          ...            ...  \n95       True      Jaen  Andalucia           NaN          NaN       0.053000  \n96       True      Jaen  Andalucia           NaN          NaN       0.053000  \n97       True      Jaen  Andalucia           NaN          NaN       0.053000  \n98       True      Jaen  Andalucia           NaN          NaN       0.022000  \n99       True      Jaen  Andalucia           NaN          NaN       0.100000  \n\n[100 rows x 89 columns]",
      "text/html": "<div>\n<style scoped>\n    .dataframe tbody tr th:only-of-type {\n        vertical-align: middle;\n    }\n\n    .dataframe tbody tr th {\n        vertical-align: top;\n    }\n\n    .dataframe thead th {\n        text-align: right;\n    }\n</style>\n<table border=\"1\" class=\"dataframe\">\n  <thead>\n    <tr style=\"text-align: right;\">\n      <th></th>\n      <th>idCompra</th>\n      <th>CodPanelista</th>\n      <th>CodProducto</th>\n      <th>CodigoBarras</th>\n      <th>FechaCesta</th>\n      <th>PrecioCompra</th>\n      <th>Cantidad</th>\n      <th>Precio</th>\n      <th>CodLugarCompra</th>\n      <th>Lugar_Compra</th>\n      <th>...</th>\n      <th>Clase_EGM</th>\n      <th>Clase_Social</th>\n      <th>Habitat_Metropolitano</th>\n      <th>Habitat_Municipal_Std</th>\n      <th>Inmigrante</th>\n      <th>Provincia</th>\n      <th>Region</th>\n      <th>promo_folleto</th>\n      <th>promo_envase</th>\n      <th>price_per_unit</th>\n    </tr>\n  </thead>\n  <tbody>\n    <tr>\n      <th>0</th>\n      <td>191945938</td>\n      <td>364917</td>\n      <td>791031</td>\n      <td>8480000105424</td>\n      <td>2022-12-12</td>\n      <td>1650</td>\n      <td>12000</td>\n      <td>1716</td>\n      <td>79</td>\n      <td>Mercadona</td>\n      <td>...</td>\n      <td>Media</td>\n      <td>Media</td>\n      <td>AM Madrid</td>\n      <td>más 1000000</td>\n      <td>True</td>\n      <td>Madrid</td>\n      <td>MDD AM</td>\n      <td>NaN</td>\n      <td>NaN</td>\n      <td>0.143000</td>\n    </tr>\n    <tr>\n      <th>1</th>\n      <td>190744241</td>\n      <td>30109</td>\n      <td>675179</td>\n      <td>8410702020886</td>\n      <td>2022-11-06</td>\n      <td>400</td>\n      <td>2000</td>\n      <td>400</td>\n      <td>28</td>\n      <td>CONDIS</td>\n      <td>...</td>\n      <td>Media Alta</td>\n      <td>Media</td>\n      <td>No Metrop</td>\n      <td>20001 a 30000</td>\n      <td>True</td>\n      <td>Jaen</td>\n      <td>Andalucia</td>\n      <td>NaN</td>\n      <td>NaN</td>\n      <td>0.200000</td>\n    </tr>\n    <tr>\n      <th>2</th>\n      <td>182162741</td>\n      <td>30109</td>\n      <td>204305</td>\n      <td>SSA1410202</td>\n      <td>2022-01-20</td>\n      <td>2088</td>\n      <td>445</td>\n      <td>56</td>\n      <td>33</td>\n      <td>DIA</td>\n      <td>...</td>\n      <td>Media Alta</td>\n      <td>Media</td>\n      <td>No Metrop</td>\n      <td>20001 a 30000</td>\n      <td>True</td>\n      <td>Jaen</td>\n      <td>Andalucia</td>\n      <td>NaN</td>\n      <td>NaN</td>\n      <td>0.125843</td>\n    </tr>\n    <tr>\n      <th>3</th>\n      <td>189827808</td>\n      <td>30109</td>\n      <td>204305</td>\n      <td>SSA1410202</td>\n      <td>2022-10-09</td>\n      <td>1071</td>\n      <td>625</td>\n      <td>87</td>\n      <td>33</td>\n      <td>DIA</td>\n      <td>...</td>\n      <td>Media Alta</td>\n      <td>Media</td>\n      <td>No Metrop</td>\n      <td>20001 a 30000</td>\n      <td>True</td>\n      <td>Jaen</td>\n      <td>Andalucia</td>\n      <td>NaN</td>\n      <td>NaN</td>\n      <td>0.139200</td>\n    </tr>\n    <tr>\n      <th>4</th>\n      <td>182203652</td>\n      <td>30109</td>\n      <td>204305</td>\n      <td>SSA1410202</td>\n      <td>2022-01-12</td>\n      <td>969</td>\n      <td>935</td>\n      <td>83</td>\n      <td>33</td>\n      <td>DIA</td>\n      <td>...</td>\n      <td>Media Alta</td>\n      <td>Media</td>\n      <td>No Metrop</td>\n      <td>20001 a 30000</td>\n      <td>True</td>\n      <td>Jaen</td>\n      <td>Andalucia</td>\n      <td>NaN</td>\n      <td>NaN</td>\n      <td>0.088770</td>\n    </tr>\n    <tr>\n      <th>...</th>\n      <td>...</td>\n      <td>...</td>\n      <td>...</td>\n      <td>...</td>\n      <td>...</td>\n      <td>...</td>\n      <td>...</td>\n      <td>...</td>\n      <td>...</td>\n      <td>...</td>\n      <td>...</td>\n      <td>...</td>\n      <td>...</td>\n      <td>...</td>\n      <td>...</td>\n      <td>...</td>\n      <td>...</td>\n      <td>...</td>\n      <td>...</td>\n      <td>...</td>\n      <td>...</td>\n    </tr>\n    <tr>\n      <th>95</th>\n      <td>183559928</td>\n      <td>30109</td>\n      <td>209952</td>\n      <td>8480017269966</td>\n      <td>2022-02-09</td>\n      <td>540</td>\n      <td>2000</td>\n      <td>106</td>\n      <td>33</td>\n      <td>DIA</td>\n      <td>...</td>\n      <td>Media Alta</td>\n      <td>Media</td>\n      <td>No Metrop</td>\n      <td>20001 a 30000</td>\n      <td>True</td>\n      <td>Jaen</td>\n      <td>Andalucia</td>\n      <td>NaN</td>\n      <td>NaN</td>\n      <td>0.053000</td>\n    </tr>\n    <tr>\n      <th>96</th>\n      <td>183420841</td>\n      <td>30109</td>\n      <td>209952</td>\n      <td>8480017269966</td>\n      <td>2022-02-05</td>\n      <td>791</td>\n      <td>3000</td>\n      <td>159</td>\n      <td>33</td>\n      <td>DIA</td>\n      <td>...</td>\n      <td>Media Alta</td>\n      <td>Media</td>\n      <td>No Metrop</td>\n      <td>20001 a 30000</td>\n      <td>True</td>\n      <td>Jaen</td>\n      <td>Andalucia</td>\n      <td>NaN</td>\n      <td>NaN</td>\n      <td>0.053000</td>\n    </tr>\n    <tr>\n      <th>97</th>\n      <td>183215414</td>\n      <td>30109</td>\n      <td>209952</td>\n      <td>8480017269966</td>\n      <td>2022-02-17</td>\n      <td>3631</td>\n      <td>3000</td>\n      <td>159</td>\n      <td>33</td>\n      <td>DIA</td>\n      <td>...</td>\n      <td>Media Alta</td>\n      <td>Media</td>\n      <td>No Metrop</td>\n      <td>20001 a 30000</td>\n      <td>True</td>\n      <td>Jaen</td>\n      <td>Andalucia</td>\n      <td>NaN</td>\n      <td>NaN</td>\n      <td>0.053000</td>\n    </tr>\n    <tr>\n      <th>98</th>\n      <td>182944041</td>\n      <td>30109</td>\n      <td>279449</td>\n      <td>8480017377760</td>\n      <td>2022-02-17</td>\n      <td>3631</td>\n      <td>1000</td>\n      <td>22</td>\n      <td>33</td>\n      <td>DIA</td>\n      <td>...</td>\n      <td>Media Alta</td>\n      <td>Media</td>\n      <td>No Metrop</td>\n      <td>20001 a 30000</td>\n      <td>True</td>\n      <td>Jaen</td>\n      <td>Andalucia</td>\n      <td>NaN</td>\n      <td>NaN</td>\n      <td>0.022000</td>\n    </tr>\n    <tr>\n      <th>99</th>\n      <td>182353198</td>\n      <td>30109</td>\n      <td>838654</td>\n      <td>8410104895013</td>\n      <td>2022-01-20</td>\n      <td>2088</td>\n      <td>1000</td>\n      <td>100</td>\n      <td>33</td>\n      <td>DIA</td>\n      <td>...</td>\n      <td>Media Alta</td>\n      <td>Media</td>\n      <td>No Metrop</td>\n      <td>20001 a 30000</td>\n      <td>True</td>\n      <td>Jaen</td>\n      <td>Andalucia</td>\n      <td>NaN</td>\n      <td>NaN</td>\n      <td>0.100000</td>\n    </tr>\n  </tbody>\n</table>\n<p>100 rows × 89 columns</p>\n</div>"
     },
     "execution_count": 396,
     "metadata": {},
     "output_type": "execute_result"
    }
   ],
   "source": [
    "source_df_test.head(100)\n"
   ],
   "metadata": {
    "collapsed": false,
    "ExecuteTime": {
     "end_time": "2023-11-20T18:49:48.307580Z",
     "start_time": "2023-11-20T18:49:48.246328Z"
    }
   },
   "id": "9d6d322dc9f53125"
  },
  {
   "cell_type": "code",
   "execution_count": 29,
   "outputs": [],
   "source": [
    "source_df_test.to_excel(data_dir+'retyped.xlsx')"
   ],
   "metadata": {
    "collapsed": false,
    "ExecuteTime": {
     "end_time": "2023-11-13T14:27:43.362812Z",
     "start_time": "2023-11-13T14:27:39.684093Z"
    }
   },
   "id": "919556b3d1b5af25"
  },
  {
   "cell_type": "code",
   "execution_count": 46,
   "outputs": [],
   "source": [
    "# grouping prices per date and shop - regression, find outliers\n",
    "#or shop type , if there is an action\n",
    "#source_df_test['promo']= source_df_test['Promo_Folleto'] | source_df_test['Promo_Envase'] |source_df_test['Promo_TPR']"
   ],
   "metadata": {
    "collapsed": false,
    "ExecuteTime": {
     "end_time": "2023-11-13T14:34:58.440993Z",
     "start_time": "2023-11-13T14:34:58.432687Z"
    }
   },
   "id": "2df9cc22187d14e5"
  },
  {
   "cell_type": "code",
   "execution_count": 52,
   "outputs": [
    {
     "data": {
      "text/plain": "                                   idCompra  CodPanelista  \\\nCodProducto CodLugarCompra promo                            \n348         79             True   190848708         30109   \n405         33             True   191834820         30109   \n3010        79             True   188918604         30109   \n3121        79             True   184445331         30109   \n4058        79             True   193139703         30109   \n...                                     ...           ...   \n976644      131            True   187936769         30109   \n976847      79             True   187656511         30109   \n980962      33             True   183689993         30109   \n992632      79             True   186434917         30109   \n995538      79             True   191167651         30109   \n\n                                          CodigoBarras FechaCesta  \\\nCodProducto CodLugarCompra promo                                    \n348         79             True          8480000712677 2022-10-26   \n405         33             True          8480017246011 2022-11-16   \n3010        79             True   E8A11302010304650208 2022-08-27   \n3121        79             True   E8A11404010304650208 2022-03-02   \n4058        79             True          8480000431127 2022-12-14   \n...                                                ...        ...   \n976644      131            True             SSA1590202 2022-06-24   \n976847      79             True                 TCA203 2022-06-21   \n980962      33             True          8436040903049 2022-02-25   \n992632      79             True          8480000288370 2022-05-28   \n995538      79             True          8480000110541 2022-11-26   \n\n                                  PrecioCompra  Cantidad  Precio Lugar_Compra  \\\nCodProducto CodLugarCompra promo                                                \n348         79             True           5210      1000      70    Mercadona   \n405         33             True            826      1000     139          DIA   \n3010        79             True           3485      1814    1633    Mercadona   \n3121        79             True           8437       416     318    Mercadona   \n4058        79             True           8555      1000     260    Mercadona   \n...                                        ...       ...     ...          ...   \n976644      131            True           1478      1160     302     FRUTERIA   \n976847      79             True           4803       296     129    Mercadona   \n980962      33             True           2262      1000     139          DIA   \n992632      79             True           2420      1000     225    Mercadona   \n995538      79             True          12718      1000     100    Mercadona   \n\n                                                Canal CodIndividuo  ...  \\\nCodProducto CodLugarCompra promo                                    ...   \n348         79             True           SUPER+AUTOS            0  ...   \n405         33             True              DISCOUNT            0  ...   \n3010        79             True           SUPER+AUTOS            1  ...   \n3121        79             True           SUPER+AUTOS            0  ...   \n4058        79             True           SUPER+AUTOS            0  ...   \n...                                               ...          ...  ...   \n976644      131            True   FRUTERIA/VERDULERIA            1  ...   \n976847      79             True           SUPER+AUTOS            1  ...   \n980962      33             True              DISCOUNT            0  ...   \n992632      79             True           SUPER+AUTOS            2  ...   \n995538      79             True           SUPER+AUTOS            1  ...   \n\n                                                 Ciclo_Vida   Clase_EGM  \\\nCodProducto CodLugarCompra promo                                          \n348         79             True   Parejas Adultas sin hijos  Media Alta   \n405         33             True   Parejas Adultas sin hijos  Media Alta   \n3010        79             True   Parejas Adultas sin hijos  Media Alta   \n3121        79             True   Parejas Adultas sin hijos  Media Alta   \n4058        79             True   Parejas Adultas sin hijos  Media Alta   \n...                                                     ...         ...   \n976644      131            True   Parejas Adultas sin hijos  Media Alta   \n976847      79             True   Parejas Adultas sin hijos  Media Alta   \n980962      33             True   Parejas Adultas sin hijos  Media Alta   \n992632      79             True   Parejas Adultas sin hijos  Media Alta   \n995538      79             True   Parejas Adultas sin hijos  Media Alta   \n\n                                 Clase_Social Habitat_Metropolitano  \\\nCodProducto CodLugarCompra promo                                      \n348         79             True         Media             No Metrop   \n405         33             True         Media             No Metrop   \n3010        79             True         Media             No Metrop   \n3121        79             True         Media             No Metrop   \n4058        79             True         Media             No Metrop   \n...                                       ...                   ...   \n976644      131            True         Media             No Metrop   \n976847      79             True         Media             No Metrop   \n980962      33             True         Media             No Metrop   \n992632      79             True         Media             No Metrop   \n995538      79             True         Media             No Metrop   \n\n                                  Habitat_Municipal_Std  Inmigrante Provincia  \\\nCodProducto CodLugarCompra promo                                                \n348         79             True           20001 a 30000        True      Jaen   \n405         33             True           20001 a 30000        True      Jaen   \n3010        79             True           20001 a 30000        True      Jaen   \n3121        79             True           20001 a 30000        True      Jaen   \n4058        79             True           20001 a 30000        True      Jaen   \n...                                                 ...         ...       ...   \n976644      131            True           20001 a 30000        True      Jaen   \n976847      79             True           20001 a 30000        True      Jaen   \n980962      33             True           20001 a 30000        True      Jaen   \n992632      79             True           20001 a 30000        True      Jaen   \n995538      79             True           20001 a 30000        True      Jaen   \n\n                                     Region  promo_folleto promo_envase  \nCodProducto CodLugarCompra promo                                         \n348         79             True   Andalucia            NaN          NaN  \n405         33             True   Andalucia            NaN          NaN  \n3010        79             True   Andalucia            NaN          NaN  \n3121        79             True   Andalucia            NaN          NaN  \n4058        79             True   Andalucia            NaN          NaN  \n...                                     ...            ...          ...  \n976644      131            True   Andalucia            NaN          NaN  \n976847      79             True   Andalucia            NaN          NaN  \n980962      33             True   Andalucia            NaN          NaN  \n992632      79             True   Andalucia            NaN          NaN  \n995538      79             True   Andalucia            NaN          NaN  \n\n[450 rows x 86 columns]",
      "text/html": "<div>\n<style scoped>\n    .dataframe tbody tr th:only-of-type {\n        vertical-align: middle;\n    }\n\n    .dataframe tbody tr th {\n        vertical-align: top;\n    }\n\n    .dataframe thead th {\n        text-align: right;\n    }\n</style>\n<table border=\"1\" class=\"dataframe\">\n  <thead>\n    <tr style=\"text-align: right;\">\n      <th></th>\n      <th></th>\n      <th></th>\n      <th>idCompra</th>\n      <th>CodPanelista</th>\n      <th>CodigoBarras</th>\n      <th>FechaCesta</th>\n      <th>PrecioCompra</th>\n      <th>Cantidad</th>\n      <th>Precio</th>\n      <th>Lugar_Compra</th>\n      <th>Canal</th>\n      <th>CodIndividuo</th>\n      <th>...</th>\n      <th>Ciclo_Vida</th>\n      <th>Clase_EGM</th>\n      <th>Clase_Social</th>\n      <th>Habitat_Metropolitano</th>\n      <th>Habitat_Municipal_Std</th>\n      <th>Inmigrante</th>\n      <th>Provincia</th>\n      <th>Region</th>\n      <th>promo_folleto</th>\n      <th>promo_envase</th>\n    </tr>\n    <tr>\n      <th>CodProducto</th>\n      <th>CodLugarCompra</th>\n      <th>promo</th>\n      <th></th>\n      <th></th>\n      <th></th>\n      <th></th>\n      <th></th>\n      <th></th>\n      <th></th>\n      <th></th>\n      <th></th>\n      <th></th>\n      <th></th>\n      <th></th>\n      <th></th>\n      <th></th>\n      <th></th>\n      <th></th>\n      <th></th>\n      <th></th>\n      <th></th>\n      <th></th>\n      <th></th>\n    </tr>\n  </thead>\n  <tbody>\n    <tr>\n      <th>348</th>\n      <th>79</th>\n      <th>True</th>\n      <td>190848708</td>\n      <td>30109</td>\n      <td>8480000712677</td>\n      <td>2022-10-26</td>\n      <td>5210</td>\n      <td>1000</td>\n      <td>70</td>\n      <td>Mercadona</td>\n      <td>SUPER+AUTOS</td>\n      <td>0</td>\n      <td>...</td>\n      <td>Parejas Adultas sin hijos</td>\n      <td>Media Alta</td>\n      <td>Media</td>\n      <td>No Metrop</td>\n      <td>20001 a 30000</td>\n      <td>True</td>\n      <td>Jaen</td>\n      <td>Andalucia</td>\n      <td>NaN</td>\n      <td>NaN</td>\n    </tr>\n    <tr>\n      <th>405</th>\n      <th>33</th>\n      <th>True</th>\n      <td>191834820</td>\n      <td>30109</td>\n      <td>8480017246011</td>\n      <td>2022-11-16</td>\n      <td>826</td>\n      <td>1000</td>\n      <td>139</td>\n      <td>DIA</td>\n      <td>DISCOUNT</td>\n      <td>0</td>\n      <td>...</td>\n      <td>Parejas Adultas sin hijos</td>\n      <td>Media Alta</td>\n      <td>Media</td>\n      <td>No Metrop</td>\n      <td>20001 a 30000</td>\n      <td>True</td>\n      <td>Jaen</td>\n      <td>Andalucia</td>\n      <td>NaN</td>\n      <td>NaN</td>\n    </tr>\n    <tr>\n      <th>3010</th>\n      <th>79</th>\n      <th>True</th>\n      <td>188918604</td>\n      <td>30109</td>\n      <td>E8A11302010304650208</td>\n      <td>2022-08-27</td>\n      <td>3485</td>\n      <td>1814</td>\n      <td>1633</td>\n      <td>Mercadona</td>\n      <td>SUPER+AUTOS</td>\n      <td>1</td>\n      <td>...</td>\n      <td>Parejas Adultas sin hijos</td>\n      <td>Media Alta</td>\n      <td>Media</td>\n      <td>No Metrop</td>\n      <td>20001 a 30000</td>\n      <td>True</td>\n      <td>Jaen</td>\n      <td>Andalucia</td>\n      <td>NaN</td>\n      <td>NaN</td>\n    </tr>\n    <tr>\n      <th>3121</th>\n      <th>79</th>\n      <th>True</th>\n      <td>184445331</td>\n      <td>30109</td>\n      <td>E8A11404010304650208</td>\n      <td>2022-03-02</td>\n      <td>8437</td>\n      <td>416</td>\n      <td>318</td>\n      <td>Mercadona</td>\n      <td>SUPER+AUTOS</td>\n      <td>0</td>\n      <td>...</td>\n      <td>Parejas Adultas sin hijos</td>\n      <td>Media Alta</td>\n      <td>Media</td>\n      <td>No Metrop</td>\n      <td>20001 a 30000</td>\n      <td>True</td>\n      <td>Jaen</td>\n      <td>Andalucia</td>\n      <td>NaN</td>\n      <td>NaN</td>\n    </tr>\n    <tr>\n      <th>4058</th>\n      <th>79</th>\n      <th>True</th>\n      <td>193139703</td>\n      <td>30109</td>\n      <td>8480000431127</td>\n      <td>2022-12-14</td>\n      <td>8555</td>\n      <td>1000</td>\n      <td>260</td>\n      <td>Mercadona</td>\n      <td>SUPER+AUTOS</td>\n      <td>0</td>\n      <td>...</td>\n      <td>Parejas Adultas sin hijos</td>\n      <td>Media Alta</td>\n      <td>Media</td>\n      <td>No Metrop</td>\n      <td>20001 a 30000</td>\n      <td>True</td>\n      <td>Jaen</td>\n      <td>Andalucia</td>\n      <td>NaN</td>\n      <td>NaN</td>\n    </tr>\n    <tr>\n      <th>...</th>\n      <th>...</th>\n      <th>...</th>\n      <td>...</td>\n      <td>...</td>\n      <td>...</td>\n      <td>...</td>\n      <td>...</td>\n      <td>...</td>\n      <td>...</td>\n      <td>...</td>\n      <td>...</td>\n      <td>...</td>\n      <td>...</td>\n      <td>...</td>\n      <td>...</td>\n      <td>...</td>\n      <td>...</td>\n      <td>...</td>\n      <td>...</td>\n      <td>...</td>\n      <td>...</td>\n      <td>...</td>\n      <td>...</td>\n    </tr>\n    <tr>\n      <th>976644</th>\n      <th>131</th>\n      <th>True</th>\n      <td>187936769</td>\n      <td>30109</td>\n      <td>SSA1590202</td>\n      <td>2022-06-24</td>\n      <td>1478</td>\n      <td>1160</td>\n      <td>302</td>\n      <td>FRUTERIA</td>\n      <td>FRUTERIA/VERDULERIA</td>\n      <td>1</td>\n      <td>...</td>\n      <td>Parejas Adultas sin hijos</td>\n      <td>Media Alta</td>\n      <td>Media</td>\n      <td>No Metrop</td>\n      <td>20001 a 30000</td>\n      <td>True</td>\n      <td>Jaen</td>\n      <td>Andalucia</td>\n      <td>NaN</td>\n      <td>NaN</td>\n    </tr>\n    <tr>\n      <th>976847</th>\n      <th>79</th>\n      <th>True</th>\n      <td>187656511</td>\n      <td>30109</td>\n      <td>TCA203</td>\n      <td>2022-06-21</td>\n      <td>4803</td>\n      <td>296</td>\n      <td>129</td>\n      <td>Mercadona</td>\n      <td>SUPER+AUTOS</td>\n      <td>1</td>\n      <td>...</td>\n      <td>Parejas Adultas sin hijos</td>\n      <td>Media Alta</td>\n      <td>Media</td>\n      <td>No Metrop</td>\n      <td>20001 a 30000</td>\n      <td>True</td>\n      <td>Jaen</td>\n      <td>Andalucia</td>\n      <td>NaN</td>\n      <td>NaN</td>\n    </tr>\n    <tr>\n      <th>980962</th>\n      <th>33</th>\n      <th>True</th>\n      <td>183689993</td>\n      <td>30109</td>\n      <td>8436040903049</td>\n      <td>2022-02-25</td>\n      <td>2262</td>\n      <td>1000</td>\n      <td>139</td>\n      <td>DIA</td>\n      <td>DISCOUNT</td>\n      <td>0</td>\n      <td>...</td>\n      <td>Parejas Adultas sin hijos</td>\n      <td>Media Alta</td>\n      <td>Media</td>\n      <td>No Metrop</td>\n      <td>20001 a 30000</td>\n      <td>True</td>\n      <td>Jaen</td>\n      <td>Andalucia</td>\n      <td>NaN</td>\n      <td>NaN</td>\n    </tr>\n    <tr>\n      <th>992632</th>\n      <th>79</th>\n      <th>True</th>\n      <td>186434917</td>\n      <td>30109</td>\n      <td>8480000288370</td>\n      <td>2022-05-28</td>\n      <td>2420</td>\n      <td>1000</td>\n      <td>225</td>\n      <td>Mercadona</td>\n      <td>SUPER+AUTOS</td>\n      <td>2</td>\n      <td>...</td>\n      <td>Parejas Adultas sin hijos</td>\n      <td>Media Alta</td>\n      <td>Media</td>\n      <td>No Metrop</td>\n      <td>20001 a 30000</td>\n      <td>True</td>\n      <td>Jaen</td>\n      <td>Andalucia</td>\n      <td>NaN</td>\n      <td>NaN</td>\n    </tr>\n    <tr>\n      <th>995538</th>\n      <th>79</th>\n      <th>True</th>\n      <td>191167651</td>\n      <td>30109</td>\n      <td>8480000110541</td>\n      <td>2022-11-26</td>\n      <td>12718</td>\n      <td>1000</td>\n      <td>100</td>\n      <td>Mercadona</td>\n      <td>SUPER+AUTOS</td>\n      <td>1</td>\n      <td>...</td>\n      <td>Parejas Adultas sin hijos</td>\n      <td>Media Alta</td>\n      <td>Media</td>\n      <td>No Metrop</td>\n      <td>20001 a 30000</td>\n      <td>True</td>\n      <td>Jaen</td>\n      <td>Andalucia</td>\n      <td>NaN</td>\n      <td>NaN</td>\n    </tr>\n  </tbody>\n</table>\n<p>450 rows × 86 columns</p>\n</div>"
     },
     "execution_count": 52,
     "metadata": {},
     "output_type": "execute_result"
    }
   ],
   "source": [
    "#grouped.first()"
   ],
   "metadata": {
    "collapsed": false,
    "ExecuteTime": {
     "end_time": "2023-11-13T14:47:14.151993Z",
     "start_time": "2023-11-13T14:47:10.305217Z"
    }
   },
   "id": "64a9d9cfe7353858"
  },
  {
   "cell_type": "code",
   "execution_count": 480,
   "outputs": [],
   "source": [
    "dev_df = source_df_test.head(3000).copy()"
   ],
   "metadata": {
    "collapsed": false,
    "ExecuteTime": {
     "end_time": "2023-11-20T19:54:34.602556Z",
     "start_time": "2023-11-20T19:54:34.564339Z"
    }
   },
   "id": "78a0ed89cc32daba"
  },
  {
   "cell_type": "code",
   "execution_count": 76,
   "outputs": [],
   "source": [
    "#dfupdate= dev_df.sample(100)"
   ],
   "metadata": {
    "collapsed": false,
    "ExecuteTime": {
     "end_time": "2023-11-20T10:05:40.836393Z",
     "start_time": "2023-11-20T10:05:40.824729Z"
    }
   },
   "id": "5f9bfc571da91e20"
  },
  {
   "cell_type": "code",
   "execution_count": 77,
   "outputs": [],
   "source": [
    "#dfupdate['Precio']*=2"
   ],
   "metadata": {
    "collapsed": false,
    "ExecuteTime": {
     "end_time": "2023-11-20T10:05:42.191849Z",
     "start_time": "2023-11-20T10:05:42.168710Z"
    }
   },
   "id": "a8c9ebd7af2a7785"
  },
  {
   "cell_type": "code",
   "execution_count": 78,
   "outputs": [],
   "source": [
    "#dev_df.update(dfupdate)"
   ],
   "metadata": {
    "collapsed": false,
    "ExecuteTime": {
     "end_time": "2023-11-20T10:05:44.096138Z",
     "start_time": "2023-11-20T10:05:44.016414Z"
    }
   },
   "id": "9ed65fc38545a278"
  },
  {
   "cell_type": "code",
   "execution_count": 647,
   "outputs": [],
   "source": [
    "\n",
    "def price_outlier(df):\n",
    "    \n",
    "    df['outlier'] = (\n",
    "        df.groupby(['CodProducto','CodLugarCompra', pd.Grouper(key='FechaCesta',freq='7D')])['price_per_unit']\n",
    "        .assign(mode=lambda x: x.mode()).transform(lambda x: x!=x.mode().iloc[0])\n",
    "        )  \n",
    "    \n",
    "\n",
    "def price_outlier1(df):\n",
    "    \n",
    "    df['mode'] = (\n",
    "        df.assign(date=df['FechaCesta']).groupby(['CodProducto','CodLugarCompra', pd.Grouper(key='FechaCesta',freq='7D')])['price_per_unit']\n",
    "        .apply(lambda x: (x.mode().iloc[0])).reset_index()\n",
    "        )  \n",
    "    df['outlier']=df['mode']!=df['price_per_unit']\n",
    "    return df\n",
    "    \n",
    "# https://stackoverflow.com/questions/30718231/aggregating-in-pandas-groupby-using-lambda-functions    \n",
    "\n",
    "def price_mode(arr):\n",
    "    return arr.mode().iloc[0]\n",
    "def identity(arr):\n",
    "    return arr.apply(lambda x: x)\n",
    "    \n",
    "def price_outlier2(df):\n",
    "    #df['price_per_unit1']=df['price_per_unit']\n",
    "    #df['FechaCesta']= df['FechaCesta'].astype('datetime64[ns]')\n",
    "    #df['FechaCesta'] = pd.to_datetime(df['FechaCesta'], utc = True)\n",
    "    \n",
    "    grouped= df.groupby(['CodProducto','CodLugarCompra', pd.Grouper(key='FechaCesta',freq='7D')],as_index=False).agg(\n",
    "                mode=('price_per_unit',price_mode)#,\n",
    "                #FechaCesta=('FechaCesta',lambda x:set(x.astype('datetime64[ns]')))\n",
    "            ).reset_index()\n",
    "    #grouped['FechaCesta']=grouped['FechaCesta'].apply(lambda x: pd.to_datetime(pd.Timestamp(x)))\n",
    "\n",
    "    df=pd.merge(df,grouped,on=['CodProducto','CodLugarCompra','FechaCesta'])\n",
    "    #df=df.merge(grouped ,on=['CodProducto','CodLugarCompra','FechaCesta']  )\n",
    "    df['outlier']=df['mode']!=df['price_per_unit']\n",
    "    return df\n"
   ],
   "metadata": {
    "collapsed": false,
    "ExecuteTime": {
     "end_time": "2023-11-20T21:50:09.727481Z",
     "start_time": "2023-11-20T21:50:09.697226Z"
    }
   },
   "id": "14428fe6723ba8a3"
  },
  {
   "cell_type": "code",
   "execution_count": 648,
   "outputs": [
    {
     "ename": "KeyError",
     "evalue": "'FechaCesta'",
     "output_type": "error",
     "traceback": [
      "\u001B[0;31m---------------------------------------------------------------------------\u001B[0m",
      "\u001B[0;31mKeyError\u001B[0m                                  Traceback (most recent call last)",
      "\u001B[0;32m<ipython-input-648-fe5666a5a517>\u001B[0m in \u001B[0;36m<module>\u001B[0;34m\u001B[0m\n\u001B[0;32m----> 1\u001B[0;31m \u001B[0mdev_df1\u001B[0m\u001B[0;34m=\u001B[0m\u001B[0mprice_outlier2\u001B[0m\u001B[0;34m(\u001B[0m\u001B[0mdev_df\u001B[0m\u001B[0;34m)\u001B[0m\u001B[0;34m\u001B[0m\u001B[0m\n\u001B[0m",
      "\u001B[0;32m<ipython-input-647-204d79bc4778>\u001B[0m in \u001B[0;36mprice_outlier2\u001B[0;34m(df)\u001B[0m\n\u001B[1;32m     34\u001B[0m     \u001B[0;31m#grouped['FechaCesta']=grouped['FechaCesta'].apply(lambda x: pd.to_datetime(pd.Timestamp(x)))\u001B[0m\u001B[0;34m\u001B[0m\u001B[0;34m\u001B[0m\u001B[0m\n\u001B[1;32m     35\u001B[0m \u001B[0;34m\u001B[0m\u001B[0m\n\u001B[0;32m---> 36\u001B[0;31m     \u001B[0mdf\u001B[0m\u001B[0;34m=\u001B[0m\u001B[0mpd\u001B[0m\u001B[0;34m.\u001B[0m\u001B[0mmerge\u001B[0m\u001B[0;34m(\u001B[0m\u001B[0mdf\u001B[0m\u001B[0;34m,\u001B[0m\u001B[0mgrouped\u001B[0m\u001B[0;34m,\u001B[0m\u001B[0mon\u001B[0m\u001B[0;34m=\u001B[0m\u001B[0;34m[\u001B[0m\u001B[0;34m'CodProducto'\u001B[0m\u001B[0;34m,\u001B[0m\u001B[0;34m'CodLugarCompra'\u001B[0m\u001B[0;34m,\u001B[0m\u001B[0;34m'FechaCesta'\u001B[0m\u001B[0;34m]\u001B[0m\u001B[0;34m)\u001B[0m\u001B[0;34m\u001B[0m\u001B[0m\n\u001B[0m\u001B[1;32m     37\u001B[0m     \u001B[0;31m#df=df.merge(grouped ,on=['CodProducto','CodLugarCompra','FechaCesta']  )\u001B[0m\u001B[0;34m\u001B[0m\u001B[0;34m\u001B[0m\u001B[0m\n\u001B[1;32m     38\u001B[0m     \u001B[0mdf\u001B[0m\u001B[0;34m[\u001B[0m\u001B[0;34m'outlier'\u001B[0m\u001B[0;34m]\u001B[0m\u001B[0;34m=\u001B[0m\u001B[0mdf\u001B[0m\u001B[0;34m[\u001B[0m\u001B[0;34m'mode'\u001B[0m\u001B[0;34m]\u001B[0m\u001B[0;34m!=\u001B[0m\u001B[0mdf\u001B[0m\u001B[0;34m[\u001B[0m\u001B[0;34m'price_per_unit'\u001B[0m\u001B[0;34m]\u001B[0m\u001B[0;34m\u001B[0m\u001B[0m\n",
      "\u001B[0;32m~/anaconda3/envs/kantar_data_env/lib/python3.7/site-packages/pandas/core/reshape/merge.py\u001B[0m in \u001B[0;36mmerge\u001B[0;34m(left, right, how, on, left_on, right_on, left_index, right_index, sort, suffixes, copy, indicator, validate)\u001B[0m\n\u001B[1;32m     85\u001B[0m         \u001B[0mcopy\u001B[0m\u001B[0;34m=\u001B[0m\u001B[0mcopy\u001B[0m\u001B[0;34m,\u001B[0m\u001B[0;34m\u001B[0m\u001B[0m\n\u001B[1;32m     86\u001B[0m         \u001B[0mindicator\u001B[0m\u001B[0;34m=\u001B[0m\u001B[0mindicator\u001B[0m\u001B[0;34m,\u001B[0m\u001B[0;34m\u001B[0m\u001B[0m\n\u001B[0;32m---> 87\u001B[0;31m         \u001B[0mvalidate\u001B[0m\u001B[0;34m=\u001B[0m\u001B[0mvalidate\u001B[0m\u001B[0;34m,\u001B[0m\u001B[0;34m\u001B[0m\u001B[0m\n\u001B[0m\u001B[1;32m     88\u001B[0m     )\n\u001B[1;32m     89\u001B[0m     \u001B[0;32mreturn\u001B[0m \u001B[0mop\u001B[0m\u001B[0;34m.\u001B[0m\u001B[0mget_result\u001B[0m\u001B[0;34m(\u001B[0m\u001B[0;34m)\u001B[0m\u001B[0;34m\u001B[0m\u001B[0m\n",
      "\u001B[0;32m~/anaconda3/envs/kantar_data_env/lib/python3.7/site-packages/pandas/core/reshape/merge.py\u001B[0m in \u001B[0;36m__init__\u001B[0;34m(self, left, right, how, on, left_on, right_on, axis, left_index, right_index, sort, suffixes, copy, indicator, validate)\u001B[0m\n\u001B[1;32m    650\u001B[0m             \u001B[0mself\u001B[0m\u001B[0;34m.\u001B[0m\u001B[0mright_join_keys\u001B[0m\u001B[0;34m,\u001B[0m\u001B[0;34m\u001B[0m\u001B[0m\n\u001B[1;32m    651\u001B[0m             \u001B[0mself\u001B[0m\u001B[0;34m.\u001B[0m\u001B[0mjoin_names\u001B[0m\u001B[0;34m,\u001B[0m\u001B[0;34m\u001B[0m\u001B[0m\n\u001B[0;32m--> 652\u001B[0;31m         ) = self._get_merge_keys()\n\u001B[0m\u001B[1;32m    653\u001B[0m \u001B[0;34m\u001B[0m\u001B[0m\n\u001B[1;32m    654\u001B[0m         \u001B[0;31m# validate the merge keys dtypes. We may need to coerce\u001B[0m\u001B[0;34m\u001B[0m\u001B[0;34m\u001B[0m\u001B[0m\n",
      "\u001B[0;32m~/anaconda3/envs/kantar_data_env/lib/python3.7/site-packages/pandas/core/reshape/merge.py\u001B[0m in \u001B[0;36m_get_merge_keys\u001B[0;34m(self)\u001B[0m\n\u001B[1;32m   1003\u001B[0m                     \u001B[0;32mif\u001B[0m \u001B[0;32mnot\u001B[0m \u001B[0mis_rkey\u001B[0m\u001B[0;34m(\u001B[0m\u001B[0mrk\u001B[0m\u001B[0;34m)\u001B[0m\u001B[0;34m:\u001B[0m\u001B[0;34m\u001B[0m\u001B[0m\n\u001B[1;32m   1004\u001B[0m                         \u001B[0;32mif\u001B[0m \u001B[0mrk\u001B[0m \u001B[0;32mis\u001B[0m \u001B[0;32mnot\u001B[0m \u001B[0;32mNone\u001B[0m\u001B[0;34m:\u001B[0m\u001B[0;34m\u001B[0m\u001B[0m\n\u001B[0;32m-> 1005\u001B[0;31m                             \u001B[0mright_keys\u001B[0m\u001B[0;34m.\u001B[0m\u001B[0mappend\u001B[0m\u001B[0;34m(\u001B[0m\u001B[0mright\u001B[0m\u001B[0;34m.\u001B[0m\u001B[0m_get_label_or_level_values\u001B[0m\u001B[0;34m(\u001B[0m\u001B[0mrk\u001B[0m\u001B[0;34m)\u001B[0m\u001B[0;34m)\u001B[0m\u001B[0;34m\u001B[0m\u001B[0m\n\u001B[0m\u001B[1;32m   1006\u001B[0m                         \u001B[0;32melse\u001B[0m\u001B[0;34m:\u001B[0m\u001B[0;34m\u001B[0m\u001B[0m\n\u001B[1;32m   1007\u001B[0m                             \u001B[0;31m# work-around for merge_asof(right_index=True)\u001B[0m\u001B[0;34m\u001B[0m\u001B[0;34m\u001B[0m\u001B[0m\n",
      "\u001B[0;32m~/anaconda3/envs/kantar_data_env/lib/python3.7/site-packages/pandas/core/generic.py\u001B[0m in \u001B[0;36m_get_label_or_level_values\u001B[0;34m(self, key, axis)\u001B[0m\n\u001B[1;32m   1561\u001B[0m             \u001B[0mvalues\u001B[0m \u001B[0;34m=\u001B[0m \u001B[0mself\u001B[0m\u001B[0;34m.\u001B[0m\u001B[0maxes\u001B[0m\u001B[0;34m[\u001B[0m\u001B[0maxis\u001B[0m\u001B[0;34m]\u001B[0m\u001B[0;34m.\u001B[0m\u001B[0mget_level_values\u001B[0m\u001B[0;34m(\u001B[0m\u001B[0mkey\u001B[0m\u001B[0;34m)\u001B[0m\u001B[0;34m.\u001B[0m\u001B[0m_values\u001B[0m\u001B[0;34m\u001B[0m\u001B[0m\n\u001B[1;32m   1562\u001B[0m         \u001B[0;32melse\u001B[0m\u001B[0;34m:\u001B[0m\u001B[0;34m\u001B[0m\u001B[0m\n\u001B[0;32m-> 1563\u001B[0;31m             \u001B[0;32mraise\u001B[0m \u001B[0mKeyError\u001B[0m\u001B[0;34m(\u001B[0m\u001B[0mkey\u001B[0m\u001B[0;34m)\u001B[0m\u001B[0;34m\u001B[0m\u001B[0m\n\u001B[0m\u001B[1;32m   1564\u001B[0m \u001B[0;34m\u001B[0m\u001B[0m\n\u001B[1;32m   1565\u001B[0m         \u001B[0;31m# Check for duplicates\u001B[0m\u001B[0;34m\u001B[0m\u001B[0;34m\u001B[0m\u001B[0m\n",
      "\u001B[0;31mKeyError\u001B[0m: 'FechaCesta'"
     ]
    }
   ],
   "source": [
    "\n",
    "dev_df1=price_outlier2(dev_df)"
   ],
   "metadata": {
    "collapsed": false,
    "ExecuteTime": {
     "end_time": "2023-11-20T21:50:12.152878Z",
     "start_time": "2023-11-20T21:50:11.615814Z"
    }
   },
   "id": "288ccc4a0b3321b0"
  },
  {
   "cell_type": "code",
   "execution_count": 636,
   "outputs": [
    {
     "data": {
      "text/plain": "array(['2022-12-12T00:00:00.000000000', '2022-11-06T00:00:00.000000000',\n       '2022-01-20T00:00:00.000000000', '2022-10-09T00:00:00.000000000',\n       '2022-01-12T00:00:00.000000000', '2022-02-25T00:00:00.000000000',\n       '2022-12-22T00:00:00.000000000', '2022-11-16T00:00:00.000000000',\n       '2022-09-15T00:00:00.000000000', '2022-12-11T00:00:00.000000000',\n       '2022-01-05T00:00:00.000000000', '2022-02-09T00:00:00.000000000',\n       '2022-02-17T00:00:00.000000000', '2022-07-23T00:00:00.000000000',\n       '2022-11-25T00:00:00.000000000', '2022-08-03T00:00:00.000000000',\n       '2022-09-28T00:00:00.000000000', '2022-02-05T00:00:00.000000000',\n       '2022-10-01T00:00:00.000000000', '2022-06-29T00:00:00.000000000',\n       '2022-03-03T00:00:00.000000000', '2022-12-29T00:00:00.000000000',\n       '2022-05-28T00:00:00.000000000', '2022-11-26T00:00:00.000000000',\n       '2022-11-03T00:00:00.000000000', '2022-07-13T00:00:00.000000000',\n       '2022-03-02T00:00:00.000000000', '2022-12-14T00:00:00.000000000',\n       '2022-09-16T00:00:00.000000000', '2022-01-19T00:00:00.000000000',\n       '2022-02-02T00:00:00.000000000', '2022-06-21T00:00:00.000000000',\n       '2022-07-28T00:00:00.000000000', '2022-04-22T00:00:00.000000000',\n       '2022-05-12T00:00:00.000000000', '2022-10-26T00:00:00.000000000',\n       '2022-08-27T00:00:00.000000000', '2022-12-04T00:00:00.000000000',\n       '2022-02-18T00:00:00.000000000', '2022-03-22T00:00:00.000000000',\n       '2022-03-30T00:00:00.000000000', '2022-05-11T00:00:00.000000000',\n       '2022-03-09T00:00:00.000000000', '2022-03-16T00:00:00.000000000',\n       '2022-10-16T00:00:00.000000000', '2022-05-22T00:00:00.000000000',\n       '2022-11-20T00:00:00.000000000', '2022-08-21T00:00:00.000000000',\n       '2022-02-03T00:00:00.000000000', '2022-01-27T00:00:00.000000000',\n       '2022-05-06T00:00:00.000000000', '2022-09-24T00:00:00.000000000',\n       '2022-06-26T00:00:00.000000000', '2022-07-30T00:00:00.000000000',\n       '2022-10-21T00:00:00.000000000', '2022-06-19T00:00:00.000000000',\n       '2022-08-14T00:00:00.000000000', '2022-12-09T00:00:00.000000000',\n       '2022-01-14T00:00:00.000000000', '2022-07-17T00:00:00.000000000',\n       '2022-04-23T00:00:00.000000000', '2022-08-24T00:00:00.000000000',\n       '2022-06-05T00:00:00.000000000', '2022-03-13T00:00:00.000000000',\n       '2022-11-15T00:00:00.000000000', '2022-12-16T00:00:00.000000000',\n       '2022-02-22T00:00:00.000000000', '2022-04-20T00:00:00.000000000',\n       '2022-07-27T00:00:00.000000000', '2022-09-01T00:00:00.000000000',\n       '2022-05-18T00:00:00.000000000', '2022-04-18T00:00:00.000000000',\n       '2022-05-04T00:00:00.000000000', '2022-04-29T00:00:00.000000000',\n       '2022-11-30T00:00:00.000000000', '2022-11-05T00:00:00.000000000',\n       '2022-01-25T00:00:00.000000000', '2022-02-16T00:00:00.000000000',\n       '2022-01-07T00:00:00.000000000', '2022-08-02T00:00:00.000000000',\n       '2022-09-11T00:00:00.000000000', '2022-08-10T00:00:00.000000000',\n       '2022-08-26T00:00:00.000000000', '2022-08-05T00:00:00.000000000',\n       '2022-10-05T00:00:00.000000000', '2022-09-19T00:00:00.000000000',\n       '2022-06-24T00:00:00.000000000', '2022-07-09T00:00:00.000000000',\n       '2022-07-02T00:00:00.000000000', '2022-04-07T00:00:00.000000000',\n       '2022-05-30T00:00:00.000000000', '2022-06-28T00:00:00.000000000',\n       '2022-08-11T00:00:00.000000000', '2022-06-25T00:00:00.000000000',\n       '2022-06-08T00:00:00.000000000', '2022-10-27T00:00:00.000000000',\n       '2022-07-20T00:00:00.000000000', '2022-08-17T00:00:00.000000000',\n       '2022-09-02T00:00:00.000000000', '2022-07-31T00:00:00.000000000',\n       '2022-09-12T00:00:00.000000000', '2022-04-25T00:00:00.000000000',\n       '2022-06-12T00:00:00.000000000', '2022-01-28T00:00:00.000000000',\n       '2022-03-23T00:00:00.000000000', '2022-05-07T00:00:00.000000000',\n       '2022-04-09T00:00:00.000000000', '2022-07-05T00:00:00.000000000',\n       '2022-07-10T00:00:00.000000000', '2022-03-18T00:00:00.000000000',\n       '2022-04-27T00:00:00.000000000', '2022-03-31T00:00:00.000000000',\n       '2022-02-08T00:00:00.000000000', '2022-01-13T00:00:00.000000000',\n       '2022-06-22T00:00:00.000000000', '2022-05-31T00:00:00.000000000',\n       '2022-01-21T00:00:00.000000000', '2022-08-08T00:00:00.000000000',\n       '2022-05-19T00:00:00.000000000', '2022-11-23T00:00:00.000000000',\n       '2022-11-09T00:00:00.000000000', '2022-11-12T00:00:00.000000000',\n       '2022-07-21T00:00:00.000000000', '2022-07-15T00:00:00.000000000',\n       '2022-11-04T00:00:00.000000000', '2022-03-08T00:00:00.000000000',\n       '2022-11-18T00:00:00.000000000', '2022-11-24T00:00:00.000000000',\n       '2022-10-30T00:00:00.000000000', '2022-07-01T00:00:00.000000000',\n       '2022-12-17T00:00:00.000000000', '2022-01-15T00:00:00.000000000',\n       '2022-10-29T00:00:00.000000000', '2022-10-13T00:00:00.000000000',\n       '2022-08-12T00:00:00.000000000', '2022-01-22T00:00:00.000000000',\n       '2022-02-12T00:00:00.000000000', '2022-03-12T00:00:00.000000000',\n       '2022-02-26T00:00:00.000000000', '2022-07-16T00:00:00.000000000',\n       '2022-04-02T00:00:00.000000000', '2022-09-30T00:00:00.000000000',\n       '2022-02-19T00:00:00.000000000', '2022-05-21T00:00:00.000000000',\n       '2022-01-08T00:00:00.000000000', '2022-03-05T00:00:00.000000000',\n       '2022-09-05T00:00:00.000000000', '2022-03-14T00:00:00.000000000',\n       '2022-05-14T00:00:00.000000000', '2022-04-30T00:00:00.000000000',\n       '2022-03-19T00:00:00.000000000', '2022-09-07T00:00:00.000000000',\n       '2022-07-22T00:00:00.000000000', '2022-07-25T00:00:00.000000000',\n       '2022-10-11T00:00:00.000000000', '2022-08-15T00:00:00.000000000',\n       '2022-03-26T00:00:00.000000000', '2022-10-22T00:00:00.000000000',\n       '2022-12-24T00:00:00.000000000', '2022-12-03T00:00:00.000000000',\n       '2022-08-22T00:00:00.000000000', '2022-09-22T00:00:00.000000000',\n       '2022-08-01T00:00:00.000000000', '2022-08-19T00:00:00.000000000',\n       '2022-01-03T00:00:00.000000000', '2022-07-11T00:00:00.000000000',\n       '2022-09-17T00:00:00.000000000', '2022-11-19T00:00:00.000000000',\n       '2022-01-31T00:00:00.000000000', '2022-07-18T00:00:00.000000000',\n       '2022-04-13T00:00:00.000000000', '2022-10-24T00:00:00.000000000',\n       '2022-04-11T00:00:00.000000000', '2022-10-07T00:00:00.000000000'],\n      dtype='datetime64[ns]')"
     },
     "execution_count": 636,
     "metadata": {},
     "output_type": "execute_result"
    }
   ],
   "source": [
    "dev_df['FechaCesta'].unique()\n"
   ],
   "metadata": {
    "collapsed": false,
    "ExecuteTime": {
     "start_time": "2023-11-20T21:35:24.597358Z"
    }
   },
   "id": "ee726276358233f"
  },
  {
   "cell_type": "code",
   "execution_count": 635,
   "outputs": [
    {
     "data": {
      "text/plain": "array(['2022-12-12T00:00:00.000000000', '2022-11-06T00:00:00.000000000',\n       '2022-01-20T00:00:00.000000000', '2022-10-09T00:00:00.000000000',\n       '2022-01-12T00:00:00.000000000', '2022-02-25T00:00:00.000000000',\n       '2022-12-22T00:00:00.000000000', '2022-11-16T00:00:00.000000000',\n       '2022-09-15T00:00:00.000000000', '2022-12-11T00:00:00.000000000',\n       '2022-01-05T00:00:00.000000000', '2022-02-09T00:00:00.000000000',\n       '2022-02-17T00:00:00.000000000', '2022-07-23T00:00:00.000000000',\n       '2022-11-25T00:00:00.000000000', '2022-08-03T00:00:00.000000000',\n       '2022-09-28T00:00:00.000000000', '2022-02-05T00:00:00.000000000',\n       '2022-10-01T00:00:00.000000000', '2022-06-29T00:00:00.000000000',\n       '2022-03-03T00:00:00.000000000', '2022-12-29T00:00:00.000000000',\n       '2022-05-28T00:00:00.000000000', '2022-11-26T00:00:00.000000000',\n       '2022-11-03T00:00:00.000000000', '2022-07-13T00:00:00.000000000',\n       '2022-03-02T00:00:00.000000000', '2022-12-14T00:00:00.000000000',\n       '2022-09-16T00:00:00.000000000', '2022-01-19T00:00:00.000000000',\n       '2022-02-02T00:00:00.000000000', '2022-06-21T00:00:00.000000000',\n       '2022-07-28T00:00:00.000000000', '2022-04-22T00:00:00.000000000',\n       '2022-05-12T00:00:00.000000000', '2022-10-26T00:00:00.000000000',\n       '2022-08-27T00:00:00.000000000', '2022-12-04T00:00:00.000000000',\n       '2022-02-18T00:00:00.000000000', '2022-03-22T00:00:00.000000000',\n       '2022-03-30T00:00:00.000000000', '2022-05-11T00:00:00.000000000',\n       '2022-03-09T00:00:00.000000000', '2022-03-16T00:00:00.000000000',\n       '2022-10-16T00:00:00.000000000', '2022-05-22T00:00:00.000000000',\n       '2022-11-20T00:00:00.000000000', '2022-08-21T00:00:00.000000000',\n       '2022-02-03T00:00:00.000000000', '2022-01-27T00:00:00.000000000',\n       '2022-05-06T00:00:00.000000000', '2022-09-24T00:00:00.000000000',\n       '2022-06-26T00:00:00.000000000', '2022-07-30T00:00:00.000000000',\n       '2022-10-21T00:00:00.000000000', '2022-06-19T00:00:00.000000000',\n       '2022-08-14T00:00:00.000000000', '2022-12-09T00:00:00.000000000',\n       '2022-01-14T00:00:00.000000000', '2022-07-17T00:00:00.000000000',\n       '2022-04-23T00:00:00.000000000', '2022-08-24T00:00:00.000000000',\n       '2022-06-05T00:00:00.000000000', '2022-03-13T00:00:00.000000000',\n       '2022-11-15T00:00:00.000000000', '2022-12-16T00:00:00.000000000',\n       '2022-02-22T00:00:00.000000000', '2022-04-20T00:00:00.000000000',\n       '2022-07-27T00:00:00.000000000', '2022-09-01T00:00:00.000000000',\n       '2022-05-18T00:00:00.000000000', '2022-04-18T00:00:00.000000000',\n       '2022-05-04T00:00:00.000000000', '2022-04-29T00:00:00.000000000',\n       '2022-11-30T00:00:00.000000000', '2022-11-05T00:00:00.000000000',\n       '2022-01-25T00:00:00.000000000', '2022-02-16T00:00:00.000000000',\n       '2022-01-07T00:00:00.000000000', '2022-08-02T00:00:00.000000000',\n       '2022-09-11T00:00:00.000000000', '2022-08-10T00:00:00.000000000',\n       '2022-08-26T00:00:00.000000000', '2022-08-05T00:00:00.000000000',\n       '2022-10-05T00:00:00.000000000', '2022-09-19T00:00:00.000000000',\n       '2022-06-24T00:00:00.000000000', '2022-07-09T00:00:00.000000000',\n       '2022-07-02T00:00:00.000000000', '2022-04-07T00:00:00.000000000',\n       '2022-05-30T00:00:00.000000000', '2022-06-28T00:00:00.000000000',\n       '2022-08-11T00:00:00.000000000', '2022-06-25T00:00:00.000000000',\n       '2022-06-08T00:00:00.000000000', '2022-10-27T00:00:00.000000000',\n       '2022-07-20T00:00:00.000000000', '2022-08-17T00:00:00.000000000',\n       '2022-09-02T00:00:00.000000000', '2022-07-31T00:00:00.000000000',\n       '2022-09-12T00:00:00.000000000', '2022-04-25T00:00:00.000000000',\n       '2022-06-12T00:00:00.000000000', '2022-01-28T00:00:00.000000000',\n       '2022-03-23T00:00:00.000000000', '2022-05-07T00:00:00.000000000',\n       '2022-04-09T00:00:00.000000000', '2022-07-05T00:00:00.000000000',\n       '2022-07-10T00:00:00.000000000', '2022-03-18T00:00:00.000000000',\n       '2022-04-27T00:00:00.000000000', '2022-03-31T00:00:00.000000000',\n       '2022-02-08T00:00:00.000000000', '2022-01-13T00:00:00.000000000',\n       '2022-06-22T00:00:00.000000000', '2022-05-31T00:00:00.000000000',\n       '2022-01-21T00:00:00.000000000', '2022-08-08T00:00:00.000000000',\n       '2022-05-19T00:00:00.000000000', '2022-11-23T00:00:00.000000000',\n       '2022-11-09T00:00:00.000000000', '2022-11-12T00:00:00.000000000',\n       '2022-07-21T00:00:00.000000000', '2022-07-15T00:00:00.000000000',\n       '2022-11-04T00:00:00.000000000', '2022-03-08T00:00:00.000000000',\n       '2022-11-18T00:00:00.000000000', '2022-11-24T00:00:00.000000000',\n       '2022-10-30T00:00:00.000000000', '2022-07-01T00:00:00.000000000',\n       '2022-12-17T00:00:00.000000000', '2022-01-15T00:00:00.000000000',\n       '2022-10-29T00:00:00.000000000', '2022-10-13T00:00:00.000000000',\n       '2022-08-12T00:00:00.000000000', '2022-01-22T00:00:00.000000000',\n       '2022-02-12T00:00:00.000000000', '2022-03-12T00:00:00.000000000',\n       '2022-02-26T00:00:00.000000000', '2022-07-16T00:00:00.000000000',\n       '2022-04-02T00:00:00.000000000', '2022-09-30T00:00:00.000000000',\n       '2022-02-19T00:00:00.000000000', '2022-05-21T00:00:00.000000000',\n       '2022-01-08T00:00:00.000000000', '2022-03-05T00:00:00.000000000',\n       '2022-09-05T00:00:00.000000000', '2022-03-14T00:00:00.000000000',\n       '2022-05-14T00:00:00.000000000', '2022-04-30T00:00:00.000000000',\n       '2022-03-19T00:00:00.000000000', '2022-09-07T00:00:00.000000000',\n       '2022-07-22T00:00:00.000000000', '2022-07-25T00:00:00.000000000',\n       '2022-10-11T00:00:00.000000000', '2022-08-15T00:00:00.000000000',\n       '2022-03-26T00:00:00.000000000', '2022-10-22T00:00:00.000000000',\n       '2022-12-24T00:00:00.000000000', '2022-12-03T00:00:00.000000000',\n       '2022-08-22T00:00:00.000000000', '2022-09-22T00:00:00.000000000',\n       '2022-08-01T00:00:00.000000000', '2022-08-19T00:00:00.000000000',\n       '2022-01-03T00:00:00.000000000', '2022-07-11T00:00:00.000000000',\n       '2022-09-17T00:00:00.000000000', '2022-11-19T00:00:00.000000000',\n       '2022-01-31T00:00:00.000000000', '2022-07-18T00:00:00.000000000',\n       '2022-04-13T00:00:00.000000000', '2022-10-24T00:00:00.000000000',\n       '2022-04-11T00:00:00.000000000', '2022-10-07T00:00:00.000000000'],\n      dtype='datetime64[ns]')"
     },
     "execution_count": 635,
     "metadata": {},
     "output_type": "execute_result"
    }
   ],
   "source": [
    "dev_df1['FechaCesta'].unique()"
   ],
   "metadata": {
    "collapsed": false,
    "ExecuteTime": {
     "start_time": "2023-11-20T21:34:41.847668Z"
    }
   },
   "id": "97f15523682966c2"
  },
  {
   "cell_type": "code",
   "execution_count": 638,
   "outputs": [
    {
     "data": {
      "text/plain": "3000"
     },
     "execution_count": 638,
     "metadata": {},
     "output_type": "execute_result"
    }
   ],
   "source": [
    "dev_df.shape[0]"
   ],
   "metadata": {
    "collapsed": false,
    "ExecuteTime": {
     "start_time": "2023-11-20T21:44:36.542046Z"
    }
   },
   "id": "94357dca40a01237"
  },
  {
   "cell_type": "code",
   "execution_count": 577,
   "outputs": [
    {
     "data": {
      "text/plain": "Timestamp('2022-10-26 00:00:00')"
     },
     "execution_count": 577,
     "metadata": {},
     "output_type": "execute_result"
    }
   ],
   "source": [
    "pd.to_datetime(dev_df1['FechaCesta'][0])"
   ],
   "metadata": {
    "collapsed": false,
    "ExecuteTime": {
     "end_time": "2023-11-20T20:53:46.037152Z",
     "start_time": "2023-11-20T20:53:45.986812Z"
    }
   },
   "id": "93d99e04e5ad5346"
  },
  {
   "cell_type": "code",
   "execution_count": 568,
   "outputs": [],
   "source": [
    "dev_df1['FechaCesta']=dev_df1['FechaCesta'].apply(lambda x: pd.to_datetime(x))\n"
   ],
   "metadata": {
    "collapsed": false,
    "ExecuteTime": {
     "end_time": "2023-11-20T20:47:56.807353Z",
     "start_time": "2023-11-20T20:47:56.579775Z"
    }
   },
   "id": "383e73df956cbe59"
  },
  {
   "cell_type": "code",
   "execution_count": 572,
   "outputs": [
    {
     "data": {
      "text/plain": "CodProducto                int64\nCodLugarCompra             int64\ndate              datetime64[ns]\nmode                     float64\nFechaCesta                object\ndtype: object"
     },
     "execution_count": 572,
     "metadata": {},
     "output_type": "execute_result"
    }
   ],
   "source": [
    "dev_df1.dtypes"
   ],
   "metadata": {
    "collapsed": false,
    "ExecuteTime": {
     "end_time": "2023-11-20T20:49:05.419631Z",
     "start_time": "2023-11-20T20:49:05.388181Z"
    }
   },
   "id": "1e96ce39c64ed0ff"
  },
  {
   "cell_type": "code",
   "execution_count": 527,
   "outputs": [
    {
     "ename": "KeyError",
     "evalue": "'outlier'",
     "output_type": "error",
     "traceback": [
      "\u001B[0;31m---------------------------------------------------------------------------\u001B[0m",
      "\u001B[0;31mKeyError\u001B[0m                                  Traceback (most recent call last)",
      "\u001B[0;32m~/anaconda3/envs/kantar_data_env/lib/python3.7/site-packages/pandas/core/indexes/base.py\u001B[0m in \u001B[0;36mget_loc\u001B[0;34m(self, key, method, tolerance)\u001B[0m\n\u001B[1;32m   2894\u001B[0m             \u001B[0;32mtry\u001B[0m\u001B[0;34m:\u001B[0m\u001B[0;34m\u001B[0m\u001B[0m\n\u001B[0;32m-> 2895\u001B[0;31m                 \u001B[0;32mreturn\u001B[0m \u001B[0mself\u001B[0m\u001B[0;34m.\u001B[0m\u001B[0m_engine\u001B[0m\u001B[0;34m.\u001B[0m\u001B[0mget_loc\u001B[0m\u001B[0;34m(\u001B[0m\u001B[0mcasted_key\u001B[0m\u001B[0;34m)\u001B[0m\u001B[0;34m\u001B[0m\u001B[0m\n\u001B[0m\u001B[1;32m   2896\u001B[0m             \u001B[0;32mexcept\u001B[0m \u001B[0mKeyError\u001B[0m \u001B[0;32mas\u001B[0m \u001B[0merr\u001B[0m\u001B[0;34m:\u001B[0m\u001B[0;34m\u001B[0m\u001B[0m\n",
      "\u001B[0;32mpandas/_libs/index.pyx\u001B[0m in \u001B[0;36mpandas._libs.index.IndexEngine.get_loc\u001B[0;34m()\u001B[0m\n",
      "\u001B[0;32mpandas/_libs/index.pyx\u001B[0m in \u001B[0;36mpandas._libs.index.IndexEngine.get_loc\u001B[0;34m()\u001B[0m\n",
      "\u001B[0;32mpandas/_libs/hashtable_class_helper.pxi\u001B[0m in \u001B[0;36mpandas._libs.hashtable.PyObjectHashTable.get_item\u001B[0;34m()\u001B[0m\n",
      "\u001B[0;32mpandas/_libs/hashtable_class_helper.pxi\u001B[0m in \u001B[0;36mpandas._libs.hashtable.PyObjectHashTable.get_item\u001B[0;34m()\u001B[0m\n",
      "\u001B[0;31mKeyError\u001B[0m: 'outlier'",
      "\nThe above exception was the direct cause of the following exception:\n",
      "\u001B[0;31mKeyError\u001B[0m                                  Traceback (most recent call last)",
      "\u001B[0;32m<ipython-input-527-39ace4b0a2a2>\u001B[0m in \u001B[0;36m<module>\u001B[0;34m\u001B[0m\n\u001B[0;32m----> 1\u001B[0;31m \u001B[0mpd\u001B[0m\u001B[0;34m.\u001B[0m\u001B[0mto_datetime\u001B[0m\u001B[0;34m(\u001B[0m\u001B[0mdev_df\u001B[0m\u001B[0;34m[\u001B[0m\u001B[0;34m'outlier'\u001B[0m\u001B[0;34m]\u001B[0m\u001B[0;34m.\u001B[0m\u001B[0mvalues\u001B[0m\u001B[0;34m)\u001B[0m\u001B[0;34m\u001B[0m\u001B[0m\n\u001B[0m",
      "\u001B[0;32m~/anaconda3/envs/kantar_data_env/lib/python3.7/site-packages/pandas/core/frame.py\u001B[0m in \u001B[0;36m__getitem__\u001B[0;34m(self, key)\u001B[0m\n\u001B[1;32m   2900\u001B[0m             \u001B[0;32mif\u001B[0m \u001B[0mself\u001B[0m\u001B[0;34m.\u001B[0m\u001B[0mcolumns\u001B[0m\u001B[0;34m.\u001B[0m\u001B[0mnlevels\u001B[0m \u001B[0;34m>\u001B[0m \u001B[0;36m1\u001B[0m\u001B[0;34m:\u001B[0m\u001B[0;34m\u001B[0m\u001B[0m\n\u001B[1;32m   2901\u001B[0m                 \u001B[0;32mreturn\u001B[0m \u001B[0mself\u001B[0m\u001B[0;34m.\u001B[0m\u001B[0m_getitem_multilevel\u001B[0m\u001B[0;34m(\u001B[0m\u001B[0mkey\u001B[0m\u001B[0;34m)\u001B[0m\u001B[0;34m\u001B[0m\u001B[0m\n\u001B[0;32m-> 2902\u001B[0;31m             \u001B[0mindexer\u001B[0m \u001B[0;34m=\u001B[0m \u001B[0mself\u001B[0m\u001B[0;34m.\u001B[0m\u001B[0mcolumns\u001B[0m\u001B[0;34m.\u001B[0m\u001B[0mget_loc\u001B[0m\u001B[0;34m(\u001B[0m\u001B[0mkey\u001B[0m\u001B[0;34m)\u001B[0m\u001B[0;34m\u001B[0m\u001B[0m\n\u001B[0m\u001B[1;32m   2903\u001B[0m             \u001B[0;32mif\u001B[0m \u001B[0mis_integer\u001B[0m\u001B[0;34m(\u001B[0m\u001B[0mindexer\u001B[0m\u001B[0;34m)\u001B[0m\u001B[0;34m:\u001B[0m\u001B[0;34m\u001B[0m\u001B[0m\n\u001B[1;32m   2904\u001B[0m                 \u001B[0mindexer\u001B[0m \u001B[0;34m=\u001B[0m \u001B[0;34m[\u001B[0m\u001B[0mindexer\u001B[0m\u001B[0;34m]\u001B[0m\u001B[0;34m\u001B[0m\u001B[0m\n",
      "\u001B[0;32m~/anaconda3/envs/kantar_data_env/lib/python3.7/site-packages/pandas/core/indexes/base.py\u001B[0m in \u001B[0;36mget_loc\u001B[0;34m(self, key, method, tolerance)\u001B[0m\n\u001B[1;32m   2895\u001B[0m                 \u001B[0;32mreturn\u001B[0m \u001B[0mself\u001B[0m\u001B[0;34m.\u001B[0m\u001B[0m_engine\u001B[0m\u001B[0;34m.\u001B[0m\u001B[0mget_loc\u001B[0m\u001B[0;34m(\u001B[0m\u001B[0mcasted_key\u001B[0m\u001B[0;34m)\u001B[0m\u001B[0;34m\u001B[0m\u001B[0m\n\u001B[1;32m   2896\u001B[0m             \u001B[0;32mexcept\u001B[0m \u001B[0mKeyError\u001B[0m \u001B[0;32mas\u001B[0m \u001B[0merr\u001B[0m\u001B[0;34m:\u001B[0m\u001B[0;34m\u001B[0m\u001B[0m\n\u001B[0;32m-> 2897\u001B[0;31m                 \u001B[0;32mraise\u001B[0m \u001B[0mKeyError\u001B[0m\u001B[0;34m(\u001B[0m\u001B[0mkey\u001B[0m\u001B[0;34m)\u001B[0m \u001B[0;32mfrom\u001B[0m \u001B[0merr\u001B[0m\u001B[0;34m\u001B[0m\u001B[0m\n\u001B[0m\u001B[1;32m   2898\u001B[0m \u001B[0;34m\u001B[0m\u001B[0m\n\u001B[1;32m   2899\u001B[0m         \u001B[0;32mif\u001B[0m \u001B[0mtolerance\u001B[0m \u001B[0;32mis\u001B[0m \u001B[0;32mnot\u001B[0m \u001B[0;32mNone\u001B[0m\u001B[0;34m:\u001B[0m\u001B[0;34m\u001B[0m\u001B[0m\n",
      "\u001B[0;31mKeyError\u001B[0m: 'outlier'"
     ]
    }
   ],
   "source": [
    "dev_df['outlier'].values)"
   ],
   "metadata": {
    "collapsed": false,
    "ExecuteTime": {
     "end_time": "2023-11-20T20:23:38.770213Z",
     "start_time": "2023-11-20T20:23:38.710720Z"
    }
   },
   "id": "9def5dc636aca4f3"
  },
  {
   "cell_type": "code",
   "execution_count": 446,
   "outputs": [
    {
     "data": {
      "text/plain": "214"
     },
     "execution_count": 446,
     "metadata": {},
     "output_type": "execute_result"
    }
   ],
   "source": [
    "dev_df.shape[0]"
   ],
   "metadata": {
    "collapsed": false,
    "ExecuteTime": {
     "end_time": "2023-11-20T19:10:24.855092Z",
     "start_time": "2023-11-20T19:10:24.831126Z"
    }
   },
   "id": "1dc6a4f31a1d8ea5"
  },
  {
   "cell_type": "code",
   "execution_count": 141,
   "outputs": [
    {
     "data": {
      "text/plain": "      CodProducto  price_per_unit      mode  Precio  Cantidad\n67          20031        0.065000  0.051000      65      1000\n193        575700        0.780000  0.529891     390       500\n320        399214        0.476948  0.375000     300       629\n654        204228        0.150165  0.086681     455      3030\n656        204228        0.149916  0.104490     446      2975\n661        204272        0.165079  0.164929     156       945\n662        204272        0.194946  0.173684     270      1385\n664        204272        0.225676  0.225000     167       740\n666        204272        0.179832  0.174825     214      1190\n680        268528        0.160000  0.119816     320      2000\n685        268528        0.100461  0.085294     109      1085\n697        290316        0.120179  0.119444     134      1115\n705        290325        0.149784  0.139738     173      1155\n723        290343        0.094891  0.075000     325      3425\n730        290343        0.140109  0.140023     386      2755\n757        290361        0.200000  0.139906     365      1825\n758        290361        0.275058  0.249774     590      2145\n761        290361        0.320144  0.279932     445      1390\n773        290361        0.228926  0.225000     277      1210\n782        290364        0.150244  0.150000     308      2050\n785        290364        0.175000  0.125000     385      2200\n787        290364        0.220000  0.150172     693      3150\n792        290364        0.240083  0.160000     581      2420\n830        269969        0.165741  0.140625     179      1080\n850        270048        0.150562  0.120332     134       890\n871        270052        0.179863  0.098974     393      2185\n874        270052        0.195000  0.075229     195      1000\n888        270054        0.189691  0.149828     184       970\n952        290631        0.395238  0.330000     415      1050\n1008        18356        0.084000  0.070000     420      5000\n1017        18356        0.075000  0.070000     600      8000\n1019        18356        0.075000  0.065000     450      6000\n1031        18356        0.070000  0.050000     560      8000\n1305       959022        1.249796  0.935025    1531      1225\n1674       966374        0.897222  0.580000     323       360\n1738       958862        1.245669  0.894624     791       635\n1979       204316        0.324943  0.324808     284       874\n1988       290344        0.119064  0.119005     178      1495\n2253       681845        0.660501  0.660475     607       919\n2515       249207        0.220000  0.110000     220      1000\n2606        59961        0.089000  0.085000     178      2000\n2607        59961        0.100000  0.089000     200      2000\n2614        59961        0.089000  0.085000     178      2000\n2736       895212        0.245000  0.219000     245      1000\n2812       254154        0.299000  0.199000     299      1000\n2824       262057        0.250000  0.224000     250      1000\n2935       724944        0.185000  0.184000     185      1000",
      "text/html": "<div>\n<style scoped>\n    .dataframe tbody tr th:only-of-type {\n        vertical-align: middle;\n    }\n\n    .dataframe tbody tr th {\n        vertical-align: top;\n    }\n\n    .dataframe thead th {\n        text-align: right;\n    }\n</style>\n<table border=\"1\" class=\"dataframe\">\n  <thead>\n    <tr style=\"text-align: right;\">\n      <th></th>\n      <th>CodProducto</th>\n      <th>price_per_unit</th>\n      <th>mode</th>\n      <th>Precio</th>\n      <th>Cantidad</th>\n    </tr>\n  </thead>\n  <tbody>\n    <tr>\n      <th>67</th>\n      <td>20031</td>\n      <td>0.065000</td>\n      <td>0.051000</td>\n      <td>65</td>\n      <td>1000</td>\n    </tr>\n    <tr>\n      <th>193</th>\n      <td>575700</td>\n      <td>0.780000</td>\n      <td>0.529891</td>\n      <td>390</td>\n      <td>500</td>\n    </tr>\n    <tr>\n      <th>320</th>\n      <td>399214</td>\n      <td>0.476948</td>\n      <td>0.375000</td>\n      <td>300</td>\n      <td>629</td>\n    </tr>\n    <tr>\n      <th>654</th>\n      <td>204228</td>\n      <td>0.150165</td>\n      <td>0.086681</td>\n      <td>455</td>\n      <td>3030</td>\n    </tr>\n    <tr>\n      <th>656</th>\n      <td>204228</td>\n      <td>0.149916</td>\n      <td>0.104490</td>\n      <td>446</td>\n      <td>2975</td>\n    </tr>\n    <tr>\n      <th>661</th>\n      <td>204272</td>\n      <td>0.165079</td>\n      <td>0.164929</td>\n      <td>156</td>\n      <td>945</td>\n    </tr>\n    <tr>\n      <th>662</th>\n      <td>204272</td>\n      <td>0.194946</td>\n      <td>0.173684</td>\n      <td>270</td>\n      <td>1385</td>\n    </tr>\n    <tr>\n      <th>664</th>\n      <td>204272</td>\n      <td>0.225676</td>\n      <td>0.225000</td>\n      <td>167</td>\n      <td>740</td>\n    </tr>\n    <tr>\n      <th>666</th>\n      <td>204272</td>\n      <td>0.179832</td>\n      <td>0.174825</td>\n      <td>214</td>\n      <td>1190</td>\n    </tr>\n    <tr>\n      <th>680</th>\n      <td>268528</td>\n      <td>0.160000</td>\n      <td>0.119816</td>\n      <td>320</td>\n      <td>2000</td>\n    </tr>\n    <tr>\n      <th>685</th>\n      <td>268528</td>\n      <td>0.100461</td>\n      <td>0.085294</td>\n      <td>109</td>\n      <td>1085</td>\n    </tr>\n    <tr>\n      <th>697</th>\n      <td>290316</td>\n      <td>0.120179</td>\n      <td>0.119444</td>\n      <td>134</td>\n      <td>1115</td>\n    </tr>\n    <tr>\n      <th>705</th>\n      <td>290325</td>\n      <td>0.149784</td>\n      <td>0.139738</td>\n      <td>173</td>\n      <td>1155</td>\n    </tr>\n    <tr>\n      <th>723</th>\n      <td>290343</td>\n      <td>0.094891</td>\n      <td>0.075000</td>\n      <td>325</td>\n      <td>3425</td>\n    </tr>\n    <tr>\n      <th>730</th>\n      <td>290343</td>\n      <td>0.140109</td>\n      <td>0.140023</td>\n      <td>386</td>\n      <td>2755</td>\n    </tr>\n    <tr>\n      <th>757</th>\n      <td>290361</td>\n      <td>0.200000</td>\n      <td>0.139906</td>\n      <td>365</td>\n      <td>1825</td>\n    </tr>\n    <tr>\n      <th>758</th>\n      <td>290361</td>\n      <td>0.275058</td>\n      <td>0.249774</td>\n      <td>590</td>\n      <td>2145</td>\n    </tr>\n    <tr>\n      <th>761</th>\n      <td>290361</td>\n      <td>0.320144</td>\n      <td>0.279932</td>\n      <td>445</td>\n      <td>1390</td>\n    </tr>\n    <tr>\n      <th>773</th>\n      <td>290361</td>\n      <td>0.228926</td>\n      <td>0.225000</td>\n      <td>277</td>\n      <td>1210</td>\n    </tr>\n    <tr>\n      <th>782</th>\n      <td>290364</td>\n      <td>0.150244</td>\n      <td>0.150000</td>\n      <td>308</td>\n      <td>2050</td>\n    </tr>\n    <tr>\n      <th>785</th>\n      <td>290364</td>\n      <td>0.175000</td>\n      <td>0.125000</td>\n      <td>385</td>\n      <td>2200</td>\n    </tr>\n    <tr>\n      <th>787</th>\n      <td>290364</td>\n      <td>0.220000</td>\n      <td>0.150172</td>\n      <td>693</td>\n      <td>3150</td>\n    </tr>\n    <tr>\n      <th>792</th>\n      <td>290364</td>\n      <td>0.240083</td>\n      <td>0.160000</td>\n      <td>581</td>\n      <td>2420</td>\n    </tr>\n    <tr>\n      <th>830</th>\n      <td>269969</td>\n      <td>0.165741</td>\n      <td>0.140625</td>\n      <td>179</td>\n      <td>1080</td>\n    </tr>\n    <tr>\n      <th>850</th>\n      <td>270048</td>\n      <td>0.150562</td>\n      <td>0.120332</td>\n      <td>134</td>\n      <td>890</td>\n    </tr>\n    <tr>\n      <th>871</th>\n      <td>270052</td>\n      <td>0.179863</td>\n      <td>0.098974</td>\n      <td>393</td>\n      <td>2185</td>\n    </tr>\n    <tr>\n      <th>874</th>\n      <td>270052</td>\n      <td>0.195000</td>\n      <td>0.075229</td>\n      <td>195</td>\n      <td>1000</td>\n    </tr>\n    <tr>\n      <th>888</th>\n      <td>270054</td>\n      <td>0.189691</td>\n      <td>0.149828</td>\n      <td>184</td>\n      <td>970</td>\n    </tr>\n    <tr>\n      <th>952</th>\n      <td>290631</td>\n      <td>0.395238</td>\n      <td>0.330000</td>\n      <td>415</td>\n      <td>1050</td>\n    </tr>\n    <tr>\n      <th>1008</th>\n      <td>18356</td>\n      <td>0.084000</td>\n      <td>0.070000</td>\n      <td>420</td>\n      <td>5000</td>\n    </tr>\n    <tr>\n      <th>1017</th>\n      <td>18356</td>\n      <td>0.075000</td>\n      <td>0.070000</td>\n      <td>600</td>\n      <td>8000</td>\n    </tr>\n    <tr>\n      <th>1019</th>\n      <td>18356</td>\n      <td>0.075000</td>\n      <td>0.065000</td>\n      <td>450</td>\n      <td>6000</td>\n    </tr>\n    <tr>\n      <th>1031</th>\n      <td>18356</td>\n      <td>0.070000</td>\n      <td>0.050000</td>\n      <td>560</td>\n      <td>8000</td>\n    </tr>\n    <tr>\n      <th>1305</th>\n      <td>959022</td>\n      <td>1.249796</td>\n      <td>0.935025</td>\n      <td>1531</td>\n      <td>1225</td>\n    </tr>\n    <tr>\n      <th>1674</th>\n      <td>966374</td>\n      <td>0.897222</td>\n      <td>0.580000</td>\n      <td>323</td>\n      <td>360</td>\n    </tr>\n    <tr>\n      <th>1738</th>\n      <td>958862</td>\n      <td>1.245669</td>\n      <td>0.894624</td>\n      <td>791</td>\n      <td>635</td>\n    </tr>\n    <tr>\n      <th>1979</th>\n      <td>204316</td>\n      <td>0.324943</td>\n      <td>0.324808</td>\n      <td>284</td>\n      <td>874</td>\n    </tr>\n    <tr>\n      <th>1988</th>\n      <td>290344</td>\n      <td>0.119064</td>\n      <td>0.119005</td>\n      <td>178</td>\n      <td>1495</td>\n    </tr>\n    <tr>\n      <th>2253</th>\n      <td>681845</td>\n      <td>0.660501</td>\n      <td>0.660475</td>\n      <td>607</td>\n      <td>919</td>\n    </tr>\n    <tr>\n      <th>2515</th>\n      <td>249207</td>\n      <td>0.220000</td>\n      <td>0.110000</td>\n      <td>220</td>\n      <td>1000</td>\n    </tr>\n    <tr>\n      <th>2606</th>\n      <td>59961</td>\n      <td>0.089000</td>\n      <td>0.085000</td>\n      <td>178</td>\n      <td>2000</td>\n    </tr>\n    <tr>\n      <th>2607</th>\n      <td>59961</td>\n      <td>0.100000</td>\n      <td>0.089000</td>\n      <td>200</td>\n      <td>2000</td>\n    </tr>\n    <tr>\n      <th>2614</th>\n      <td>59961</td>\n      <td>0.089000</td>\n      <td>0.085000</td>\n      <td>178</td>\n      <td>2000</td>\n    </tr>\n    <tr>\n      <th>2736</th>\n      <td>895212</td>\n      <td>0.245000</td>\n      <td>0.219000</td>\n      <td>245</td>\n      <td>1000</td>\n    </tr>\n    <tr>\n      <th>2812</th>\n      <td>254154</td>\n      <td>0.299000</td>\n      <td>0.199000</td>\n      <td>299</td>\n      <td>1000</td>\n    </tr>\n    <tr>\n      <th>2824</th>\n      <td>262057</td>\n      <td>0.250000</td>\n      <td>0.224000</td>\n      <td>250</td>\n      <td>1000</td>\n    </tr>\n    <tr>\n      <th>2935</th>\n      <td>724944</td>\n      <td>0.185000</td>\n      <td>0.184000</td>\n      <td>185</td>\n      <td>1000</td>\n    </tr>\n  </tbody>\n</table>\n</div>"
     },
     "execution_count": 141,
     "metadata": {},
     "output_type": "execute_result"
    }
   ],
   "source": [
    "dev_df[dev_df['outlier']][['CodProducto','price_per_unit','mode','Precio','Cantidad']]"
   ],
   "metadata": {
    "collapsed": false,
    "ExecuteTime": {
     "end_time": "2023-11-20T11:57:22.805222Z",
     "start_time": "2023-11-20T11:57:22.761182Z"
    }
   },
   "id": "c12bb197e9f6cc7d"
  },
  {
   "cell_type": "code",
   "execution_count": 144,
   "outputs": [
    {
     "data": {
      "text/plain": "290361    4\n18356     4\n204272    4\n290364    4\n59961     3\n204228    2\n290343    2\n270052    2\n268528    2\n269969    1\n724944    1\n290316    1\n958862    1\n575700    1\n254154    1\n290631    1\n966374    1\n20031     1\n290325    1\n204316    1\n270048    1\n270054    1\n290344    1\n262057    1\n895212    1\n399214    1\n681845    1\n249207    1\n959022    1\nName: CodProducto, dtype: int64"
     },
     "execution_count": 144,
     "metadata": {},
     "output_type": "execute_result"
    }
   ],
   "source": [
    "dev_df[dev_df['outlier']]['CodProducto'].value_counts()"
   ],
   "metadata": {
    "collapsed": false,
    "ExecuteTime": {
     "end_time": "2023-11-20T12:55:40.707613Z",
     "start_time": "2023-11-20T12:55:40.660896Z"
    }
   },
   "id": "574bf1764e35510"
  },
  {
   "cell_type": "code",
   "execution_count": 153,
   "outputs": [
    {
     "data": {
      "text/plain": "1004   2022-02-16\n1005   2022-08-14\n1006   2022-02-02\n1007   2022-09-11\n1008   2022-04-22\n          ...    \n1453   2022-01-12\n1454   2022-12-09\n1455   2022-11-23\n1822   2022-12-17\n1882   2022-03-02\nName: FechaCesta, Length: 66, dtype: datetime64[ns]"
     },
     "execution_count": 153,
     "metadata": {},
     "output_type": "execute_result"
    }
   ],
   "source": [
    "most_frequent_o_data['FechaCesta']"
   ],
   "metadata": {
    "collapsed": false,
    "ExecuteTime": {
     "end_time": "2023-11-20T13:41:55.722229Z",
     "start_time": "2023-11-20T13:41:55.711005Z"
    }
   },
   "id": "6ff0b1c10def8f67"
  },
  {
   "cell_type": "code",
   "execution_count": 173,
   "outputs": [
    {
     "name": "stderr",
     "output_type": "stream",
     "text": [
      "/Users/peterkiss/anaconda3/envs/kantar_data_env/lib/python3.7/site-packages/ipykernel_launcher.py:4: FutureWarning: The pandas.datetime class is deprecated and will be removed from pandas in a future version. Import from datetime module instead.\n",
      "  after removing the cwd from sys.path.\n",
      "/Users/peterkiss/anaconda3/envs/kantar_data_env/lib/python3.7/site-packages/ipykernel_launcher.py:8: SettingWithCopyWarning: \n",
      "A value is trying to be set on a copy of a slice from a DataFrame.\n",
      "Try using .loc[row_indexer,col_indexer] = value instead\n",
      "\n",
      "See the caveats in the documentation: https://pandas.pydata.org/pandas-docs/stable/user_guide/indexing.html#returning-a-view-versus-a-copy\n",
      "  \n",
      "/Users/peterkiss/anaconda3/envs/kantar_data_env/lib/python3.7/site-packages/ipykernel_launcher.py:9: SettingWithCopyWarning: \n",
      "A value is trying to be set on a copy of a slice from a DataFrame.\n",
      "Try using .loc[row_indexer,col_indexer] = value instead\n",
      "\n",
      "See the caveats in the documentation: https://pandas.pydata.org/pandas-docs/stable/user_guide/indexing.html#returning-a-view-versus-a-copy\n",
      "  if __name__ == '__main__':\n"
     ]
    },
    {
     "data": {
      "text/plain": "[Text(0,0,'2021:40:10/23/21'),\n Text(0,0,'2021:33:12/20/21'),\n Text(0,0,'2022:26:02/16/22'),\n Text(0,0,'2022:20:04/15/22'),\n Text(0,0,'2022:13:06/12/22'),\n Text(0,0,'2022:06:08/09/22'),\n Text(0,0,'2022:00:10/05/22'),\n Text(0,0,'2022:53:12/02/22'),\n Text(0,0,'2023:46:01/29/23')]"
     },
     "execution_count": 173,
     "metadata": {},
     "output_type": "execute_result"
    },
    {
     "data": {
      "text/plain": "<matplotlib.figure.Figure at 0x7fdeef01b438>",
      "image/png": "[encoded data removed]"
     },
     "metadata": {
      "needs_background": "light"
     },
     "output_type": "display_data"
    }
   ],
   "source": [
    "import matplotlib.pyplot as plt\n",
    "\n",
    "\n",
    "from pandas import datetime\n",
    "\n",
    "most_frequent_o  =dev_df[dev_df['outlier']]['CodProducto'].mode()[0]\n",
    "most_frequent_o_data= dev_df[dev_df['CodProducto']==most_frequent_o]\n",
    "most_frequent_o_data['t'] = most_frequent_o_data['FechaCesta'].astype(np.int64)\n",
    "most_frequent_o_data['out'] = most_frequent_o_data['outlier'].astype(np.int64)\n",
    "\n",
    "\n",
    "#colors=['red' if x else 'red' ] \n",
    "\n",
    "''''''\n",
    "fig, ax = plt.subplots(figsize=(10,6))\n",
    "most_frequent_o_data.plot.scatter(x='t', y='price_per_unit' ,c='out', cmap='RdBu_r',ax=ax)\n",
    "#most_frequent_o_data.plot.scatter(x='t', y='price_per_unit' ,c='out', cmap='RdBu_r',ax=ax)\n",
    "\n",
    "ax.set_xticklabels([datetime.fromtimestamp(ts / 1e9).strftime('%Y:%M:%D') for ts in ax.get_xticks()])\n",
    "#plt.show()\n",
    "#most_frequent_o_data.plot(x='FechaCesta', y='price_per_unit', style='.')\n"
   ],
   "metadata": {
    "collapsed": false,
    "ExecuteTime": {
     "end_time": "2023-11-20T14:09:37.847758Z",
     "start_time": "2023-11-20T14:09:37.096958Z"
    }
   },
   "id": "24b99c95f26bcfaf"
  },
  {
   "cell_type": "code",
   "execution_count": 167,
   "outputs": [
    {
     "data": {
      "text/plain": "1004    False\n1005    False\n1006    False\n1007    False\n1008     True\n        ...  \n1453    False\n1454    False\n1455    False\n1822    False\n1882    False\nName: outlier, Length: 66, dtype: bool"
     },
     "execution_count": 167,
     "metadata": {},
     "output_type": "execute_result"
    }
   ],
   "source": [
    "most_frequent_o_data['outlier']\n"
   ],
   "metadata": {
    "collapsed": false,
    "ExecuteTime": {
     "end_time": "2023-11-20T14:01:33.706364Z",
     "start_time": "2023-11-20T14:01:33.665972Z"
    }
   },
   "id": "7be72efd86f1a1a"
  },
  {
   "cell_type": "code",
   "execution_count": 426,
   "outputs": [
    {
     "ename": "KeyError",
     "evalue": "'mode'",
     "output_type": "error",
     "traceback": [
      "\u001B[0;31m---------------------------------------------------------------------------\u001B[0m",
      "\u001B[0;31mKeyError\u001B[0m                                  Traceback (most recent call last)",
      "\u001B[0;32m~/anaconda3/envs/kantar_data_env/lib/python3.7/site-packages/pandas/core/indexes/base.py\u001B[0m in \u001B[0;36mget_loc\u001B[0;34m(self, key, method, tolerance)\u001B[0m\n\u001B[1;32m   2894\u001B[0m             \u001B[0;32mtry\u001B[0m\u001B[0;34m:\u001B[0m\u001B[0;34m\u001B[0m\u001B[0m\n\u001B[0;32m-> 2895\u001B[0;31m                 \u001B[0;32mreturn\u001B[0m \u001B[0mself\u001B[0m\u001B[0;34m.\u001B[0m\u001B[0m_engine\u001B[0m\u001B[0;34m.\u001B[0m\u001B[0mget_loc\u001B[0m\u001B[0;34m(\u001B[0m\u001B[0mcasted_key\u001B[0m\u001B[0;34m)\u001B[0m\u001B[0;34m\u001B[0m\u001B[0m\n\u001B[0m\u001B[1;32m   2896\u001B[0m             \u001B[0;32mexcept\u001B[0m \u001B[0mKeyError\u001B[0m \u001B[0;32mas\u001B[0m \u001B[0merr\u001B[0m\u001B[0;34m:\u001B[0m\u001B[0;34m\u001B[0m\u001B[0m\n",
      "\u001B[0;32mpandas/_libs/index.pyx\u001B[0m in \u001B[0;36mpandas._libs.index.IndexEngine.get_loc\u001B[0;34m()\u001B[0m\n",
      "\u001B[0;32mpandas/_libs/index.pyx\u001B[0m in \u001B[0;36mpandas._libs.index.IndexEngine.get_loc\u001B[0;34m()\u001B[0m\n",
      "\u001B[0;32mpandas/_libs/hashtable_class_helper.pxi\u001B[0m in \u001B[0;36mpandas._libs.hashtable.PyObjectHashTable.get_item\u001B[0;34m()\u001B[0m\n",
      "\u001B[0;32mpandas/_libs/hashtable_class_helper.pxi\u001B[0m in \u001B[0;36mpandas._libs.hashtable.PyObjectHashTable.get_item\u001B[0;34m()\u001B[0m\n",
      "\u001B[0;31mKeyError\u001B[0m: 'mode'",
      "\nThe above exception was the direct cause of the following exception:\n",
      "\u001B[0;31mKeyError\u001B[0m                                  Traceback (most recent call last)",
      "\u001B[0;32m<ipython-input-426-1fbd178afd4a>\u001B[0m in \u001B[0;36m<module>\u001B[0;34m\u001B[0m\n\u001B[0;32m----> 1\u001B[0;31m \u001B[0mcut_dates\u001B[0m\u001B[0;34m=\u001B[0m\u001B[0mdev_df\u001B[0m\u001B[0;34m[\u001B[0m\u001B[0;34m'mode'\u001B[0m\u001B[0;34m]\u001B[0m\u001B[0;34m\u001B[0m\u001B[0m\n\u001B[0m\u001B[1;32m      2\u001B[0m \u001B[0mcut_dates\u001B[0m\u001B[0;34m\u001B[0m\u001B[0m\n",
      "\u001B[0;32m~/anaconda3/envs/kantar_data_env/lib/python3.7/site-packages/pandas/core/frame.py\u001B[0m in \u001B[0;36m__getitem__\u001B[0;34m(self, key)\u001B[0m\n\u001B[1;32m   2900\u001B[0m             \u001B[0;32mif\u001B[0m \u001B[0mself\u001B[0m\u001B[0;34m.\u001B[0m\u001B[0mcolumns\u001B[0m\u001B[0;34m.\u001B[0m\u001B[0mnlevels\u001B[0m \u001B[0;34m>\u001B[0m \u001B[0;36m1\u001B[0m\u001B[0;34m:\u001B[0m\u001B[0;34m\u001B[0m\u001B[0m\n\u001B[1;32m   2901\u001B[0m                 \u001B[0;32mreturn\u001B[0m \u001B[0mself\u001B[0m\u001B[0;34m.\u001B[0m\u001B[0m_getitem_multilevel\u001B[0m\u001B[0;34m(\u001B[0m\u001B[0mkey\u001B[0m\u001B[0;34m)\u001B[0m\u001B[0;34m\u001B[0m\u001B[0m\n\u001B[0;32m-> 2902\u001B[0;31m             \u001B[0mindexer\u001B[0m \u001B[0;34m=\u001B[0m \u001B[0mself\u001B[0m\u001B[0;34m.\u001B[0m\u001B[0mcolumns\u001B[0m\u001B[0;34m.\u001B[0m\u001B[0mget_loc\u001B[0m\u001B[0;34m(\u001B[0m\u001B[0mkey\u001B[0m\u001B[0;34m)\u001B[0m\u001B[0;34m\u001B[0m\u001B[0m\n\u001B[0m\u001B[1;32m   2903\u001B[0m             \u001B[0;32mif\u001B[0m \u001B[0mis_integer\u001B[0m\u001B[0;34m(\u001B[0m\u001B[0mindexer\u001B[0m\u001B[0;34m)\u001B[0m\u001B[0;34m:\u001B[0m\u001B[0;34m\u001B[0m\u001B[0m\n\u001B[1;32m   2904\u001B[0m                 \u001B[0mindexer\u001B[0m \u001B[0;34m=\u001B[0m \u001B[0;34m[\u001B[0m\u001B[0mindexer\u001B[0m\u001B[0;34m]\u001B[0m\u001B[0;34m\u001B[0m\u001B[0m\n",
      "\u001B[0;32m~/anaconda3/envs/kantar_data_env/lib/python3.7/site-packages/pandas/core/indexes/base.py\u001B[0m in \u001B[0;36mget_loc\u001B[0;34m(self, key, method, tolerance)\u001B[0m\n\u001B[1;32m   2895\u001B[0m                 \u001B[0;32mreturn\u001B[0m \u001B[0mself\u001B[0m\u001B[0;34m.\u001B[0m\u001B[0m_engine\u001B[0m\u001B[0;34m.\u001B[0m\u001B[0mget_loc\u001B[0m\u001B[0;34m(\u001B[0m\u001B[0mcasted_key\u001B[0m\u001B[0;34m)\u001B[0m\u001B[0;34m\u001B[0m\u001B[0m\n\u001B[1;32m   2896\u001B[0m             \u001B[0;32mexcept\u001B[0m \u001B[0mKeyError\u001B[0m \u001B[0;32mas\u001B[0m \u001B[0merr\u001B[0m\u001B[0;34m:\u001B[0m\u001B[0;34m\u001B[0m\u001B[0m\n\u001B[0;32m-> 2897\u001B[0;31m                 \u001B[0;32mraise\u001B[0m \u001B[0mKeyError\u001B[0m\u001B[0;34m(\u001B[0m\u001B[0mkey\u001B[0m\u001B[0;34m)\u001B[0m \u001B[0;32mfrom\u001B[0m \u001B[0merr\u001B[0m\u001B[0;34m\u001B[0m\u001B[0m\n\u001B[0m\u001B[1;32m   2898\u001B[0m \u001B[0;34m\u001B[0m\u001B[0m\n\u001B[1;32m   2899\u001B[0m         \u001B[0;32mif\u001B[0m \u001B[0mtolerance\u001B[0m \u001B[0;32mis\u001B[0m \u001B[0;32mnot\u001B[0m \u001B[0;32mNone\u001B[0m\u001B[0;34m:\u001B[0m\u001B[0;34m\u001B[0m\u001B[0m\n",
      "\u001B[0;31mKeyError\u001B[0m: 'mode'"
     ]
    }
   ],
   "source": [
    "cut_dates=dev_df['mode']\n",
    "cut_dates"
   ],
   "metadata": {
    "collapsed": false,
    "ExecuteTime": {
     "end_time": "2023-11-20T19:02:55.386968Z",
     "start_time": "2023-11-20T19:02:55.347495Z"
    }
   },
   "id": "444c263bac11cbd0"
  },
  {
   "cell_type": "code",
   "execution_count": 363,
   "outputs": [
    {
     "name": "stdout",
     "output_type": "stream",
     "text": [
      "[None]\n"
     ]
    },
    {
     "name": "stderr",
     "output_type": "stream",
     "text": [
      "/Users/peterkiss/anaconda3/envs/kantar_data_env/lib/python3.7/site-packages/ipykernel_launcher.py:8: SettingWithCopyWarning: \n",
      "A value is trying to be set on a copy of a slice from a DataFrame.\n",
      "Try using .loc[row_indexer,col_indexer] = value instead\n",
      "\n",
      "See the caveats in the documentation: https://pandas.pydata.org/pandas-docs/stable/user_guide/indexing.html#returning-a-view-versus-a-copy\n",
      "  \n"
     ]
    },
    {
     "ename": "TypeError",
     "evalue": "'<' not supported between instances of 'NoneType' and 'float'",
     "output_type": "error",
     "traceback": [
      "\u001B[0;31m---------------------------------------------------------------------------\u001B[0m",
      "\u001B[0;31mTypeError\u001B[0m                                 Traceback (most recent call last)",
      "\u001B[0;32m<ipython-input-363-d1794e1ae267>\u001B[0m in \u001B[0;36m<module>\u001B[0;34m\u001B[0m\n\u001B[1;32m     21\u001B[0m \u001B[0max\u001B[0m\u001B[0;34m.\u001B[0m\u001B[0mscatter\u001B[0m\u001B[0;34m(\u001B[0m\u001B[0mx\u001B[0m\u001B[0;34m=\u001B[0m\u001B[0mnormal\u001B[0m\u001B[0;34m[\u001B[0m\u001B[0;34m't'\u001B[0m\u001B[0;34m]\u001B[0m\u001B[0;34m,\u001B[0m\u001B[0my\u001B[0m\u001B[0;34m=\u001B[0m\u001B[0mnormal\u001B[0m\u001B[0;34m[\u001B[0m\u001B[0;34m'price_per_unit'\u001B[0m\u001B[0;34m]\u001B[0m\u001B[0;34m,\u001B[0m\u001B[0mcolor\u001B[0m\u001B[0;34m=\u001B[0m\u001B[0;34m'blue'\u001B[0m\u001B[0;34m)\u001B[0m\u001B[0;34m\u001B[0m\u001B[0m\n\u001B[1;32m     22\u001B[0m \u001B[0max\u001B[0m\u001B[0;34m.\u001B[0m\u001B[0mscatter\u001B[0m\u001B[0;34m(\u001B[0m\u001B[0mx\u001B[0m\u001B[0;34m=\u001B[0m\u001B[0mo\u001B[0m\u001B[0;34m[\u001B[0m\u001B[0;34m't'\u001B[0m\u001B[0;34m]\u001B[0m\u001B[0;34m,\u001B[0m\u001B[0my\u001B[0m\u001B[0;34m=\u001B[0m\u001B[0mo\u001B[0m\u001B[0;34m[\u001B[0m\u001B[0;34m'price_per_unit'\u001B[0m\u001B[0;34m]\u001B[0m\u001B[0;34m,\u001B[0m\u001B[0mcolor\u001B[0m\u001B[0;34m=\u001B[0m\u001B[0;34m'red'\u001B[0m\u001B[0;34m)\u001B[0m\u001B[0;34m\u001B[0m\u001B[0m\n\u001B[0;32m---> 23\u001B[0;31m \u001B[0mplt\u001B[0m\u001B[0;34m.\u001B[0m\u001B[0maxvline\u001B[0m\u001B[0;34m(\u001B[0m\u001B[0mx\u001B[0m \u001B[0;34m=\u001B[0m \u001B[0mcut_dates\u001B[0m\u001B[0;34m,\u001B[0m \u001B[0mcolor\u001B[0m \u001B[0;34m=\u001B[0m \u001B[0;34m'b'\u001B[0m\u001B[0;34m,\u001B[0m \u001B[0mlabel\u001B[0m \u001B[0;34m=\u001B[0m \u001B[0;34m'axvline - full height'\u001B[0m\u001B[0;34m)\u001B[0m\u001B[0;34m\u001B[0m\u001B[0m\n\u001B[0m\u001B[1;32m     24\u001B[0m \u001B[0ma\u001B[0m\u001B[0;34m=\u001B[0m\u001B[0;34m[\u001B[0m\u001B[0mdatetime\u001B[0m\u001B[0;34m.\u001B[0m\u001B[0mfromtimestamp\u001B[0m\u001B[0;34m(\u001B[0m\u001B[0mts\u001B[0m \u001B[0;34m/\u001B[0m \u001B[0;36m1e9\u001B[0m\u001B[0;34m)\u001B[0m\u001B[0;34m.\u001B[0m\u001B[0mstrftime\u001B[0m\u001B[0;34m(\u001B[0m\u001B[0;34m'%Y-%m-%d'\u001B[0m\u001B[0;34m)\u001B[0m \u001B[0;32mfor\u001B[0m \u001B[0mts\u001B[0m \u001B[0;32min\u001B[0m \u001B[0max\u001B[0m\u001B[0;34m.\u001B[0m\u001B[0mget_xticks\u001B[0m\u001B[0;34m(\u001B[0m\u001B[0;34m)\u001B[0m\u001B[0;34m]\u001B[0m\u001B[0;34m\u001B[0m\u001B[0m\n\u001B[1;32m     25\u001B[0m \u001B[0mprint\u001B[0m\u001B[0;34m(\u001B[0m\u001B[0ma\u001B[0m\u001B[0;34m)\u001B[0m\u001B[0;34m\u001B[0m\u001B[0m\n",
      "\u001B[0;32m~/anaconda3/envs/kantar_data_env/lib/python3.7/site-packages/matplotlib/pyplot.py\u001B[0m in \u001B[0;36maxvline\u001B[0;34m(x, ymin, ymax, hold, **kwargs)\u001B[0m\n\u001B[1;32m   2604\u001B[0m                       mplDeprecation)\n\u001B[1;32m   2605\u001B[0m     \u001B[0;32mtry\u001B[0m\u001B[0;34m:\u001B[0m\u001B[0;34m\u001B[0m\u001B[0m\n\u001B[0;32m-> 2606\u001B[0;31m         \u001B[0mret\u001B[0m \u001B[0;34m=\u001B[0m \u001B[0max\u001B[0m\u001B[0;34m.\u001B[0m\u001B[0maxvline\u001B[0m\u001B[0;34m(\u001B[0m\u001B[0mx\u001B[0m\u001B[0;34m=\u001B[0m\u001B[0mx\u001B[0m\u001B[0;34m,\u001B[0m \u001B[0mymin\u001B[0m\u001B[0;34m=\u001B[0m\u001B[0mymin\u001B[0m\u001B[0;34m,\u001B[0m \u001B[0mymax\u001B[0m\u001B[0;34m=\u001B[0m\u001B[0mymax\u001B[0m\u001B[0;34m,\u001B[0m \u001B[0;34m**\u001B[0m\u001B[0mkwargs\u001B[0m\u001B[0;34m)\u001B[0m\u001B[0;34m\u001B[0m\u001B[0m\n\u001B[0m\u001B[1;32m   2607\u001B[0m     \u001B[0;32mfinally\u001B[0m\u001B[0;34m:\u001B[0m\u001B[0;34m\u001B[0m\u001B[0m\n\u001B[1;32m   2608\u001B[0m         \u001B[0max\u001B[0m\u001B[0;34m.\u001B[0m\u001B[0m_hold\u001B[0m \u001B[0;34m=\u001B[0m \u001B[0mwashold\u001B[0m\u001B[0;34m\u001B[0m\u001B[0m\n",
      "\u001B[0;32m~/anaconda3/envs/kantar_data_env/lib/python3.7/site-packages/matplotlib/axes/_axes.py\u001B[0m in \u001B[0;36maxvline\u001B[0;34m(self, x, ymin, ymax, **kwargs)\u001B[0m\n\u001B[1;32m    728\u001B[0m         \u001B[0mself\u001B[0m\u001B[0;34m.\u001B[0m\u001B[0m_process_unit_info\u001B[0m\u001B[0;34m(\u001B[0m\u001B[0mxdata\u001B[0m\u001B[0;34m=\u001B[0m\u001B[0mx\u001B[0m\u001B[0;34m,\u001B[0m \u001B[0mkwargs\u001B[0m\u001B[0;34m=\u001B[0m\u001B[0mkwargs\u001B[0m\u001B[0;34m)\u001B[0m\u001B[0;34m\u001B[0m\u001B[0m\n\u001B[1;32m    729\u001B[0m         \u001B[0mxx\u001B[0m \u001B[0;34m=\u001B[0m \u001B[0mself\u001B[0m\u001B[0;34m.\u001B[0m\u001B[0mconvert_xunits\u001B[0m\u001B[0;34m(\u001B[0m\u001B[0mx\u001B[0m\u001B[0;34m)\u001B[0m\u001B[0;34m\u001B[0m\u001B[0m\n\u001B[0;32m--> 730\u001B[0;31m         \u001B[0mscalex\u001B[0m \u001B[0;34m=\u001B[0m \u001B[0;34m(\u001B[0m\u001B[0mxx\u001B[0m \u001B[0;34m<\u001B[0m \u001B[0mxmin\u001B[0m\u001B[0;34m)\u001B[0m \u001B[0;32mor\u001B[0m \u001B[0;34m(\u001B[0m\u001B[0mxx\u001B[0m \u001B[0;34m>\u001B[0m \u001B[0mxmax\u001B[0m\u001B[0;34m)\u001B[0m\u001B[0;34m\u001B[0m\u001B[0m\n\u001B[0m\u001B[1;32m    731\u001B[0m \u001B[0;34m\u001B[0m\u001B[0m\n\u001B[1;32m    732\u001B[0m         \u001B[0mtrans\u001B[0m \u001B[0;34m=\u001B[0m \u001B[0mself\u001B[0m\u001B[0;34m.\u001B[0m\u001B[0mget_xaxis_transform\u001B[0m\u001B[0;34m(\u001B[0m\u001B[0mwhich\u001B[0m\u001B[0;34m=\u001B[0m\u001B[0;34m'grid'\u001B[0m\u001B[0;34m)\u001B[0m\u001B[0;34m\u001B[0m\u001B[0m\n",
      "\u001B[0;31mTypeError\u001B[0m: '<' not supported between instances of 'NoneType' and 'float'"
     ]
    },
    {
     "data": {
      "text/plain": "<matplotlib.figure.Figure at 0x7fdeef74df98>",
      "image/png": "[encoded data removed]"
     },
     "metadata": {
      "needs_background": "light"
     },
     "output_type": "display_data"
    }
   ],
   "source": [
    "import matplotlib.pyplot as plt\n",
    "\n",
    "\n",
    "cut_dates=dev_df['date'].unique()\n",
    "\n",
    "most_frequent_o  =dev_df[dev_df['outlier']]['CodProducto'].mode()[0]\n",
    "most_frequent_o_data= dev_df[dev_df['CodProducto']==most_frequent_o]\n",
    "most_frequent_o_data['t'] = most_frequent_o_data['FechaCesta'].astype(np.int64)\n",
    "normal = most_frequent_o_data[~ most_frequent_o_data['outlier']]\n",
    "o = most_frequent_o_data[most_frequent_o_data['outlier']]\n",
    "\n",
    "#colors=['red' if x else 'red' ] \n",
    "\n",
    "print(cut_dates)\n",
    "\n",
    "''''''\n",
    "fig, ax = plt.subplots(figsize=(10,6))\n",
    "#most_frequent_o_data.plot.scatter(x='t', y='price_per_unit' ,c='out', cmap='RdBu_r',ax=ax)\n",
    "\n",
    "ax.scatter(x=normal['t'],y=normal['price_per_unit'],color='blue')\n",
    "ax.scatter(x=o['t'],y=o['price_per_unit'],color='red')\n",
    "plt.axvline(x = cut_dates, color = 'b', label = 'axvline - full height')\n",
    "a=[datetime.fromtimestamp(ts / 1e9).strftime('%Y-%m-%d') for ts in ax.get_xticks()]\n",
    "print(a)\n",
    "ax.set_xticklabels(a)\n"
   ],
   "metadata": {
    "collapsed": false,
    "ExecuteTime": {
     "end_time": "2023-11-20T18:15:51.268513Z",
     "start_time": "2023-11-20T18:15:50.965825Z"
    }
   },
   "id": "9956d1a1b10f4b74"
  },
  {
   "cell_type": "code",
   "execution_count": 92,
   "outputs": [],
   "source": [
    "clean_data= dev_df.drop(dev_df[dev_df['outlier']].index).copy()"
   ],
   "metadata": {
    "collapsed": false,
    "ExecuteTime": {
     "end_time": "2023-11-20T10:36:49.278533Z",
     "start_time": "2023-11-20T10:36:49.226235Z"
    }
   },
   "id": "c77b6967399900a3"
  },
  {
   "cell_type": "code",
   "execution_count": 93,
   "outputs": [
    {
     "data": {
      "text/plain": "False    2997\nName: outlier, dtype: int64"
     },
     "execution_count": 93,
     "metadata": {},
     "output_type": "execute_result"
    }
   ],
   "source": [
    "clean_data['outlier'].value_counts()"
   ],
   "metadata": {
    "collapsed": false,
    "ExecuteTime": {
     "end_time": "2023-11-20T10:36:51.344234Z",
     "start_time": "2023-11-20T10:36:51.320513Z"
    }
   },
   "id": "27419162289a2a43"
  },
  {
   "cell_type": "code",
   "execution_count": 94,
   "outputs": [],
   "source": [
    "dfupdate= clean_data.sample(100)\n",
    "dfupdate['Precio']*=2\n",
    "clean_data.update(dfupdate)\n"
   ],
   "metadata": {
    "collapsed": false,
    "ExecuteTime": {
     "end_time": "2023-11-20T10:37:43.660636Z",
     "start_time": "2023-11-20T10:37:43.583870Z"
    }
   },
   "id": "740f3efe95cca1bc"
  },
  {
   "cell_type": "code",
   "execution_count": 95,
   "outputs": [],
   "source": [
    "price_outlier(clean_data)"
   ],
   "metadata": {
    "collapsed": false,
    "ExecuteTime": {
     "end_time": "2023-11-20T10:38:05.568179Z",
     "start_time": "2023-11-20T10:38:03.640477Z"
    }
   },
   "id": "d4311f958b7a5086"
  },
  {
   "cell_type": "code",
   "execution_count": 96,
   "outputs": [
    {
     "data": {
      "text/plain": "False    2997\nName: outlier, dtype: int64"
     },
     "execution_count": 96,
     "metadata": {},
     "output_type": "execute_result"
    }
   ],
   "source": [
    "clean_data['outlier'].value_counts()"
   ],
   "metadata": {
    "collapsed": false,
    "ExecuteTime": {
     "end_time": "2023-11-20T10:38:20.233102Z",
     "start_time": "2023-11-20T10:38:20.180630Z"
    }
   },
   "id": "217f8622a06bc5e"
  },
  {
   "cell_type": "code",
   "execution_count": 98,
   "outputs": [
    {
     "data": {
      "text/plain": "1"
     },
     "execution_count": 98,
     "metadata": {},
     "output_type": "execute_result"
    }
   ],
   "source": [
    "clean_data['CodProducto'].value_counts().min()"
   ],
   "metadata": {
    "collapsed": false,
    "ExecuteTime": {
     "end_time": "2023-11-20T10:39:40.490962Z",
     "start_time": "2023-11-20T10:39:40.474064Z"
    }
   },
   "id": "2c38adc40864ebd6"
  },
  {
   "cell_type": "code",
   "execution_count": 104,
   "outputs": [],
   "source": [
    "date_code_value_counts = clean_data[['FechaCesta','CodProducto']].value_counts()"
   ],
   "metadata": {
    "collapsed": false,
    "ExecuteTime": {
     "end_time": "2023-11-20T10:44:27.445472Z",
     "start_time": "2023-11-20T10:44:27.388730Z"
    }
   },
   "id": "75f28243435ddde1"
  },
  {
   "cell_type": "code",
   "execution_count": 111,
   "outputs": [
    {
     "data": {
      "text/plain": "FechaCesta  CodProducto\n2022-04-18  270048.0       1\n            290364.0       1\n            270052.0       1\n            290568.0       1\n            290631.0       1\n                          ..\n2022-09-07  59961.0        1\n            52994.0        1\n2022-09-05  947064.0       1\n            938178.0       1\n2022-01-03  1405.0         1\nLength: 2965, dtype: int64"
     },
     "execution_count": 111,
     "metadata": {},
     "output_type": "execute_result"
    }
   ],
   "source": [
    "date_code_value_counts.loc[lambda x:x==1]"
   ],
   "metadata": {
    "collapsed": false,
    "ExecuteTime": {
     "end_time": "2023-11-20T10:46:51.306711Z",
     "start_time": "2023-11-20T10:46:51.265565Z"
    }
   },
   "id": "6bbdf1cdf39307ee"
  },
  {
   "cell_type": "code",
   "execution_count": null,
   "outputs": [],
   "source": [
    "# could be something like the traditional methods  (P < Q1-1.5IQR) OR (Q3+1.5IQR)>P\n",
    "\n"
   ],
   "metadata": {
    "collapsed": false
   },
   "id": "6562b102c8492cb7"
  }
 ],
 "metadata": {
  "kernelspec": {
   "display_name": "Python 3",
   "language": "python",
   "name": "python3"
  },
  "language_info": {
   "codemirror_mode": {
    "name": "ipython",
    "version": 2
   },
   "file_extension": ".py",
   "mimetype": "text/x-python",
   "name": "python",
   "nbconvert_exporter": "python",
   "pygments_lexer": "ipython2",
   "version": "2.7.6"
  }
 },
 "nbformat": 4,
 "nbformat_minor": 5
}

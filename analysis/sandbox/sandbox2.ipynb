{
 "cells": [
  {
   "cell_type": "code",
   "execution_count": 2,
   "id": "initial_id",
   "metadata": {
    "collapsed": true,
    "ExecuteTime": {
     "end_time": "2023-11-23T09:46:32.252347Z",
     "start_time": "2023-11-23T09:46:32.231976Z"
    }
   },
   "outputs": [],
   "source": [
    "import os\n",
    "import pandas as pd\n",
    "import numpy as np"
   ]
  },
  {
   "cell_type": "markdown",
   "source": [
    "## Creating workfile"
   ],
   "metadata": {
    "collapsed": false
   },
   "id": "7b37df708be887f6"
  },
  {
   "cell_type": "code",
   "execution_count": 3,
   "outputs": [
    {
     "data": {
      "text/plain": "['Datos_2022.csv',\n 'trial.dta',\n 'retyped.xlsx',\n 'Explicacion_VariablesV3.xlsx',\n 'Explicacion_VariablesV2.xlsx',\n 'Explicacion_VariablesV3.numbers',\n 'eng_re_typed.csv',\n 'Carrefour_2019_2020_2021_prepared2_02_11_2023.dta',\n '2022_raw_100-1500.dta',\n 're_typed.csv',\n '2022_raw_20-100.dta',\n '2022_raw_1500-inf.dta',\n '2022_raw_1-20.dta']"
     },
     "execution_count": 3,
     "metadata": {},
     "output_type": "execute_result"
    }
   ],
   "source": [
    "data_dir='./data_kantar/'\n",
    "os.listdir(data_dir)"
   ],
   "metadata": {
    "collapsed": false,
    "ExecuteTime": {
     "end_time": "2023-11-23T09:46:34.391535Z",
     "start_time": "2023-11-23T09:46:34.376012Z"
    }
   },
   "id": "7a3b4f838d542e4c"
  },
  {
   "cell_type": "code",
   "execution_count": 4,
   "outputs": [],
   "source": [
    "read_able_columns = pd.read_excel(data_dir+'Explicacion_VariablesV3.xlsx', engine='openpyxl')\n"
   ],
   "metadata": {
    "collapsed": false,
    "ExecuteTime": {
     "end_time": "2023-11-23T09:46:48.039295Z",
     "start_time": "2023-11-23T09:46:47.788563Z"
    }
   },
   "id": "889966ee760fc800"
  },
  {
   "cell_type": "code",
   "execution_count": 103,
   "outputs": [],
   "source": [
    "# remove culumns that are not needed\n",
    "# TODO - put to other worksheets or something\n",
    "# TODO -CodIndividuo should go to shops\n",
    "'''\n",
    "columns_to_keep=['idCompra', 'CodPanelista', 'CodProducto', 'CodigoBarras', 'FechaCesta',\n",
    "       'PrecioCompra', 'Cantidad', 'Precio', 'CodLugarCompra', 'Lugar_Compra',\n",
    "       'Canal', 'CodIndividuo', 'Provincia', 'Region',\n",
    "       'promo_folleto', 'promo_envase', 'promo']\n",
    "'''\n",
    "\n",
    "#codevf vs codproducto??\n",
    "product_attributes=['CodProducto','CodigoBarras','CodVF', 'VF', 'SA7_BPL', 'SA4_Fabricante', 'SA3_Marca', 'SA2_Submarca',\n",
    "       'X102_Aditivos', 'X108_Usuario', 'X109_Estado', 'X112_Niv_Calorias',\n",
    "       'X124_Estilo', 'X127_Tipo_Bañado_Choc', 'X129_Tipo_Pasteleria',\n",
    "       'X135_Uso', 'X143_Tipo_Corte', 'X163_Info_Cafeina',\n",
    "       'X167_Grado_Curacion', 'X169_Cont_Materia_Grasa', 'X174_Despiece.Corte',\n",
    "       'X182_Tipo_Queso', 'X188_Tipo_Pan', 'X189_Tipo_Viena',\n",
    "       'X206_Tipo_Pescado', 'X230_Niv_Concentracion',\n",
    "       'X314_Tipo_Cena.Entrante', 'X315_Tipo_Carne', 'X323_Tipo_Sazonamiento',\n",
    "       'X328_Tipo_Aceite', 'X329_Pureness_Niveau', 'X360_Tipo_Verdura',\n",
    "       'X366_Tipo_Postre', 'X383_Tipo_Yogurt', 'X384_Tipo_Cena',\n",
    "       'X489_Como_Compro.', 'X490_Fresca.Congelada', 'X491_Presentacion',\n",
    "       'X497_Tipo_Queso', 'X498_Marcas_Queso', 'X500_Tipo_Embutido',\n",
    "       'X514_Tipo_Carne', 'X527_Tipo_Cafe', 'X529_Tipo_Producto',\n",
    "       'X531_Info_Biologica', 'X558_Variedad_Queso', 'X571_Peso_Bebe',\n",
    "       'X674_Tipo_Helado', 'X901_Localizacion', 'X902_Tipo_Producto',\n",
    "       'X903_Envase', 'X904_Variedad.Sabor', 'X5_Num_Tot_Unidades',\n",
    "       'X18_Num_Tot_Paquetes.Botes', 'X66_Preferred_Unit_Measure',]\n",
    "\n",
    "purchase_attributes=['idCompra', 'CodPanelista', 'CodProducto','FechaCesta',\t'PrecioCompra', 'Cantidad', 'Precio', 'CodLugarCompra','TipoMaquina', 'Promo_Folleto', 'Promo_Envase', 'Promo_TPR','promo']\n",
    "\n",
    "shop_attributes=['CodLugarCompra','Lugar_Compra','Canal']\n",
    "\n",
    "\n",
    "customer_attributes=['CodPanelista','CodIndividuo', 'CC_AA', 'Edad_Ama', 'NF', 'Numero_Gatos','Numero_Perros', 'Presencia_Niños', 'CodIMC', 'IMC', 'Ponderacion','Ciclo_Vida', 'Clase_EGM', 'Clase_Social', 'Habitat_Metropolitano',\n",
    "       'Habitat_Municipal_Std', 'Inmigrante', 'Provincia', 'Region',]\n",
    "'''\n",
    "all_columns=['idCompra', 'CodPanelista', 'CodProducto', 'CodigoBarras', 'FechaCesta',\n",
    "       'PrecioCompra', 'Cantidad', 'Precio', 'CodLugarCompra', 'Lugar_Compra',\n",
    "       'Canal', 'CodIndividuo', 'CC_AA', 'Edad_Ama', 'NF', 'Numero_Gatos',\n",
    "       'Numero_Perros', 'Presencia_Niños', 'CodIMC', 'IMC', 'Ponderacion',\n",
    "       'CodVF', 'VF', 'SA7_BPL', 'SA4_Fabricante', 'SA3_Marca', 'SA2_Submarca',\n",
    "       'X102_Aditivos', 'X108_Usuario', 'X109_Estado', 'X112_Niv_Calorias',\n",
    "       'X124_Estilo', 'X127_Tipo_Bañado_Choc', 'X129_Tipo_Pasteleria',\n",
    "       'X135_Uso', 'X143_Tipo_Corte', 'X163_Info_Cafeina',\n",
    "       'X167_Grado_Curacion', 'X169_Cont_Materia_Grasa', 'X174_Despiece.Corte',\n",
    "       'X182_Tipo_Queso', 'X188_Tipo_Pan', 'X189_Tipo_Viena',\n",
    "       'X206_Tipo_Pescado', 'X230_Niv_Concentracion',\n",
    "       'X314_Tipo_Cena.Entrante', 'X315_Tipo_Carne', 'X323_Tipo_Sazonamiento',\n",
    "       'X328_Tipo_Aceite', 'X329_Pureness_Niveau', 'X360_Tipo_Verdura',\n",
    "       'X366_Tipo_Postre', 'X383_Tipo_Yogurt', 'X384_Tipo_Cena',\n",
    "       'X489_Como_Compro.', 'X490_Fresca.Congelada', 'X491_Presentacion',\n",
    "       'X497_Tipo_Queso', 'X498_Marcas_Queso', 'X500_Tipo_Embutido',\n",
    "       'X514_Tipo_Carne', 'X527_Tipo_Cafe', 'X529_Tipo_Producto',\n",
    "       'X531_Info_Biologica', 'X558_Variedad_Queso', 'X571_Peso_Bebe',\n",
    "       'X674_Tipo_Helado', 'X901_Localizacion', 'X902_Tipo_Producto',\n",
    "       'X903_Envase', 'X904_Variedad.Sabor', 'X5_Num_Tot_Unidades',\n",
    "       'X18_Num_Tot_Paquetes.Botes', 'X66_Preferred_Unit_Measure',\n",
    "       'TipoMaquina', 'Promo_Folleto', 'Promo_Envase', 'Promo_TPR',\n",
    "       'Ciclo_Vida', 'Clase_EGM', 'Clase_Social', 'Habitat_Metropolitano',\n",
    "       'Habitat_Municipal_Std', 'Inmigrante', 'Provincia', 'Region',\n",
    "       'promo_folleto', 'promo_envase', 'promo']\n",
    "\n",
    "columns_to_drop= [x for x in all_columns if x not in columns_to_keep]\n",
    "columns_to_drop\n",
    "'''\n",
    "\n",
    "tables={'customers': customer_attributes,'purchases':purchase_attributes,'products': product_attributes,'shops':shop_attributes }"
   ],
   "metadata": {
    "collapsed": false,
    "ExecuteTime": {
     "end_time": "2023-11-23T15:19:05.945162Z",
     "start_time": "2023-11-23T15:19:05.933207Z"
    }
   },
   "id": "848d5de952c29ba"
  },
  {
   "cell_type": "code",
   "execution_count": 52,
   "outputs": [],
   "source": [
    "# define mapping of types\n",
    "type_dict=dict(zip(read_able_columns['Variable'].str.strip(),read_able_columns['Tipo Variable'].str.strip()))\n",
    "type_translation={'ID':'int64','Fecha':'datetime','Numérica':'int64','Categórica':'category','Dicotómica':'bool'}   "
   ],
   "metadata": {
    "collapsed": false,
    "ExecuteTime": {
     "end_time": "2023-11-23T10:50:29.157042Z",
     "start_time": "2023-11-23T10:50:29.152453Z"
    }
   },
   "id": "3d391773de3be8a3"
  },
  {
   "cell_type": "code",
   "execution_count": 53,
   "outputs": [],
   "source": [
    "# map translation dict\n",
    "type_dict_new ={ k:type_translation[v] for k,v in type_dict.items() }\n",
    "\n"
   ],
   "metadata": {
    "collapsed": false,
    "ExecuteTime": {
     "end_time": "2023-11-23T10:50:50.254907Z",
     "start_time": "2023-11-23T10:50:50.244140Z"
    }
   },
   "id": "d9e6875f43400ddb"
  },
  {
   "cell_type": "code",
   "execution_count": 54,
   "outputs": [
    {
     "data": {
      "text/plain": "{'idCompra': 'int64',\n 'CodProducto': 'int64',\n 'CodigoBarras': 'int64',\n 'FechaCesta': 'datetime',\n 'PrecioCompra': 'int64',\n 'Cantidad': 'int64',\n 'Precio': 'int64',\n 'CodLugarCompra': 'int64',\n 'Lugar_Compra': 'category',\n 'Canal': 'category',\n 'CodPanelista': 'int64',\n 'CodIndividuo': 'category',\n 'CC_AA': 'category',\n 'Ciclo_Vida': 'category',\n 'Clase_EGM': 'category',\n 'Clase_Social': 'category',\n 'Edad_Ama': 'int64',\n 'Habitat_Metropolitano': 'category',\n 'Habitat_Municipal_Std': 'category',\n 'Inmigrante': 'bool',\n 'NF': 'category',\n 'Numero_Gatos': 'category',\n 'Numero_Perros': 'int64',\n 'Presencia_Niños': 'int64',\n 'Provincia': 'category',\n 'Region': 'category',\n 'CodIMC': 'category',\n 'IMC': 'category',\n 'Ponderacion': 'int64',\n 'CodVF': 'category',\n 'VF': 'category',\n 'SA7_BPL': 'bool',\n 'SA4_Fabricante': 'category',\n 'SA3_Marca': 'category',\n 'SA2_Submarca': 'category',\n '102_Aditivos': 'category',\n '108_Usuario': 'category',\n '109_Estado': 'category',\n '112_Niv_Calorias': 'category',\n '124_Estilo': 'category',\n '127_Tipo_Bañado_Choc': 'category',\n '129_Tipo_Pasteleria': 'category',\n '135_Uso': 'category',\n '143_Tipo_Corte': 'category',\n '163_Info_Cafeina': 'category',\n '167_Grado_Curacion': 'category',\n '169_Cont_Materia_Grasa': 'category',\n '174_Despiece.Corte': 'category',\n '182_Tipo_Queso': 'category',\n '188_Tipo_Pan': 'category',\n '189_Tipo_Viena': 'category',\n '206_Tipo_Pescado': 'category',\n '230_Niv_Concentracion': 'category',\n '314_Tipo_Cena.Entrante': 'category',\n '315_Tipo_Carne': 'category',\n '323_Tipo_Sazonamiento': 'category',\n '328_Tipo_Aceite': 'category',\n '329_Pureness_Niveau': 'category',\n '360_Tipo_Verdura': 'category',\n '366_Tipo_Postre': 'category',\n '383_Tipo_Yogurt': 'category',\n '384_Tipo_Cena': 'category',\n '489_Como_Compro.': 'category',\n '490_Fresca.Congelada': 'bool',\n '491_Presentacion': 'category',\n '497_Tipo_Queso': 'category',\n '498_Marcas_Queso': 'category',\n '500_Tipo_Embutido': 'category',\n '514_Tipo_Carne': 'category',\n '527_Tipo_Cafe': 'category',\n '529_Tipo_Producto': 'category',\n '531_Info_Biologica': 'category',\n '558_Variedad_Queso': 'category',\n '571_Peso_Bebe': 'category',\n '674_Tipo_Helado': 'category',\n '901_Localizacion': 'category',\n '902_Tipo_Producto': 'category',\n '903_Envase': 'category',\n '904_Variedad.Sabor': 'category',\n '5_Num_Tot_Unidades': 'int64',\n '18_Num_Tot_Paquetes.Botes': 'int64',\n '66_Preferred_Unit_Measure': 'int64',\n 'TipoMaquina': 'category',\n 'Promo_Folleto': 'bool',\n 'Promo_Envase': 'bool',\n 'Promo_TPR': 'bool',\n 'promo_folleto': 'category',\n 'promo_envase': 'category'}"
     },
     "execution_count": 54,
     "metadata": {},
     "output_type": "execute_result"
    }
   ],
   "source": [
    "type_dict_new"
   ],
   "metadata": {
    "collapsed": false,
    "ExecuteTime": {
     "end_time": "2023-11-23T10:50:50.302499Z",
     "start_time": "2023-11-23T10:50:50.283546Z"
    }
   },
   "id": "fe21f46a210641b"
  },
  {
   "cell_type": "code",
   "execution_count": 55,
   "outputs": [],
   "source": [
    "type_dict_new={('X'+k if k[0].isdigit() else k):v for k,v in type_dict_new.items() }\n",
    "type_dict_new['CodigoBarras']='str'\n",
    "# TODO categorical vs int vs string...\n",
    "# TODO check why it is needed , leave as categorical now..\n",
    "type_dict_new['Presencia_Niños']='category'\n",
    "# when reading, should be given... \n",
    "del type_dict_new['FechaCesta']"
   ],
   "metadata": {
    "collapsed": false,
    "ExecuteTime": {
     "end_time": "2023-11-23T10:50:50.302745Z",
     "start_time": "2023-11-23T10:50:50.298400Z"
    }
   },
   "id": "d764d178f54d13e7"
  },
  {
   "cell_type": "code",
   "execution_count": 56,
   "outputs": [],
   "source": [
    "# because stata cannot handle too many categories with long names:\n",
    "for cn in product_attributes:\n",
    "       if type_dict_new[cn]=='category':\n",
    "              type_dict_new[cn]='str'"
   ],
   "metadata": {
    "collapsed": false,
    "ExecuteTime": {
     "end_time": "2023-11-23T10:50:50.325348Z",
     "start_time": "2023-11-23T10:50:50.303556Z"
    }
   },
   "id": "b482fad6a1e3b9cf"
  },
  {
   "cell_type": "code",
   "execution_count": 19,
   "outputs": [],
   "source": [
    "year=2022"
   ],
   "metadata": {
    "collapsed": false,
    "ExecuteTime": {
     "start_time": "2023-11-23T09:57:51.901877Z"
    }
   },
   "id": "3d0992a19135a438"
  },
  {
   "cell_type": "code",
   "execution_count": 90,
   "outputs": [
    {
     "name": "stderr",
     "output_type": "stream",
     "text": [
      "/Users/peterkiss/anaconda3/envs/kantar_data_env/lib/python3.7/site-packages/IPython/core/interactiveshell.py:3146: DtypeWarning: Columns (28,42,45,51) have mixed types.Specify dtype option on import or set low_memory=False.\n",
      "  interactivity=interactivity, compiler=compiler, result=result)\n"
     ]
    }
   ],
   "source": [
    "\n",
    "source_df_test=pd.read_csv(data_dir+f'Datos_{year}.csv',#nrows=1000,\n",
    "                           encoding = \"ISO-8859-1\", delimiter=\";\" ,error_bad_lines=False, parse_dates=['FechaCesta'])"
   ],
   "metadata": {
    "collapsed": false,
    "ExecuteTime": {
     "end_time": "2023-11-23T15:00:58.657020Z",
     "start_time": "2023-11-23T14:58:21.064112Z"
    }
   },
   "id": "343e85ba99c14a6b"
  },
  {
   "cell_type": "code",
   "execution_count": 72,
   "outputs": [
    {
     "data": {
      "text/plain": "  Promo_Envase Promo_Folleto Promo_TPR\n0           No            No        No\n1           No            No        No\n2           No            No        No\n3           No            No        No\n4           No            No        No",
      "text/html": "<div>\n<style scoped>\n    .dataframe tbody tr th:only-of-type {\n        vertical-align: middle;\n    }\n\n    .dataframe tbody tr th {\n        vertical-align: top;\n    }\n\n    .dataframe thead th {\n        text-align: right;\n    }\n</style>\n<table border=\"1\" class=\"dataframe\">\n  <thead>\n    <tr style=\"text-align: right;\">\n      <th></th>\n      <th>Promo_Envase</th>\n      <th>Promo_Folleto</th>\n      <th>Promo_TPR</th>\n    </tr>\n  </thead>\n  <tbody>\n    <tr>\n      <th>0</th>\n      <td>No</td>\n      <td>No</td>\n      <td>No</td>\n    </tr>\n    <tr>\n      <th>1</th>\n      <td>No</td>\n      <td>No</td>\n      <td>No</td>\n    </tr>\n    <tr>\n      <th>2</th>\n      <td>No</td>\n      <td>No</td>\n      <td>No</td>\n    </tr>\n    <tr>\n      <th>3</th>\n      <td>No</td>\n      <td>No</td>\n      <td>No</td>\n    </tr>\n    <tr>\n      <th>4</th>\n      <td>No</td>\n      <td>No</td>\n      <td>No</td>\n    </tr>\n  </tbody>\n</table>\n</div>"
     },
     "execution_count": 72,
     "metadata": {},
     "output_type": "execute_result"
    }
   ],
   "source": [
    "source_df_test[['Promo_Envase','Promo_Folleto','Promo_TPR']].head()"
   ],
   "metadata": {
    "collapsed": false,
    "ExecuteTime": {
     "end_time": "2023-11-23T14:41:44.240114Z",
     "start_time": "2023-11-23T14:41:44.223190Z"
    }
   },
   "id": "91edfad411921727"
  },
  {
   "cell_type": "code",
   "execution_count": 93,
   "outputs": [
    {
     "data": {
      "text/plain": "Promo_Envase     bool\nPromo_Folleto    bool\nPromo_TPR        bool\ndtype: object"
     },
     "execution_count": 93,
     "metadata": {},
     "output_type": "execute_result"
    }
   ],
   "source": [
    "source_df_test[['Promo_Envase','Promo_Folleto','Promo_TPR']].dtypes"
   ],
   "metadata": {
    "collapsed": false,
    "ExecuteTime": {
     "end_time": "2023-11-23T15:03:46.185123Z",
     "start_time": "2023-11-23T15:03:46.118486Z"
    }
   },
   "id": "1ec5473c3ebca299"
  },
  {
   "cell_type": "markdown",
   "source": [],
   "metadata": {
    "collapsed": false
   },
   "id": "faf3c04c8d4df76c"
  },
  {
   "cell_type": "code",
   "execution_count": 91,
   "outputs": [],
   "source": [
    "source_df_test['Promo_Envase']=source_df_test['Promo_Envase'].map({'No':False, 'Si':True})\n",
    "source_df_test['Promo_Folleto']=source_df_test['Promo_Folleto'].map({'No':False, 'Si':True})\n",
    "source_df_test['Promo_TPR']=source_df_test['Promo_TPR'].map({'No':False, 'Si':True})\n",
    "\n",
    "\n"
   ],
   "metadata": {
    "collapsed": false,
    "ExecuteTime": {
     "end_time": "2023-11-23T15:01:22.804223Z",
     "start_time": "2023-11-23T15:00:59.161342Z"
    }
   },
   "id": "cfe86933bba2d95b"
  },
  {
   "cell_type": "code",
   "execution_count": 75,
   "outputs": [],
   "source": [],
   "metadata": {
    "collapsed": false,
    "ExecuteTime": {
     "end_time": "2023-11-23T14:43:25.556968Z",
     "start_time": "2023-11-23T14:43:25.553100Z"
    }
   },
   "id": "54231520945c6387"
  },
  {
   "cell_type": "code",
   "execution_count": 92,
   "outputs": [
    {
     "data": {
      "text/plain": "   Promo_Envase  Promo_Folleto  Promo_TPR\n0         False          False      False\n1         False          False      False\n2         False          False      False\n3         False          False      False\n4         False          False      False",
      "text/html": "<div>\n<style scoped>\n    .dataframe tbody tr th:only-of-type {\n        vertical-align: middle;\n    }\n\n    .dataframe tbody tr th {\n        vertical-align: top;\n    }\n\n    .dataframe thead th {\n        text-align: right;\n    }\n</style>\n<table border=\"1\" class=\"dataframe\">\n  <thead>\n    <tr style=\"text-align: right;\">\n      <th></th>\n      <th>Promo_Envase</th>\n      <th>Promo_Folleto</th>\n      <th>Promo_TPR</th>\n    </tr>\n  </thead>\n  <tbody>\n    <tr>\n      <th>0</th>\n      <td>False</td>\n      <td>False</td>\n      <td>False</td>\n    </tr>\n    <tr>\n      <th>1</th>\n      <td>False</td>\n      <td>False</td>\n      <td>False</td>\n    </tr>\n    <tr>\n      <th>2</th>\n      <td>False</td>\n      <td>False</td>\n      <td>False</td>\n    </tr>\n    <tr>\n      <th>3</th>\n      <td>False</td>\n      <td>False</td>\n      <td>False</td>\n    </tr>\n    <tr>\n      <th>4</th>\n      <td>False</td>\n      <td>False</td>\n      <td>False</td>\n    </tr>\n  </tbody>\n</table>\n</div>"
     },
     "execution_count": 92,
     "metadata": {},
     "output_type": "execute_result"
    }
   ],
   "source": [
    "source_df_test[['Promo_Envase','Promo_Folleto','Promo_TPR']].head()"
   ],
   "metadata": {
    "collapsed": false,
    "ExecuteTime": {
     "end_time": "2023-11-23T15:01:22.907455Z",
     "start_time": "2023-11-23T15:01:22.816466Z"
    }
   },
   "id": "29fe65f964c1452c"
  },
  {
   "cell_type": "code",
   "execution_count": 10,
   "outputs": [
    {
     "data": {
      "text/plain": "idCompra                  int64\nCodPanelista              int64\nCodProducto               int64\nCodigoBarras             object\nFechaCesta       datetime64[ns]\n                      ...      \nInmigrante               object\nProvincia                object\nRegion                   object\npromo_folleto            object\npromo_envase             object\nLength: 88, dtype: object"
     },
     "execution_count": 10,
     "metadata": {},
     "output_type": "execute_result"
    }
   ],
   "source": [
    "source_df_test.dtypes"
   ],
   "metadata": {
    "collapsed": false,
    "ExecuteTime": {
     "start_time": "2023-11-23T09:52:56.589740Z"
    }
   },
   "id": "33c37a50f59d01cd"
  },
  {
   "cell_type": "code",
   "execution_count": 11,
   "outputs": [],
   "source": [
    "# fixing children issue\n",
    "# doesnt seem to be necessary..\n",
    "#source_df_test.loc[source_df_test['Presencia_Niños'].str.contains('No'),'Presencia_Niños']=0\n"
   ],
   "metadata": {
    "collapsed": false,
    "ExecuteTime": {
     "start_time": "2023-11-23T09:52:56.598694Z"
    }
   },
   "id": "953bb49e9d7af539"
  },
  {
   "cell_type": "code",
   "execution_count": 94,
   "outputs": [
    {
     "data": {
      "text/plain": "False    7429229\nTrue      154928\nName: Promo_Envase, dtype: int64"
     },
     "execution_count": 94,
     "metadata": {},
     "output_type": "execute_result"
    }
   ],
   "source": [
    "source_df_test['Promo_Envase'].value_counts()"
   ],
   "metadata": {
    "collapsed": false,
    "ExecuteTime": {
     "end_time": "2023-11-23T15:04:18.382792Z",
     "start_time": "2023-11-23T15:04:18.283557Z"
    }
   },
   "id": "bbdc486d68fd2aff"
  },
  {
   "cell_type": "code",
   "execution_count": 95,
   "outputs": [
    {
     "data": {
      "text/plain": "False    7425026\nTrue      159131\nName: Promo_Folleto, dtype: int64"
     },
     "execution_count": 95,
     "metadata": {},
     "output_type": "execute_result"
    }
   ],
   "source": [
    "source_df_test['Promo_Folleto'].value_counts()\n"
   ],
   "metadata": {
    "collapsed": false,
    "ExecuteTime": {
     "end_time": "2023-11-23T15:04:18.475548Z",
     "start_time": "2023-11-23T15:04:18.380338Z"
    }
   },
   "id": "dde5b1c64477bef3"
  },
  {
   "cell_type": "code",
   "execution_count": 96,
   "outputs": [
    {
     "data": {
      "text/plain": "False    7222463\nTrue      361694\nName: Promo_TPR, dtype: int64"
     },
     "execution_count": 96,
     "metadata": {},
     "output_type": "execute_result"
    }
   ],
   "source": [
    "source_df_test['Promo_TPR'].value_counts()\n"
   ],
   "metadata": {
    "collapsed": false,
    "ExecuteTime": {
     "end_time": "2023-11-23T15:04:18.598717Z",
     "start_time": "2023-11-23T15:04:18.476382Z"
    }
   },
   "id": "71fe646d45af8447"
  },
  {
   "cell_type": "markdown",
   "source": [],
   "metadata": {
    "collapsed": false
   },
   "id": "52686c907b05e93c"
  },
  {
   "cell_type": "code",
   "execution_count": 97,
   "outputs": [],
   "source": [
    "# coverting types\n",
    "source_df_test=source_df_test.astype(type_dict_new)\n"
   ],
   "metadata": {
    "collapsed": false,
    "ExecuteTime": {
     "end_time": "2023-11-23T15:08:39.651338Z",
     "start_time": "2023-11-23T15:04:44.686681Z"
    }
   },
   "id": "90931a4fa22ec952"
  },
  {
   "cell_type": "markdown",
   "source": [],
   "metadata": {
    "collapsed": false
   },
   "id": "3386674a0150e34d"
  },
  {
   "cell_type": "code",
   "execution_count": 98,
   "outputs": [],
   "source": [
    "source_df_test['promo']= np.where( source_df_test['Promo_Folleto'] | source_df_test['Promo_Envase'] | source_df_test['Promo_TPR'],True,False)"
   ],
   "metadata": {
    "collapsed": false,
    "ExecuteTime": {
     "end_time": "2023-11-23T15:08:39.790646Z",
     "start_time": "2023-11-23T15:08:39.685773Z"
    }
   },
   "id": "8bebc85b30c0b178"
  },
  {
   "cell_type": "code",
   "execution_count": 101,
   "outputs": [
    {
     "data": {
      "text/plain": "False    6908404\nTrue      675753\nName: promo, dtype: int64"
     },
     "execution_count": 101,
     "metadata": {},
     "output_type": "execute_result"
    }
   ],
   "source": [
    "source_df_test['promo'].value_counts()"
   ],
   "metadata": {
    "collapsed": false,
    "ExecuteTime": {
     "end_time": "2023-11-23T15:10:21.639835Z",
     "start_time": "2023-11-23T15:10:21.528006Z"
    }
   },
   "id": "874d211a81874488"
  },
  {
   "cell_type": "code",
   "execution_count": 100,
   "outputs": [
    {
     "data": {
      "text/plain": "0    False\n1    False\n2    False\n3    False\n4    False\nName: promo, dtype: bool"
     },
     "execution_count": 100,
     "metadata": {},
     "output_type": "execute_result"
    }
   ],
   "source": [
    "source_df_test['promo'].head()"
   ],
   "metadata": {
    "collapsed": false,
    "ExecuteTime": {
     "end_time": "2023-11-23T15:09:52.555604Z",
     "start_time": "2023-11-23T15:09:52.547524Z"
    }
   },
   "id": "f641efb108a5f516"
  },
  {
   "cell_type": "code",
   "execution_count": 58,
   "outputs": [
    {
     "data": {
      "text/plain": "Index(['idCompra', 'CodPanelista', 'CodProducto', 'CodigoBarras', 'FechaCesta',\n       'PrecioCompra', 'Cantidad', 'Precio', 'CodLugarCompra', 'Lugar_Compra',\n       'Canal', 'CodIndividuo', 'CC_AA', 'Edad_Ama', 'NF', 'Numero_Gatos',\n       'Numero_Perros', 'Presencia_Niños', 'CodIMC', 'IMC', 'Ponderacion',\n       'CodVF', 'VF', 'SA7_BPL', 'SA4_Fabricante', 'SA3_Marca', 'SA2_Submarca',\n       'X102_Aditivos', 'X108_Usuario', 'X109_Estado', 'X112_Niv_Calorias',\n       'X124_Estilo', 'X127_Tipo_Bañado_Choc', 'X129_Tipo_Pasteleria',\n       'X135_Uso', 'X143_Tipo_Corte', 'X163_Info_Cafeina',\n       'X167_Grado_Curacion', 'X169_Cont_Materia_Grasa', 'X174_Despiece.Corte',\n       'X182_Tipo_Queso', 'X188_Tipo_Pan', 'X189_Tipo_Viena',\n       'X206_Tipo_Pescado', 'X230_Niv_Concentracion',\n       'X314_Tipo_Cena.Entrante', 'X315_Tipo_Carne', 'X323_Tipo_Sazonamiento',\n       'X328_Tipo_Aceite', 'X329_Pureness_Niveau', 'X360_Tipo_Verdura',\n       'X366_Tipo_Postre', 'X383_Tipo_Yogurt', 'X384_Tipo_Cena',\n       'X489_Como_Compro.', 'X490_Fresca.Congelada', 'X491_Presentacion',\n       'X497_Tipo_Queso', 'X498_Marcas_Queso', 'X500_Tipo_Embutido',\n       'X514_Tipo_Carne', 'X527_Tipo_Cafe', 'X529_Tipo_Producto',\n       'X531_Info_Biologica', 'X558_Variedad_Queso', 'X571_Peso_Bebe',\n       'X674_Tipo_Helado', 'X901_Localizacion', 'X902_Tipo_Producto',\n       'X903_Envase', 'X904_Variedad.Sabor', 'X5_Num_Tot_Unidades',\n       'X18_Num_Tot_Paquetes.Botes', 'X66_Preferred_Unit_Measure',\n       'TipoMaquina', 'Promo_Folleto', 'Promo_Envase', 'Promo_TPR',\n       'Ciclo_Vida', 'Clase_EGM', 'Clase_Social', 'Habitat_Metropolitano',\n       'Habitat_Municipal_Std', 'Inmigrante', 'Provincia', 'Region',\n       'promo_folleto', 'promo_envase', 'promo'],\n      dtype='object')"
     },
     "execution_count": 58,
     "metadata": {},
     "output_type": "execute_result"
    }
   ],
   "source": [
    "source_df_test.columns"
   ],
   "metadata": {
    "collapsed": false,
    "ExecuteTime": {
     "end_time": "2023-11-23T10:55:30.312478Z",
     "start_time": "2023-11-23T10:55:30.215483Z"
    }
   },
   "id": "99d5e3829a8c9e5a"
  },
  {
   "cell_type": "code",
   "execution_count": 104,
   "outputs": [
    {
     "name": "stderr",
     "output_type": "stream",
     "text": [
      "/Users/peterkiss/anaconda3/envs/kantar_data_env/lib/python3.7/site-packages/pandas/io/stata.py:2398: InvalidColumnName: \n",
      "Not all pandas column names were valid Stata variable names.\n",
      "The following replacements have been made:\n",
      "\n",
      "    Presencia_Niños   ->   Presencia_Ni_os\n",
      "\n",
      "If this is not what you expect, please make sure you have Stata-compliant\n",
      "column names in your DataFrame (strings only, max 32 characters, only\n",
      "alphanumerics and underscores, no Stata reserved words)\n",
      "\n",
      "  warnings.warn(ws, InvalidColumnName)\n",
      "/Users/peterkiss/anaconda3/envs/kantar_data_env/lib/python3.7/site-packages/pandas/io/stata.py:650: ValueLabelTypeMismatch: \n",
      "Stata value labels (pandas categories) must be strings. Column CodIndividuo contains\n",
      "non-string labels which will be converted to strings.  Please check that the\n",
      "Stata data file created has not lost information due to duplicate labels.\n",
      "\n",
      "  ValueLabelTypeMismatch,\n",
      "/Users/peterkiss/anaconda3/envs/kantar_data_env/lib/python3.7/site-packages/pandas/io/stata.py:650: ValueLabelTypeMismatch: \n",
      "Stata value labels (pandas categories) must be strings. Column NF contains\n",
      "non-string labels which will be converted to strings.  Please check that the\n",
      "Stata data file created has not lost information due to duplicate labels.\n",
      "\n",
      "  ValueLabelTypeMismatch,\n",
      "/Users/peterkiss/anaconda3/envs/kantar_data_env/lib/python3.7/site-packages/pandas/io/stata.py:650: ValueLabelTypeMismatch: \n",
      "Stata value labels (pandas categories) must be strings. Column Numero_Gatos contains\n",
      "non-string labels which will be converted to strings.  Please check that the\n",
      "Stata data file created has not lost information due to duplicate labels.\n",
      "\n",
      "  ValueLabelTypeMismatch,\n",
      "/Users/peterkiss/anaconda3/envs/kantar_data_env/lib/python3.7/site-packages/pandas/io/stata.py:650: ValueLabelTypeMismatch: \n",
      "Stata value labels (pandas categories) must be strings. Column CodIMC contains\n",
      "non-string labels which will be converted to strings.  Please check that the\n",
      "Stata data file created has not lost information due to duplicate labels.\n",
      "\n",
      "  ValueLabelTypeMismatch,\n",
      "/Users/peterkiss/anaconda3/envs/kantar_data_env/lib/python3.7/site-packages/pandas/io/stata.py:2398: InvalidColumnName: \n",
      "Not all pandas column names were valid Stata variable names.\n",
      "The following replacements have been made:\n",
      "\n",
      "    X127_Tipo_Bañado_Choc   ->   X127_Tipo_Ba_ado_Choc\n",
      "    X174_Despiece.Corte   ->   X174_Despiece_Corte\n",
      "    X314_Tipo_Cena.Entrante   ->   X314_Tipo_Cena_Entrante\n",
      "    X489_Como_Compro.   ->   X489_Como_Compro_\n",
      "    X490_Fresca.Congelada   ->   X490_Fresca_Congelada\n",
      "    X904_Variedad.Sabor   ->   X904_Variedad_Sabor\n",
      "    X18_Num_Tot_Paquetes.Botes   ->   X18_Num_Tot_Paquetes_Botes\n",
      "\n",
      "If this is not what you expect, please make sure you have Stata-compliant\n",
      "column names in your DataFrame (strings only, max 32 characters, only\n",
      "alphanumerics and underscores, no Stata reserved words)\n",
      "\n",
      "  warnings.warn(ws, InvalidColumnName)\n"
     ]
    }
   ],
   "source": [
    "for name,attributes in tables.items():\n",
    "       source_df_test[attributes].drop_duplicates().to_stata(data_dir+f'{year}_{name}.dta')"
   ],
   "metadata": {
    "collapsed": false,
    "ExecuteTime": {
     "end_time": "2023-11-23T15:23:35.350287Z",
     "start_time": "2023-11-23T15:19:43.036900Z"
    }
   },
   "id": "f8170236d4961af8"
  },
  {
   "cell_type": "code",
   "execution_count": 25,
   "outputs": [],
   "source": [
    "products=source_df_test[tables['products']]"
   ],
   "metadata": {
    "collapsed": false,
    "ExecuteTime": {
     "end_time": "2023-11-23T10:05:32.050026Z",
     "start_time": "2023-11-23T10:05:31.943933Z"
    }
   },
   "id": "88e340ce97a6ade8"
  },
  {
   "cell_type": "code",
   "execution_count": 30,
   "outputs": [
    {
     "data": {
      "text/plain": "CodProducto                      int64\nCodigoBarras                    object\nCodVF                         category\nVF                            category\nSA7_BPL                           bool\nSA4_Fabricante                category\nSA3_Marca                     category\nSA2_Submarca                  category\nX102_Aditivos                 category\nX108_Usuario                  category\nX109_Estado                   category\nX112_Niv_Calorias             category\nX124_Estilo                   category\nX127_Tipo_Bañado_Choc         category\nX129_Tipo_Pasteleria          category\nX135_Uso                      category\nX143_Tipo_Corte               category\nX163_Info_Cafeina             category\nX167_Grado_Curacion           category\nX169_Cont_Materia_Grasa       category\nX174_Despiece.Corte           category\nX182_Tipo_Queso               category\nX188_Tipo_Pan                 category\nX189_Tipo_Viena               category\nX206_Tipo_Pescado             category\nX230_Niv_Concentracion        category\nX314_Tipo_Cena.Entrante       category\nX315_Tipo_Carne               category\nX323_Tipo_Sazonamiento        category\nX328_Tipo_Aceite              category\nX329_Pureness_Niveau          category\nX360_Tipo_Verdura             category\nX366_Tipo_Postre              category\nX383_Tipo_Yogurt              category\nX384_Tipo_Cena                category\nX489_Como_Compro.             category\nX490_Fresca.Congelada             bool\nX491_Presentacion             category\nX497_Tipo_Queso               category\nX498_Marcas_Queso             category\nX500_Tipo_Embutido            category\nX514_Tipo_Carne               category\nX527_Tipo_Cafe                category\nX529_Tipo_Producto            category\nX531_Info_Biologica           category\nX558_Variedad_Queso           category\nX571_Peso_Bebe                category\nX674_Tipo_Helado              category\nX901_Localizacion             category\nX902_Tipo_Producto            category\nX903_Envase                   category\nX904_Variedad.Sabor           category\nX5_Num_Tot_Unidades              int64\nX18_Num_Tot_Paquetes.Botes       int64\nX66_Preferred_Unit_Measure       int64\ndtype: object"
     },
     "execution_count": 30,
     "metadata": {},
     "output_type": "execute_result"
    }
   ],
   "source": [],
   "metadata": {
    "collapsed": false,
    "ExecuteTime": {
     "end_time": "2023-11-23T10:13:57.993641Z",
     "start_time": "2023-11-23T10:13:57.973713Z"
    }
   },
   "id": "12622bd7990b16d3"
  },
  {
   "cell_type": "code",
   "execution_count": 31,
   "outputs": [
    {
     "data": {
      "text/plain": "['LECHE LARGA CONSERVACION', 'V.C.D. ESPAÑOLA', 'FRUTA FRESCA A PESO (CB)', 'FRUTA Y VERDURA  FRESCA', 'FRUTA FRESCA POR PIEZAS (CB)', ..., 'MANTEQUILLA (CB)', 'ESTROPAJOS (CB)', 'LICOR DE FRUTAS (CB)', 'ZUMO DE FRUTA/VERDURA BEBE', 'ZUMOS (CB)']\nLength: 350\nCategories (350, object): ['LECHE LARGA CONSERVACION', 'V.C.D. ESPAÑOLA', 'FRUTA FRESCA A PESO (CB)', 'FRUTA Y VERDURA  FRESCA', ..., 'ESTROPAJOS (CB)', 'LICOR DE FRUTAS (CB)', 'ZUMO DE FRUTA/VERDURA BEBE', 'ZUMOS (CB)']"
     },
     "execution_count": 31,
     "metadata": {},
     "output_type": "execute_result"
    }
   ],
   "source": [
    "products.VF.unique()"
   ],
   "metadata": {
    "collapsed": false,
    "ExecuteTime": {
     "end_time": "2023-11-23T10:15:33.638289Z",
     "start_time": "2023-11-23T10:15:33.525107Z"
    }
   },
   "id": "1fe38420f8c5d70d"
  },
  {
   "cell_type": "code",
   "execution_count": 32,
   "outputs": [
    {
     "data": {
      "text/plain": "['MERCADONA S.A.', 'CONDIS SUPERMERCATS S.A.', 'NINGUNA MARCA', 'DIA SA', 'PLANTAS DE NAVARRA S.A. PLANAS', ..., 'RIO TINTO CITRICOS', 'MASQUEPET', 'GRANJA URIAGUERECA S.L.', 'RIGA', 'SOJA BLANCA']\nLength: 8894\nCategories (8894, object): ['MERCADONA S.A.', 'CONDIS SUPERMERCATS S.A.', 'NINGUNA MARCA', 'DIA SA', ..., 'MASQUEPET', 'GRANJA URIAGUERECA S.L.', 'RIGA', 'SOJA BLANCA']"
     },
     "execution_count": 32,
     "metadata": {},
     "output_type": "execute_result"
    }
   ],
   "source": [
    "# possibly this breaks stat :\n",
    "#\"ValueError: Stata value labels for a single variable must have a combined length less than 32,000 characters.\"\n",
    "\n",
    "# thus should be either stored as string or move to other table...\n",
    "products.SA4_Fabricante.unique()\n"
   ],
   "metadata": {
    "collapsed": false,
    "ExecuteTime": {
     "end_time": "2023-11-23T10:16:32.634505Z",
     "start_time": "2023-11-23T10:16:32.533047Z"
    }
   },
   "id": "3c8f3ef7f3d1a371"
  },
  {
   "cell_type": "code",
   "execution_count": 33,
   "outputs": [
    {
     "name": "stderr",
     "output_type": "stream",
     "text": [
      "/Users/peterkiss/anaconda3/envs/kantar_data_env/lib/python3.7/site-packages/ipykernel_launcher.py:1: SettingWithCopyWarning: \n",
      "A value is trying to be set on a copy of a slice from a DataFrame.\n",
      "Try using .loc[row_indexer,col_indexer] = value instead\n",
      "\n",
      "See the caveats in the documentation: https://pandas.pydata.org/pandas-docs/stable/user_guide/indexing.html#returning-a-view-versus-a-copy\n",
      "  \"\"\"Entry point for launching an IPython kernel.\n"
     ]
    }
   ],
   "source": [
    "products['SA4_Fabricante']=products['SA4_Fabricante'].astype(str)\n"
   ],
   "metadata": {
    "collapsed": false,
    "ExecuteTime": {
     "end_time": "2023-11-23T10:31:28.979407Z",
     "start_time": "2023-11-23T10:31:25.996966Z"
    }
   },
   "id": "70c05eb47978623c"
  },
  {
   "cell_type": "code",
   "execution_count": 38,
   "outputs": [
    {
     "data": {
      "text/plain": "[False,\n False,\n True,\n False,\n False,\n False,\n True,\n True,\n True,\n True,\n True,\n True,\n True,\n True,\n True,\n True,\n True,\n True,\n True,\n True,\n True,\n True,\n True,\n True,\n True,\n True,\n True,\n True,\n True,\n True,\n True,\n True,\n True,\n True,\n True,\n True,\n False,\n True,\n True,\n True,\n True,\n True,\n True,\n True,\n True,\n True,\n True,\n True,\n True,\n True,\n True,\n True,\n False,\n False,\n False]"
     },
     "execution_count": 38,
     "metadata": {},
     "output_type": "execute_result"
    }
   ],
   "source": [
    "[t.name=='category' for t in products.dtypes]"
   ],
   "metadata": {
    "collapsed": false,
    "ExecuteTime": {
     "end_time": "2023-11-23T10:36:18.690013Z",
     "start_time": "2023-11-23T10:36:18.672488Z"
    }
   },
   "id": "f402bbf17b26978d"
  },
  {
   "cell_type": "code",
   "execution_count": 41,
   "outputs": [],
   "source": [
    "categorical_column_names= [c for c in products.columns if products.dtypes[c].name=='category']"
   ],
   "metadata": {
    "collapsed": false,
    "ExecuteTime": {
     "end_time": "2023-11-23T10:39:20.564798Z",
     "start_time": "2023-11-23T10:39:20.542800Z"
    }
   },
   "id": "ca0e27e35b6138b1"
  },
  {
   "cell_type": "code",
   "execution_count": 42,
   "outputs": [
    {
     "data": {
      "text/plain": "['CodVF',\n 'SA3_Marca',\n 'SA2_Submarca',\n 'X102_Aditivos',\n 'X108_Usuario',\n 'X109_Estado',\n 'X112_Niv_Calorias',\n 'X124_Estilo',\n 'X127_Tipo_Bañado_Choc',\n 'X129_Tipo_Pasteleria',\n 'X135_Uso',\n 'X143_Tipo_Corte',\n 'X163_Info_Cafeina',\n 'X167_Grado_Curacion',\n 'X169_Cont_Materia_Grasa',\n 'X174_Despiece.Corte',\n 'X182_Tipo_Queso',\n 'X188_Tipo_Pan',\n 'X189_Tipo_Viena',\n 'X206_Tipo_Pescado',\n 'X230_Niv_Concentracion',\n 'X314_Tipo_Cena.Entrante',\n 'X315_Tipo_Carne',\n 'X323_Tipo_Sazonamiento',\n 'X328_Tipo_Aceite',\n 'X329_Pureness_Niveau',\n 'X360_Tipo_Verdura',\n 'X366_Tipo_Postre',\n 'X383_Tipo_Yogurt',\n 'X384_Tipo_Cena',\n 'X489_Como_Compro.',\n 'X491_Presentacion',\n 'X497_Tipo_Queso',\n 'X498_Marcas_Queso',\n 'X500_Tipo_Embutido',\n 'X514_Tipo_Carne',\n 'X527_Tipo_Cafe',\n 'X529_Tipo_Producto',\n 'X531_Info_Biologica',\n 'X558_Variedad_Queso',\n 'X571_Peso_Bebe',\n 'X674_Tipo_Helado',\n 'X901_Localizacion',\n 'X902_Tipo_Producto',\n 'X903_Envase',\n 'X904_Variedad.Sabor']"
     },
     "execution_count": 42,
     "metadata": {},
     "output_type": "execute_result"
    }
   ],
   "source": [
    "categorical_column_names"
   ],
   "metadata": {
    "collapsed": false,
    "ExecuteTime": {
     "end_time": "2023-11-23T10:39:30.866960Z",
     "start_time": "2023-11-23T10:39:30.840667Z"
    }
   },
   "id": "ae49ff69571878ba"
  },
  {
   "cell_type": "code",
   "execution_count": 43,
   "outputs": [
    {
     "name": "stderr",
     "output_type": "stream",
     "text": [
      "/Users/peterkiss/anaconda3/envs/kantar_data_env/lib/python3.7/site-packages/ipykernel_launcher.py:2: SettingWithCopyWarning: \n",
      "A value is trying to be set on a copy of a slice from a DataFrame.\n",
      "Try using .loc[row_indexer,col_indexer] = value instead\n",
      "\n",
      "See the caveats in the documentation: https://pandas.pydata.org/pandas-docs/stable/user_guide/indexing.html#returning-a-view-versus-a-copy\n",
      "  \n"
     ]
    }
   ],
   "source": [
    "for cn in categorical_column_names:\n",
    "       products[cn]=products[cn].astype(str)"
   ],
   "metadata": {
    "collapsed": false,
    "ExecuteTime": {
     "end_time": "2023-11-23T10:43:57.895368Z",
     "start_time": "2023-11-23T10:40:58.455263Z"
    }
   },
   "id": "f4715ac6ae92c478"
  },
  {
   "cell_type": "code",
   "execution_count": 35,
   "outputs": [
    {
     "name": "stderr",
     "output_type": "stream",
     "text": [
      "/Users/peterkiss/anaconda3/envs/kantar_data_env/lib/python3.7/site-packages/ipykernel_launcher.py:1: SettingWithCopyWarning: \n",
      "A value is trying to be set on a copy of a slice from a DataFrame.\n",
      "Try using .loc[row_indexer,col_indexer] = value instead\n",
      "\n",
      "See the caveats in the documentation: https://pandas.pydata.org/pandas-docs/stable/user_guide/indexing.html#returning-a-view-versus-a-copy\n",
      "  \"\"\"Entry point for launching an IPython kernel.\n"
     ]
    }
   ],
   "source": [
    "products['VF']=products['VF'].astype(str)\n"
   ],
   "metadata": {
    "collapsed": false,
    "ExecuteTime": {
     "end_time": "2023-11-23T10:32:28.313985Z",
     "start_time": "2023-11-23T10:32:24.988859Z"
    }
   },
   "id": "fc59058e2c2b3cf2"
  },
  {
   "cell_type": "code",
   "execution_count": 44,
   "outputs": [
    {
     "ename": "KeyboardInterrupt",
     "evalue": "",
     "output_type": "error",
     "traceback": [
      "\u001B[0;31m---------------------------------------------------------------------------\u001B[0m",
      "\u001B[0;31mKeyboardInterrupt\u001B[0m                         Traceback (most recent call last)",
      "\u001B[0;32m<ipython-input-44-4ffe3f3bf40d>\u001B[0m in \u001B[0;36m<module>\u001B[0;34m\u001B[0m\n\u001B[0;32m----> 1\u001B[0;31m \u001B[0mproducts\u001B[0m\u001B[0;34m.\u001B[0m\u001B[0mto_stata\u001B[0m\u001B[0;34m(\u001B[0m\u001B[0;34m'products_trial.dta'\u001B[0m\u001B[0;34m)\u001B[0m\u001B[0;34m\u001B[0m\u001B[0m\n\u001B[0m",
      "\u001B[0;32m~/anaconda3/envs/kantar_data_env/lib/python3.7/site-packages/pandas/util/_decorators.py\u001B[0m in \u001B[0;36mwrapper\u001B[0;34m(*args, **kwargs)\u001B[0m\n\u001B[1;32m    197\u001B[0m                 \u001B[0;32melse\u001B[0m\u001B[0;34m:\u001B[0m\u001B[0;34m\u001B[0m\u001B[0m\n\u001B[1;32m    198\u001B[0m                     \u001B[0mkwargs\u001B[0m\u001B[0;34m[\u001B[0m\u001B[0mnew_arg_name\u001B[0m\u001B[0;34m]\u001B[0m \u001B[0;34m=\u001B[0m \u001B[0mnew_arg_value\u001B[0m\u001B[0;34m\u001B[0m\u001B[0m\n\u001B[0;32m--> 199\u001B[0;31m             \u001B[0;32mreturn\u001B[0m \u001B[0mfunc\u001B[0m\u001B[0;34m(\u001B[0m\u001B[0;34m*\u001B[0m\u001B[0margs\u001B[0m\u001B[0;34m,\u001B[0m \u001B[0;34m**\u001B[0m\u001B[0mkwargs\u001B[0m\u001B[0;34m)\u001B[0m\u001B[0;34m\u001B[0m\u001B[0m\n\u001B[0m\u001B[1;32m    200\u001B[0m \u001B[0;34m\u001B[0m\u001B[0m\n\u001B[1;32m    201\u001B[0m         \u001B[0;32mreturn\u001B[0m \u001B[0mcast\u001B[0m\u001B[0;34m(\u001B[0m\u001B[0mF\u001B[0m\u001B[0;34m,\u001B[0m \u001B[0mwrapper\u001B[0m\u001B[0;34m)\u001B[0m\u001B[0;34m\u001B[0m\u001B[0m\n",
      "\u001B[0;32m~/anaconda3/envs/kantar_data_env/lib/python3.7/site-packages/pandas/core/frame.py\u001B[0m in \u001B[0;36mto_stata\u001B[0;34m(self, path, convert_dates, write_index, byteorder, time_stamp, data_label, variable_labels, version, convert_strl, compression)\u001B[0m\n\u001B[1;32m   2191\u001B[0m             \u001B[0mvariable_labels\u001B[0m\u001B[0;34m=\u001B[0m\u001B[0mvariable_labels\u001B[0m\u001B[0;34m,\u001B[0m\u001B[0;34m\u001B[0m\u001B[0m\n\u001B[1;32m   2192\u001B[0m             \u001B[0mcompression\u001B[0m\u001B[0;34m=\u001B[0m\u001B[0mcompression\u001B[0m\u001B[0;34m,\u001B[0m\u001B[0;34m\u001B[0m\u001B[0m\n\u001B[0;32m-> 2193\u001B[0;31m             \u001B[0;34m**\u001B[0m\u001B[0mkwargs\u001B[0m\u001B[0;34m,\u001B[0m\u001B[0;34m\u001B[0m\u001B[0m\n\u001B[0m\u001B[1;32m   2194\u001B[0m         )\n\u001B[1;32m   2195\u001B[0m         \u001B[0mwriter\u001B[0m\u001B[0;34m.\u001B[0m\u001B[0mwrite_file\u001B[0m\u001B[0;34m(\u001B[0m\u001B[0;34m)\u001B[0m\u001B[0;34m\u001B[0m\u001B[0m\n",
      "\u001B[0;32m~/anaconda3/envs/kantar_data_env/lib/python3.7/site-packages/pandas/io/stata.py\u001B[0m in \u001B[0;36m__init__\u001B[0;34m(self, fname, data, convert_dates, write_index, byteorder, time_stamp, data_label, variable_labels, compression)\u001B[0m\n\u001B[1;32m   2217\u001B[0m         \u001B[0mself\u001B[0m\u001B[0;34m.\u001B[0m\u001B[0m_output_file\u001B[0m\u001B[0;34m:\u001B[0m \u001B[0mOptional\u001B[0m\u001B[0;34m[\u001B[0m\u001B[0mBinaryIO\u001B[0m\u001B[0;34m]\u001B[0m \u001B[0;34m=\u001B[0m \u001B[0;32mNone\u001B[0m\u001B[0;34m\u001B[0m\u001B[0m\n\u001B[1;32m   2218\u001B[0m         \u001B[0;31m# attach nobs, nvars, data, varlist, typlist\u001B[0m\u001B[0;34m\u001B[0m\u001B[0;34m\u001B[0m\u001B[0m\n\u001B[0;32m-> 2219\u001B[0;31m         \u001B[0mself\u001B[0m\u001B[0;34m.\u001B[0m\u001B[0m_prepare_pandas\u001B[0m\u001B[0;34m(\u001B[0m\u001B[0mdata\u001B[0m\u001B[0;34m)\u001B[0m\u001B[0;34m\u001B[0m\u001B[0m\n\u001B[0m\u001B[1;32m   2220\u001B[0m \u001B[0;34m\u001B[0m\u001B[0m\n\u001B[1;32m   2221\u001B[0m         \u001B[0;32mif\u001B[0m \u001B[0mbyteorder\u001B[0m \u001B[0;32mis\u001B[0m \u001B[0;32mNone\u001B[0m\u001B[0;34m:\u001B[0m\u001B[0;34m\u001B[0m\u001B[0m\n",
      "\u001B[0;32m~/anaconda3/envs/kantar_data_env/lib/python3.7/site-packages/pandas/io/stata.py\u001B[0m in \u001B[0;36m_prepare_pandas\u001B[0;34m(self, data)\u001B[0m\n\u001B[1;32m   2414\u001B[0m         \u001B[0;31m# we can set different semantics - handle this with a PR to pandas.io\u001B[0m\u001B[0;34m\u001B[0m\u001B[0;34m\u001B[0m\u001B[0m\n\u001B[1;32m   2415\u001B[0m \u001B[0;34m\u001B[0m\u001B[0m\n\u001B[0;32m-> 2416\u001B[0;31m         \u001B[0mdata\u001B[0m \u001B[0;34m=\u001B[0m \u001B[0mdata\u001B[0m\u001B[0;34m.\u001B[0m\u001B[0mcopy\u001B[0m\u001B[0;34m(\u001B[0m\u001B[0;34m)\u001B[0m\u001B[0;34m\u001B[0m\u001B[0m\n\u001B[0m\u001B[1;32m   2417\u001B[0m \u001B[0;34m\u001B[0m\u001B[0m\n\u001B[1;32m   2418\u001B[0m         \u001B[0;32mif\u001B[0m \u001B[0mself\u001B[0m\u001B[0;34m.\u001B[0m\u001B[0m_write_index\u001B[0m\u001B[0;34m:\u001B[0m\u001B[0;34m\u001B[0m\u001B[0m\n",
      "\u001B[0;32m~/anaconda3/envs/kantar_data_env/lib/python3.7/site-packages/pandas/core/generic.py\u001B[0m in \u001B[0;36mcopy\u001B[0;34m(self, deep)\u001B[0m\n\u001B[1;32m   5661\u001B[0m         \u001B[0mdtype\u001B[0m\u001B[0;34m:\u001B[0m \u001B[0mobject\u001B[0m\u001B[0;34m\u001B[0m\u001B[0m\n\u001B[1;32m   5662\u001B[0m         \"\"\"\n\u001B[0;32m-> 5663\u001B[0;31m         \u001B[0mdata\u001B[0m \u001B[0;34m=\u001B[0m \u001B[0mself\u001B[0m\u001B[0;34m.\u001B[0m\u001B[0m_mgr\u001B[0m\u001B[0;34m.\u001B[0m\u001B[0mcopy\u001B[0m\u001B[0;34m(\u001B[0m\u001B[0mdeep\u001B[0m\u001B[0;34m=\u001B[0m\u001B[0mdeep\u001B[0m\u001B[0;34m)\u001B[0m\u001B[0;34m\u001B[0m\u001B[0m\n\u001B[0m\u001B[1;32m   5664\u001B[0m         \u001B[0mself\u001B[0m\u001B[0;34m.\u001B[0m\u001B[0m_clear_item_cache\u001B[0m\u001B[0;34m(\u001B[0m\u001B[0;34m)\u001B[0m\u001B[0;34m\u001B[0m\u001B[0m\n\u001B[1;32m   5665\u001B[0m         \u001B[0;32mreturn\u001B[0m \u001B[0mself\u001B[0m\u001B[0;34m.\u001B[0m\u001B[0m_constructor\u001B[0m\u001B[0;34m(\u001B[0m\u001B[0mdata\u001B[0m\u001B[0;34m)\u001B[0m\u001B[0;34m.\u001B[0m\u001B[0m__finalize__\u001B[0m\u001B[0;34m(\u001B[0m\u001B[0mself\u001B[0m\u001B[0;34m,\u001B[0m \u001B[0mmethod\u001B[0m\u001B[0;34m=\u001B[0m\u001B[0;34m\"copy\"\u001B[0m\u001B[0;34m)\u001B[0m\u001B[0;34m\u001B[0m\u001B[0m\n",
      "\u001B[0;32m~/anaconda3/envs/kantar_data_env/lib/python3.7/site-packages/pandas/core/internals/managers.py\u001B[0m in \u001B[0;36mcopy\u001B[0;34m(self, deep)\u001B[0m\n\u001B[1;32m    800\u001B[0m             \u001B[0mnew_axes\u001B[0m \u001B[0;34m=\u001B[0m \u001B[0mlist\u001B[0m\u001B[0;34m(\u001B[0m\u001B[0mself\u001B[0m\u001B[0;34m.\u001B[0m\u001B[0maxes\u001B[0m\u001B[0;34m)\u001B[0m\u001B[0;34m\u001B[0m\u001B[0m\n\u001B[1;32m    801\u001B[0m \u001B[0;34m\u001B[0m\u001B[0m\n\u001B[0;32m--> 802\u001B[0;31m         \u001B[0mres\u001B[0m \u001B[0;34m=\u001B[0m \u001B[0mself\u001B[0m\u001B[0;34m.\u001B[0m\u001B[0mapply\u001B[0m\u001B[0;34m(\u001B[0m\u001B[0;34m\"copy\"\u001B[0m\u001B[0;34m,\u001B[0m \u001B[0mdeep\u001B[0m\u001B[0;34m=\u001B[0m\u001B[0mdeep\u001B[0m\u001B[0;34m)\u001B[0m\u001B[0;34m\u001B[0m\u001B[0m\n\u001B[0m\u001B[1;32m    803\u001B[0m         \u001B[0mres\u001B[0m\u001B[0;34m.\u001B[0m\u001B[0maxes\u001B[0m \u001B[0;34m=\u001B[0m \u001B[0mnew_axes\u001B[0m\u001B[0;34m\u001B[0m\u001B[0m\n\u001B[1;32m    804\u001B[0m         \u001B[0;32mreturn\u001B[0m \u001B[0mres\u001B[0m\u001B[0;34m\u001B[0m\u001B[0m\n",
      "\u001B[0;32m~/anaconda3/envs/kantar_data_env/lib/python3.7/site-packages/pandas/core/internals/managers.py\u001B[0m in \u001B[0;36mapply\u001B[0;34m(self, f, align_keys, **kwargs)\u001B[0m\n\u001B[1;32m    404\u001B[0m                 \u001B[0mapplied\u001B[0m \u001B[0;34m=\u001B[0m \u001B[0mb\u001B[0m\u001B[0;34m.\u001B[0m\u001B[0mapply\u001B[0m\u001B[0;34m(\u001B[0m\u001B[0mf\u001B[0m\u001B[0;34m,\u001B[0m \u001B[0;34m**\u001B[0m\u001B[0mkwargs\u001B[0m\u001B[0;34m)\u001B[0m\u001B[0;34m\u001B[0m\u001B[0m\n\u001B[1;32m    405\u001B[0m             \u001B[0;32melse\u001B[0m\u001B[0;34m:\u001B[0m\u001B[0;34m\u001B[0m\u001B[0m\n\u001B[0;32m--> 406\u001B[0;31m                 \u001B[0mapplied\u001B[0m \u001B[0;34m=\u001B[0m \u001B[0mgetattr\u001B[0m\u001B[0;34m(\u001B[0m\u001B[0mb\u001B[0m\u001B[0;34m,\u001B[0m \u001B[0mf\u001B[0m\u001B[0;34m)\u001B[0m\u001B[0;34m(\u001B[0m\u001B[0;34m**\u001B[0m\u001B[0mkwargs\u001B[0m\u001B[0;34m)\u001B[0m\u001B[0;34m\u001B[0m\u001B[0m\n\u001B[0m\u001B[1;32m    407\u001B[0m             \u001B[0mresult_blocks\u001B[0m \u001B[0;34m=\u001B[0m \u001B[0m_extend_blocks\u001B[0m\u001B[0;34m(\u001B[0m\u001B[0mapplied\u001B[0m\u001B[0;34m,\u001B[0m \u001B[0mresult_blocks\u001B[0m\u001B[0;34m)\u001B[0m\u001B[0;34m\u001B[0m\u001B[0m\n\u001B[1;32m    408\u001B[0m \u001B[0;34m\u001B[0m\u001B[0m\n",
      "\u001B[0;32m~/anaconda3/envs/kantar_data_env/lib/python3.7/site-packages/pandas/core/internals/blocks.py\u001B[0m in \u001B[0;36mcopy\u001B[0;34m(self, deep)\u001B[0m\n\u001B[1;32m    677\u001B[0m         \u001B[0mvalues\u001B[0m \u001B[0;34m=\u001B[0m \u001B[0mself\u001B[0m\u001B[0;34m.\u001B[0m\u001B[0mvalues\u001B[0m\u001B[0;34m\u001B[0m\u001B[0m\n\u001B[1;32m    678\u001B[0m         \u001B[0;32mif\u001B[0m \u001B[0mdeep\u001B[0m\u001B[0;34m:\u001B[0m\u001B[0;34m\u001B[0m\u001B[0m\n\u001B[0;32m--> 679\u001B[0;31m             \u001B[0mvalues\u001B[0m \u001B[0;34m=\u001B[0m \u001B[0mvalues\u001B[0m\u001B[0;34m.\u001B[0m\u001B[0mcopy\u001B[0m\u001B[0;34m(\u001B[0m\u001B[0;34m)\u001B[0m\u001B[0;34m\u001B[0m\u001B[0m\n\u001B[0m\u001B[1;32m    680\u001B[0m         \u001B[0;32mreturn\u001B[0m \u001B[0mself\u001B[0m\u001B[0;34m.\u001B[0m\u001B[0mmake_block_same_class\u001B[0m\u001B[0;34m(\u001B[0m\u001B[0mvalues\u001B[0m\u001B[0;34m,\u001B[0m \u001B[0mndim\u001B[0m\u001B[0;34m=\u001B[0m\u001B[0mself\u001B[0m\u001B[0;34m.\u001B[0m\u001B[0mndim\u001B[0m\u001B[0;34m)\u001B[0m\u001B[0;34m\u001B[0m\u001B[0m\n\u001B[1;32m    681\u001B[0m \u001B[0;34m\u001B[0m\u001B[0m\n",
      "\u001B[0;31mKeyboardInterrupt\u001B[0m: "
     ]
    }
   ],
   "source": [
    "products.to_stata('products_trial.dta')"
   ],
   "metadata": {
    "collapsed": false,
    "ExecuteTime": {
     "end_time": "2023-11-23T10:44:35.632085Z",
     "start_time": "2023-11-23T10:43:57.865105Z"
    }
   },
   "id": "727ee6bee76d21a0"
  },
  {
   "cell_type": "code",
   "execution_count": 37,
   "outputs": [
    {
     "data": {
      "text/plain": "CodProducto                      int64\nCodigoBarras                    object\nCodVF                         category\nVF                              object\nSA7_BPL                           bool\nSA4_Fabricante                  object\nSA3_Marca                     category\nSA2_Submarca                  category\nX102_Aditivos                 category\nX108_Usuario                  category\nX109_Estado                   category\nX112_Niv_Calorias             category\nX124_Estilo                   category\nX127_Tipo_Bañado_Choc         category\nX129_Tipo_Pasteleria          category\nX135_Uso                      category\nX143_Tipo_Corte               category\nX163_Info_Cafeina             category\nX167_Grado_Curacion           category\nX169_Cont_Materia_Grasa       category\nX174_Despiece.Corte           category\nX182_Tipo_Queso               category\nX188_Tipo_Pan                 category\nX189_Tipo_Viena               category\nX206_Tipo_Pescado             category\nX230_Niv_Concentracion        category\nX314_Tipo_Cena.Entrante       category\nX315_Tipo_Carne               category\nX323_Tipo_Sazonamiento        category\nX328_Tipo_Aceite              category\nX329_Pureness_Niveau          category\nX360_Tipo_Verdura             category\nX366_Tipo_Postre              category\nX383_Tipo_Yogurt              category\nX384_Tipo_Cena                category\nX489_Como_Compro.             category\nX490_Fresca.Congelada             bool\nX491_Presentacion             category\nX497_Tipo_Queso               category\nX498_Marcas_Queso             category\nX500_Tipo_Embutido            category\nX514_Tipo_Carne               category\nX527_Tipo_Cafe                category\nX529_Tipo_Producto            category\nX531_Info_Biologica           category\nX558_Variedad_Queso           category\nX571_Peso_Bebe                category\nX674_Tipo_Helado              category\nX901_Localizacion             category\nX902_Tipo_Producto            category\nX903_Envase                   category\nX904_Variedad.Sabor           category\nX5_Num_Tot_Unidades              int64\nX18_Num_Tot_Paquetes.Botes       int64\nX66_Preferred_Unit_Measure       int64\ndtype: object"
     },
     "execution_count": 37,
     "metadata": {},
     "output_type": "execute_result"
    }
   ],
   "source": [
    "products.dtypes"
   ],
   "metadata": {
    "collapsed": false,
    "ExecuteTime": {
     "end_time": "2023-11-23T10:32:47.211656Z",
     "start_time": "2023-11-23T10:32:47.171700Z"
    }
   },
   "id": "45405339276e58b1"
  },
  {
   "cell_type": "code",
   "execution_count": null,
   "outputs": [],
   "source": [],
   "metadata": {
    "collapsed": false
   },
   "id": "3a5b4049416b02ad"
  }
 ],
 "metadata": {
  "kernelspec": {
   "display_name": "Python 3",
   "language": "python",
   "name": "python3"
  },
  "language_info": {
   "codemirror_mode": {
    "name": "ipython",
    "version": 2
   },
   "file_extension": ".py",
   "mimetype": "text/x-python",
   "name": "python",
   "nbconvert_exporter": "python",
   "pygments_lexer": "ipython2",
   "version": "2.7.6"
  }
 },
 "nbformat": 4,
 "nbformat_minor": 5
}

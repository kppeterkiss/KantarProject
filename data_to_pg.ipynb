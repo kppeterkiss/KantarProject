{
 "cells": [
  {
   "cell_type": "code",
   "execution_count": 1,
   "id": "initial_id",
   "metadata": {
    "collapsed": true,
    "ExecuteTime": {
     "end_time": "2024-02-01T11:35:29.398961200Z",
     "start_time": "2024-02-01T11:35:28.751139900Z"
    }
   },
   "outputs": [
    {
     "data": {
      "text/plain": "['14head.csv',\n '18head.csv',\n '2014 data.csv',\n '2015 data.csv',\n '2016 data.csv',\n '2017 data.csv',\n 'Carrefour_2019_2020_2021_prepared2_02_11_2023.dta',\n 'Datos_2018.csv',\n 'Datos_2019.csv',\n 'Datos_2020.csv',\n 'Datos_2021.csv',\n 'Datos_2022.csv',\n 'Explicacion_VariablesV2.xlsx',\n 'Explicacion_VariablesV3.xlsx']"
     },
     "execution_count": 1,
     "metadata": {},
     "output_type": "execute_result"
    }
   ],
   "source": [
    "import os\n",
    "import pandas as pd\n",
    "import numpy as np\n",
    "\n",
    "result_dir = './results/'\n",
    "data_dir = '../Documents/CantarCSV/'\n",
    "figure_dir = \"./figures/\"\n",
    "os.listdir(data_dir)\n",
    "\n"
   ]
  },
  {
   "cell_type": "code",
   "execution_count": 4,
   "outputs": [],
   "source": [
    "read_able_columns = pd.read_excel(data_dir+'Explicacion_VariablesV3.xlsx', engine='openpyxl')\n"
   ],
   "metadata": {
    "collapsed": false,
    "ExecuteTime": {
     "end_time": "2024-02-01T11:36:00.916943800Z",
     "start_time": "2024-02-01T11:35:59.947625Z"
    }
   },
   "id": "da4be18d9c231d05"
  },
  {
   "cell_type": "code",
   "execution_count": 2,
   "outputs": [],
   "source": [],
   "metadata": {
    "collapsed": false,
    "ExecuteTime": {
     "end_time": "2024-01-25T20:53:05.536876Z",
     "start_time": "2024-01-25T20:53:05.492943Z"
    }
   },
   "id": "ee6d89a15d1f2dd5"
  },
  {
   "cell_type": "code",
   "execution_count": 5,
   "outputs": [],
   "source": [
    "\n",
    "#codevf vs coproduct??\n",
    "product_attributes=['CodProducto','CodigoBarras','CodVF', 'VF', 'SA7_BPL', 'SA4_Fabricante', 'SA3_Marca',       'SA2_Submarca',\n",
    "       'X102_Aditivos', 'X108_Usuario', 'X109_Estado', 'X112_Niv_Calorias',\n",
    "       'X124_Estilo', 'X127_Tipo_Bañado_Choc', 'X129_Tipo_Pasteleria',\n",
    "       'X135_Uso', 'X143_Tipo_Corte', 'X163_Info_Cafeina',\n",
    "       'X167_Grado_Curacion', 'X169_Cont_Materia_Grasa', 'X174_Despiece.Corte',\n",
    "       'X182_Tipo_Queso', 'X188_Tipo_Pan', 'X189_Tipo_Viena',\n",
    "       'X206_Tipo_Pescado', 'X230_Niv_Concentracion',\n",
    "       'X314_Tipo_Cena.Entrante', 'X315_Tipo_Carne', 'X323_Tipo_Sazonamiento',\n",
    "       'X328_Tipo_Aceite', 'X329_Pureness_Niveau', 'X360_Tipo_Verdura',\n",
    "       'X366_Tipo_Postre', 'X383_Tipo_Yogurt', 'X384_Tipo_Cena',\n",
    "       'X489_Como_Compro.', 'X490_Fresca.Congelada', 'X491_Presentacion',\n",
    "       'X497_Tipo_Queso', 'X498_Marcas_Queso', 'X500_Tipo_Embutido',\n",
    "       'X514_Tipo_Carne', 'X527_Tipo_Cafe', 'X529_Tipo_Producto',\n",
    "       'X531_Info_Biologica', 'X558_Variedad_Queso', 'X571_Peso_Bebe',\n",
    "       'X674_Tipo_Helado', 'X901_Localizacion', 'X902_Tipo_Producto',\n",
    "       'X903_Envase', 'X904_Variedad.Sabor', 'X5_Num_Tot_Unidades',\n",
    "       'X18_Num_Tot_Paquetes.Botes', 'X66_Preferred_Unit_Measure',]\n",
    "\n",
    "purchase_attributes=['idCompra', 'CodPanelista','CodigoBarras', 'CodProducto','FechaCesta',\t'PrecioCompra', 'Cantidad', 'Precio', 'CodLugarCompra','CodIndividuo','TipoMaquina', 'Promo_Folleto', 'Promo_Envase', 'Promo_TPR','promo']\n",
    "\n",
    "shop_attributes=['CodLugarCompra','Lugar_Compra','Canal','CodIndividuo']\n",
    "\n",
    "\n",
    "customer_attributes=['CodPanelista', 'CC_AA', 'Edad_Ama', 'NF', 'Numero_Gatos','Numero_Perros', 'Presencia_Niños', 'CodIMC', 'IMC', 'Ponderacion','Ciclo_Vida', 'Clase_EGM', 'Clase_Social', 'Habitat_Metropolitano',\n",
    "       'Habitat_Municipal_Std', 'Inmigrante', 'Provincia', 'Region',]\n",
    "\n",
    "tables={'customers': customer_attributes,'products': product_attributes,'shops':shop_attributes,'purchases':purchase_attributes }"
   ],
   "metadata": {
    "collapsed": false,
    "ExecuteTime": {
     "end_time": "2024-02-01T11:36:10.262711100Z",
     "start_time": "2024-02-01T11:36:10.217815700Z"
    }
   },
   "id": "a4a23ab0d542f64"
  },
  {
   "cell_type": "code",
   "execution_count": 6,
   "outputs": [],
   "source": [
    "# define mapping of types\n",
    "type_dict = dict(zip(read_able_columns['Variable'].str.strip(), read_able_columns['Tipo Variable'].str.strip()))\n",
    "\n",
    "\n",
    "type_translation = {'ID': 'int64', 'Fecha': 'datetime', 'Numérica': 'float64', 'Categórica': 'category',\n",
    "                    'Dicotómica': 'bool'}\n",
    "type_dict_new = {k: type_translation[v] for k, v in type_dict.items()}\n",
    "type_dict_new = {('X' + k if k[0].isdigit() else k): v for k, v in type_dict_new.items()}\n",
    "type_dict_new['CodigoBarras'] = 'str'\n",
    "# TODO categorical vs int vs string...\n",
    "# TODO check why it is needed , leave as categorical now..\n",
    "type_dict_new['Presencia_Niños'] = 'category'\n",
    "\n",
    "# when reading, should be given... \n",
    "del type_dict_new['FechaCesta']\n",
    "# because stata cannot handle too many categories with long names:\n",
    "for cn in product_attributes:\n",
    "    if type_dict_new[cn] == 'category':\n",
    "        type_dict_new[cn] = 'str'"
   ],
   "metadata": {
    "collapsed": false,
    "ExecuteTime": {
     "end_time": "2024-02-01T11:36:12.322112700Z",
     "start_time": "2024-02-01T11:36:12.284050300Z"
    }
   },
   "id": "89d64599806ca140"
  },
  {
   "cell_type": "code",
   "execution_count": 17,
   "outputs": [],
   "source": [
    "def general_model(df):\n",
    "    if df.shape[0]>30:\n",
    "            # for throwing out outliers iteratively if we like, to have a better regression  \n",
    "            cleaning_rounds=1\n",
    "            Y = np.array(df['price_per_unit'])\n",
    "            X = np.array(df['t'])\n",
    "            #flag=np.zeros(y.size)\n",
    "            idx=df[['price_per_unit']].index.copy()\n",
    "            x=X.copy()\n",
    "            y=Y.copy()\n",
    "            print(x)\n",
    "            for i in range(cleaning_rounds):\n",
    "                p = np.polyfit(x, y, deg=5)\n",
    "                ps = np.polyval(p, x)\n",
    "                diff = abs(y-ps)\n",
    "                std=np.std(diff)\n",
    "                mean=np.mean(diff)\n",
    "                good =  abs(diff-mean)/std < 3 \n",
    "                #good = abs(y - ps) < 1  # Here we will only remove positive outliers\n",
    "                    \n",
    "                x_bad, y_bad = x[~good], y[~good]\n",
    "                x, y = x[good], y[good]\n",
    "        \n",
    "           \n",
    "        \n",
    "                if (~good).sum() == 0:\n",
    "                    break\n",
    "            ps = np.polyval(p, X)\n",
    "            diff = abs(Y-ps)\n",
    "            std=np.std(diff)\n",
    "            mean=np.mean(diff)\n",
    "            z= abs(diff-mean)/std\n",
    "            good =  z < 3 \n",
    "            flag = np.logical_not(good)\n",
    "          \n",
    "            ret= pd.DataFrame(index=idx, data=list(zip(ps, z,flag)), columns=['1','2','3'])\n",
    "    else:\n",
    "        Y = np.array(df['price_per_unit'])\n",
    "        #flag=np.zeros(y.size)\n",
    "        idx=df[['price_per_unit']].index.copy()\n",
    "        y=Y.copy()\n",
    "    \n",
    "        std=np.std(Y)\n",
    "        mean=np.mean(Y)\n",
    "        ps = np.full(y.shape, mean)\n",
    "    \n",
    "        z= abs(Y-mean)/std\n",
    "        good =  z < 3 \n",
    "        flag = np.logical_not(good)\n",
    "      \n",
    "        ret= pd.DataFrame(index=idx, data=list(zip(ps, z,flag)), columns=['1','2','3'])\n",
    "\n",
    "\n",
    "    return ret\n",
    "\n",
    "\n",
    "def get_oultiers(odf1):\n",
    "       odf1['t'] = odf1['FechaCesta'].astype('datetime64').dt.dayofyear\n",
    "       # calculate price per unit of sales\n",
    "       odf1['price_per_unit']= odf1['Precio']/odf1['Cantidad']\n",
    "       x=  odf1.groupby(['CodProducto'])[['t', 'price_per_unit']].apply(general_model)\n",
    "       x1 = x.reset_index().set_index('level_1').drop(['CodProducto'], axis=1)\n",
    "       odf1[['predicted', 'z', 'outlier']] = x1\n",
    "       return odf1"
   ],
   "metadata": {
    "collapsed": false,
    "ExecuteTime": {
     "end_time": "2024-02-01T11:57:54.814870Z",
     "start_time": "2024-02-01T11:57:54.777783400Z"
    }
   },
   "id": "209cf8a1d42d979d"
  },
  {
   "cell_type": "code",
   "execution_count": 50,
   "outputs": [],
   "source": [
    "import traceback\n",
    "from sqlalchemy import create_engine\n",
    "import codecs\n",
    "\n",
    "\n",
    "all_products=None\n",
    "all_customers=None\n",
    "all_shops=None\n",
    "\n",
    "input_enc=\"ISO-8859-1\"#'latin_1 '\n",
    "#input_enc= 'utf-16-be'\n",
    "\n",
    "def fix_enc(fn,nrows):\n",
    "\n",
    "    source_df_test=pd.read_csv(data_dir+fn,\n",
    "                                encoding=input_enc,\n",
    "                                delimiter=\",\" ,on_bad_lines='skip',nrows=nrows)\n",
    "    replace_chars={\"Ã.\": \"ñ\", \"Ã³\":\"ó\",\"Ã\":\"í\"}  \n",
    "    orig_names=source_df_test.columns.to_list()\n",
    "    #re_encoded_names = [s.encode(input_enc) for s in orig_names]\n",
    "    re_encoded_names = [codecs.decode(w.encode(input_enc)) for w in orig_names]\n",
    "\n",
    "    #re_encoded_names = [s.decode(\"\") for s in re_encoded_names]\n",
    "\n",
    "    column_rename = dict(zip(source_df_test.columns.to_list()\n",
    "                             , re_encoded_names))\n",
    "    for k in source_df_test.columns:\n",
    "        #print(k,\" -- \",source_df_test[k].dtype )\n",
    "        if source_df_test[k].dtype == \"str\":\n",
    "            try:\n",
    "                source_df_test[k]=source_df_test[k].str.encode(input_enc)\n",
    "                source_df_test[k]=source_df_test[k].str.decode('utf-8')\n",
    "            except Exception as e:\n",
    "                pass\n",
    "                # print(\"EXC -- \",e,k)\n",
    "        \n",
    "\n",
    "    #source_df_test= source_df_test.replace(replace_chars)\n",
    "    column_names=source_df_test.columns\n",
    "    #for k,v in replace_chars.items():\n",
    "    #    column_names=[cn.replace(k,v) for cn in column_names]\n",
    "    column_rename = dict(zip(source_df_test.columns.to_list()\n",
    "                             , column_names))\n",
    "    source_df_test = source_df_test.rename(columns=column_rename)\n",
    "    return source_df_test\n",
    "\n",
    "def tell_me_about(s): return (type(s), r'{}'.format(s))\n",
    "\n",
    "def load_and_preprocess_data(year, nrows=None):\n",
    "    # load data\n",
    "    \n",
    "    if year<2018: \n",
    "        #decimal=\",\"\n",
    "        #enc=\"utf-8\"\n",
    "        input_fn = f'{year} data.csv'\n",
    "        #delimiter=\",\"\n",
    "        source_df_test=fix_enc(input_fn,nrows=nrows,)\n",
    "    else: \n",
    "        input_fn=f'Datos_{year}.csv'\n",
    "        enc=input_enc \n",
    "        delimiter=\";\"\n",
    "        decimal=\".\"\n",
    "        source_df_test=pd.read_csv(data_dir+input_fn,nrows=nrows,\n",
    "                                     encoding = enc, \n",
    "                                    delimiter=delimiter ,decimal=decimal,on_bad_lines='skip', parse_dates=['FechaCesta'])\n",
    "    print(source_df_test.columns)\n",
    "\n",
    "    # transform \n",
    "    #if nrows:\n",
    "    #    print(source_df_test.iloc[0][['idCompra','Promo_Envase','Promo_Folleto','Promo_TPR']])\n",
    "    \"\"\"\n",
    "    source_df_test['promo_envase'] = source_df_test['promo_envase'].map({'No': False, 'Si': True})\n",
    "    source_df_test['promo_folleto'] = source_df_test['promo_folleto'].map({'No': False, 'Si': True})\n",
    "    source_df_test['Promo_TPR'] = source_df_test['Promo_TPR'].map({'No': False, 'Si': True})\n",
    "    \"\"\"\n",
    "    #if nrows:\n",
    "\n",
    "    #    print(source_df_test.iloc[0][['idCompra','Promo_Envase','Promo_Folleto','Promo_TPR']])\n",
    "\n",
    "    '''\n",
    "    for k in type_dict_new.keys():\n",
    "       if k not in source_df_test.columns:\n",
    "           print(source_df_test.columns)\n",
    "           print(k)\n",
    "    '''\n",
    "    #source_df_test = source_df_test.astype(type_dict_new)\n",
    "    for k,v in type_dict_new.items():\n",
    "            try:\n",
    "                # if v!=\"str\":\n",
    "                    #source_df_test[k] = source_df_test[k].astype('str')#.str.encode(\"utf-8\")\n",
    "                    source_df_test[k] = source_df_test[k].astype(v)\n",
    "                    '''\n",
    "                    if k == \"CC_AA\":\n",
    "                        print('CC_AA --- ',v)\n",
    "                        print('str --- ',source_df_test[k].iloc[:3])\n",
    "                        w = source_df_test[k].iloc[1]\n",
    "                       \n",
    "                        print(w,' -> ',codecs.decode(w.encode(\"ISO-8859-1\"),'utf-8'))\n",
    "                    '''\n",
    "                \n",
    "\n",
    "                #else:\n",
    "                #    source_df_test[k]=source_df_test[k].astype('str').str.encode(\"utf-8\")\n",
    "                #    if k == \"CC_AA\":\n",
    "                #        print('str --- ',source_df_test[k].iloc[:3])\n",
    "            except Exception as e:\n",
    "                print(\"EXC -- \",repr(e),k,v)\n",
    "                traceback.print_exc()\n",
    "                \n",
    "                #print(source_df_test[k].head())\n",
    "    \n",
    "       \n",
    "    source_df_test['promo'] = np.where(\n",
    "           source_df_test['Promo_Folleto'] | source_df_test['Promo_Envase'] | source_df_test['Promo_TPR'], True, False)\n",
    "    return source_df_test\n",
    "\n",
    "\n",
    "def separate_and_save(df, dfs,engine):\n",
    "   # separating the tables:\n",
    "    for name, attributes in tables.items():\n",
    "  \n",
    "        data = df[attributes]\n",
    "        if name == 'purchases':\n",
    "            to_table(name,data,engine)\n",
    "            del df\n",
    "            #data = get_oultiers(data)     \n",
    "        else:\n",
    "            data = data.drop_duplicates()\n",
    "            dfs[name].append(data)\n",
    "    \n",
    "        #fn = result_dir+f'{year}_{name}.dta'\n",
    "        #dfs[name].append(fn)\n",
    "        \n",
    "           \n",
    "           \n",
    "        #to_table(name,data)\n",
    "        #all_data = pd.concat(df_list, ignore_index=True)\n",
    "   \n",
    "    return dfs\n",
    "\n",
    "\n",
    "import json \n",
    "from sqlalchemy_utils import drop_database, database_exists,create_database\n",
    "f=open(\"dbconnection.json\")\n",
    "connection_data = json.load(f)\n",
    "DB_USER =connection_data[\"DB_USER\"]\n",
    "\n",
    "DB_PASS =connection_data[\"DB_PASS\"]\n",
    "DB_HOST =connection_data[\"DB_HOST\"]\n",
    "DB_PORT =connection_data[\"DB_PORT\"]\n",
    "DATABASE =connection_data[\"DATABASE\"]\n",
    "CHARSET =\"latin_1\"\n",
    "\n",
    "   \n",
    "\n",
    "connect_string = 'postgresql+psycopg2://{}:{}@{}:{}/{}?charset={}'.format(DB_USER, DB_PASS, DB_HOST, DB_PORT, DATABASE,CHARSET)\n",
    "connect_string = 'postgresql+psycopg2://{}:{}@{}:{}/{}'.format(DB_USER, DB_PASS, DB_HOST, DB_PORT, DATABASE)\n",
    "\n",
    "\n",
    "if database_exists(connect_string):\n",
    "    drop_database(connect_string)\n",
    "create_database(connect_string)\n",
    "\n",
    "engine = create_engine(connect_string, connect_args={'client_encoding':CHARSET})\n",
    "\n",
    "def to_table(name, df,engine,mode='append'):\n",
    "    from sqlalchemy import create_engine\n",
    "    df.to_sql(name, engine, if_exists=mode,method = 'multi', index=False)\n",
    "\n",
    "#print(type_dict_new)\n"
   ],
   "metadata": {
    "collapsed": false,
    "ExecuteTime": {
     "end_time": "2024-02-01T12:43:26.632048Z",
     "start_time": "2024-02-01T12:43:26.276782900Z"
    }
   },
   "id": "9cf4077743d5743"
  },
  {
   "cell_type": "code",
   "outputs": [],
   "source": [],
   "metadata": {
    "collapsed": false,
    "ExecuteTime": {
     "end_time": "2024-02-01T12:43:27.475319500Z",
     "start_time": "2024-02-01T12:43:27.444084900Z"
    }
   },
   "id": "ec76cd37d6ba222b",
   "execution_count": 50
  },
  {
   "cell_type": "code",
   "execution_count": 51,
   "outputs": [
    {
     "name": "stdout",
     "output_type": "stream",
     "text": [
      "2014\n"
     ]
    },
    {
     "ename": "UnicodeDecodeError",
     "evalue": "'utf-8' codec can't decode byte 0xc3 in position 12: invalid continuation byte",
     "output_type": "error",
     "traceback": [
      "\u001B[1;31m---------------------------------------------------------------------------\u001B[0m",
      "\u001B[1;31mUnicodeDecodeError\u001B[0m                        Traceback (most recent call last)",
      "Cell \u001B[1;32mIn[51], line 10\u001B[0m\n\u001B[0;32m      8\u001B[0m \u001B[38;5;28;01mfor\u001B[39;00m year \u001B[38;5;129;01min\u001B[39;00m \u001B[38;5;28mrange\u001B[39m(\u001B[38;5;241m2014\u001B[39m,\u001B[38;5;241m2023\u001B[39m):\n\u001B[0;32m      9\u001B[0m     \u001B[38;5;28mprint\u001B[39m(year)\n\u001B[1;32m---> 10\u001B[0m     df\u001B[38;5;241m=\u001B[39m \u001B[43mload_and_preprocess_data\u001B[49m\u001B[43m(\u001B[49m\u001B[43myear\u001B[49m\u001B[43m,\u001B[49m\u001B[43mnrows\u001B[49m\u001B[43m)\u001B[49m\n\u001B[0;32m     11\u001B[0m     \u001B[38;5;66;03m#df=get_oultiers(df)\u001B[39;00m\n\u001B[0;32m     14\u001B[0m     dfs \u001B[38;5;241m=\u001B[39m separate_and_save(df,dfs, engine)\n",
      "Cell \u001B[1;32mIn[50], line 57\u001B[0m, in \u001B[0;36mload_and_preprocess_data\u001B[1;34m(year, nrows)\u001B[0m\n\u001B[0;32m     55\u001B[0m     input_fn \u001B[38;5;241m=\u001B[39m \u001B[38;5;124mf\u001B[39m\u001B[38;5;124m'\u001B[39m\u001B[38;5;132;01m{\u001B[39;00myear\u001B[38;5;132;01m}\u001B[39;00m\u001B[38;5;124m data.csv\u001B[39m\u001B[38;5;124m'\u001B[39m\n\u001B[0;32m     56\u001B[0m     \u001B[38;5;66;03m#delimiter=\",\"\u001B[39;00m\n\u001B[1;32m---> 57\u001B[0m     source_df_test\u001B[38;5;241m=\u001B[39m\u001B[43mfix_enc\u001B[49m\u001B[43m(\u001B[49m\u001B[43minput_fn\u001B[49m\u001B[43m,\u001B[49m\u001B[43mnrows\u001B[49m\u001B[38;5;241;43m=\u001B[39;49m\u001B[43mnrows\u001B[49m\u001B[43m,\u001B[49m\u001B[43m)\u001B[49m\n\u001B[0;32m     58\u001B[0m \u001B[38;5;28;01melse\u001B[39;00m: \n\u001B[0;32m     59\u001B[0m     input_fn\u001B[38;5;241m=\u001B[39m\u001B[38;5;124mf\u001B[39m\u001B[38;5;124m'\u001B[39m\u001B[38;5;124mDatos_\u001B[39m\u001B[38;5;132;01m{\u001B[39;00myear\u001B[38;5;132;01m}\u001B[39;00m\u001B[38;5;124m.csv\u001B[39m\u001B[38;5;124m'\u001B[39m\n",
      "Cell \u001B[1;32mIn[50], line 21\u001B[0m, in \u001B[0;36mfix_enc\u001B[1;34m(fn, nrows)\u001B[0m\n\u001B[0;32m     19\u001B[0m orig_names\u001B[38;5;241m=\u001B[39msource_df_test\u001B[38;5;241m.\u001B[39mcolumns\u001B[38;5;241m.\u001B[39mto_list()\n\u001B[0;32m     20\u001B[0m \u001B[38;5;66;03m#re_encoded_names = [s.encode(input_enc) for s in orig_names]\u001B[39;00m\n\u001B[1;32m---> 21\u001B[0m re_encoded_names \u001B[38;5;241m=\u001B[39m [codecs\u001B[38;5;241m.\u001B[39mdecode(w\u001B[38;5;241m.\u001B[39mencode(input_enc)) \u001B[38;5;28;01mfor\u001B[39;00m w \u001B[38;5;129;01min\u001B[39;00m orig_names]\n\u001B[0;32m     23\u001B[0m \u001B[38;5;66;03m#re_encoded_names = [s.decode(\"\") for s in re_encoded_names]\u001B[39;00m\n\u001B[0;32m     25\u001B[0m column_rename \u001B[38;5;241m=\u001B[39m \u001B[38;5;28mdict\u001B[39m(\u001B[38;5;28mzip\u001B[39m(source_df_test\u001B[38;5;241m.\u001B[39mcolumns\u001B[38;5;241m.\u001B[39mto_list()\n\u001B[0;32m     26\u001B[0m                          , re_encoded_names))\n",
      "Cell \u001B[1;32mIn[50], line 21\u001B[0m, in \u001B[0;36m<listcomp>\u001B[1;34m(.0)\u001B[0m\n\u001B[0;32m     19\u001B[0m orig_names\u001B[38;5;241m=\u001B[39msource_df_test\u001B[38;5;241m.\u001B[39mcolumns\u001B[38;5;241m.\u001B[39mto_list()\n\u001B[0;32m     20\u001B[0m \u001B[38;5;66;03m#re_encoded_names = [s.encode(input_enc) for s in orig_names]\u001B[39;00m\n\u001B[1;32m---> 21\u001B[0m re_encoded_names \u001B[38;5;241m=\u001B[39m [\u001B[43mcodecs\u001B[49m\u001B[38;5;241;43m.\u001B[39;49m\u001B[43mdecode\u001B[49m\u001B[43m(\u001B[49m\u001B[43mw\u001B[49m\u001B[38;5;241;43m.\u001B[39;49m\u001B[43mencode\u001B[49m\u001B[43m(\u001B[49m\u001B[43minput_enc\u001B[49m\u001B[43m)\u001B[49m\u001B[43m)\u001B[49m \u001B[38;5;28;01mfor\u001B[39;00m w \u001B[38;5;129;01min\u001B[39;00m orig_names]\n\u001B[0;32m     23\u001B[0m \u001B[38;5;66;03m#re_encoded_names = [s.decode(\"\") for s in re_encoded_names]\u001B[39;00m\n\u001B[0;32m     25\u001B[0m column_rename \u001B[38;5;241m=\u001B[39m \u001B[38;5;28mdict\u001B[39m(\u001B[38;5;28mzip\u001B[39m(source_df_test\u001B[38;5;241m.\u001B[39mcolumns\u001B[38;5;241m.\u001B[39mto_list()\n\u001B[0;32m     26\u001B[0m                          , re_encoded_names))\n",
      "File \u001B[1;32mC:\\ProgramData\\miniconda3\\envs\\test-env\\lib\\encodings\\utf_8.py:16\u001B[0m, in \u001B[0;36mdecode\u001B[1;34m(input, errors)\u001B[0m\n\u001B[0;32m     15\u001B[0m \u001B[38;5;28;01mdef\u001B[39;00m \u001B[38;5;21mdecode\u001B[39m(\u001B[38;5;28minput\u001B[39m, errors\u001B[38;5;241m=\u001B[39m\u001B[38;5;124m'\u001B[39m\u001B[38;5;124mstrict\u001B[39m\u001B[38;5;124m'\u001B[39m):\n\u001B[1;32m---> 16\u001B[0m     \u001B[38;5;28;01mreturn\u001B[39;00m \u001B[43mcodecs\u001B[49m\u001B[38;5;241;43m.\u001B[39;49m\u001B[43mutf_8_decode\u001B[49m\u001B[43m(\u001B[49m\u001B[38;5;28;43minput\u001B[39;49m\u001B[43m,\u001B[49m\u001B[43m \u001B[49m\u001B[43merrors\u001B[49m\u001B[43m,\u001B[49m\u001B[43m \u001B[49m\u001B[38;5;28;43;01mTrue\u001B[39;49;00m\u001B[43m)\u001B[49m\n",
      "\u001B[1;31mUnicodeDecodeError\u001B[0m: 'utf-8' codec can't decode byte 0xc3 in position 12: invalid continuation byte"
     ]
    }
   ],
   "source": [
    "test = True\n",
    "dfs={name:[] for name in tables.keys()}\n",
    "nrows=None\n",
    "if test:\n",
    "    nrows=10\n",
    " \n",
    "# first separate and save \n",
    "for year in range(2014,2023):\n",
    "    print(year)\n",
    "    df= load_and_preprocess_data(year,nrows)\n",
    "    #df=get_oultiers(df)\n",
    "    \n",
    "\n",
    "    dfs = separate_and_save(df,dfs, engine)\n",
    "    \n",
    "    \n",
    "    for name, l in dfs.items():\n",
    "        if name=='purchases':\n",
    "            continue\n",
    "        data = pd.concat(l, ignore_index=True).drop_duplicates()\n",
    "        to_table(name,data,engine,\"append\")  "
   ],
   "metadata": {
    "collapsed": false,
    "ExecuteTime": {
     "end_time": "2024-02-01T12:43:28.062874200Z",
     "start_time": "2024-02-01T12:43:27.955513500Z"
    }
   },
   "id": "f197bc551e9e0290"
  },
  {
   "cell_type": "code",
   "outputs": [],
   "source": [
    "df1=pd.read_csv(\"test_data/\"+'14head.csv', encoding=\"iso-8859-1\")\n"
   ],
   "metadata": {
    "collapsed": false,
    "ExecuteTime": {
     "end_time": "2024-02-01T12:53:29.466132400Z",
     "start_time": "2024-02-01T12:53:29.416357500Z"
    }
   },
   "id": "cddeda49fb4cb2d7",
   "execution_count": 63
  },
  {
   "cell_type": "code",
   "outputs": [
    {
     "data": {
      "text/plain": "'Presencia_NiÃ\\x83.os'"
     },
     "execution_count": 66,
     "metadata": {},
     "output_type": "execute_result"
    }
   ],
   "source": [
    "problem_word2=df1.columns[18]\n",
    "problem_word2"
   ],
   "metadata": {
    "collapsed": false,
    "ExecuteTime": {
     "end_time": "2024-02-01T12:53:36.421617900Z",
     "start_time": "2024-02-01T12:53:36.365010600Z"
    }
   },
   "id": "9ffa3b374d8377b2",
   "execution_count": 66
  },
  {
   "cell_type": "code",
   "outputs": [
    {
     "data": {
      "text/plain": "'AragÃ\\x83Â³n'"
     },
     "execution_count": 67,
     "metadata": {},
     "output_type": "execute_result"
    }
   ],
   "source": [
    "problem_word1=df1['CC_AA'].iloc[0]\n",
    "problem_word1"
   ],
   "metadata": {
    "collapsed": false,
    "ExecuteTime": {
     "end_time": "2024-02-01T12:53:44.886976Z",
     "start_time": "2024-02-01T12:53:44.830367800Z"
    }
   },
   "id": "b1695977a9d70aa4",
   "execution_count": 67
  },
  {
   "cell_type": "code",
   "outputs": [
    {
     "data": {
      "text/plain": "'AragÃ³n'"
     },
     "execution_count": 152,
     "metadata": {},
     "output_type": "execute_result"
    }
   ],
   "source": [],
   "metadata": {
    "collapsed": false,
    "ExecuteTime": {
     "end_time": "2024-01-31T22:32:36.405381100Z",
     "start_time": "2024-01-31T22:32:36.357727400Z"
    }
   },
   "id": "edcd2eadd1a56b5a",
   "execution_count": 152
  },
  {
   "cell_type": "code",
   "outputs": [
    {
     "ename": "UnicodeDecodeError",
     "evalue": "'utf-8' codec can't decode byte 0xff in position 0: invalid start byte",
     "output_type": "error",
     "traceback": [
      "\u001B[1;31m---------------------------------------------------------------------------\u001B[0m",
      "\u001B[1;31mUnicodeDecodeError\u001B[0m                        Traceback (most recent call last)",
      "Cell \u001B[1;32mIn[149], line 1\u001B[0m\n\u001B[1;32m----> 1\u001B[0m \u001B[43mpd\u001B[49m\u001B[38;5;241;43m.\u001B[39;49m\u001B[43mread_csv\u001B[49m\u001B[43m(\u001B[49m\u001B[43mdata_dir\u001B[49m\u001B[38;5;241;43m+\u001B[39;49m\u001B[38;5;124;43m'\u001B[39;49m\u001B[38;5;124;43m18head.csv\u001B[39;49m\u001B[38;5;124;43m'\u001B[39;49m\u001B[43m)\u001B[49m\n",
      "File \u001B[1;32mC:\\ProgramData\\miniconda3\\envs\\test-env\\lib\\site-packages\\pandas\\io\\parsers\\readers.py:948\u001B[0m, in \u001B[0;36mread_csv\u001B[1;34m(filepath_or_buffer, sep, delimiter, header, names, index_col, usecols, dtype, engine, converters, true_values, false_values, skipinitialspace, skiprows, skipfooter, nrows, na_values, keep_default_na, na_filter, verbose, skip_blank_lines, parse_dates, infer_datetime_format, keep_date_col, date_parser, date_format, dayfirst, cache_dates, iterator, chunksize, compression, thousands, decimal, lineterminator, quotechar, quoting, doublequote, escapechar, comment, encoding, encoding_errors, dialect, on_bad_lines, delim_whitespace, low_memory, memory_map, float_precision, storage_options, dtype_backend)\u001B[0m\n\u001B[0;32m    935\u001B[0m kwds_defaults \u001B[38;5;241m=\u001B[39m _refine_defaults_read(\n\u001B[0;32m    936\u001B[0m     dialect,\n\u001B[0;32m    937\u001B[0m     delimiter,\n\u001B[1;32m   (...)\u001B[0m\n\u001B[0;32m    944\u001B[0m     dtype_backend\u001B[38;5;241m=\u001B[39mdtype_backend,\n\u001B[0;32m    945\u001B[0m )\n\u001B[0;32m    946\u001B[0m kwds\u001B[38;5;241m.\u001B[39mupdate(kwds_defaults)\n\u001B[1;32m--> 948\u001B[0m \u001B[38;5;28;01mreturn\u001B[39;00m \u001B[43m_read\u001B[49m\u001B[43m(\u001B[49m\u001B[43mfilepath_or_buffer\u001B[49m\u001B[43m,\u001B[49m\u001B[43m \u001B[49m\u001B[43mkwds\u001B[49m\u001B[43m)\u001B[49m\n",
      "File \u001B[1;32mC:\\ProgramData\\miniconda3\\envs\\test-env\\lib\\site-packages\\pandas\\io\\parsers\\readers.py:611\u001B[0m, in \u001B[0;36m_read\u001B[1;34m(filepath_or_buffer, kwds)\u001B[0m\n\u001B[0;32m    608\u001B[0m _validate_names(kwds\u001B[38;5;241m.\u001B[39mget(\u001B[38;5;124m\"\u001B[39m\u001B[38;5;124mnames\u001B[39m\u001B[38;5;124m\"\u001B[39m, \u001B[38;5;28;01mNone\u001B[39;00m))\n\u001B[0;32m    610\u001B[0m \u001B[38;5;66;03m# Create the parser.\u001B[39;00m\n\u001B[1;32m--> 611\u001B[0m parser \u001B[38;5;241m=\u001B[39m TextFileReader(filepath_or_buffer, \u001B[38;5;241m*\u001B[39m\u001B[38;5;241m*\u001B[39mkwds)\n\u001B[0;32m    613\u001B[0m \u001B[38;5;28;01mif\u001B[39;00m chunksize \u001B[38;5;129;01mor\u001B[39;00m iterator:\n\u001B[0;32m    614\u001B[0m     \u001B[38;5;28;01mreturn\u001B[39;00m parser\n",
      "File \u001B[1;32mC:\\ProgramData\\miniconda3\\envs\\test-env\\lib\\site-packages\\pandas\\io\\parsers\\readers.py:1448\u001B[0m, in \u001B[0;36mTextFileReader.__init__\u001B[1;34m(self, f, engine, **kwds)\u001B[0m\n\u001B[0;32m   1445\u001B[0m     \u001B[38;5;28mself\u001B[39m\u001B[38;5;241m.\u001B[39moptions[\u001B[38;5;124m\"\u001B[39m\u001B[38;5;124mhas_index_names\u001B[39m\u001B[38;5;124m\"\u001B[39m] \u001B[38;5;241m=\u001B[39m kwds[\u001B[38;5;124m\"\u001B[39m\u001B[38;5;124mhas_index_names\u001B[39m\u001B[38;5;124m\"\u001B[39m]\n\u001B[0;32m   1447\u001B[0m \u001B[38;5;28mself\u001B[39m\u001B[38;5;241m.\u001B[39mhandles: IOHandles \u001B[38;5;241m|\u001B[39m \u001B[38;5;28;01mNone\u001B[39;00m \u001B[38;5;241m=\u001B[39m \u001B[38;5;28;01mNone\u001B[39;00m\n\u001B[1;32m-> 1448\u001B[0m \u001B[38;5;28mself\u001B[39m\u001B[38;5;241m.\u001B[39m_engine \u001B[38;5;241m=\u001B[39m \u001B[38;5;28;43mself\u001B[39;49m\u001B[38;5;241;43m.\u001B[39;49m\u001B[43m_make_engine\u001B[49m\u001B[43m(\u001B[49m\u001B[43mf\u001B[49m\u001B[43m,\u001B[49m\u001B[43m \u001B[49m\u001B[38;5;28;43mself\u001B[39;49m\u001B[38;5;241;43m.\u001B[39;49m\u001B[43mengine\u001B[49m\u001B[43m)\u001B[49m\n",
      "File \u001B[1;32mC:\\ProgramData\\miniconda3\\envs\\test-env\\lib\\site-packages\\pandas\\io\\parsers\\readers.py:1723\u001B[0m, in \u001B[0;36mTextFileReader._make_engine\u001B[1;34m(self, f, engine)\u001B[0m\n\u001B[0;32m   1720\u001B[0m     \u001B[38;5;28;01mraise\u001B[39;00m \u001B[38;5;167;01mValueError\u001B[39;00m(msg)\n\u001B[0;32m   1722\u001B[0m \u001B[38;5;28;01mtry\u001B[39;00m:\n\u001B[1;32m-> 1723\u001B[0m     \u001B[38;5;28;01mreturn\u001B[39;00m mapping[engine](f, \u001B[38;5;241m*\u001B[39m\u001B[38;5;241m*\u001B[39m\u001B[38;5;28mself\u001B[39m\u001B[38;5;241m.\u001B[39moptions)\n\u001B[0;32m   1724\u001B[0m \u001B[38;5;28;01mexcept\u001B[39;00m \u001B[38;5;167;01mException\u001B[39;00m:\n\u001B[0;32m   1725\u001B[0m     \u001B[38;5;28;01mif\u001B[39;00m \u001B[38;5;28mself\u001B[39m\u001B[38;5;241m.\u001B[39mhandles \u001B[38;5;129;01mis\u001B[39;00m \u001B[38;5;129;01mnot\u001B[39;00m \u001B[38;5;28;01mNone\u001B[39;00m:\n",
      "File \u001B[1;32mC:\\ProgramData\\miniconda3\\envs\\test-env\\lib\\site-packages\\pandas\\io\\parsers\\c_parser_wrapper.py:93\u001B[0m, in \u001B[0;36mCParserWrapper.__init__\u001B[1;34m(self, src, **kwds)\u001B[0m\n\u001B[0;32m     90\u001B[0m \u001B[38;5;28;01mif\u001B[39;00m kwds[\u001B[38;5;124m\"\u001B[39m\u001B[38;5;124mdtype_backend\u001B[39m\u001B[38;5;124m\"\u001B[39m] \u001B[38;5;241m==\u001B[39m \u001B[38;5;124m\"\u001B[39m\u001B[38;5;124mpyarrow\u001B[39m\u001B[38;5;124m\"\u001B[39m:\n\u001B[0;32m     91\u001B[0m     \u001B[38;5;66;03m# Fail here loudly instead of in cython after reading\u001B[39;00m\n\u001B[0;32m     92\u001B[0m     import_optional_dependency(\u001B[38;5;124m\"\u001B[39m\u001B[38;5;124mpyarrow\u001B[39m\u001B[38;5;124m\"\u001B[39m)\n\u001B[1;32m---> 93\u001B[0m \u001B[38;5;28mself\u001B[39m\u001B[38;5;241m.\u001B[39m_reader \u001B[38;5;241m=\u001B[39m parsers\u001B[38;5;241m.\u001B[39mTextReader(src, \u001B[38;5;241m*\u001B[39m\u001B[38;5;241m*\u001B[39mkwds)\n\u001B[0;32m     95\u001B[0m \u001B[38;5;28mself\u001B[39m\u001B[38;5;241m.\u001B[39munnamed_cols \u001B[38;5;241m=\u001B[39m \u001B[38;5;28mself\u001B[39m\u001B[38;5;241m.\u001B[39m_reader\u001B[38;5;241m.\u001B[39munnamed_cols\n\u001B[0;32m     97\u001B[0m \u001B[38;5;66;03m# error: Cannot determine type of 'names'\u001B[39;00m\n",
      "File \u001B[1;32mparsers.pyx:579\u001B[0m, in \u001B[0;36mpandas._libs.parsers.TextReader.__cinit__\u001B[1;34m()\u001B[0m\n",
      "File \u001B[1;32mparsers.pyx:668\u001B[0m, in \u001B[0;36mpandas._libs.parsers.TextReader._get_header\u001B[1;34m()\u001B[0m\n",
      "File \u001B[1;32mparsers.pyx:879\u001B[0m, in \u001B[0;36mpandas._libs.parsers.TextReader._tokenize_rows\u001B[1;34m()\u001B[0m\n",
      "File \u001B[1;32mparsers.pyx:890\u001B[0m, in \u001B[0;36mpandas._libs.parsers.TextReader._check_tokenize_status\u001B[1;34m()\u001B[0m\n",
      "File \u001B[1;32mparsers.pyx:2050\u001B[0m, in \u001B[0;36mpandas._libs.parsers.raise_parser_error\u001B[1;34m()\u001B[0m\n",
      "\u001B[1;31mUnicodeDecodeError\u001B[0m: 'utf-8' codec can't decode byte 0xff in position 0: invalid start byte"
     ]
    }
   ],
   "source": [
    "pd.read_csv(\"test_data/\"+'18head.csv')\n"
   ],
   "metadata": {
    "collapsed": false,
    "ExecuteTime": {
     "end_time": "2024-01-31T22:30:37.377153200Z",
     "start_time": "2024-01-31T22:30:37.251387300Z"
    }
   },
   "id": "9b48f6435502bf05",
   "execution_count": 149
  },
  {
   "cell_type": "code",
   "outputs": [
    {
     "name": "stdout",
     "output_type": "stream",
     "text": [
      "'latin-1' codec can't encode character '\\u0102' in position 12: ordinal not in range(256)\n",
      "'latin-1' codec can't encode character '\\u0102' in position 12: ordinal not in range(256)\n",
      "'latin-1' codec can't encode character '\\u0102' in position 12: ordinal not in range(256)\n",
      "'latin-1' codec can't encode character '\\u0102' in position 12: ordinal not in range(256)\n",
      "'latin-1' codec can't encode character '\\u0102' in position 12: ordinal not in range(256)\n",
      "'latin-1' codec can't encode character '\\u0102' in position 12: ordinal not in range(256)\n",
      "'latin-1' codec can't encode character '\\u0102' in position 12: ordinal not in range(256)\n",
      "'latin-1' codec can't encode character '\\u0102' in position 12: ordinal not in range(256)\n",
      "'latin-1' codec can't encode character '\\u0102' in position 12: ordinal not in range(256)\n",
      "'latin-1' codec can't encode character '\\u0102' in position 12: ordinal not in range(256)\n",
      "'latin-1' codec can't encode character '\\u0102' in position 12: ordinal not in range(256)\n",
      "'latin-1' codec can't encode character '\\u0102' in position 12: ordinal not in range(256)\n",
      "'latin-1' codec can't encode character '\\u0102' in position 12: ordinal not in range(256)\n",
      "'latin-1' codec can't encode character '\\u0102' in position 12: ordinal not in range(256)\n",
      "'latin-1' codec can't encode character '\\u0102' in position 12: ordinal not in range(256)\n",
      "'latin-1' codec can't encode character '\\u0102' in position 12: ordinal not in range(256)\n",
      "'latin-1' codec can't encode character '\\u0102' in position 12: ordinal not in range(256)\n",
      "'latin-1' codec can't encode character '\\u0102' in position 12: ordinal not in range(256)\n",
      "'latin-1' codec can't encode character '\\u0102' in position 12: ordinal not in range(256)\n"
     ]
    }
   ],
   "source": [
    "import codecs\n",
    "codeclist = [\"IBM850\",\"IBM858\",'ibm1140',\"windows-1252\",'iso-8859-1','iso-8859-15','macroman','utf_32','utf_32_be','utf_32_le','utf_16','utf_16_be','utf_16_le','utf_7','utf_8','utf_8_le','utf_8_be','utf_8_sig','iso-8859-16']\n",
    "for codec in codeclist:\n",
    "    try: \n",
    "        print(codec,\": \",codecs.decode(problem_word2.encode(\"ISO-8859-1\"),codec)  )\n",
    "    except Exception as e: print(e)"
   ],
   "metadata": {
    "collapsed": false,
    "ExecuteTime": {
     "end_time": "2024-02-01T13:04:23.630746400Z",
     "start_time": "2024-02-01T13:04:23.591706600Z"
    }
   },
   "id": "5480c2aefa6cffd6",
   "execution_count": 75
  },
  {
   "cell_type": "code",
   "outputs": [
    {
     "name": "stdout",
     "output_type": "stream",
     "text": [
      "ibm1140 -> macroman :  ◊ôÖ¢ÖïÉâÅm’âf#Kñ¢\n"
     ]
    }
   ],
   "source": [
    "for enc_c in codeclist:\n",
    "    for dec_c in codeclist:\n",
    "        try: \n",
    "            res=codecs.decode(problem_word2.encode(enc_c),dec_c  )\n",
    "            if \"ñ\" in res:\n",
    "                print(enc_c,'->',dec_c, \": \",res)\n",
    "        except Exception as e:\n",
    "            pass          "
   ],
   "metadata": {
    "collapsed": false,
    "ExecuteTime": {
     "end_time": "2024-02-01T12:54:02.526413700Z",
     "start_time": "2024-02-01T12:54:02.488349800Z"
    }
   },
   "id": "1d16e0c4134e4d68",
   "execution_count": 69
  },
  {
   "cell_type": "code",
   "outputs": [
    {
     "name": "stdout",
     "output_type": "stream",
     "text": [
      "IBM850  ->  Presencia_NiĂ.os\n",
      "IBM858  ->  Presencia_NiĂ.os\n",
      "ibm1140  ->  Presencia_NiĂ.os\n",
      "windows-1252  ->  Presencia_NiĂ.os\n",
      "iso-8859-1  ->  Presencia_NiĂ.os\n",
      "iso-8859-15  ->  Presencia_NiĂ.os\n",
      "macroman  ->  Presencia_NiĂ.os\n",
      "utf_32 'utf-32-le' codec can't decode bytes in position 0-3: code point not in range(0x110000)\n",
      "utf_32_be 'utf-32-be' codec can't decode bytes in position 0-3: code point not in range(0x110000)\n",
      "utf_32_le 'utf-32-le' codec can't decode bytes in position 0-3: code point not in range(0x110000)\n",
      "utf_16 UTF-16 stream does not start with BOM\n",
      "utf_16_be  ->  Presencia_NiĂ.os\n",
      "utf_16_le  ->  Presencia_NiĂ.os\n",
      "utf_7 'utf7' codec can't decode byte 0xc3 in position 229: unexpected special character\n",
      "utf_8  ->  Presencia_NiĂ.os\n",
      "utf_8_le unknown encoding: utf_8_le\n",
      "utf_8_be unknown encoding: utf_8_be\n",
      "utf_8_sig  ->  Presencia_NiĂ.os\n",
      "iso-8859-16  ->  Presencia_NiĂ.os\n"
     ]
    }
   ],
   "source": [
    "for enc_c in codeclist:\n",
    "    try: \n",
    "\n",
    "        df1 = pd.read_csv(\"test_data/\" + '14head.csv', encoding=enc_c,delimiter=\",\")\n",
    "        print(enc_c,\" -> \",problem_word2)\n",
    "    except Exception as e: print(enc_c,e)"
   ],
   "metadata": {
    "collapsed": false,
    "ExecuteTime": {
     "end_time": "2024-02-01T13:04:31.207734300Z",
     "start_time": "2024-02-01T13:04:31.147222Z"
    }
   },
   "id": "e637a0b33b1ad9d3",
   "execution_count": 76
  },
  {
   "cell_type": "code",
   "execution_count": 11,
   "outputs": [
    {
     "data": {
      "text/plain": "{'customers': ['./results/2014_customers.dta',\n  './results/2015_customers.dta',\n  './results/2016_customers.dta',\n  './results/2017_customers.dta',\n  './results/2018_customers.dta',\n  './results/2019_customers.dta',\n  './results/2020_customers.dta',\n  './results/2021_customers.dta',\n  './results/2022_customers.dta'],\n 'products': ['./results/2014_products.dta',\n  './results/2015_products.dta',\n  './results/2016_products.dta',\n  './results/2017_products.dta',\n  './results/2018_products.dta',\n  './results/2019_products.dta',\n  './results/2020_products.dta',\n  './results/2021_products.dta',\n  './results/2022_products.dta'],\n 'shops': ['./results/2014_shops.dta',\n  './results/2015_shops.dta',\n  './results/2016_shops.dta',\n  './results/2017_shops.dta',\n  './results/2018_shops.dta',\n  './results/2019_shops.dta',\n  './results/2020_shops.dta',\n  './results/2021_shops.dta',\n  './results/2022_shops.dta'],\n 'purchases': ['./results/2014_purchases.dta',\n  './results/2015_purchases.dta',\n  './results/2016_purchases.dta',\n  './results/2017_purchases.dta',\n  './results/2018_purchases.dta',\n  './results/2019_purchases.dta',\n  './results/2020_purchases.dta',\n  './results/2021_purchases.dta',\n  './results/2022_purchases.dta']}"
     },
     "execution_count": 11,
     "metadata": {},
     "output_type": "execute_result"
    }
   ],
   "source": [
    "dfs"
   ],
   "metadata": {
    "collapsed": false,
    "ExecuteTime": {
     "end_time": "2024-01-25T21:05:44.921820Z",
     "start_time": "2024-01-25T21:05:44.869483Z"
    }
   },
   "id": "778373b17d61bb79"
  },
  {
   "cell_type": "code",
   "execution_count": 21,
   "outputs": [
    {
     "name": "stderr",
     "output_type": "stream",
     "text": [
      "/Users/peterkiss/anaconda3/envs/kantar_data_env/lib/python3.7/site-packages/IPython/core/interactiveshell.py:3146: DtypeWarning: Columns (5,30,31,32,33,34,35,36,37,38,39,40,41,42,43,44,45,46,47,48,50,51,52,53,54,55,56,57,58,59,60,61,62,63,64,66,68) have mixed types.Specify dtype option on import or set low_memory=False.\n",
      "  interactivity=interactivity, compiler=compiler, result=result)\n"
     ]
    }
   ],
   "source": [
    "year = 2014\n",
    "\n",
    "input_fn=f'Datos_{year}.csv'\n",
    "enc=\"ISO-8859-1\"\n",
    "delimiter=\";\"\n",
    "decimal=\".\"\n",
    "if year<2018: \n",
    "    decimal=\",\"\n",
    "    enc=\"utf-8\"\n",
    "    input_fn = f'{year} data.csv'\n",
    "    delimiter=\",\"\n",
    "   \n",
    "source_df_test=pd.read_csv(data_dir+input_fn,\n",
    "                          encoding = enc, delimiter=delimiter ,decimal=decimal,error_bad_lines=False, parse_dates=['FechaCesta'])"
   ],
   "metadata": {
    "collapsed": false,
    "ExecuteTime": {
     "end_time": "2023-12-12T14:59:18.533235Z",
     "start_time": "2023-12-12T14:57:25.341745Z"
    }
   },
   "id": "c9355def76c29be4"
  },
  {
   "cell_type": "code",
   "execution_count": 22,
   "outputs": [
    {
     "data": {
      "text/plain": "9654"
     },
     "execution_count": 22,
     "metadata": {},
     "output_type": "execute_result"
    }
   ],
   "source": [
    "ids_o = source_df_test['idCompra']\n",
    "duplicated_purchase_ids_orig = source_df_test[ids_o.isin(ids_o[ids_o.duplicated()])]\n",
    "duplicated_purchase_ids_orig.shape[0]\n"
   ],
   "metadata": {
    "collapsed": false,
    "ExecuteTime": {
     "end_time": "2023-12-12T14:59:41.277983Z",
     "start_time": "2023-12-12T14:59:36.865682Z"
    }
   },
   "id": "9a42080ef7612d3f"
  },
  {
   "cell_type": "code",
   "execution_count": null,
   "outputs": [],
   "source": [
    "duplicated_purchase_ids.shape[0]"
   ],
   "metadata": {
    "collapsed": false
   },
   "id": "9b528eff6fd010bc"
  },
  {
   "cell_type": "code",
   "execution_count": 5,
   "outputs": [],
   "source": [
    "dfs={name:[] for name in tables.keys()}\n",
    "for name in dfs.keys():\n",
    "    for year in range(2014,2023):\n",
    "        dfs[name].append(result_dir+f'{year}_{name}_u.dta')\n"
   ],
   "metadata": {
    "collapsed": false,
    "ExecuteTime": {
     "end_time": "2023-12-12T17:27:58.469918Z",
     "start_time": "2023-12-12T17:27:58.428220Z"
    }
   },
   "id": "d84f9564baaf5cd7"
  },
  {
   "cell_type": "code",
   "execution_count": 14,
   "outputs": [
    {
     "data": {
      "text/plain": "{'customers': ['./results/2014_customers_u.dta',\n  './results/2015_customers_u.dta',\n  './results/2016_customers_u.dta',\n  './results/2017_customers_u.dta',\n  './results/2018_customers_u.dta',\n  './results/2019_customers_u.dta',\n  './results/2020_customers_u.dta',\n  './results/2021_customers_u.dta',\n  './results/2022_customers_u.dta'],\n 'products': ['./results/2014_products_u.dta',\n  './results/2015_products_u.dta',\n  './results/2016_products_u.dta',\n  './results/2017_products_u.dta',\n  './results/2018_products_u.dta',\n  './results/2019_products_u.dta',\n  './results/2020_products_u.dta',\n  './results/2021_products_u.dta',\n  './results/2022_products_u.dta'],\n 'shops': ['./results/2014_shops_u.dta',\n  './results/2015_shops_u.dta',\n  './results/2016_shops_u.dta',\n  './results/2017_shops_u.dta',\n  './results/2018_shops_u.dta',\n  './results/2019_shops_u.dta',\n  './results/2020_shops_u.dta',\n  './results/2021_shops_u.dta',\n  './results/2022_shops_u.dta'],\n 'purchases': ['./results/2014_purchases_u.dta',\n  './results/2015_purchases_u.dta',\n  './results/2016_purchases_u.dta',\n  './results/2017_purchases_u.dta',\n  './results/2018_purchases_u.dta',\n  './results/2019_purchases_u.dta',\n  './results/2020_purchases_u.dta',\n  './results/2021_purchases_u.dta',\n  './results/2022_purchases_u.dta']}"
     },
     "execution_count": 14,
     "metadata": {},
     "output_type": "execute_result"
    }
   ],
   "source": [
    "dfs"
   ],
   "metadata": {
    "collapsed": false,
    "ExecuteTime": {
     "end_time": "2023-12-12T14:11:15.910037Z",
     "start_time": "2023-12-12T14:11:15.843911Z"
    }
   },
   "id": "e811344e359b5555"
  },
  {
   "cell_type": "code",
   "execution_count": null,
   "outputs": [
    {
     "name": "stdout",
     "output_type": "stream",
     "text": [
      "unifying categoricals in customers tables...\n",
      "unifying categoricals in products tables...\n",
      "unifying categoricals in shops tables...\n",
      "unifying categoricals in purchases tables...\n",
      "duplicate purchases:  True\n"
     ]
    }
   ],
   "source": [
    "from pandas.api.types import union_categoricals\n",
    "\n",
    "\n",
    "\n",
    "\n",
    "\n",
    "def load_yearly_data(name,dfs):\n",
    "    return [pd.read_stata(fn) for fn in dfs[name]] \n",
    "    \n",
    "for name in dfs.keys():\n",
    "    df_list=load_yearly_data(name,dfs )\n",
    "    # todo not sure if it is necessary\n",
    "    print(f'unifying categoricals in {name} tables...')\n",
    "    for c in df_list[0].columns:\n",
    "        if df_list[0][c].dtype.name=='category':\n",
    "            #print('cat union', c)\n",
    "            #for df_per_year in dfs_per_year:\n",
    "            #    print(c,y, df_per_year[c].cat.categories.tolist())\n",
    "            uc = union_categoricals([df_per_year[c]  for df_per_year in df_list], ignore_order=True)\n",
    "            for df_per_year in df_list:\n",
    "                df_per_year[c]=pd.Categorical( df_per_year[c], categories=uc.categories )\n",
    "    y=2014\n",
    "    for df_y in  df_list:\n",
    "        save_dta(result_dir+f'{y}_{name}_u.dta',df_y.drop_duplicates())   \n",
    "        y+=1\n",
    "    all_data = pd.concat(df_list)\n",
    "    del df_list\n",
    "    if name == 'purchases':\n",
    "        duplicate_id_is=all_data['idCompra'].duplicated().any()\n",
    "        print(\"duplicate purchases: \",duplicate_id_is)\n",
    "     \n",
    "    all_data = all_data.drop_duplicates()\n",
    "    \n",
    "    '''\n",
    "    if 'NF' in all_data.columns:\n",
    "        print(all_data['NF'])\n",
    "        print(all_data['NF'].astype('category').dtype.name)\n",
    "\n",
    "    '''\n",
    "    save_dta(result_dir+f'all_{name}.dta',all_data)\n",
    "    del all_data\n",
    "\n",
    "'''\n",
    "https://stackoverflow.com/questions/45639350/retaining-categorical-dtype-upon-dataframe-concatenation\n",
    "uc = union_categoricals([df1.x,df2.x])\n",
    "df1.x = pd.Categorical( df1.x, categories=uc.categories )\n",
    "df2.x = pd.Categorical( df2.x, categories=uc.categories )\n",
    "'''       \n"
   ],
   "metadata": {
    "collapsed": false,
    "is_executing": true,
    "ExecuteTime": {
     "start_time": "2023-12-11T07:14:35.422155Z"
    }
   },
   "id": "60b23ebcb871e8ba"
  },
  {
   "cell_type": "code",
   "execution_count": 7,
   "outputs": [],
   "source": [
    "\n",
    "#\n",
    "\n",
    " "
   ],
   "metadata": {
    "collapsed": false,
    "ExecuteTime": {
     "end_time": "2023-12-12T17:11:18.089845Z",
     "start_time": "2023-12-12T17:09:03.098731Z"
    }
   },
   "id": "120766bfc9f03bba"
  },
  {
   "cell_type": "code",
   "execution_count": 27,
   "outputs": [
    {
     "data": {
      "text/plain": "   level_0  index  idCompra  CodPanelista   CodigoBarras  CodProducto  \\\n0        0      0  48348413        187220  3123930711000        11649   \n1        1      1  48348415        187220  8410066001026        46899   \n2        2      2  48348416        187220  8410069021649        58452   \n3        3      3  48348417        187220     KIA1020201        74597   \n4        4      4  48348418        187220  8421136700015       313733   \n\n  FechaCesta  PrecioCompra  Cantidad  Precio  ...  TipoMaquina Promo_Folleto  \\\n0 2013-12-30        2233.0    2000.0   258.0  ...            1             1   \n1 2013-12-30        2233.0    3000.0   186.0  ...            1             1   \n2 2013-12-30        2233.0    1000.0    94.0  ...            1             1   \n3 2013-12-30        2233.0    3000.0   169.0  ...            1             1   \n4 2013-12-30        2233.0    1000.0   165.0  ...            1             1   \n\n  Promo_Envase  Promo_TPR  promo    t  price_per_unit  predicted         z  \\\n0            1          1      1  364        0.129000   0.118486  0.098759   \n1            1          1      1  364        0.062000   0.065639  0.423578   \n2            1          1      1  364        0.094000   0.090003  0.017334   \n3            1          1      1  364        0.056333   0.048225  0.495195   \n4            1          1      1  364        0.165000   0.199167  0.786573   \n\n   outlier  \n0        0  \n1        0  \n2        0  \n3        0  \n4        0  \n\n[5 rows x 22 columns]",
      "text/html": "<div>\n<style scoped>\n    .dataframe tbody tr th:only-of-type {\n        vertical-align: middle;\n    }\n\n    .dataframe tbody tr th {\n        vertical-align: top;\n    }\n\n    .dataframe thead th {\n        text-align: right;\n    }\n</style>\n<table border=\"1\" class=\"dataframe\">\n  <thead>\n    <tr style=\"text-align: right;\">\n      <th></th>\n      <th>level_0</th>\n      <th>index</th>\n      <th>idCompra</th>\n      <th>CodPanelista</th>\n      <th>CodigoBarras</th>\n      <th>CodProducto</th>\n      <th>FechaCesta</th>\n      <th>PrecioCompra</th>\n      <th>Cantidad</th>\n      <th>Precio</th>\n      <th>...</th>\n      <th>TipoMaquina</th>\n      <th>Promo_Folleto</th>\n      <th>Promo_Envase</th>\n      <th>Promo_TPR</th>\n      <th>promo</th>\n      <th>t</th>\n      <th>price_per_unit</th>\n      <th>predicted</th>\n      <th>z</th>\n      <th>outlier</th>\n    </tr>\n  </thead>\n  <tbody>\n    <tr>\n      <th>0</th>\n      <td>0</td>\n      <td>0</td>\n      <td>48348413</td>\n      <td>187220</td>\n      <td>3123930711000</td>\n      <td>11649</td>\n      <td>2013-12-30</td>\n      <td>2233.0</td>\n      <td>2000.0</td>\n      <td>258.0</td>\n      <td>...</td>\n      <td>1</td>\n      <td>1</td>\n      <td>1</td>\n      <td>1</td>\n      <td>1</td>\n      <td>364</td>\n      <td>0.129000</td>\n      <td>0.118486</td>\n      <td>0.098759</td>\n      <td>0</td>\n    </tr>\n    <tr>\n      <th>1</th>\n      <td>1</td>\n      <td>1</td>\n      <td>48348415</td>\n      <td>187220</td>\n      <td>8410066001026</td>\n      <td>46899</td>\n      <td>2013-12-30</td>\n      <td>2233.0</td>\n      <td>3000.0</td>\n      <td>186.0</td>\n      <td>...</td>\n      <td>1</td>\n      <td>1</td>\n      <td>1</td>\n      <td>1</td>\n      <td>1</td>\n      <td>364</td>\n      <td>0.062000</td>\n      <td>0.065639</td>\n      <td>0.423578</td>\n      <td>0</td>\n    </tr>\n    <tr>\n      <th>2</th>\n      <td>2</td>\n      <td>2</td>\n      <td>48348416</td>\n      <td>187220</td>\n      <td>8410069021649</td>\n      <td>58452</td>\n      <td>2013-12-30</td>\n      <td>2233.0</td>\n      <td>1000.0</td>\n      <td>94.0</td>\n      <td>...</td>\n      <td>1</td>\n      <td>1</td>\n      <td>1</td>\n      <td>1</td>\n      <td>1</td>\n      <td>364</td>\n      <td>0.094000</td>\n      <td>0.090003</td>\n      <td>0.017334</td>\n      <td>0</td>\n    </tr>\n    <tr>\n      <th>3</th>\n      <td>3</td>\n      <td>3</td>\n      <td>48348417</td>\n      <td>187220</td>\n      <td>KIA1020201</td>\n      <td>74597</td>\n      <td>2013-12-30</td>\n      <td>2233.0</td>\n      <td>3000.0</td>\n      <td>169.0</td>\n      <td>...</td>\n      <td>1</td>\n      <td>1</td>\n      <td>1</td>\n      <td>1</td>\n      <td>1</td>\n      <td>364</td>\n      <td>0.056333</td>\n      <td>0.048225</td>\n      <td>0.495195</td>\n      <td>0</td>\n    </tr>\n    <tr>\n      <th>4</th>\n      <td>4</td>\n      <td>4</td>\n      <td>48348418</td>\n      <td>187220</td>\n      <td>8421136700015</td>\n      <td>313733</td>\n      <td>2013-12-30</td>\n      <td>2233.0</td>\n      <td>1000.0</td>\n      <td>165.0</td>\n      <td>...</td>\n      <td>1</td>\n      <td>1</td>\n      <td>1</td>\n      <td>1</td>\n      <td>1</td>\n      <td>364</td>\n      <td>0.165000</td>\n      <td>0.199167</td>\n      <td>0.786573</td>\n      <td>0</td>\n    </tr>\n  </tbody>\n</table>\n<p>5 rows × 22 columns</p>\n</div>"
     },
     "execution_count": 27,
     "metadata": {},
     "output_type": "execute_result"
    }
   ],
   "source": [
    "df_list[0].drop('level_0',axis=1)"
   ],
   "metadata": {
    "collapsed": false,
    "ExecuteTime": {
     "end_time": "2023-12-12T15:29:07.327427Z",
     "start_time": "2023-12-12T15:29:03.068547Z"
    }
   },
   "id": "747489ab64021103"
  },
  {
   "cell_type": "code",
   "execution_count": 11,
   "outputs": [
    {
     "name": "stdout",
     "output_type": "stream",
     "text": [
      "dropping duplictes  ./results/2014_purchases_u.dta\n",
      "saving deduplicated  ./results/2014_purchases_u.dta\n",
      "done  ./results/2014_purchases_u.dta\n",
      "dropping duplictes  ./results/2015_purchases_u.dta\n",
      "saving deduplicated  ./results/2015_purchases_u.dta\n",
      "done  ./results/2015_purchases_u.dta\n",
      "dropping duplictes  ./results/2016_purchases_u.dta\n",
      "saving deduplicated  ./results/2016_purchases_u.dta\n",
      "done  ./results/2016_purchases_u.dta\n",
      "dropping duplictes  ./results/2017_purchases_u.dta\n",
      "saving deduplicated  ./results/2017_purchases_u.dta\n",
      "done  ./results/2017_purchases_u.dta\n",
      "dropping duplictes  ./results/2018_purchases_u.dta\n",
      "saving deduplicated  ./results/2018_purchases_u.dta\n",
      "done  ./results/2018_purchases_u.dta\n",
      "dropping duplictes  ./results/2019_purchases_u.dta\n",
      "saving deduplicated  ./results/2019_purchases_u.dta\n",
      "done  ./results/2019_purchases_u.dta\n",
      "dropping duplictes  ./results/2020_purchases_u.dta\n",
      "saving deduplicated  ./results/2020_purchases_u.dta\n",
      "done  ./results/2020_purchases_u.dta\n",
      "dropping duplictes  ./results/2021_purchases_u.dta\n",
      "saving deduplicated  ./results/2021_purchases_u.dta\n",
      "done  ./results/2021_purchases_u.dta\n",
      "dropping duplictes  ./results/2022_purchases_u.dta\n",
      "saving deduplicated  ./results/2022_purchases_u.dta\n",
      "done  ./results/2022_purchases_u.dta\n"
     ]
    }
   ],
   "source": [
    "def deduplicate(dslst,fnlst):\n",
    "    res=[]\n",
    "    for n,d in zip(fnlst,dslst):\n",
    "        print('dropping duplictes ',n)\n",
    "        d=d.drop_duplicates(\"idCompra\", ignore_index=True)\n",
    "        d=d.drop('level_0',axis=1)\n",
    "        print('saving deduplicated ',n)\n",
    "        save_dta(n,d)\n",
    "        print('done ',n)\n",
    "\n",
    "        res.append(d)\n",
    "    return res\n",
    "\n",
    "df_list=deduplicate(df_list,dfs[name])\n"
   ],
   "metadata": {
    "collapsed": false,
    "ExecuteTime": {
     "end_time": "2023-12-12T16:42:31.968907Z",
     "start_time": "2023-12-12T16:37:31.924555Z"
    }
   },
   "id": "1bd3b1625f318684"
  },
  {
   "cell_type": "code",
   "execution_count": 2,
   "outputs": [
    {
     "ename": "NameError",
     "evalue": "name 'df_list' is not defined",
     "output_type": "error",
     "traceback": [
      "\u001B[0;31m---------------------------------------------------------------------------\u001B[0m",
      "\u001B[0;31mNameError\u001B[0m                                 Traceback (most recent call last)",
      "\u001B[0;32m<ipython-input-2-286e2bcbdf72>\u001B[0m in \u001B[0;36m<module>\u001B[0;34m\u001B[0m\n\u001B[0;32m----> 1\u001B[0;31m \u001B[0mdf_list\u001B[0m\u001B[0;34m[\u001B[0m\u001B[0;36m0\u001B[0m\u001B[0;34m]\u001B[0m\u001B[0;34m.\u001B[0m\u001B[0mhead\u001B[0m\u001B[0;34m(\u001B[0m\u001B[0;34m)\u001B[0m\u001B[0;34m\u001B[0m\u001B[0m\n\u001B[0m",
      "\u001B[0;31mNameError\u001B[0m: name 'df_list' is not defined"
     ]
    }
   ],
   "source": [
    "df_list[0].head()"
   ],
   "metadata": {
    "collapsed": false,
    "ExecuteTime": {
     "end_time": "2023-12-12T16:28:40.666354Z",
     "start_time": "2023-12-12T16:28:37.010042Z"
    }
   },
   "id": "1bcbbc27d9f3587a"
  },
  {
   "cell_type": "code",
   "execution_count": 8,
   "outputs": [
    {
     "name": "stdout",
     "output_type": "stream",
     "text": [
      "concat done\n"
     ]
    }
   ],
   "source": [],
   "metadata": {
    "collapsed": false,
    "ExecuteTime": {
     "end_time": "2023-12-12T17:11:55.249810Z",
     "start_time": "2023-12-12T17:11:19.933663Z"
    }
   },
   "id": "f7f09362a6182207"
  },
  {
   "cell_type": "code",
   "execution_count": null,
   "outputs": [
    {
     "name": "stdout",
     "output_type": "stream",
     "text": [
      "concat done\n",
      "dropp done\n",
      "entries  67198136\n"
     ]
    }
   ],
   "source": [
    "\n",
    "def load_yearly_data(name,dfs):\n",
    "    return [pd.read_stata(fn) for fn in dfs[name]] \n",
    "\n",
    "\n",
    "\n",
    "name =\"purchases\"\n",
    "df_list=load_yearly_data(name,dfs )\n",
    "#all_data = pd.concat(df_list, ignore_index=True)\n",
    "#del df_list\n",
    "#save_dta(result_dir+f'all_{name}.dta',all_data.drop_duplicates())\n",
    "#del all_data\n",
    "all_data = pd.concat(df_list, ignore_index=True)\n",
    "print('concat done')\n",
    "if 'level_0' in all_data.columns:\n",
    "    all_data= all_data.drop('level_0',axis=1)\n",
    "    print('dropp done')\n",
    "else: print('no level_0')\n",
    "print(\"entries \",all_data.shape[0])\n",
    "save_dta(result_dir+f'all_{name}.dta',all_data)\n",
    "print('saving done')\n"
   ],
   "metadata": {
    "collapsed": false,
    "is_executing": true,
    "ExecuteTime": {
     "start_time": "2023-12-12T17:28:44.497115Z"
    }
   },
   "id": "a144b5d2f6ad001c"
  },
  {
   "cell_type": "code",
   "execution_count": 1,
   "outputs": [
    {
     "ename": "NameError",
     "evalue": "name 'df_list' is not defined",
     "output_type": "error",
     "traceback": [
      "\u001B[0;31m---------------------------------------------------------------------------\u001B[0m",
      "\u001B[0;31mNameError\u001B[0m                                 Traceback (most recent call last)",
      "\u001B[0;32m<ipython-input-1-dc37206b3bcc>\u001B[0m in \u001B[0;36m<module>\u001B[0;34m\u001B[0m\n\u001B[0;32m----> 1\u001B[0;31m \u001B[0mdf_list\u001B[0m\u001B[0;34m[\u001B[0m\u001B[0;36m0\u001B[0m\u001B[0;34m]\u001B[0m\u001B[0;34m.\u001B[0m\u001B[0msort_values\u001B[0m\u001B[0;34m(\u001B[0m\u001B[0;34m\"idCompra\"\u001B[0m\u001B[0;34m)\u001B[0m\u001B[0;34m.\u001B[0m\u001B[0mhead\u001B[0m\u001B[0;34m(\u001B[0m\u001B[0;34m)\u001B[0m\u001B[0;34m\u001B[0m\u001B[0m\n\u001B[0m",
      "\u001B[0;31mNameError\u001B[0m: name 'df_list' is not defined"
     ]
    }
   ],
   "source": [
    "df_list[0].sort_values(\"idCompra\").head()"
   ],
   "metadata": {
    "collapsed": false,
    "ExecuteTime": {
     "end_time": "2023-12-12T17:25:33.681844Z",
     "start_time": "2023-12-12T17:25:33.601244Z"
    }
   },
   "id": "63158e405a16d1e5"
  },
  {
   "cell_type": "code",
   "execution_count": 10,
   "outputs": [],
   "source": [
    "ids=all_data['idCompra']\n",
    "duplicated_purchase_ids=all_data[ids.isin(ids[ids.duplicated()])]\n"
   ],
   "metadata": {
    "collapsed": false,
    "ExecuteTime": {
     "end_time": "2023-12-12T10:11:12.231826Z",
     "start_time": "2023-12-12T10:09:13.419778Z"
    }
   },
   "id": "b6d625c7348d6852"
  },
  {
   "cell_type": "code",
   "execution_count": 17,
   "outputs": [],
   "source": [
    "d= df_list[0]\n",
    "ids=d['idCompra']\n",
    "duplicated_purchase_ids=d[ids.isin(ids[ids.duplicated()])]"
   ],
   "metadata": {
    "collapsed": false,
    "ExecuteTime": {
     "end_time": "2023-12-12T14:16:04.258639Z",
     "start_time": "2023-12-12T14:15:59.565199Z"
    }
   },
   "id": "fab504d3fccc9ef5"
  },
  {
   "cell_type": "code",
   "execution_count": 18,
   "outputs": [
    {
     "data": {
      "text/plain": "9654"
     },
     "execution_count": 18,
     "metadata": {},
     "output_type": "execute_result"
    }
   ],
   "source": [
    "duplicated_purchase_ids.shape[0]"
   ],
   "metadata": {
    "collapsed": false,
    "ExecuteTime": {
     "end_time": "2023-12-12T14:16:17.466364Z",
     "start_time": "2023-12-12T14:16:17.412814Z"
    }
   },
   "id": "4b34a1230def458c"
  },
  {
   "cell_type": "code",
   "execution_count": 12,
   "outputs": [
    {
     "data": {
      "text/plain": "      level_0  index  idCompra  CodPanelista   CodigoBarras  CodProducto  \\\n914       914    914  48349862        180894  8410436221054       923524   \n915       915    915  48349862        180894  8410436221054       923524   \n5001     5001   5001  48356043        217885  8480017752635       492555   \n5002     5002   5002  48356043        217885  8480017752635       492555   \n5592     5592   5592  48356941        174212  8480017752635       492555   \n\n     FechaCesta  PrecioCompra  Cantidad  Precio  ...  TipoMaquina  \\\n914  2013-12-30        3500.0    2000.0   630.0  ...            6   \n915  2013-12-30        3500.0    2000.0   630.0  ...            6   \n5001 2013-12-30        1931.0    2000.0   600.0  ...            5   \n5002 2013-12-30        1931.0    2000.0   600.0  ...            5   \n5592 2013-12-30         650.0    2000.0   600.0  ...            6   \n\n     Promo_Folleto Promo_Envase  Promo_TPR  promo    t  price_per_unit  \\\n914              1            1          1      1  364           0.315   \n915              1            1          1      1  364           0.315   \n5001             1            1          1      1  364           0.300   \n5002             1            1          1      1  364           0.300   \n5592             1            1          1      1  364           0.300   \n\n      predicted         z  outlier  \n914    0.312130  0.634186        0  \n915    0.312130  0.634186        0  \n5001   0.287322  0.364919        0  \n5002   0.287322  0.364919        0  \n5592   0.287322  0.364919        0  \n\n[5 rows x 22 columns]",
      "text/html": "<div>\n<style scoped>\n    .dataframe tbody tr th:only-of-type {\n        vertical-align: middle;\n    }\n\n    .dataframe tbody tr th {\n        vertical-align: top;\n    }\n\n    .dataframe thead th {\n        text-align: right;\n    }\n</style>\n<table border=\"1\" class=\"dataframe\">\n  <thead>\n    <tr style=\"text-align: right;\">\n      <th></th>\n      <th>level_0</th>\n      <th>index</th>\n      <th>idCompra</th>\n      <th>CodPanelista</th>\n      <th>CodigoBarras</th>\n      <th>CodProducto</th>\n      <th>FechaCesta</th>\n      <th>PrecioCompra</th>\n      <th>Cantidad</th>\n      <th>Precio</th>\n      <th>...</th>\n      <th>TipoMaquina</th>\n      <th>Promo_Folleto</th>\n      <th>Promo_Envase</th>\n      <th>Promo_TPR</th>\n      <th>promo</th>\n      <th>t</th>\n      <th>price_per_unit</th>\n      <th>predicted</th>\n      <th>z</th>\n      <th>outlier</th>\n    </tr>\n  </thead>\n  <tbody>\n    <tr>\n      <th>914</th>\n      <td>914</td>\n      <td>914</td>\n      <td>48349862</td>\n      <td>180894</td>\n      <td>8410436221054</td>\n      <td>923524</td>\n      <td>2013-12-30</td>\n      <td>3500.0</td>\n      <td>2000.0</td>\n      <td>630.0</td>\n      <td>...</td>\n      <td>6</td>\n      <td>1</td>\n      <td>1</td>\n      <td>1</td>\n      <td>1</td>\n      <td>364</td>\n      <td>0.315</td>\n      <td>0.312130</td>\n      <td>0.634186</td>\n      <td>0</td>\n    </tr>\n    <tr>\n      <th>915</th>\n      <td>915</td>\n      <td>915</td>\n      <td>48349862</td>\n      <td>180894</td>\n      <td>8410436221054</td>\n      <td>923524</td>\n      <td>2013-12-30</td>\n      <td>3500.0</td>\n      <td>2000.0</td>\n      <td>630.0</td>\n      <td>...</td>\n      <td>6</td>\n      <td>1</td>\n      <td>1</td>\n      <td>1</td>\n      <td>1</td>\n      <td>364</td>\n      <td>0.315</td>\n      <td>0.312130</td>\n      <td>0.634186</td>\n      <td>0</td>\n    </tr>\n    <tr>\n      <th>5001</th>\n      <td>5001</td>\n      <td>5001</td>\n      <td>48356043</td>\n      <td>217885</td>\n      <td>8480017752635</td>\n      <td>492555</td>\n      <td>2013-12-30</td>\n      <td>1931.0</td>\n      <td>2000.0</td>\n      <td>600.0</td>\n      <td>...</td>\n      <td>5</td>\n      <td>1</td>\n      <td>1</td>\n      <td>1</td>\n      <td>1</td>\n      <td>364</td>\n      <td>0.300</td>\n      <td>0.287322</td>\n      <td>0.364919</td>\n      <td>0</td>\n    </tr>\n    <tr>\n      <th>5002</th>\n      <td>5002</td>\n      <td>5002</td>\n      <td>48356043</td>\n      <td>217885</td>\n      <td>8480017752635</td>\n      <td>492555</td>\n      <td>2013-12-30</td>\n      <td>1931.0</td>\n      <td>2000.0</td>\n      <td>600.0</td>\n      <td>...</td>\n      <td>5</td>\n      <td>1</td>\n      <td>1</td>\n      <td>1</td>\n      <td>1</td>\n      <td>364</td>\n      <td>0.300</td>\n      <td>0.287322</td>\n      <td>0.364919</td>\n      <td>0</td>\n    </tr>\n    <tr>\n      <th>5592</th>\n      <td>5592</td>\n      <td>5592</td>\n      <td>48356941</td>\n      <td>174212</td>\n      <td>8480017752635</td>\n      <td>492555</td>\n      <td>2013-12-30</td>\n      <td>650.0</td>\n      <td>2000.0</td>\n      <td>600.0</td>\n      <td>...</td>\n      <td>6</td>\n      <td>1</td>\n      <td>1</td>\n      <td>1</td>\n      <td>1</td>\n      <td>364</td>\n      <td>0.300</td>\n      <td>0.287322</td>\n      <td>0.364919</td>\n      <td>0</td>\n    </tr>\n  </tbody>\n</table>\n<p>5 rows × 22 columns</p>\n</div>"
     },
     "execution_count": 12,
     "metadata": {},
     "output_type": "execute_result"
    }
   ],
   "source": [
    "duplicated_purchase_ids.head()"
   ],
   "metadata": {
    "collapsed": false,
    "ExecuteTime": {
     "end_time": "2023-12-12T10:27:16.593300Z",
     "start_time": "2023-12-12T10:27:12.495505Z"
    }
   },
   "id": "64f8ff387eee16d"
  },
  {
   "cell_type": "code",
   "execution_count": null,
   "outputs": [],
   "source": [
    "duplicated_purchase_ids.to_csv(result_dir+'duplicated_purchase_ids.csv')\n"
   ],
   "metadata": {
    "collapsed": false
   },
   "id": "da268e17d15400dd"
  },
  {
   "cell_type": "code",
   "execution_count": 13,
   "outputs": [],
   "source": [
    "del duplicated_purchase_ids"
   ],
   "metadata": {
    "collapsed": false,
    "ExecuteTime": {
     "end_time": "2023-12-12T10:32:14.578195Z",
     "start_time": "2023-12-12T10:32:10.813575Z"
    }
   },
   "id": "9d0e78d28e6aebc3"
  },
  {
   "cell_type": "code",
   "execution_count": 9,
   "outputs": [
    {
     "data": {
      "text/plain": "   level_0  index  idCompra  CodPanelista   CodigoBarras  CodProducto  \\\n0        0      0  48348413        187220  3123930711000        11649   \n1        1      1  48348415        187220  8410066001026        46899   \n2        2      2  48348416        187220  8410069021649        58452   \n3        3      3  48348417        187220     KIA1020201        74597   \n4        4      4  48348418        187220  8421136700015       313733   \n\n  FechaCesta  PrecioCompra  Cantidad  Precio  ...  TipoMaquina Promo_Folleto  \\\n0 2013-12-30        2233.0    2000.0   258.0  ...            1             1   \n1 2013-12-30        2233.0    3000.0   186.0  ...            1             1   \n2 2013-12-30        2233.0    1000.0    94.0  ...            1             1   \n3 2013-12-30        2233.0    3000.0   169.0  ...            1             1   \n4 2013-12-30        2233.0    1000.0   165.0  ...            1             1   \n\n  Promo_Envase  Promo_TPR  promo    t  price_per_unit  predicted         z  \\\n0            1          1      1  364        0.129000   0.118486  0.098759   \n1            1          1      1  364        0.062000   0.065639  0.423578   \n2            1          1      1  364        0.094000   0.090003  0.017334   \n3            1          1      1  364        0.056333   0.048225  0.495195   \n4            1          1      1  364        0.165000   0.199167  0.786573   \n\n   outlier  \n0        0  \n1        0  \n2        0  \n3        0  \n4        0  \n\n[5 rows x 22 columns]",
      "text/html": "<div>\n<style scoped>\n    .dataframe tbody tr th:only-of-type {\n        vertical-align: middle;\n    }\n\n    .dataframe tbody tr th {\n        vertical-align: top;\n    }\n\n    .dataframe thead th {\n        text-align: right;\n    }\n</style>\n<table border=\"1\" class=\"dataframe\">\n  <thead>\n    <tr style=\"text-align: right;\">\n      <th></th>\n      <th>level_0</th>\n      <th>index</th>\n      <th>idCompra</th>\n      <th>CodPanelista</th>\n      <th>CodigoBarras</th>\n      <th>CodProducto</th>\n      <th>FechaCesta</th>\n      <th>PrecioCompra</th>\n      <th>Cantidad</th>\n      <th>Precio</th>\n      <th>...</th>\n      <th>TipoMaquina</th>\n      <th>Promo_Folleto</th>\n      <th>Promo_Envase</th>\n      <th>Promo_TPR</th>\n      <th>promo</th>\n      <th>t</th>\n      <th>price_per_unit</th>\n      <th>predicted</th>\n      <th>z</th>\n      <th>outlier</th>\n    </tr>\n  </thead>\n  <tbody>\n    <tr>\n      <th>0</th>\n      <td>0</td>\n      <td>0</td>\n      <td>48348413</td>\n      <td>187220</td>\n      <td>3123930711000</td>\n      <td>11649</td>\n      <td>2013-12-30</td>\n      <td>2233.0</td>\n      <td>2000.0</td>\n      <td>258.0</td>\n      <td>...</td>\n      <td>1</td>\n      <td>1</td>\n      <td>1</td>\n      <td>1</td>\n      <td>1</td>\n      <td>364</td>\n      <td>0.129000</td>\n      <td>0.118486</td>\n      <td>0.098759</td>\n      <td>0</td>\n    </tr>\n    <tr>\n      <th>1</th>\n      <td>1</td>\n      <td>1</td>\n      <td>48348415</td>\n      <td>187220</td>\n      <td>8410066001026</td>\n      <td>46899</td>\n      <td>2013-12-30</td>\n      <td>2233.0</td>\n      <td>3000.0</td>\n      <td>186.0</td>\n      <td>...</td>\n      <td>1</td>\n      <td>1</td>\n      <td>1</td>\n      <td>1</td>\n      <td>1</td>\n      <td>364</td>\n      <td>0.062000</td>\n      <td>0.065639</td>\n      <td>0.423578</td>\n      <td>0</td>\n    </tr>\n    <tr>\n      <th>2</th>\n      <td>2</td>\n      <td>2</td>\n      <td>48348416</td>\n      <td>187220</td>\n      <td>8410069021649</td>\n      <td>58452</td>\n      <td>2013-12-30</td>\n      <td>2233.0</td>\n      <td>1000.0</td>\n      <td>94.0</td>\n      <td>...</td>\n      <td>1</td>\n      <td>1</td>\n      <td>1</td>\n      <td>1</td>\n      <td>1</td>\n      <td>364</td>\n      <td>0.094000</td>\n      <td>0.090003</td>\n      <td>0.017334</td>\n      <td>0</td>\n    </tr>\n    <tr>\n      <th>3</th>\n      <td>3</td>\n      <td>3</td>\n      <td>48348417</td>\n      <td>187220</td>\n      <td>KIA1020201</td>\n      <td>74597</td>\n      <td>2013-12-30</td>\n      <td>2233.0</td>\n      <td>3000.0</td>\n      <td>169.0</td>\n      <td>...</td>\n      <td>1</td>\n      <td>1</td>\n      <td>1</td>\n      <td>1</td>\n      <td>1</td>\n      <td>364</td>\n      <td>0.056333</td>\n      <td>0.048225</td>\n      <td>0.495195</td>\n      <td>0</td>\n    </tr>\n    <tr>\n      <th>4</th>\n      <td>4</td>\n      <td>4</td>\n      <td>48348418</td>\n      <td>187220</td>\n      <td>8421136700015</td>\n      <td>313733</td>\n      <td>2013-12-30</td>\n      <td>2233.0</td>\n      <td>1000.0</td>\n      <td>165.0</td>\n      <td>...</td>\n      <td>1</td>\n      <td>1</td>\n      <td>1</td>\n      <td>1</td>\n      <td>1</td>\n      <td>364</td>\n      <td>0.165000</td>\n      <td>0.199167</td>\n      <td>0.786573</td>\n      <td>0</td>\n    </tr>\n  </tbody>\n</table>\n<p>5 rows × 22 columns</p>\n</div>"
     },
     "execution_count": 9,
     "metadata": {},
     "output_type": "execute_result"
    }
   ],
   "source": [
    "all_data.head()"
   ],
   "metadata": {
    "collapsed": false,
    "ExecuteTime": {
     "end_time": "2023-12-12T09:37:46.972348Z",
     "start_time": "2023-12-12T09:37:46.897744Z"
    }
   },
   "id": "22ec35e7f004872e"
  },
  {
   "cell_type": "code",
   "execution_count": null,
   "outputs": [],
   "source": [
    "all_data=all_data.drop_duplicates()"
   ],
   "metadata": {
    "collapsed": false
   },
   "id": "6750572e5eb05ddc"
  },
  {
   "cell_type": "code",
   "execution_count": 7,
   "outputs": [],
   "source": [
    "all_data=all_data.drop('level_0',axis=1)"
   ],
   "metadata": {
    "collapsed": false,
    "ExecuteTime": {
     "end_time": "2023-12-12T08:28:49.285881Z",
     "start_time": "2023-12-12T08:28:24.846156Z"
    }
   },
   "id": "d47ae7da030de476"
  },
  {
   "cell_type": "code",
   "execution_count": null,
   "outputs": [],
   "source": [
    "save_dta(result_dir+f'all_{name}.dta',all_data.drop_duplicates())"
   ],
   "metadata": {
    "collapsed": false,
    "is_executing": true,
    "ExecuteTime": {
     "start_time": "2023-12-12T08:29:48.674375Z"
    }
   },
   "id": "597cc495d63604c8"
  },
  {
   "cell_type": "code",
   "execution_count": 3,
   "outputs": [
    {
     "ename": "NameError",
     "evalue": "name 'all_data' is not defined",
     "output_type": "error",
     "traceback": [
      "\u001B[0;31m---------------------------------------------------------------------------\u001B[0m",
      "\u001B[0;31mNameError\u001B[0m                                 Traceback (most recent call last)",
      "\u001B[0;32m<ipython-input-3-5a62b949c6bd>\u001B[0m in \u001B[0;36m<module>\u001B[0;34m\u001B[0m\n\u001B[0;32m----> 1\u001B[0;31m \u001B[0mall_data\u001B[0m\u001B[0;34m.\u001B[0m\u001B[0mhead\u001B[0m\u001B[0;34m(\u001B[0m\u001B[0;34m)\u001B[0m\u001B[0;34m\u001B[0m\u001B[0m\n\u001B[0m",
      "\u001B[0;31mNameError\u001B[0m: name 'all_data' is not defined"
     ]
    }
   ],
   "source": [
    "all_data.head()"
   ],
   "metadata": {
    "collapsed": false,
    "ExecuteTime": {
     "end_time": "2023-12-12T09:27:20.217322Z",
     "start_time": "2023-12-12T09:27:16.612724Z"
    }
   },
   "id": "92d4a4c7260be6b7"
  },
  {
   "cell_type": "code",
   "execution_count": 9,
   "outputs": [],
   "source": [
    "duplicated_purchase_ids=all_data[ids.isin(ids[ids.duplicated()])]\n"
   ],
   "metadata": {
    "collapsed": false,
    "ExecuteTime": {
     "end_time": "2023-12-11T08:31:54.242249Z",
     "start_time": "2023-12-11T08:29:47.546984Z"
    }
   },
   "id": "47d2721f4162e64d"
  },
  {
   "cell_type": "code",
   "execution_count": 1,
   "outputs": [
    {
     "ename": "NameError",
     "evalue": "name 'x' is not defined",
     "output_type": "error",
     "traceback": [
      "\u001B[0;31m---------------------------------------------------------------------------\u001B[0m",
      "\u001B[0;31mNameError\u001B[0m                                 Traceback (most recent call last)",
      "\u001B[0;32m<ipython-input-1-fc17d851ef81>\u001B[0m in \u001B[0;36m<module>\u001B[0;34m\u001B[0m\n\u001B[0;32m----> 1\u001B[0;31m \u001B[0mprint\u001B[0m\u001B[0;34m(\u001B[0m\u001B[0mx\u001B[0m\u001B[0;34m)\u001B[0m\u001B[0;34m\u001B[0m\u001B[0m\n\u001B[0m",
      "\u001B[0;31mNameError\u001B[0m: name 'x' is not defined"
     ]
    }
   ],
   "source": [
    "print(x)"
   ],
   "metadata": {
    "collapsed": false,
    "ExecuteTime": {
     "end_time": "2023-12-12T16:27:49.637139Z",
     "start_time": "2023-12-12T16:27:49.510935Z"
    }
   },
   "id": "6d97eba68ac25e46"
  },
  {
   "cell_type": "code",
   "execution_count": 10,
   "outputs": [],
   "source": [
    "duplicated_purchase_ids.to_csv(result_dir+'duplicated_purchase_ids.csv')"
   ],
   "metadata": {
    "collapsed": false,
    "ExecuteTime": {
     "end_time": "2023-12-11T08:32:12.075736Z",
     "start_time": "2023-12-11T08:31:53.445659Z"
    }
   },
   "id": "a0901a81c7f45b5"
  },
  {
   "cell_type": "code",
   "execution_count": 11,
   "outputs": [
    {
     "data": {
      "text/plain": "           index   idCompra  CodPanelista   CodigoBarras  CodProducto  \\\n914          914   48349862        180894  8410436221054       923524   \n915          915   48349862        180894  8410436221054       923524   \n5001        5001   48356043        217885  8480017752635       492555   \n5002        5002   48356043        217885  8480017752635       492555   \n5592        5592   48356941        174212  8480017752635       492555   \n...          ...        ...           ...            ...          ...   \n8286790  8286790  167801087        443752       20047696       951733   \n8286823  8286823  167836411        443752       20078270       769493   \n8286832  8286832  167803107        443752       20798093       333441   \n8286896  8286896  168186578        443752  3560071085889       698133   \n8286897  8286897  168280003        443752  8414219008214       941215   \n\n        FechaCesta  PrecioCompra  Cantidad  Precio  CodLugarCompra  ...  \\\n914     2013-12-30        3500.0    2000.0   630.0             164  ...   \n915     2013-12-30        3500.0    2000.0   630.0             164  ...   \n5001    2013-12-30        1931.0    2000.0   600.0              33  ...   \n5002    2013-12-30        1931.0    2000.0   600.0              33  ...   \n5592    2013-12-30         650.0    2000.0   600.0              33  ...   \n...            ...           ...       ...     ...             ...  ...   \n8286790 2020-01-20        2654.0    1000.0   155.0              68  ...   \n8286823 2020-01-20        2654.0    1000.0   119.0              68  ...   \n8286832 2020-01-20        2654.0    1000.0   179.0              68  ...   \n8286896 2020-05-04        3511.0    2000.0   460.0             252  ...   \n8286897 2020-05-04        3511.0    1000.0   430.0             252  ...   \n\n         TipoMaquina Promo_Folleto  Promo_Envase  Promo_TPR  promo    t  \\\n914                6             1             1          1      1  364   \n915                6             1             1          1      1  364   \n5001               5             1             1          1      1  364   \n5002               5             1             1          1      1  364   \n5592               6             1             1          1      1  364   \n...              ...           ...           ...        ...    ...  ...   \n8286790  Desconocida             1             1          1      1   20   \n8286823  Desconocida             1             1          1      1   20   \n8286832  Desconocida             1             1          1      1   20   \n8286896  Desconocida             1             1          1      1  125   \n8286897  Desconocida             1             1          1      1  125   \n\n         price_per_unit  predicted         z  outlier  \n914               0.315   0.312130  0.634186        0  \n915               0.315   0.312130  0.634186        0  \n5001              0.300   0.287322  0.364919        0  \n5002              0.300   0.287322  0.364919        0  \n5592              0.300   0.287322  0.364919        0  \n...                 ...        ...       ...      ...  \n8286790           0.155   0.153950  0.098650        0  \n8286823           0.119   0.143701  0.603377        0  \n8286832           0.179   0.182424  1.057499        0  \n8286896           0.230   0.216955  1.768609        0  \n8286897           0.430   0.303769  2.732541        0  \n\n[762909 rows x 21 columns]",
      "text/html": "<div>\n<style scoped>\n    .dataframe tbody tr th:only-of-type {\n        vertical-align: middle;\n    }\n\n    .dataframe tbody tr th {\n        vertical-align: top;\n    }\n\n    .dataframe thead th {\n        text-align: right;\n    }\n</style>\n<table border=\"1\" class=\"dataframe\">\n  <thead>\n    <tr style=\"text-align: right;\">\n      <th></th>\n      <th>index</th>\n      <th>idCompra</th>\n      <th>CodPanelista</th>\n      <th>CodigoBarras</th>\n      <th>CodProducto</th>\n      <th>FechaCesta</th>\n      <th>PrecioCompra</th>\n      <th>Cantidad</th>\n      <th>Precio</th>\n      <th>CodLugarCompra</th>\n      <th>...</th>\n      <th>TipoMaquina</th>\n      <th>Promo_Folleto</th>\n      <th>Promo_Envase</th>\n      <th>Promo_TPR</th>\n      <th>promo</th>\n      <th>t</th>\n      <th>price_per_unit</th>\n      <th>predicted</th>\n      <th>z</th>\n      <th>outlier</th>\n    </tr>\n  </thead>\n  <tbody>\n    <tr>\n      <th>914</th>\n      <td>914</td>\n      <td>48349862</td>\n      <td>180894</td>\n      <td>8410436221054</td>\n      <td>923524</td>\n      <td>2013-12-30</td>\n      <td>3500.0</td>\n      <td>2000.0</td>\n      <td>630.0</td>\n      <td>164</td>\n      <td>...</td>\n      <td>6</td>\n      <td>1</td>\n      <td>1</td>\n      <td>1</td>\n      <td>1</td>\n      <td>364</td>\n      <td>0.315</td>\n      <td>0.312130</td>\n      <td>0.634186</td>\n      <td>0</td>\n    </tr>\n    <tr>\n      <th>915</th>\n      <td>915</td>\n      <td>48349862</td>\n      <td>180894</td>\n      <td>8410436221054</td>\n      <td>923524</td>\n      <td>2013-12-30</td>\n      <td>3500.0</td>\n      <td>2000.0</td>\n      <td>630.0</td>\n      <td>164</td>\n      <td>...</td>\n      <td>6</td>\n      <td>1</td>\n      <td>1</td>\n      <td>1</td>\n      <td>1</td>\n      <td>364</td>\n      <td>0.315</td>\n      <td>0.312130</td>\n      <td>0.634186</td>\n      <td>0</td>\n    </tr>\n    <tr>\n      <th>5001</th>\n      <td>5001</td>\n      <td>48356043</td>\n      <td>217885</td>\n      <td>8480017752635</td>\n      <td>492555</td>\n      <td>2013-12-30</td>\n      <td>1931.0</td>\n      <td>2000.0</td>\n      <td>600.0</td>\n      <td>33</td>\n      <td>...</td>\n      <td>5</td>\n      <td>1</td>\n      <td>1</td>\n      <td>1</td>\n      <td>1</td>\n      <td>364</td>\n      <td>0.300</td>\n      <td>0.287322</td>\n      <td>0.364919</td>\n      <td>0</td>\n    </tr>\n    <tr>\n      <th>5002</th>\n      <td>5002</td>\n      <td>48356043</td>\n      <td>217885</td>\n      <td>8480017752635</td>\n      <td>492555</td>\n      <td>2013-12-30</td>\n      <td>1931.0</td>\n      <td>2000.0</td>\n      <td>600.0</td>\n      <td>33</td>\n      <td>...</td>\n      <td>5</td>\n      <td>1</td>\n      <td>1</td>\n      <td>1</td>\n      <td>1</td>\n      <td>364</td>\n      <td>0.300</td>\n      <td>0.287322</td>\n      <td>0.364919</td>\n      <td>0</td>\n    </tr>\n    <tr>\n      <th>5592</th>\n      <td>5592</td>\n      <td>48356941</td>\n      <td>174212</td>\n      <td>8480017752635</td>\n      <td>492555</td>\n      <td>2013-12-30</td>\n      <td>650.0</td>\n      <td>2000.0</td>\n      <td>600.0</td>\n      <td>33</td>\n      <td>...</td>\n      <td>6</td>\n      <td>1</td>\n      <td>1</td>\n      <td>1</td>\n      <td>1</td>\n      <td>364</td>\n      <td>0.300</td>\n      <td>0.287322</td>\n      <td>0.364919</td>\n      <td>0</td>\n    </tr>\n    <tr>\n      <th>...</th>\n      <td>...</td>\n      <td>...</td>\n      <td>...</td>\n      <td>...</td>\n      <td>...</td>\n      <td>...</td>\n      <td>...</td>\n      <td>...</td>\n      <td>...</td>\n      <td>...</td>\n      <td>...</td>\n      <td>...</td>\n      <td>...</td>\n      <td>...</td>\n      <td>...</td>\n      <td>...</td>\n      <td>...</td>\n      <td>...</td>\n      <td>...</td>\n      <td>...</td>\n      <td>...</td>\n    </tr>\n    <tr>\n      <th>8286790</th>\n      <td>8286790</td>\n      <td>167801087</td>\n      <td>443752</td>\n      <td>20047696</td>\n      <td>951733</td>\n      <td>2020-01-20</td>\n      <td>2654.0</td>\n      <td>1000.0</td>\n      <td>155.0</td>\n      <td>68</td>\n      <td>...</td>\n      <td>Desconocida</td>\n      <td>1</td>\n      <td>1</td>\n      <td>1</td>\n      <td>1</td>\n      <td>20</td>\n      <td>0.155</td>\n      <td>0.153950</td>\n      <td>0.098650</td>\n      <td>0</td>\n    </tr>\n    <tr>\n      <th>8286823</th>\n      <td>8286823</td>\n      <td>167836411</td>\n      <td>443752</td>\n      <td>20078270</td>\n      <td>769493</td>\n      <td>2020-01-20</td>\n      <td>2654.0</td>\n      <td>1000.0</td>\n      <td>119.0</td>\n      <td>68</td>\n      <td>...</td>\n      <td>Desconocida</td>\n      <td>1</td>\n      <td>1</td>\n      <td>1</td>\n      <td>1</td>\n      <td>20</td>\n      <td>0.119</td>\n      <td>0.143701</td>\n      <td>0.603377</td>\n      <td>0</td>\n    </tr>\n    <tr>\n      <th>8286832</th>\n      <td>8286832</td>\n      <td>167803107</td>\n      <td>443752</td>\n      <td>20798093</td>\n      <td>333441</td>\n      <td>2020-01-20</td>\n      <td>2654.0</td>\n      <td>1000.0</td>\n      <td>179.0</td>\n      <td>68</td>\n      <td>...</td>\n      <td>Desconocida</td>\n      <td>1</td>\n      <td>1</td>\n      <td>1</td>\n      <td>1</td>\n      <td>20</td>\n      <td>0.179</td>\n      <td>0.182424</td>\n      <td>1.057499</td>\n      <td>0</td>\n    </tr>\n    <tr>\n      <th>8286896</th>\n      <td>8286896</td>\n      <td>168186578</td>\n      <td>443752</td>\n      <td>3560071085889</td>\n      <td>698133</td>\n      <td>2020-05-04</td>\n      <td>3511.0</td>\n      <td>2000.0</td>\n      <td>460.0</td>\n      <td>252</td>\n      <td>...</td>\n      <td>Desconocida</td>\n      <td>1</td>\n      <td>1</td>\n      <td>1</td>\n      <td>1</td>\n      <td>125</td>\n      <td>0.230</td>\n      <td>0.216955</td>\n      <td>1.768609</td>\n      <td>0</td>\n    </tr>\n    <tr>\n      <th>8286897</th>\n      <td>8286897</td>\n      <td>168280003</td>\n      <td>443752</td>\n      <td>8414219008214</td>\n      <td>941215</td>\n      <td>2020-05-04</td>\n      <td>3511.0</td>\n      <td>1000.0</td>\n      <td>430.0</td>\n      <td>252</td>\n      <td>...</td>\n      <td>Desconocida</td>\n      <td>1</td>\n      <td>1</td>\n      <td>1</td>\n      <td>1</td>\n      <td>125</td>\n      <td>0.430</td>\n      <td>0.303769</td>\n      <td>2.732541</td>\n      <td>0</td>\n    </tr>\n  </tbody>\n</table>\n<p>762909 rows × 21 columns</p>\n</div>"
     },
     "execution_count": 11,
     "metadata": {},
     "output_type": "execute_result"
    }
   ],
   "source": [
    "duplicated_purchase_ids"
   ],
   "metadata": {
    "collapsed": false,
    "ExecuteTime": {
     "end_time": "2023-12-11T08:47:10.913160Z",
     "start_time": "2023-12-11T08:47:06.560786Z"
    }
   },
   "id": "2fc1528aedab585b"
  },
  {
   "cell_type": "code",
   "execution_count": 52,
   "outputs": [
    {
     "name": "stdout",
     "output_type": "stream",
     "text": [
      "2014\n"
     ]
    },
    {
     "ename": "TypeError",
     "evalue": "read_csv() got an unexpected keyword argument 'error_bad_lines'",
     "output_type": "error",
     "traceback": [
      "\u001B[1;31m---------------------------------------------------------------------------\u001B[0m",
      "\u001B[1;31mTypeError\u001B[0m                                 Traceback (most recent call last)",
      "Cell \u001B[1;32mIn[52], line 25\u001B[0m\n\u001B[0;32m     22\u001B[0m \u001B[38;5;28mprint\u001B[39m(year)\n\u001B[0;32m     23\u001B[0m input_fn \u001B[38;5;241m=\u001B[39m \u001B[38;5;124mf\u001B[39m\u001B[38;5;124m'\u001B[39m\u001B[38;5;132;01m{\u001B[39;00myear\u001B[38;5;132;01m}\u001B[39;00m\u001B[38;5;124m data.csv\u001B[39m\u001B[38;5;124m'\u001B[39m\n\u001B[1;32m---> 25\u001B[0m \u001B[43mfix_enc\u001B[49m\u001B[43m(\u001B[49m\u001B[43mdata_dir\u001B[49m\u001B[38;5;241;43m+\u001B[39;49m\u001B[43m \u001B[49m\u001B[43minput_fn\u001B[49m\u001B[43m)\u001B[49m\n",
      "Cell \u001B[1;32mIn[52], line 8\u001B[0m, in \u001B[0;36mfix_enc\u001B[1;34m(fn)\u001B[0m\n\u001B[0;32m      6\u001B[0m \u001B[38;5;28;01mdef\u001B[39;00m \u001B[38;5;21mfix_enc\u001B[39m(fn):\n\u001B[1;32m----> 8\u001B[0m     source_df_test\u001B[38;5;241m=\u001B[39m\u001B[43mpd\u001B[49m\u001B[38;5;241;43m.\u001B[39;49m\u001B[43mread_csv\u001B[49m\u001B[43m(\u001B[49m\u001B[43mfn\u001B[49m\u001B[43m,\u001B[49m\n\u001B[0;32m      9\u001B[0m \u001B[43m                              \u001B[49m\u001B[43mencoding\u001B[49m\u001B[38;5;241;43m=\u001B[39;49m\u001B[38;5;124;43m'\u001B[39;49m\u001B[38;5;124;43mISO-8859-1\u001B[39;49m\u001B[38;5;124;43m'\u001B[39;49m\u001B[43m,\u001B[49m\u001B[43m \u001B[49m\u001B[43mdelimiter\u001B[49m\u001B[38;5;241;43m=\u001B[39;49m\u001B[38;5;124;43m\"\u001B[39;49m\u001B[38;5;124;43m,\u001B[39;49m\u001B[38;5;124;43m\"\u001B[39;49m\u001B[43m \u001B[49m\u001B[43m,\u001B[49m\u001B[43merror_bad_lines\u001B[49m\u001B[38;5;241;43m=\u001B[39;49m\u001B[38;5;28;43;01mFalse\u001B[39;49;00m\u001B[43m)\u001B[49m\n\u001B[0;32m     10\u001B[0m     replace_chars\u001B[38;5;241m=\u001B[39m{\u001B[38;5;124m\"\u001B[39m\u001B[38;5;124mÃ.\u001B[39m\u001B[38;5;124m\"\u001B[39m: \u001B[38;5;124m\"\u001B[39m\u001B[38;5;124mñ\u001B[39m\u001B[38;5;124m\"\u001B[39m, \u001B[38;5;124m\"\u001B[39m\u001B[38;5;124mÃ³\u001B[39m\u001B[38;5;124m\"\u001B[39m:\u001B[38;5;124m\"\u001B[39m\u001B[38;5;124mó\u001B[39m\u001B[38;5;124m\"\u001B[39m,\u001B[38;5;124m\"\u001B[39m\u001B[38;5;124mÃ\u001B[39m\u001B[38;5;124m\"\u001B[39m:\u001B[38;5;124m\"\u001B[39m\u001B[38;5;124mí\u001B[39m\u001B[38;5;124m\"\u001B[39m}  \n\u001B[0;32m     11\u001B[0m     source_df_test\u001B[38;5;241m=\u001B[39m source_df_test\u001B[38;5;241m.\u001B[39mreplace(replace_chars)\n",
      "\u001B[1;31mTypeError\u001B[0m: read_csv() got an unexpected keyword argument 'error_bad_lines'"
     ]
    }
   ],
   "source": [
    "year=2014\n",
    "input_fn=f'Datos_{year}.csv'\n",
    "if year<2018: \n",
    "    input_fn = f'{year} data.csv'\n",
    "\n",
    "def fix_enc(fn):\n",
    "\n",
    "    source_df_test=pd.read_csv(fn,\n",
    "                              encoding='ISO-8859-1', delimiter=\",\" ,=False)\n",
    "    replace_chars={\"Ã.\": \"ñ\", \"Ã³\":\"ó\",\"Ã\":\"í\"}  \n",
    "    source_df_test= source_df_test.replace(replace_chars)\n",
    "    column_names=source_df_test.columns\n",
    "    for k,v in replace_chars.items():\n",
    "        column_names=[cn.replace(k,v) for cn in column_names]\n",
    "        source_df_test=source_df_test.replace(k,v)\n",
    "    column_rename = dict(zip(source_df_test.columns.to_list()\n",
    "                             , column_names))\n",
    "\n",
    "    source_df_test = source_df_test.rename(columns=column_rename)\n",
    "    source_df_test.to_csv(fn)\n",
    "for year in range(2014,2018):\n",
    "    print(year)\n",
    "    input_fn = f'{year} data.csv'\n",
    "\n",
    "    fix_enc(data_dir+ input_fn)"
   ],
   "metadata": {
    "collapsed": false,
    "ExecuteTime": {
     "end_time": "2024-01-26T12:16:14.745164Z",
     "start_time": "2024-01-26T12:16:14.703168Z"
    }
   },
   "id": "2ef8da29b007bc48"
  },
  {
   "cell_type": "code",
   "execution_count": 105,
   "outputs": [],
   "source": [
    "problem_word=source_df_test.columns[18]"
   ],
   "metadata": {
    "collapsed": false,
    "ExecuteTime": {
     "end_time": "2023-12-07T16:33:11.850675Z",
     "start_time": "2023-12-07T16:33:11.815233Z"
    }
   },
   "id": "11921ef340dadf6b"
  },
  {
   "cell_type": "code",
   "execution_count": 106,
   "outputs": [
    {
     "data": {
      "text/plain": "'Presencia_Niños'"
     },
     "execution_count": 106,
     "metadata": {},
     "output_type": "execute_result"
    }
   ],
   "source": [
    "problem_word"
   ],
   "metadata": {
    "collapsed": false,
    "ExecuteTime": {
     "end_time": "2023-12-07T16:33:23.759893Z",
     "start_time": "2023-12-07T16:33:23.719080Z"
    }
   },
   "id": "7edab57ad7742b49"
  },
  {
   "cell_type": "code",
   "execution_count": 67,
   "outputs": [
    {
     "name": "stdout",
     "output_type": "stream",
     "text": [
      "IBM850 :  Presencia_Ni├.os\n",
      "IBM858 :  Presencia_Ni├.os\n",
      "ibm1140 :  &ÊÁËÁ>ÄÑ/¬+ÑC\u0006?Ë\n",
      "windows-1252 :  Presencia_NiÃ.os\n",
      "iso-8859-1 :  Presencia_NiÃ.os\n",
      "iso-8859-15 :  Presencia_NiÃ.os\n",
      "macroman :  Presencia_Ni√.os\n",
      "'utf-32-le' codec can't decode bytes in position 0-3: code point not in range(0x110000)\n",
      "'utf-32-be' codec can't decode bytes in position 0-3: code point not in range(0x110000)\n",
      "'utf-32-le' codec can't decode bytes in position 0-3: code point not in range(0x110000)\n",
      "utf_16 :  牐獥湥楣彡楎⻃獯\n",
      "utf_16_be :  偲敳敮捩慟乩쌮潳\n",
      "utf_16_le :  牐獥湥楣彡楎⻃獯\n",
      "'utf7' codec can't decode byte 0xc3 in position 12: unexpected special character\n",
      "'utf-8' codec can't decode byte 0xc3 in position 12: invalid continuation byte\n",
      "'utf-8' codec can't decode byte 0xc3 in position 12: invalid continuation byte\n",
      "iso-8859-16 :  Presencia_NiĂ.os\n"
     ]
    }
   ],
   "source": [
    "import codecs\n",
    "codeclist = [\"IBM850\",\"IBM858\",'ibm1140',\"windows-1252\",'iso-8859-1','iso-8859-15','macroman','utf_32','utf_32_be','utf_32_le','utf_16','utf_16_be','utf_16_le','utf_7','utf_8','utf_8_sig','iso-8859-16']\n",
    "for codec in codeclist:\n",
    "    try: \n",
    "        print(codec,\": \",codecs.decode(problem_word.encode(\"ISO-8859-1\"),codec)  )\n",
    "    except Exception as e: print(e)\n"
   ],
   "metadata": {
    "collapsed": false,
    "ExecuteTime": {
     "end_time": "2023-12-07T15:31:32.131364Z",
     "start_time": "2023-12-07T15:31:32.108202Z"
    }
   },
   "id": "b483802cf0a66ac8"
  },
  {
   "cell_type": "code",
   "execution_count": null,
   "outputs": [],
   "source": [],
   "metadata": {
    "collapsed": false
   },
   "id": "2cf706f88045adeb"
  },
  {
   "cell_type": "code",
   "execution_count": 74,
   "outputs": [
    {
     "name": "stdout",
     "output_type": "stream",
     "text": [
      "IBM850 -> IBM850 :  Bañado\n",
      "IBM850 -> IBM858 :  Bañado\n",
      "IBM850 -> ibm1140 :  â/u/À?\n",
      "IBM850 -> windows-1252 :  Ba¤ado\n",
      "IBM850 -> iso-8859-1 :  Ba¤ado\n",
      "IBM850 -> iso-8859-15 :  Ba€ado\n",
      "IBM850 -> macroman :  Ba§ado\n",
      "'utf-32-le' codec can't decode bytes in position 0-3: code point not in range(0x110000)\n",
      "'utf-32-be' codec can't decode bytes in position 0-3: code point not in range(0x110000)\n",
      "'utf-32-le' codec can't decode bytes in position 0-3: code point not in range(0x110000)\n",
      "IBM850 -> utf_16 :  慂憤潤\n",
      "IBM850 -> utf_16_be :  䉡ꑡ摯\n",
      "IBM850 -> utf_16_le :  慂憤潤\n",
      "'utf7' codec can't decode byte 0xa4 in position 2: unexpected special character\n",
      "'utf-8' codec can't decode byte 0xa4 in position 2: invalid start byte\n",
      "'utf-8' codec can't decode byte 0xa4 in position 2: invalid start byte\n",
      "IBM850 -> iso-8859-16 :  Ba€ado\n",
      "IBM858 -> IBM850 :  Bañado\n",
      "IBM858 -> IBM858 :  Bañado\n",
      "IBM858 -> ibm1140 :  â/u/À?\n",
      "IBM858 -> windows-1252 :  Ba¤ado\n",
      "IBM858 -> iso-8859-1 :  Ba¤ado\n",
      "IBM858 -> iso-8859-15 :  Ba€ado\n",
      "IBM858 -> macroman :  Ba§ado\n",
      "'utf-32-le' codec can't decode bytes in position 0-3: code point not in range(0x110000)\n",
      "'utf-32-be' codec can't decode bytes in position 0-3: code point not in range(0x110000)\n",
      "'utf-32-le' codec can't decode bytes in position 0-3: code point not in range(0x110000)\n",
      "IBM858 -> utf_16 :  慂憤潤\n",
      "IBM858 -> utf_16_be :  䉡ꑡ摯\n",
      "IBM858 -> utf_16_le :  慂憤潤\n",
      "'utf7' codec can't decode byte 0xa4 in position 2: unexpected special character\n",
      "'utf-8' codec can't decode byte 0xa4 in position 2: invalid start byte\n",
      "'utf-8' codec can't decode byte 0xa4 in position 2: invalid start byte\n",
      "IBM858 -> iso-8859-16 :  Ba€ado\n",
      "ibm1140 -> IBM850 :  ┬üIüäû\n",
      "ibm1140 -> IBM858 :  ┬üIüäû\n",
      "ibm1140 -> ibm1140 :  Bañado\n",
      "'charmap' codec can't decode byte 0x81 in position 1: character maps to <undefined>\n",
      "ibm1140 -> iso-8859-1 :  ÂI\n",
      "ibm1140 -> iso-8859-15 :  ÂI\n",
      "ibm1140 -> macroman :  ¬ÅIÅÑñ\n",
      "'utf-32-le' codec can't decode bytes in position 0-3: code point not in range(0x110000)\n",
      "'utf-32-be' codec can't decode bytes in position 0-3: code point not in range(0x110000)\n",
      "'utf-32-le' codec can't decode bytes in position 0-3: code point not in range(0x110000)\n",
      "ibm1140 -> utf_16 :  臂腉隄\n",
      "ibm1140 -> utf_16_be :  슁䦁蒖\n",
      "ibm1140 -> utf_16_le :  臂腉隄\n",
      "'utf7' codec can't decode byte 0xc2 in position 0: unexpected special character\n",
      "'utf-8' codec can't decode byte 0x81 in position 3: invalid start byte\n",
      "'utf-8' codec can't decode byte 0x81 in position 3: invalid start byte\n",
      "ibm1140 -> iso-8859-16 :  ÂI\n",
      "windows-1252 -> IBM850 :  Ba±ado\n",
      "windows-1252 -> IBM858 :  Ba±ado\n",
      "windows-1252 -> ibm1140 :  â/1/À?\n",
      "windows-1252 -> windows-1252 :  Bañado\n",
      "windows-1252 -> iso-8859-1 :  Bañado\n",
      "windows-1252 -> iso-8859-15 :  Bañado\n",
      "windows-1252 -> macroman :  BaÒado\n",
      "'utf-32-le' codec can't decode bytes in position 0-3: code point not in range(0x110000)\n",
      "'utf-32-be' codec can't decode bytes in position 0-3: code point not in range(0x110000)\n",
      "'utf-32-le' codec can't decode bytes in position 0-3: code point not in range(0x110000)\n",
      "windows-1252 -> utf_16 :  慂懱潤\n",
      "windows-1252 -> utf_16_be :  䉡摯\n",
      "windows-1252 -> utf_16_le :  慂懱潤\n",
      "'utf7' codec can't decode byte 0xf1 in position 2: unexpected special character\n",
      "'utf-8' codec can't decode byte 0xf1 in position 2: invalid continuation byte\n",
      "'utf-8' codec can't decode byte 0xf1 in position 2: invalid continuation byte\n",
      "windows-1252 -> iso-8859-16 :  Bańado\n",
      "iso-8859-1 -> IBM850 :  Ba±ado\n",
      "iso-8859-1 -> IBM858 :  Ba±ado\n",
      "iso-8859-1 -> ibm1140 :  â/1/À?\n",
      "iso-8859-1 -> windows-1252 :  Bañado\n",
      "iso-8859-1 -> iso-8859-1 :  Bañado\n",
      "iso-8859-1 -> iso-8859-15 :  Bañado\n",
      "iso-8859-1 -> macroman :  BaÒado\n",
      "'utf-32-le' codec can't decode bytes in position 0-3: code point not in range(0x110000)\n",
      "'utf-32-be' codec can't decode bytes in position 0-3: code point not in range(0x110000)\n",
      "'utf-32-le' codec can't decode bytes in position 0-3: code point not in range(0x110000)\n",
      "iso-8859-1 -> utf_16 :  慂懱潤\n",
      "iso-8859-1 -> utf_16_be :  䉡摯\n",
      "iso-8859-1 -> utf_16_le :  慂懱潤\n",
      "'utf7' codec can't decode byte 0xf1 in position 2: unexpected special character\n",
      "'utf-8' codec can't decode byte 0xf1 in position 2: invalid continuation byte\n",
      "'utf-8' codec can't decode byte 0xf1 in position 2: invalid continuation byte\n",
      "iso-8859-1 -> iso-8859-16 :  Bańado\n",
      "iso-8859-15 -> IBM850 :  Ba±ado\n",
      "iso-8859-15 -> IBM858 :  Ba±ado\n",
      "iso-8859-15 -> ibm1140 :  â/1/À?\n",
      "iso-8859-15 -> windows-1252 :  Bañado\n",
      "iso-8859-15 -> iso-8859-1 :  Bañado\n",
      "iso-8859-15 -> iso-8859-15 :  Bañado\n",
      "iso-8859-15 -> macroman :  BaÒado\n",
      "'utf-32-le' codec can't decode bytes in position 0-3: code point not in range(0x110000)\n",
      "'utf-32-be' codec can't decode bytes in position 0-3: code point not in range(0x110000)\n",
      "'utf-32-le' codec can't decode bytes in position 0-3: code point not in range(0x110000)\n",
      "iso-8859-15 -> utf_16 :  慂懱潤\n",
      "iso-8859-15 -> utf_16_be :  䉡摯\n",
      "iso-8859-15 -> utf_16_le :  慂懱潤\n",
      "'utf7' codec can't decode byte 0xf1 in position 2: unexpected special character\n",
      "'utf-8' codec can't decode byte 0xf1 in position 2: invalid continuation byte\n",
      "'utf-8' codec can't decode byte 0xf1 in position 2: invalid continuation byte\n",
      "iso-8859-15 -> iso-8859-16 :  Bańado\n",
      "macroman -> IBM850 :  Baûado\n",
      "macroman -> IBM858 :  Baûado\n",
      "macroman -> ibm1140 :  â/o/À?\n",
      "macroman -> windows-1252 :  Ba–ado\n",
      "macroman -> iso-8859-1 :  Baado\n",
      "macroman -> iso-8859-15 :  Baado\n",
      "macroman -> macroman :  Bañado\n",
      "'utf-32-le' codec can't decode bytes in position 0-3: code point not in range(0x110000)\n",
      "'utf-32-be' codec can't decode bytes in position 0-3: code point not in range(0x110000)\n",
      "'utf-32-le' codec can't decode bytes in position 0-3: code point not in range(0x110000)\n",
      "macroman -> utf_16 :  慂憖潤\n",
      "macroman -> utf_16_be :  䉡陡摯\n",
      "macroman -> utf_16_le :  慂憖潤\n",
      "'utf7' codec can't decode byte 0x96 in position 2: unexpected special character\n",
      "'utf-8' codec can't decode byte 0x96 in position 2: invalid start byte\n",
      "'utf-8' codec can't decode byte 0x96 in position 2: invalid start byte\n",
      "macroman -> iso-8859-16 :  Baado\n",
      "utf_32 -> IBM850 :   ■\u0000\u0000B\u0000\u0000\u0000a\u0000\u0000\u0000±\u0000\u0000\u0000a\u0000\u0000\u0000d\u0000\u0000\u0000o\u0000\u0000\u0000\n",
      "utf_32 -> IBM858 :   ■\u0000\u0000B\u0000\u0000\u0000a\u0000\u0000\u0000±\u0000\u0000\u0000a\u0000\u0000\u0000d\u0000\u0000\u0000o\u0000\u0000\u0000\n",
      "utf_32 -> ibm1140 :  Ú\u0000\u0000â\u0000\u0000\u0000/\u0000\u0000\u00001\u0000\u0000\u0000/\u0000\u0000\u0000À\u0000\u0000\u0000?\u0000\u0000\u0000\n",
      "utf_32 -> windows-1252 :  ÿþ\u0000\u0000B\u0000\u0000\u0000a\u0000\u0000\u0000ñ\u0000\u0000\u0000a\u0000\u0000\u0000d\u0000\u0000\u0000o\u0000\u0000\u0000\n",
      "utf_32 -> iso-8859-1 :  ÿþ\u0000\u0000B\u0000\u0000\u0000a\u0000\u0000\u0000ñ\u0000\u0000\u0000a\u0000\u0000\u0000d\u0000\u0000\u0000o\u0000\u0000\u0000\n",
      "utf_32 -> iso-8859-15 :  ÿþ\u0000\u0000B\u0000\u0000\u0000a\u0000\u0000\u0000ñ\u0000\u0000\u0000a\u0000\u0000\u0000d\u0000\u0000\u0000o\u0000\u0000\u0000\n",
      "utf_32 -> macroman :  ˇ˛\u0000\u0000B\u0000\u0000\u0000a\u0000\u0000\u0000Ò\u0000\u0000\u0000a\u0000\u0000\u0000d\u0000\u0000\u0000o\u0000\u0000\u0000\n",
      "utf_32 -> utf_32 :  Bañado\n",
      "'utf-32-be' codec can't decode bytes in position 0-3: code point not in range(0x110000)\n",
      "utf_32 -> utf_32_le :  ﻿Bañado\n",
      "utf_32 -> utf_16 :  \u0000B\u0000a\u0000ñ\u0000a\u0000d\u0000o\u0000\n",
      "utf_32 -> utf_16_be :  ￾\u0000䈀\u0000愀\u0000\u0000愀\u0000搀\u0000漀\u0000\n",
      "utf_32 -> utf_16_le :  ﻿\u0000B\u0000a\u0000ñ\u0000a\u0000d\u0000o\u0000\n",
      "'utf7' codec can't decode byte 0xff in position 0: unexpected special character\n",
      "'utf-8' codec can't decode byte 0xff in position 0: invalid start byte\n",
      "'utf-8' codec can't decode byte 0xff in position 0: invalid start byte\n",
      "utf_32 -> iso-8859-16 :  ÿț\u0000\u0000B\u0000\u0000\u0000a\u0000\u0000\u0000ń\u0000\u0000\u0000a\u0000\u0000\u0000d\u0000\u0000\u0000o\u0000\u0000\u0000\n",
      "utf_32_be -> IBM850 :  \u0000\u0000\u0000B\u0000\u0000\u0000a\u0000\u0000\u0000±\u0000\u0000\u0000a\u0000\u0000\u0000d\u0000\u0000\u0000o\n",
      "utf_32_be -> IBM858 :  \u0000\u0000\u0000B\u0000\u0000\u0000a\u0000\u0000\u0000±\u0000\u0000\u0000a\u0000\u0000\u0000d\u0000\u0000\u0000o\n",
      "utf_32_be -> ibm1140 :  \u0000\u0000\u0000â\u0000\u0000\u0000/\u0000\u0000\u00001\u0000\u0000\u0000/\u0000\u0000\u0000À\u0000\u0000\u0000?\n",
      "utf_32_be -> windows-1252 :  \u0000\u0000\u0000B\u0000\u0000\u0000a\u0000\u0000\u0000ñ\u0000\u0000\u0000a\u0000\u0000\u0000d\u0000\u0000\u0000o\n",
      "utf_32_be -> iso-8859-1 :  \u0000\u0000\u0000B\u0000\u0000\u0000a\u0000\u0000\u0000ñ\u0000\u0000\u0000a\u0000\u0000\u0000d\u0000\u0000\u0000o\n",
      "utf_32_be -> iso-8859-15 :  \u0000\u0000\u0000B\u0000\u0000\u0000a\u0000\u0000\u0000ñ\u0000\u0000\u0000a\u0000\u0000\u0000d\u0000\u0000\u0000o\n",
      "utf_32_be -> macroman :  \u0000\u0000\u0000B\u0000\u0000\u0000a\u0000\u0000\u0000Ò\u0000\u0000\u0000a\u0000\u0000\u0000d\u0000\u0000\u0000o\n",
      "'utf-32-le' codec can't decode bytes in position 0-3: code point not in range(0x110000)\n",
      "utf_32_be -> utf_32_be :  Bañado\n",
      "'utf-32-le' codec can't decode bytes in position 0-3: code point not in range(0x110000)\n",
      "utf_32_be -> utf_16 :  \u0000䈀\u0000愀\u0000\u0000愀\u0000搀\u0000漀\n",
      "utf_32_be -> utf_16_be :  \u0000B\u0000a\u0000ñ\u0000a\u0000d\u0000o\n",
      "utf_32_be -> utf_16_le :  \u0000䈀\u0000愀\u0000\u0000愀\u0000搀\u0000漀\n",
      "'utf7' codec can't decode byte 0xf1 in position 11: unexpected special character\n",
      "'utf-8' codec can't decode byte 0xf1 in position 11: invalid continuation byte\n",
      "'utf-8' codec can't decode byte 0xf1 in position 11: invalid continuation byte\n",
      "utf_32_be -> iso-8859-16 :  \u0000\u0000\u0000B\u0000\u0000\u0000a\u0000\u0000\u0000ń\u0000\u0000\u0000a\u0000\u0000\u0000d\u0000\u0000\u0000o\n",
      "utf_32_le -> IBM850 :  B\u0000\u0000\u0000a\u0000\u0000\u0000±\u0000\u0000\u0000a\u0000\u0000\u0000d\u0000\u0000\u0000o\u0000\u0000\u0000\n",
      "utf_32_le -> IBM858 :  B\u0000\u0000\u0000a\u0000\u0000\u0000±\u0000\u0000\u0000a\u0000\u0000\u0000d\u0000\u0000\u0000o\u0000\u0000\u0000\n",
      "utf_32_le -> ibm1140 :  â\u0000\u0000\u0000/\u0000\u0000\u00001\u0000\u0000\u0000/\u0000\u0000\u0000À\u0000\u0000\u0000?\u0000\u0000\u0000\n",
      "utf_32_le -> windows-1252 :  B\u0000\u0000\u0000a\u0000\u0000\u0000ñ\u0000\u0000\u0000a\u0000\u0000\u0000d\u0000\u0000\u0000o\u0000\u0000\u0000\n",
      "utf_32_le -> iso-8859-1 :  B\u0000\u0000\u0000a\u0000\u0000\u0000ñ\u0000\u0000\u0000a\u0000\u0000\u0000d\u0000\u0000\u0000o\u0000\u0000\u0000\n",
      "utf_32_le -> iso-8859-15 :  B\u0000\u0000\u0000a\u0000\u0000\u0000ñ\u0000\u0000\u0000a\u0000\u0000\u0000d\u0000\u0000\u0000o\u0000\u0000\u0000\n",
      "utf_32_le -> macroman :  B\u0000\u0000\u0000a\u0000\u0000\u0000Ò\u0000\u0000\u0000a\u0000\u0000\u0000d\u0000\u0000\u0000o\u0000\u0000\u0000\n",
      "utf_32_le -> utf_32 :  Bañado\n",
      "'utf-32-be' codec can't decode bytes in position 0-3: code point not in range(0x110000)\n",
      "utf_32_le -> utf_32_le :  Bañado\n",
      "utf_32_le -> utf_16 :  B\u0000a\u0000ñ\u0000a\u0000d\u0000o\u0000\n",
      "utf_32_le -> utf_16_be :  䈀\u0000愀\u0000\u0000愀\u0000搀\u0000漀\u0000\n",
      "utf_32_le -> utf_16_le :  B\u0000a\u0000ñ\u0000a\u0000d\u0000o\u0000\n",
      "'utf7' codec can't decode byte 0xf1 in position 8: unexpected special character\n",
      "'utf-8' codec can't decode byte 0xf1 in position 8: invalid continuation byte\n",
      "'utf-8' codec can't decode byte 0xf1 in position 8: invalid continuation byte\n",
      "utf_32_le -> iso-8859-16 :  B\u0000\u0000\u0000a\u0000\u0000\u0000ń\u0000\u0000\u0000a\u0000\u0000\u0000d\u0000\u0000\u0000o\u0000\u0000\u0000\n",
      "utf_16 -> IBM850 :   ■B\u0000a\u0000±\u0000a\u0000d\u0000o\u0000\n",
      "utf_16 -> IBM858 :   ■B\u0000a\u0000±\u0000a\u0000d\u0000o\u0000\n",
      "utf_16 -> ibm1140 :  Úâ\u0000/\u00001\u0000/\u0000À\u0000?\u0000\n",
      "utf_16 -> windows-1252 :  ÿþB\u0000a\u0000ñ\u0000a\u0000d\u0000o\u0000\n",
      "utf_16 -> iso-8859-1 :  ÿþB\u0000a\u0000ñ\u0000a\u0000d\u0000o\u0000\n",
      "utf_16 -> iso-8859-15 :  ÿþB\u0000a\u0000ñ\u0000a\u0000d\u0000o\u0000\n",
      "utf_16 -> macroman :  ˇ˛B\u0000a\u0000Ò\u0000a\u0000d\u0000o\u0000\n",
      "'utf-32-le' codec can't decode bytes in position 0-3: code point not in range(0x110000)\n",
      "'utf-32-be' codec can't decode bytes in position 0-3: code point not in range(0x110000)\n",
      "'utf-32-le' codec can't decode bytes in position 0-3: code point not in range(0x110000)\n",
      "utf_16 -> utf_16 :  Bañado\n",
      "utf_16 -> utf_16_be :  ￾䈀愀愀搀漀\n",
      "utf_16 -> utf_16_le :  ﻿Bañado\n",
      "'utf7' codec can't decode byte 0xff in position 0: unexpected special character\n",
      "'utf-8' codec can't decode byte 0xff in position 0: invalid start byte\n",
      "'utf-8' codec can't decode byte 0xff in position 0: invalid start byte\n",
      "utf_16 -> iso-8859-16 :  ÿțB\u0000a\u0000ń\u0000a\u0000d\u0000o\u0000\n",
      "utf_16_be -> IBM850 :  \u0000B\u0000a\u0000±\u0000a\u0000d\u0000o\n",
      "utf_16_be -> IBM858 :  \u0000B\u0000a\u0000±\u0000a\u0000d\u0000o\n",
      "utf_16_be -> ibm1140 :  \u0000â\u0000/\u00001\u0000/\u0000À\u0000?\n",
      "utf_16_be -> windows-1252 :  \u0000B\u0000a\u0000ñ\u0000a\u0000d\u0000o\n",
      "utf_16_be -> iso-8859-1 :  \u0000B\u0000a\u0000ñ\u0000a\u0000d\u0000o\n",
      "utf_16_be -> iso-8859-15 :  \u0000B\u0000a\u0000ñ\u0000a\u0000d\u0000o\n",
      "utf_16_be -> macroman :  \u0000B\u0000a\u0000Ò\u0000a\u0000d\u0000o\n",
      "'utf-32-le' codec can't decode bytes in position 0-3: code point not in range(0x110000)\n",
      "'utf-32-be' codec can't decode bytes in position 0-3: code point not in range(0x110000)\n",
      "'utf-32-le' codec can't decode bytes in position 0-3: code point not in range(0x110000)\n",
      "utf_16_be -> utf_16 :  䈀愀愀搀漀\n",
      "utf_16_be -> utf_16_be :  Bañado\n",
      "utf_16_be -> utf_16_le :  䈀愀愀搀漀\n",
      "'utf7' codec can't decode byte 0xf1 in position 5: unexpected special character\n",
      "'utf-8' codec can't decode byte 0xf1 in position 5: invalid continuation byte\n",
      "'utf-8' codec can't decode byte 0xf1 in position 5: invalid continuation byte\n",
      "utf_16_be -> iso-8859-16 :  \u0000B\u0000a\u0000ń\u0000a\u0000d\u0000o\n",
      "utf_16_le -> IBM850 :  B\u0000a\u0000±\u0000a\u0000d\u0000o\u0000\n",
      "utf_16_le -> IBM858 :  B\u0000a\u0000±\u0000a\u0000d\u0000o\u0000\n",
      "utf_16_le -> ibm1140 :  â\u0000/\u00001\u0000/\u0000À\u0000?\u0000\n",
      "utf_16_le -> windows-1252 :  B\u0000a\u0000ñ\u0000a\u0000d\u0000o\u0000\n",
      "utf_16_le -> iso-8859-1 :  B\u0000a\u0000ñ\u0000a\u0000d\u0000o\u0000\n",
      "utf_16_le -> iso-8859-15 :  B\u0000a\u0000ñ\u0000a\u0000d\u0000o\u0000\n",
      "utf_16_le -> macroman :  B\u0000a\u0000Ò\u0000a\u0000d\u0000o\u0000\n",
      "'utf-32-le' codec can't decode bytes in position 0-3: code point not in range(0x110000)\n",
      "'utf-32-be' codec can't decode bytes in position 0-3: code point not in range(0x110000)\n",
      "'utf-32-le' codec can't decode bytes in position 0-3: code point not in range(0x110000)\n",
      "utf_16_le -> utf_16 :  Bañado\n",
      "utf_16_le -> utf_16_be :  䈀愀愀搀漀\n",
      "utf_16_le -> utf_16_le :  Bañado\n",
      "'utf7' codec can't decode byte 0xf1 in position 4: unexpected special character\n",
      "'utf-8' codec can't decode byte 0xf1 in position 4: invalid continuation byte\n",
      "'utf-8' codec can't decode byte 0xf1 in position 4: invalid continuation byte\n",
      "utf_16_le -> iso-8859-16 :  B\u0000a\u0000ń\u0000a\u0000d\u0000o\u0000\n",
      "utf_7 -> IBM850 :  Ba+APE-ado\n",
      "utf_7 -> IBM858 :  Ba+APE-ado\n",
      "utf_7 -> ibm1140 :  â/ &á\u0005/À?\n",
      "utf_7 -> windows-1252 :  Ba+APE-ado\n",
      "utf_7 -> iso-8859-1 :  Ba+APE-ado\n",
      "utf_7 -> iso-8859-15 :  Ba+APE-ado\n",
      "utf_7 -> macroman :  Ba+APE-ado\n",
      "'utf-32-le' codec can't decode bytes in position 0-3: code point not in range(0x110000)\n",
      "'utf-32-be' codec can't decode bytes in position 0-3: code point not in range(0x110000)\n",
      "'utf-32-le' codec can't decode bytes in position 0-3: code point not in range(0x110000)\n",
      "utf_7 -> utf_16 :  慂䄫䕐愭潤\n",
      "utf_7 -> utf_16_be :  䉡⭁偅ⵡ摯\n",
      "utf_7 -> utf_16_le :  慂䄫䕐愭潤\n",
      "utf_7 -> utf_7 :  Bañado\n",
      "utf_7 -> utf_8 :  Ba+APE-ado\n",
      "utf_7 -> utf_8_sig :  Ba+APE-ado\n",
      "utf_7 -> iso-8859-16 :  Ba+APE-ado\n",
      "utf_8 -> IBM850 :  Ba├▒ado\n",
      "utf_8 -> IBM858 :  Ba├▒ado\n",
      "utf_8 -> ibm1140 :  â/C£/À?\n",
      "utf_8 -> windows-1252 :  BaÃ±ado\n",
      "utf_8 -> iso-8859-1 :  BaÃ±ado\n",
      "utf_8 -> iso-8859-15 :  BaÃ±ado\n",
      "utf_8 -> macroman :  Ba√±ado\n",
      "'utf-32-le' codec can't decode bytes in position 0-3: code point not in range(0x110000)\n",
      "'utf-32-be' codec can't decode bytes in position 0-3: code point not in range(0x110000)\n",
      "'utf-32-le' codec can't decode bytes in position 0-3: code point not in range(0x110000)\n",
      "'utf-16-le' codec can't decode byte 0x6f in position 6: truncated data\n",
      "'utf-16-be' codec can't decode byte 0x6f in position 6: truncated data\n",
      "'utf-16-le' codec can't decode byte 0x6f in position 6: truncated data\n",
      "'utf7' codec can't decode byte 0xc3 in position 2: unexpected special character\n",
      "utf_8 -> utf_8 :  Bañado\n",
      "utf_8 -> utf_8_sig :  Bañado\n",
      "utf_8 -> iso-8859-16 :  BaĂ±ado\n",
      "utf_8_sig -> IBM850 :  ´╗┐Ba├▒ado\n",
      "utf_8_sig -> IBM858 :  ´╗┐Ba├▒ado\n",
      "utf_8_sig -> ibm1140 :  Õ]×â/C£/À?\n",
      "utf_8_sig -> windows-1252 :  ï»¿BaÃ±ado\n",
      "utf_8_sig -> iso-8859-1 :  ï»¿BaÃ±ado\n",
      "utf_8_sig -> iso-8859-15 :  ï»¿BaÃ±ado\n",
      "utf_8_sig -> macroman :  ÔªøBa√±ado\n",
      "'utf-32-le' codec can't decode bytes in position 0-3: code point not in range(0x110000)\n",
      "'utf-32-be' codec can't decode bytes in position 0-3: code point not in range(0x110000)\n",
      "'utf-32-le' codec can't decode bytes in position 0-3: code point not in range(0x110000)\n",
      "utf_8_sig -> utf_16 :  믯䊿썡憱潤\n",
      "utf_8_sig -> utf_16_be :  뽂懃녡摯\n",
      "utf_8_sig -> utf_16_le :  믯䊿썡憱潤\n",
      "'utf7' codec can't decode byte 0xef in position 0: unexpected special character\n",
      "utf_8_sig -> utf_8 :  ﻿Bañado\n",
      "utf_8_sig -> utf_8_sig :  Bañado\n",
      "utf_8_sig -> iso-8859-16 :  ï»żBaĂ±ado\n",
      "'charmap' codec can't encode character '\\xf1' in position 2: character maps to <undefined>\n",
      "'charmap' codec can't encode character '\\xf1' in position 2: character maps to <undefined>\n",
      "'charmap' codec can't encode character '\\xf1' in position 2: character maps to <undefined>\n",
      "'charmap' codec can't encode character '\\xf1' in position 2: character maps to <undefined>\n",
      "'charmap' codec can't encode character '\\xf1' in position 2: character maps to <undefined>\n",
      "'charmap' codec can't encode character '\\xf1' in position 2: character maps to <undefined>\n",
      "'charmap' codec can't encode character '\\xf1' in position 2: character maps to <undefined>\n",
      "'charmap' codec can't encode character '\\xf1' in position 2: character maps to <undefined>\n",
      "'charmap' codec can't encode character '\\xf1' in position 2: character maps to <undefined>\n",
      "'charmap' codec can't encode character '\\xf1' in position 2: character maps to <undefined>\n",
      "'charmap' codec can't encode character '\\xf1' in position 2: character maps to <undefined>\n",
      "'charmap' codec can't encode character '\\xf1' in position 2: character maps to <undefined>\n",
      "'charmap' codec can't encode character '\\xf1' in position 2: character maps to <undefined>\n",
      "'charmap' codec can't encode character '\\xf1' in position 2: character maps to <undefined>\n",
      "'charmap' codec can't encode character '\\xf1' in position 2: character maps to <undefined>\n",
      "'charmap' codec can't encode character '\\xf1' in position 2: character maps to <undefined>\n",
      "'charmap' codec can't encode character '\\xf1' in position 2: character maps to <undefined>\n"
     ]
    },
    {
     "data": {
      "text/plain": "'Ă±'"
     },
     "execution_count": 74,
     "metadata": {},
     "output_type": "execute_result"
    }
   ],
   "source": [
    "w= 'Bañado'\n",
    "for enc_c in codeclist:\n",
    "    for dec_c in codeclist:\n",
    "        try: \n",
    "            print(enc_c,'->',dec_c, \": \",codecs.decode(w.encode(enc_c),dec_c  ))\n",
    "        except Exception as e: print(e)\n",
    "\n",
    "codecs.decode(sp_n,codec)"
   ],
   "metadata": {
    "collapsed": false,
    "ExecuteTime": {
     "end_time": "2023-12-07T15:53:48.292983Z",
     "start_time": "2023-12-07T15:53:48.205753Z"
    }
   },
   "id": "64d87748d2086079"
  },
  {
   "cell_type": "code",
   "execution_count": 130,
   "outputs": [
    {
     "name": "stdout",
     "output_type": "stream",
     "text": [
      "Index(['Unnamed: 0', 'Unnamed: 0.1', 'idCompra', 'CodPanelista', 'CodProducto',\n",
      "       'CodigoBarras', 'FechaCesta', 'PrecioCompra', 'Cantidad', 'Precio',\n",
      "       'CodLugarCompra', 'Lugar_Compra', 'Canal', 'CodIndividuo', 'CC_AA',\n",
      "       'Edad_Ama', 'NF', 'Numero_Gatos', 'Numero_Perros', 'Presencia_Niños',\n",
      "       'CodIMC', 'IMC', 'Ponderacion', 'CodVF', 'VF', 'SA7_BPL',\n",
      "       'SA4_Fabricante', 'SA3_Marca', 'SA2_Submarca', 'X102_Aditivos',\n",
      "       'X108_Usuario', 'X109_Estado', 'X112_Niv_Calorias', 'X124_Estilo',\n",
      "       'X127_Tipo_Bañado_Choc', 'X129_Tipo_Pasteleria', 'X135_Uso',\n",
      "       'X143_Tipo_Corte', 'X163_Info_Cafeina', 'X167_Grado_Curacion',\n",
      "       'X169_Cont_Materia_Grasa', 'X174_Despiece.Corte', 'X182_Tipo_Queso',\n",
      "       'X188_Tipo_Pan', 'X189_Tipo_Viena', 'X206_Tipo_Pescado',\n",
      "       'X230_Niv_Concentracion', 'X314_Tipo_Cena.Entrante', 'X315_Tipo_Carne',\n",
      "       'X323_Tipo_Sazonamiento', 'X328_Tipo_Aceite', 'X329_Pureness_Niveau',\n",
      "       'X360_Tipo_Verdura', 'X366_Tipo_Postre', 'X383_Tipo_Yogurt',\n",
      "       'X384_Tipo_Cena', 'X489_Como_Compro.', 'X490_Fresca.Congelada',\n",
      "       'X491_Presentacion', 'X497_Tipo_Queso', 'X498_Marcas_Queso',\n",
      "       'X500_Tipo_Embutido', 'X514_Tipo_Carne', 'X527_Tipo_Cafe',\n",
      "       'X529_Tipo_Producto', 'X531_Info_Biologica', 'X558_Variedad_Queso',\n",
      "       'X571_Peso_Bebe', 'X674_Tipo_Helado', 'X901_Localizacion',\n",
      "       'X902_Tipo_Producto', 'X903_Envase', 'X904_Variedad.Sabor',\n",
      "       'X5_Num_Tot_Unidades', 'X18_Num_Tot_Paquetes.Botes',\n",
      "       'X66_Preferred_Unit_Measure', 'TipoMaquina', 'Promo_Folleto',\n",
      "       'Promo_Envase', 'Promo_TPR', 'Ciclo_Vida', 'Clase_EGM', 'Clase_Social',\n",
      "       'Habitat_Metropolitano', 'Habitat_Municipal_Std', 'Inmigrante',\n",
      "       'Provincia', 'Region', 'promo_folleto', 'promo_envase'],\n",
      "      dtype='object')\n",
      "0    0.713\n",
      "1    0.713\n",
      "2    0.713\n",
      "3    0.713\n",
      "4    0.713\n",
      "Name: Ponderacion, dtype: float64\n",
      "Index(['idCompra', 'CodPanelista', 'CodProducto', 'CodigoBarras', 'FechaCesta',\n",
      "       'PrecioCompra', 'Cantidad', 'Precio', 'CodLugarCompra', 'Lugar_Compra',\n",
      "       'Canal', 'CodIndividuo', 'CC_AA', 'Edad_Ama', 'NF', 'Numero_Gatos',\n",
      "       'Numero_Perros', 'Presencia_Niños', 'CodIMC', 'IMC', 'Ponderacion',\n",
      "       'CodVF', 'VF', 'SA7_BPL', 'SA4_Fabricante', 'SA3_Marca', 'SA2_Submarca',\n",
      "       'X102_Aditivos', 'X108_Usuario', 'X109_Estado', 'X112_Niv_Calorias',\n",
      "       'X124_Estilo', 'X127_Tipo_Bañado_Choc', 'X129_Tipo_Pasteleria',\n",
      "       'X135_Uso', 'X143_Tipo_Corte', 'X163_Info_Cafeina',\n",
      "       'X167_Grado_Curacion', 'X169_Cont_Materia_Grasa', 'X174_Despiece.Corte',\n",
      "       'X182_Tipo_Queso', 'X188_Tipo_Pan', 'X189_Tipo_Viena',\n",
      "       'X206_Tipo_Pescado', 'X230_Niv_Concentracion',\n",
      "       'X314_Tipo_Cena.Entrante', 'X315_Tipo_Carne', 'X323_Tipo_Sazonamiento',\n",
      "       'X328_Tipo_Aceite', 'X329_Pureness_Niveau', 'X360_Tipo_Verdura',\n",
      "       'X366_Tipo_Postre', 'X383_Tipo_Yogurt', 'X384_Tipo_Cena',\n",
      "       'X489_Como_Compro.', 'X490_Fresca.Congelada', 'X491_Presentacion',\n",
      "       'X497_Tipo_Queso', 'X498_Marcas_Queso', 'X500_Tipo_Embutido',\n",
      "       'X514_Tipo_Carne', 'X527_Tipo_Cafe', 'X529_Tipo_Producto',\n",
      "       'X531_Info_Biologica', 'X558_Variedad_Queso', 'X571_Peso_Bebe',\n",
      "       'X674_Tipo_Helado', 'X901_Localizacion', 'X902_Tipo_Producto',\n",
      "       'X903_Envase', 'X904_Variedad.Sabor', 'X5_Num_Tot_Unidades',\n",
      "       'X18_Num_Tot_Paquetes.Botes', 'X66_Preferred_Unit_Measure',\n",
      "       'TipoMaquina', 'Promo_Folleto', 'Promo_Envase', 'Promo_TPR',\n",
      "       'Ciclo_Vida', 'Clase_EGM', 'Clase_Social', 'Habitat_Metropolitano',\n",
      "       'Habitat_Municipal_Std', 'Inmigrante', 'Provincia', 'Region',\n",
      "       'promo_folleto', 'promo_envase'],\n",
      "      dtype='object')\n",
      "0    2.73408\n",
      "1    0.86043\n",
      "2    0.86043\n",
      "3    0.86043\n",
      "4    0.86043\n",
      "Name: Ponderacion, dtype: float64\n"
     ]
    }
   ],
   "source": [
    "years=[2014,2022]\n",
    "for year in years:\n",
    "    input_fn=f'Datos_{year}.csv'\n",
    "    enc=\"ISO-8859-1\"\n",
    "    sep=\";\"\n",
    "    decimal=\".\"\n",
    "    if year<2018: \n",
    "        decimal=\",\"\n",
    "        enc=\"utf-8\"\n",
    "        input_fn = f'{year} data.csv'\n",
    "        sep=\",\"\n",
    "    df=pd.read_csv(data_dir+input_fn,nrows=100,encoding=enc,delimiter=sep,decimal=decimal)\n",
    "    print(df.columns)\n",
    "\n",
    "    print(df['Ponderacion'].head())\n"
   ],
   "metadata": {
    "collapsed": false,
    "ExecuteTime": {
     "end_time": "2023-12-07T23:26:23.450312Z",
     "start_time": "2023-12-07T23:26:23.398505Z"
    }
   },
   "id": "63c737c1a88f89e0"
  },
  {
   "cell_type": "code",
   "execution_count": 169,
   "outputs": [
    {
     "data": {
      "text/plain": "{'idCompra': 'int64',\n 'CodProducto': 'int64',\n 'CodigoBarras': 'str',\n 'PrecioCompra': 'float64',\n 'Cantidad': 'float64',\n 'Precio': 'float64',\n 'CodLugarCompra': 'int64',\n 'Lugar_Compra': 'category',\n 'Canal': 'category',\n 'CodPanelista': 'int64',\n 'CodIndividuo': 'category',\n 'CC_AA': 'category',\n 'Ciclo_Vida': 'category',\n 'Clase_EGM': 'category',\n 'Clase_Social': 'category',\n 'Edad_Ama': 'float64',\n 'Habitat_Metropolitano': 'category',\n 'Habitat_Municipal_Std': 'category',\n 'Inmigrante': 'bool',\n 'NF': 'category',\n 'Numero_Gatos': 'category',\n 'Numero_Perros': 'float64',\n 'Presencia_Niños': 'category',\n 'Provincia': 'category',\n 'Region': 'category',\n 'CodIMC': 'category',\n 'IMC': 'category',\n 'Ponderacion': 'float64',\n 'CodVF': 'str',\n 'VF': 'str',\n 'SA7_BPL': 'bool',\n 'SA4_Fabricante': 'str',\n 'SA3_Marca': 'str',\n 'SA2_Submarca': 'str',\n 'X102_Aditivos': 'str',\n 'X108_Usuario': 'str',\n 'X109_Estado': 'str',\n 'X112_Niv_Calorias': 'str',\n 'X124_Estilo': 'str',\n 'X127_Tipo_Bañado_Choc': 'str',\n 'X129_Tipo_Pasteleria': 'str',\n 'X135_Uso': 'str',\n 'X143_Tipo_Corte': 'str',\n 'X163_Info_Cafeina': 'str',\n 'X167_Grado_Curacion': 'str',\n 'X169_Cont_Materia_Grasa': 'str',\n 'X174_Despiece.Corte': 'str',\n 'X182_Tipo_Queso': 'str',\n 'X188_Tipo_Pan': 'str',\n 'X189_Tipo_Viena': 'str',\n 'X206_Tipo_Pescado': 'str',\n 'X230_Niv_Concentracion': 'str',\n 'X314_Tipo_Cena.Entrante': 'str',\n 'X315_Tipo_Carne': 'str',\n 'X323_Tipo_Sazonamiento': 'str',\n 'X328_Tipo_Aceite': 'str',\n 'X329_Pureness_Niveau': 'str',\n 'X360_Tipo_Verdura': 'str',\n 'X366_Tipo_Postre': 'str',\n 'X383_Tipo_Yogurt': 'str',\n 'X384_Tipo_Cena': 'str',\n 'X489_Como_Compro.': 'str',\n 'X490_Fresca.Congelada': 'bool',\n 'X491_Presentacion': 'str',\n 'X497_Tipo_Queso': 'str',\n 'X498_Marcas_Queso': 'str',\n 'X500_Tipo_Embutido': 'str',\n 'X514_Tipo_Carne': 'str',\n 'X527_Tipo_Cafe': 'str',\n 'X529_Tipo_Producto': 'str',\n 'X531_Info_Biologica': 'str',\n 'X558_Variedad_Queso': 'str',\n 'X571_Peso_Bebe': 'str',\n 'X674_Tipo_Helado': 'str',\n 'X901_Localizacion': 'str',\n 'X902_Tipo_Producto': 'str',\n 'X903_Envase': 'str',\n 'X904_Variedad.Sabor': 'str',\n 'X5_Num_Tot_Unidades': 'float64',\n 'X18_Num_Tot_Paquetes.Botes': 'float64',\n 'X66_Preferred_Unit_Measure': 'float64',\n 'TipoMaquina': 'category',\n 'Promo_Folleto': 'bool',\n 'Promo_Envase': 'bool',\n 'Promo_TPR': 'bool'}"
     },
     "execution_count": 169,
     "metadata": {},
     "output_type": "execute_result"
    }
   ],
   "source": [
    "type_dict_new"
   ],
   "metadata": {
    "collapsed": false,
    "ExecuteTime": {
     "end_time": "2023-12-08T00:10:06.069015Z",
     "start_time": "2023-12-08T00:10:06.003631Z"
    }
   },
   "id": "fd369ab17d78ba28"
  },
  {
   "cell_type": "code",
   "execution_count": 4,
   "outputs": [],
   "source": [
    "name='purchases'\n",
    "year='2014'\n",
    "\n",
    "p1=pd.read_stata(result_dir+f'{year}_{name}.dta',encoding=\"iso-8859-1\")\n",
    "name='products'\n",
    "\n",
    "p2=pd.read_stata(result_dir+f'{year}_{name}.dta')\n"
   ],
   "metadata": {
    "collapsed": false,
    "ExecuteTime": {
     "end_time": "2023-12-09T08:34:05.721874Z",
     "start_time": "2023-12-09T08:33:51.504038Z"
    }
   },
   "id": "42fea79eadbb1a2f"
  },
  {
   "cell_type": "code",
   "execution_count": 5,
   "outputs": [
    {
     "data": {
      "text/plain": "   index  idCompra  CodPanelista   CodigoBarras  CodProducto FechaCesta  \\\n0      0  48348413        187220  3123930711000        11649 2013-12-30   \n1      1  48348415        187220  8410066001026        46899 2013-12-30   \n2      2  48348416        187220  8410069021649        58452 2013-12-30   \n3      3  48348417        187220     KIA1020201        74597 2013-12-30   \n4      4  48348418        187220  8421136700015       313733 2013-12-30   \n\n   PrecioCompra  Cantidad  Precio  CodLugarCompra CodIndividuo TipoMaquina  \\\n0        2233.0    2000.0   258.0             120            0           1   \n1        2233.0    3000.0   186.0             120            0           1   \n2        2233.0    1000.0    94.0             120            0           1   \n3        2233.0    3000.0   169.0             120            0           1   \n4        2233.0    1000.0   165.0             120            0           1   \n\n   Promo_Folleto  Promo_Envase  Promo_TPR  promo  outlier         z  \n0              1             1          1      1        0  0.098759  \n1              1             1          1      1        0  0.423578  \n2              1             1          1      1        0  0.017334  \n3              1             1          1      1        0  0.495195  \n4              1             1          1      1        0  0.786573  ",
      "text/html": "<div>\n<style scoped>\n    .dataframe tbody tr th:only-of-type {\n        vertical-align: middle;\n    }\n\n    .dataframe tbody tr th {\n        vertical-align: top;\n    }\n\n    .dataframe thead th {\n        text-align: right;\n    }\n</style>\n<table border=\"1\" class=\"dataframe\">\n  <thead>\n    <tr style=\"text-align: right;\">\n      <th></th>\n      <th>index</th>\n      <th>idCompra</th>\n      <th>CodPanelista</th>\n      <th>CodigoBarras</th>\n      <th>CodProducto</th>\n      <th>FechaCesta</th>\n      <th>PrecioCompra</th>\n      <th>Cantidad</th>\n      <th>Precio</th>\n      <th>CodLugarCompra</th>\n      <th>CodIndividuo</th>\n      <th>TipoMaquina</th>\n      <th>Promo_Folleto</th>\n      <th>Promo_Envase</th>\n      <th>Promo_TPR</th>\n      <th>promo</th>\n      <th>outlier</th>\n      <th>z</th>\n    </tr>\n  </thead>\n  <tbody>\n    <tr>\n      <th>0</th>\n      <td>0</td>\n      <td>48348413</td>\n      <td>187220</td>\n      <td>3123930711000</td>\n      <td>11649</td>\n      <td>2013-12-30</td>\n      <td>2233.0</td>\n      <td>2000.0</td>\n      <td>258.0</td>\n      <td>120</td>\n      <td>0</td>\n      <td>1</td>\n      <td>1</td>\n      <td>1</td>\n      <td>1</td>\n      <td>1</td>\n      <td>0</td>\n      <td>0.098759</td>\n    </tr>\n    <tr>\n      <th>1</th>\n      <td>1</td>\n      <td>48348415</td>\n      <td>187220</td>\n      <td>8410066001026</td>\n      <td>46899</td>\n      <td>2013-12-30</td>\n      <td>2233.0</td>\n      <td>3000.0</td>\n      <td>186.0</td>\n      <td>120</td>\n      <td>0</td>\n      <td>1</td>\n      <td>1</td>\n      <td>1</td>\n      <td>1</td>\n      <td>1</td>\n      <td>0</td>\n      <td>0.423578</td>\n    </tr>\n    <tr>\n      <th>2</th>\n      <td>2</td>\n      <td>48348416</td>\n      <td>187220</td>\n      <td>8410069021649</td>\n      <td>58452</td>\n      <td>2013-12-30</td>\n      <td>2233.0</td>\n      <td>1000.0</td>\n      <td>94.0</td>\n      <td>120</td>\n      <td>0</td>\n      <td>1</td>\n      <td>1</td>\n      <td>1</td>\n      <td>1</td>\n      <td>1</td>\n      <td>0</td>\n      <td>0.017334</td>\n    </tr>\n    <tr>\n      <th>3</th>\n      <td>3</td>\n      <td>48348417</td>\n      <td>187220</td>\n      <td>KIA1020201</td>\n      <td>74597</td>\n      <td>2013-12-30</td>\n      <td>2233.0</td>\n      <td>3000.0</td>\n      <td>169.0</td>\n      <td>120</td>\n      <td>0</td>\n      <td>1</td>\n      <td>1</td>\n      <td>1</td>\n      <td>1</td>\n      <td>1</td>\n      <td>0</td>\n      <td>0.495195</td>\n    </tr>\n    <tr>\n      <th>4</th>\n      <td>4</td>\n      <td>48348418</td>\n      <td>187220</td>\n      <td>8421136700015</td>\n      <td>313733</td>\n      <td>2013-12-30</td>\n      <td>2233.0</td>\n      <td>1000.0</td>\n      <td>165.0</td>\n      <td>120</td>\n      <td>0</td>\n      <td>1</td>\n      <td>1</td>\n      <td>1</td>\n      <td>1</td>\n      <td>1</td>\n      <td>0</td>\n      <td>0.786573</td>\n    </tr>\n  </tbody>\n</table>\n</div>"
     },
     "execution_count": 5,
     "metadata": {},
     "output_type": "execute_result"
    }
   ],
   "source": [
    "p1.head()"
   ],
   "metadata": {
    "collapsed": false,
    "ExecuteTime": {
     "end_time": "2023-12-09T08:34:11.335216Z",
     "start_time": "2023-12-09T08:34:11.280685Z"
    }
   },
   "id": "1c10574134cdc622"
  },
  {
   "cell_type": "code",
   "execution_count": 6,
   "outputs": [
    {
     "data": {
      "text/plain": "   index  CodProducto   CodigoBarras CodVF                              VF  \\\n0      0        11649  3123930711000   207  QUESO RALLADO                    \n1      1        46899  8410066001026   145  TOMATE NATURAL EN CONSERVA       \n2      2        58452  8410069021649   204  HARIN/SEMOL/TAPIOC/ALMDN/QUINO   \n3      3        74597     KIA1020201   462  Pan fresco (CB)                  \n4      4       313733  8421136700015    11  FRUTA Y VERDURA  FRESCA          \n\n   SA7_BPL SA4_Fabricante SA3_Marca SA2_Submarca X102_Aditivos  ...  \\\n0        1         143160     30388        30388           nan  ...   \n1        1          32651    173012       173012           nan  ...   \n2        1         160970     10863        10863           nan  ...   \n3        1         122091    122091       122091           nan  ...   \n4        1         282084      1759         1759           nan  ...   \n\n  X558_Variedad_Queso X571_Peso_Bebe X674_Tipo_Helado  \\\n0                 nan            nan              nan   \n1                 nan            nan              nan   \n2                 nan            nan              nan   \n3                 nan            nan              nan   \n4                 nan            nan              nan   \n\n                X901_Localizacion              X902_Tipo_Producto  \\\n0  FRESCOS                         QUESO RALLADO                    \n1  ESTANTERIA                      TOMATE                           \n2  ESTANTERIA                      HARINA                           \n3                             nan                             nan   \n4  ESTANTERIA                      SETA                             \n\n                      X903_Envase             X904_Variedad_Sabor  \\\n0  BOLSA PLASTICO                  VALOR INDISPONIBLE               \n1  LATA                            NATURAL                          \n2  PAQUETE                         EXTRA                            \n3                             nan                             nan   \n4  BANDEJA                                                    nan   \n\n  X5_Num_Tot_Unidades X18_Num_Tot_Paquetes_Botes X66_Preferred_Unit_Measure  \n0                 1.0                        NaN                      100.0  \n1                 1.0                        NaN                      400.0  \n2                 1.0                        NaN                     1000.0  \n3                 1.0                        NaN                      210.0  \n4                 1.0                        NaN                      200.0  \n\n[5 rows x 56 columns]",
      "text/html": "<div>\n<style scoped>\n    .dataframe tbody tr th:only-of-type {\n        vertical-align: middle;\n    }\n\n    .dataframe tbody tr th {\n        vertical-align: top;\n    }\n\n    .dataframe thead th {\n        text-align: right;\n    }\n</style>\n<table border=\"1\" class=\"dataframe\">\n  <thead>\n    <tr style=\"text-align: right;\">\n      <th></th>\n      <th>index</th>\n      <th>CodProducto</th>\n      <th>CodigoBarras</th>\n      <th>CodVF</th>\n      <th>VF</th>\n      <th>SA7_BPL</th>\n      <th>SA4_Fabricante</th>\n      <th>SA3_Marca</th>\n      <th>SA2_Submarca</th>\n      <th>X102_Aditivos</th>\n      <th>...</th>\n      <th>X558_Variedad_Queso</th>\n      <th>X571_Peso_Bebe</th>\n      <th>X674_Tipo_Helado</th>\n      <th>X901_Localizacion</th>\n      <th>X902_Tipo_Producto</th>\n      <th>X903_Envase</th>\n      <th>X904_Variedad_Sabor</th>\n      <th>X5_Num_Tot_Unidades</th>\n      <th>X18_Num_Tot_Paquetes_Botes</th>\n      <th>X66_Preferred_Unit_Measure</th>\n    </tr>\n  </thead>\n  <tbody>\n    <tr>\n      <th>0</th>\n      <td>0</td>\n      <td>11649</td>\n      <td>3123930711000</td>\n      <td>207</td>\n      <td>QUESO RALLADO</td>\n      <td>1</td>\n      <td>143160</td>\n      <td>30388</td>\n      <td>30388</td>\n      <td>nan</td>\n      <td>...</td>\n      <td>nan</td>\n      <td>nan</td>\n      <td>nan</td>\n      <td>FRESCOS</td>\n      <td>QUESO RALLADO</td>\n      <td>BOLSA PLASTICO</td>\n      <td>VALOR INDISPONIBLE</td>\n      <td>1.0</td>\n      <td>NaN</td>\n      <td>100.0</td>\n    </tr>\n    <tr>\n      <th>1</th>\n      <td>1</td>\n      <td>46899</td>\n      <td>8410066001026</td>\n      <td>145</td>\n      <td>TOMATE NATURAL EN CONSERVA</td>\n      <td>1</td>\n      <td>32651</td>\n      <td>173012</td>\n      <td>173012</td>\n      <td>nan</td>\n      <td>...</td>\n      <td>nan</td>\n      <td>nan</td>\n      <td>nan</td>\n      <td>ESTANTERIA</td>\n      <td>TOMATE</td>\n      <td>LATA</td>\n      <td>NATURAL</td>\n      <td>1.0</td>\n      <td>NaN</td>\n      <td>400.0</td>\n    </tr>\n    <tr>\n      <th>2</th>\n      <td>2</td>\n      <td>58452</td>\n      <td>8410069021649</td>\n      <td>204</td>\n      <td>HARIN/SEMOL/TAPIOC/ALMDN/QUINO</td>\n      <td>1</td>\n      <td>160970</td>\n      <td>10863</td>\n      <td>10863</td>\n      <td>nan</td>\n      <td>...</td>\n      <td>nan</td>\n      <td>nan</td>\n      <td>nan</td>\n      <td>ESTANTERIA</td>\n      <td>HARINA</td>\n      <td>PAQUETE</td>\n      <td>EXTRA</td>\n      <td>1.0</td>\n      <td>NaN</td>\n      <td>1000.0</td>\n    </tr>\n    <tr>\n      <th>3</th>\n      <td>3</td>\n      <td>74597</td>\n      <td>KIA1020201</td>\n      <td>462</td>\n      <td>Pan fresco (CB)</td>\n      <td>1</td>\n      <td>122091</td>\n      <td>122091</td>\n      <td>122091</td>\n      <td>nan</td>\n      <td>...</td>\n      <td>nan</td>\n      <td>nan</td>\n      <td>nan</td>\n      <td>nan</td>\n      <td>nan</td>\n      <td>nan</td>\n      <td>nan</td>\n      <td>1.0</td>\n      <td>NaN</td>\n      <td>210.0</td>\n    </tr>\n    <tr>\n      <th>4</th>\n      <td>4</td>\n      <td>313733</td>\n      <td>8421136700015</td>\n      <td>11</td>\n      <td>FRUTA Y VERDURA  FRESCA</td>\n      <td>1</td>\n      <td>282084</td>\n      <td>1759</td>\n      <td>1759</td>\n      <td>nan</td>\n      <td>...</td>\n      <td>nan</td>\n      <td>nan</td>\n      <td>nan</td>\n      <td>ESTANTERIA</td>\n      <td>SETA</td>\n      <td>BANDEJA</td>\n      <td>nan</td>\n      <td>1.0</td>\n      <td>NaN</td>\n      <td>200.0</td>\n    </tr>\n  </tbody>\n</table>\n<p>5 rows × 56 columns</p>\n</div>"
     },
     "execution_count": 6,
     "metadata": {},
     "output_type": "execute_result"
    }
   ],
   "source": [
    "p2.head()"
   ],
   "metadata": {
    "collapsed": false,
    "ExecuteTime": {
     "end_time": "2023-12-09T08:34:30.102914Z",
     "start_time": "2023-12-09T08:34:30.060413Z"
    }
   },
   "id": "3fb094e7da9748d2"
  },
  {
   "cell_type": "code",
   "execution_count": 21,
   "outputs": [],
   "source": [
    "name='customers'\n",
    "\n",
    "p3=pd.read_stata(result_dir+f'{year}_{name}.dta')"
   ],
   "metadata": {
    "collapsed": false,
    "ExecuteTime": {
     "end_time": "2023-12-09T14:19:55.597420Z",
     "start_time": "2023-12-09T14:19:55.541641Z"
    }
   },
   "id": "78fdeaa80f6c0a0d"
  },
  {
   "cell_type": "code",
   "execution_count": 30,
   "outputs": [
    {
     "data": {
      "text/plain": "   index  CodPanelista                 CC_AA  Edad_Ama NF Numero_Gatos  \\\n0      0        187220               AragÃ³n      60.0  4            0   \n1     21        167538      Castilla y LeÃ³n      68.0  2            0   \n2     35        174704            AndalucÃ­a      45.0  3            2   \n3     42        174566             CataluÃ±a      47.0  4            1   \n4    107        210543  Comunitat Valenciana      41.0  4            1   \n\n   Numero_Perros Presencia_Ni_os CodIMC        IMC  ...  \\\n0            1.0              No    3.0  Sobrepeso  ...   \n1            0.0              No    2.0     Normal  ...   \n2            0.0     NiÃ±os 6-15    3.0  Sobrepeso  ...   \n3            0.0     NiÃ±os 6-15    4.0   Obesidad  ...   \n4            1.0     NiÃ±os 6-15    3.0  Sobrepeso  ...   \n\n                     Ciclo_Vida Clase_EGM       Clase_Social  \\\n0  Parejas con hijos edad media         M  Alta y media Alta   \n1                     Retirados         M         Media baja   \n2  Parejas con hijos edad media        MB         Media baja   \n3        Hogares Monoparentales         A              Media   \n4  Parejas con hijos edad media         M              Media   \n\n  Habitat_Metropolitano Habitat_Municipal_Std Inmigrante  Provincia  \\\n0             NO METROP         10001 a 20000          1     HUESCA   \n1             NO METROP        50001 a 100000          1     ZAMORA   \n2             NO METROP      500001 a 1000000          1     MALAGA   \n3             NO METROP          5001 a 10000          1  BARCELONA   \n4           AM VALENCIA         20001 a 30000          1   VALENCIA   \n\n       Region                     CC_AA1                CC_AA2  \n0    Region I           b'Arag\\xc3\\xb3n'                Aragón  \n1   Region IV  b'Castilla y Le\\xc3\\xb3n'       Castilla y León  \n2  Region III        b'Andaluc\\xc3\\xada'             Andalucía  \n3    Region I         b'Catalu\\xc3\\xb1a'              Cataluña  \n4   Region II    b'Comunitat Valenciana'  Comunitat Valenciana  \n\n[5 rows x 21 columns]",
      "text/html": "<div>\n<style scoped>\n    .dataframe tbody tr th:only-of-type {\n        vertical-align: middle;\n    }\n\n    .dataframe tbody tr th {\n        vertical-align: top;\n    }\n\n    .dataframe thead th {\n        text-align: right;\n    }\n</style>\n<table border=\"1\" class=\"dataframe\">\n  <thead>\n    <tr style=\"text-align: right;\">\n      <th></th>\n      <th>index</th>\n      <th>CodPanelista</th>\n      <th>CC_AA</th>\n      <th>Edad_Ama</th>\n      <th>NF</th>\n      <th>Numero_Gatos</th>\n      <th>Numero_Perros</th>\n      <th>Presencia_Ni_os</th>\n      <th>CodIMC</th>\n      <th>IMC</th>\n      <th>...</th>\n      <th>Ciclo_Vida</th>\n      <th>Clase_EGM</th>\n      <th>Clase_Social</th>\n      <th>Habitat_Metropolitano</th>\n      <th>Habitat_Municipal_Std</th>\n      <th>Inmigrante</th>\n      <th>Provincia</th>\n      <th>Region</th>\n      <th>CC_AA1</th>\n      <th>CC_AA2</th>\n    </tr>\n  </thead>\n  <tbody>\n    <tr>\n      <th>0</th>\n      <td>0</td>\n      <td>187220</td>\n      <td>AragÃ³n</td>\n      <td>60.0</td>\n      <td>4</td>\n      <td>0</td>\n      <td>1.0</td>\n      <td>No</td>\n      <td>3.0</td>\n      <td>Sobrepeso</td>\n      <td>...</td>\n      <td>Parejas con hijos edad media</td>\n      <td>M</td>\n      <td>Alta y media Alta</td>\n      <td>NO METROP</td>\n      <td>10001 a 20000</td>\n      <td>1</td>\n      <td>HUESCA</td>\n      <td>Region I</td>\n      <td>b'Arag\\xc3\\xb3n'</td>\n      <td>Aragón</td>\n    </tr>\n    <tr>\n      <th>1</th>\n      <td>21</td>\n      <td>167538</td>\n      <td>Castilla y LeÃ³n</td>\n      <td>68.0</td>\n      <td>2</td>\n      <td>0</td>\n      <td>0.0</td>\n      <td>No</td>\n      <td>2.0</td>\n      <td>Normal</td>\n      <td>...</td>\n      <td>Retirados</td>\n      <td>M</td>\n      <td>Media baja</td>\n      <td>NO METROP</td>\n      <td>50001 a 100000</td>\n      <td>1</td>\n      <td>ZAMORA</td>\n      <td>Region IV</td>\n      <td>b'Castilla y Le\\xc3\\xb3n'</td>\n      <td>Castilla y León</td>\n    </tr>\n    <tr>\n      <th>2</th>\n      <td>35</td>\n      <td>174704</td>\n      <td>AndalucÃ­a</td>\n      <td>45.0</td>\n      <td>3</td>\n      <td>2</td>\n      <td>0.0</td>\n      <td>NiÃ±os 6-15</td>\n      <td>3.0</td>\n      <td>Sobrepeso</td>\n      <td>...</td>\n      <td>Parejas con hijos edad media</td>\n      <td>MB</td>\n      <td>Media baja</td>\n      <td>NO METROP</td>\n      <td>500001 a 1000000</td>\n      <td>1</td>\n      <td>MALAGA</td>\n      <td>Region III</td>\n      <td>b'Andaluc\\xc3\\xada'</td>\n      <td>Andalucía</td>\n    </tr>\n    <tr>\n      <th>3</th>\n      <td>42</td>\n      <td>174566</td>\n      <td>CataluÃ±a</td>\n      <td>47.0</td>\n      <td>4</td>\n      <td>1</td>\n      <td>0.0</td>\n      <td>NiÃ±os 6-15</td>\n      <td>4.0</td>\n      <td>Obesidad</td>\n      <td>...</td>\n      <td>Hogares Monoparentales</td>\n      <td>A</td>\n      <td>Media</td>\n      <td>NO METROP</td>\n      <td>5001 a 10000</td>\n      <td>1</td>\n      <td>BARCELONA</td>\n      <td>Region I</td>\n      <td>b'Catalu\\xc3\\xb1a'</td>\n      <td>Cataluña</td>\n    </tr>\n    <tr>\n      <th>4</th>\n      <td>107</td>\n      <td>210543</td>\n      <td>Comunitat Valenciana</td>\n      <td>41.0</td>\n      <td>4</td>\n      <td>1</td>\n      <td>1.0</td>\n      <td>NiÃ±os 6-15</td>\n      <td>3.0</td>\n      <td>Sobrepeso</td>\n      <td>...</td>\n      <td>Parejas con hijos edad media</td>\n      <td>M</td>\n      <td>Media</td>\n      <td>AM VALENCIA</td>\n      <td>20001 a 30000</td>\n      <td>1</td>\n      <td>VALENCIA</td>\n      <td>Region II</td>\n      <td>b'Comunitat Valenciana'</td>\n      <td>Comunitat Valenciana</td>\n    </tr>\n  </tbody>\n</table>\n<p>5 rows × 21 columns</p>\n</div>"
     },
     "execution_count": 30,
     "metadata": {},
     "output_type": "execute_result"
    }
   ],
   "source": [
    "p3.head()\n"
   ],
   "metadata": {
    "collapsed": false,
    "ExecuteTime": {
     "end_time": "2023-12-09T17:26:54.921160Z",
     "start_time": "2023-12-09T17:26:54.880839Z"
    }
   },
   "id": "fa37e0fe21ac669f"
  },
  {
   "cell_type": "markdown",
   "source": [],
   "metadata": {
    "collapsed": false
   },
   "id": "837a2df50b9e1afd"
  },
  {
   "cell_type": "code",
   "execution_count": 28,
   "outputs": [],
   "source": [
    "p3['CC_AA1']=p3['CC_AA'].str.encode(encoding=\"iso-8859-1\")\n"
   ],
   "metadata": {
    "collapsed": false,
    "ExecuteTime": {
     "end_time": "2023-12-09T17:26:28.313467Z",
     "start_time": "2023-12-09T17:26:28.237212Z"
    }
   },
   "id": "15aec8e7b8963400"
  },
  {
   "cell_type": "code",
   "execution_count": 29,
   "outputs": [],
   "source": [
    "p3['CC_AA2']=p3['CC_AA1'].str.decode(encoding=\"utf-8\")\n"
   ],
   "metadata": {
    "collapsed": false,
    "ExecuteTime": {
     "end_time": "2023-12-09T17:26:48.096368Z",
     "start_time": "2023-12-09T17:26:48.047396Z"
    }
   },
   "id": "869270d1fa9ff9e"
  },
  {
   "cell_type": "code",
   "execution_count": 8,
   "outputs": [
    {
     "data": {
      "text/plain": "   index  CodLugarCompra  Lugar_Compra                Canal CodIndividuo\n0      0             120  SUPERMERCADO          super+autos            0\n1      9             123       TIENDAS  tda.de alimentacion            0\n2     17             124      DIRECTAS        resto canales            0\n3     19             127    CARNICERIA  carniceria/polleria            0\n4     21             134     PANADERIA      panaderia/horno            1",
      "text/html": "<div>\n<style scoped>\n    .dataframe tbody tr th:only-of-type {\n        vertical-align: middle;\n    }\n\n    .dataframe tbody tr th {\n        vertical-align: top;\n    }\n\n    .dataframe thead th {\n        text-align: right;\n    }\n</style>\n<table border=\"1\" class=\"dataframe\">\n  <thead>\n    <tr style=\"text-align: right;\">\n      <th></th>\n      <th>index</th>\n      <th>CodLugarCompra</th>\n      <th>Lugar_Compra</th>\n      <th>Canal</th>\n      <th>CodIndividuo</th>\n    </tr>\n  </thead>\n  <tbody>\n    <tr>\n      <th>0</th>\n      <td>0</td>\n      <td>120</td>\n      <td>SUPERMERCADO</td>\n      <td>super+autos</td>\n      <td>0</td>\n    </tr>\n    <tr>\n      <th>1</th>\n      <td>9</td>\n      <td>123</td>\n      <td>TIENDAS</td>\n      <td>tda.de alimentacion</td>\n      <td>0</td>\n    </tr>\n    <tr>\n      <th>2</th>\n      <td>17</td>\n      <td>124</td>\n      <td>DIRECTAS</td>\n      <td>resto canales</td>\n      <td>0</td>\n    </tr>\n    <tr>\n      <th>3</th>\n      <td>19</td>\n      <td>127</td>\n      <td>CARNICERIA</td>\n      <td>carniceria/polleria</td>\n      <td>0</td>\n    </tr>\n    <tr>\n      <th>4</th>\n      <td>21</td>\n      <td>134</td>\n      <td>PANADERIA</td>\n      <td>panaderia/horno</td>\n      <td>1</td>\n    </tr>\n  </tbody>\n</table>\n</div>"
     },
     "execution_count": 8,
     "metadata": {},
     "output_type": "execute_result"
    }
   ],
   "source": [
    "name='shops'\n",
    "p4=pd.read_stata(result_dir+f'{year}_{name}.dta')\n",
    "p4.head()"
   ],
   "metadata": {
    "collapsed": false,
    "ExecuteTime": {
     "end_time": "2023-12-09T08:34:36.969274Z",
     "start_time": "2023-12-09T08:34:36.777720Z"
    }
   },
   "id": "f257e5129a64cdf1"
  },
  {
   "cell_type": "markdown",
   "source": [
    "# Testing "
   ],
   "metadata": {
    "collapsed": false
   },
   "id": "ee8ec2f8dbfdced9"
  },
  {
   "cell_type": "code",
   "execution_count": 13,
   "outputs": [],
   "source": [
    "\n",
    "\n",
    "year=2014\n",
    "input_fn=f'Datos_{year}.csv'\n",
    "enc=\"ISO-8859-1\"\n",
    "delimiter=\";\"\n",
    "decimal=\".\"\n",
    "if year<2018: \n",
    "    decimal=\",\"\n",
    "    enc=\"utf-8\"\n",
    "    input_fn = f'{year} data.csv'\n",
    "    delimiter=\",\"\n",
    "# read 3 lines from the yearly source file\n",
    "df_orig=pd.read_csv(data_dir+input_fn,nrows=3,encoding=\"iso-8859-1\",delimiter=delimiter ,decimal=decimal,\n",
    "                          error_bad_lines=False, parse_dates=['FechaCesta'])\n"
   ],
   "metadata": {
    "collapsed": false,
    "ExecuteTime": {
     "end_time": "2023-12-13T07:48:45.200823Z",
     "start_time": "2023-12-13T07:48:40.174378Z"
    }
   },
   "id": "f3ad7a496ab4742"
  },
  {
   "cell_type": "code",
   "execution_count": 16,
   "outputs": [],
   "source": [
    "names=df_orig.columns.tolist()"
   ],
   "metadata": {
    "collapsed": false,
    "ExecuteTime": {
     "end_time": "2023-12-13T07:51:12.765485Z",
     "start_time": "2023-12-13T07:51:12.704702Z"
    }
   },
   "id": "91dc5c026f3b15aa"
  },
  {
   "cell_type": "code",
   "execution_count": 18,
   "outputs": [
    {
     "data": {
      "text/plain": "['Unnamed: 0',\n 'Unnamed: 0.1',\n 'idCompra',\n 'CodPanelista',\n 'CodProducto',\n 'CodigoBarras',\n 'FechaCesta',\n 'PrecioCompra',\n 'Cantidad',\n 'Precio',\n 'CodLugarCompra',\n 'Lugar_Compra',\n 'Canal',\n 'CodIndividuo',\n 'CC_AA',\n 'Edad_Ama',\n 'NF',\n 'Numero_Gatos',\n 'Numero_Perros',\n 'Presencia_Ni_os',\n 'CodIMC',\n 'IMC',\n 'Ponderacion',\n 'CodVF',\n 'VF',\n 'SA7_BPL',\n 'SA4_Fabricante',\n 'SA3_Marca',\n 'SA2_Submarca',\n 'X102_Aditivos',\n 'X108_Usuario',\n 'X109_Estado',\n 'X112_Niv_Calorias',\n 'X124_Estilo',\n 'X127_Tipo_Ba_ado_Choc',\n 'X129_Tipo_Pasteleria',\n 'X135_Uso',\n 'X143_Tipo_Corte',\n 'X163_Info_Cafeina',\n 'X167_Grado_Curacion',\n 'X169_Cont_Materia_Grasa',\n 'X174_Despiece.Corte',\n 'X182_Tipo_Queso',\n 'X188_Tipo_Pan',\n 'X189_Tipo_Viena',\n 'X206_Tipo_Pescado',\n 'X230_Niv_Concentracion',\n 'X314_Tipo_Cena.Entrante',\n 'X315_Tipo_Carne',\n 'X323_Tipo_Sazonamiento',\n 'X328_Tipo_Aceite',\n 'X329_Pureness_Niveau',\n 'X360_Tipo_Verdura',\n 'X366_Tipo_Postre',\n 'X383_Tipo_Yogurt',\n 'X384_Tipo_Cena',\n 'X489_Como_Compro.',\n 'X490_Fresca.Congelada',\n 'X491_Presentacion',\n 'X497_Tipo_Queso',\n 'X498_Marcas_Queso',\n 'X500_Tipo_Embutido',\n 'X514_Tipo_Carne',\n 'X527_Tipo_Cafe',\n 'X529_Tipo_Producto',\n 'X531_Info_Biologica',\n 'X558_Variedad_Queso',\n 'X571_Peso_Bebe',\n 'X674_Tipo_Helado',\n 'X901_Localizacion',\n 'X902_Tipo_Producto',\n 'X903_Envase',\n 'X904_Variedad.Sabor',\n 'X5_Num_Tot_Unidades',\n 'X18_Num_Tot_Paquetes.Botes',\n 'X66_Preferred_Unit_Measure',\n 'TipoMaquina',\n 'Promo_Folleto',\n 'Promo_Envase',\n 'Promo_TPR',\n 'Ciclo_Vida',\n 'Clase_EGM',\n 'Clase_Social',\n 'Habitat_Metropolitano',\n 'Habitat_Municipal_Std',\n 'Inmigrante',\n 'Provincia',\n 'Region',\n 'promo_folleto',\n 'promo_envase']"
     },
     "execution_count": 18,
     "metadata": {},
     "output_type": "execute_result"
    }
   ],
   "source": [
    "def remove_sp_char(text):\n",
    "    res= ''.join([i if ord(i) < 128 else '_' for i in text])\n",
    "    return res.replace('__','_')\n",
    "\n",
    "fixed_names =[remove_sp_char(n) for n in names]\n",
    "fixed_names"
   ],
   "metadata": {
    "collapsed": false,
    "ExecuteTime": {
     "end_time": "2023-12-13T07:52:29.877103Z",
     "start_time": "2023-12-13T07:52:25.909603Z"
    }
   },
   "id": "4669b37af393d63c"
  },
  {
   "cell_type": "code",
   "execution_count": 19,
   "outputs": [],
   "source": [
    "name_map = dict(zip(names, fixed_names))"
   ],
   "metadata": {
    "collapsed": false,
    "ExecuteTime": {
     "end_time": "2023-12-13T07:54:50.113651Z",
     "start_time": "2023-12-13T07:54:50.014225Z"
    }
   },
   "id": "f6507da1974ebd75"
  },
  {
   "cell_type": "code",
   "execution_count": 80,
   "outputs": [
    {
     "name": "stdout",
     "output_type": "stream",
     "text": [
      "idCompra         48348413\n",
      "Promo_Envase           No\n",
      "Promo_Folleto          No\n",
      "Promo_TPR              No\n",
      "Name: 0, dtype: object\n",
      "idCompra         48348413\n",
      "Promo_Envase        False\n",
      "Promo_Folleto       False\n",
      "Promo_TPR           False\n",
      "Name: 0, dtype: object\n",
      "idCompra         48348413\n",
      "Promo_Envase         True\n",
      "Promo_Folleto        True\n",
      "Promo_TPR            True\n",
      "Name: 0, dtype: object\n"
     ]
    },
    {
     "name": "stderr",
     "output_type": "stream",
     "text": [
      "/Users/peterkiss/anaconda3/envs/kantar_data_env/lib/python3.7/site-packages/pandas/io/stata.py:2398: InvalidColumnName: \n",
      "Not all pandas column names were valid Stata variable names.\n",
      "The following replacements have been made:\n",
      "\n",
      "    Unnamed: 0   ->   Unnamed__0\n",
      "    Unnamed: 0.1   ->   Unnamed__0_1\n",
      "    Presencia_Niños   ->   Presencia_Ni_os\n",
      "    X127_Tipo_Bañado_Choc   ->   X127_Tipo_Ba_ado_Choc\n",
      "    X174_Despiece.Corte   ->   X174_Despiece_Corte\n",
      "    X314_Tipo_Cena.Entrante   ->   X314_Tipo_Cena_Entrante\n",
      "    X489_Como_Compro.   ->   X489_Como_Compro_\n",
      "    X490_Fresca.Congelada   ->   X490_Fresca_Congelada\n",
      "    X904_Variedad.Sabor   ->   X904_Variedad_Sabor\n",
      "    X18_Num_Tot_Paquetes.Botes   ->   X18_Num_Tot_Paquetes_Botes\n",
      "\n",
      "If this is not what you expect, please make sure you have Stata-compliant\n",
      "column names in your DataFrame (strings only, max 32 characters, only\n",
      "alphanumerics and underscores, no Stata reserved words)\n",
      "\n",
      "  warnings.warn(ws, InvalidColumnName)\n"
     ]
    },
    {
     "name": "stdout",
     "output_type": "stream",
     "text": [
      "idCompra         48348413\n",
      "Promo_Envase            1\n",
      "Promo_Folleto           1\n",
      "Promo_TPR               1\n",
      "Name: 0, dtype: object\n",
      "df_orig ['index', 'Unnamed_0', 'Unnamed_0_1', 'idCompra', 'CodPanelista', 'CodProducto', 'CodigoBarras', 'FechaCesta', 'PrecioCompra', 'Cantidad', 'Precio', 'CodLugarCompra', 'Lugar_Compra', 'Canal', 'CodIndividuo', 'CC_AA', 'Edad_Ama', 'NF', 'Numero_Gatos', 'Numero_Perros', 'Presencia_Ni_os', 'CodIMC', 'IMC', 'Ponderacion', 'CodVF', 'VF', 'SA7_BPL', 'SA4_Fabricante', 'SA3_Marca', 'SA2_Submarca', 'X102_Aditivos', 'X108_Usuario', 'X109_Estado', 'X112_Niv_Calorias', 'X124_Estilo', 'X127_Tipo_Ba_ado_Choc', 'X129_Tipo_Pasteleria', 'X135_Uso', 'X143_Tipo_Corte', 'X163_Info_Cafeina', 'X167_Grado_Curacion', 'X169_Cont_Materia_Grasa', 'X174_Despiece_Corte', 'X182_Tipo_Queso', 'X188_Tipo_Pan', 'X189_Tipo_Viena', 'X206_Tipo_Pescado', 'X230_Niv_Concentracion', 'X314_Tipo_Cena_Entrante', 'X315_Tipo_Carne', 'X323_Tipo_Sazonamiento', 'X328_Tipo_Aceite', 'X329_Pureness_Niveau', 'X360_Tipo_Verdura', 'X366_Tipo_Postre', 'X383_Tipo_Yogurt', 'X384_Tipo_Cena', 'X489_Como_Compro_', 'X490_Fresca_Congelada', 'X491_Presentacion', 'X497_Tipo_Queso', 'X498_Marcas_Queso', 'X500_Tipo_Embutido', 'X514_Tipo_Carne', 'X527_Tipo_Cafe', 'X529_Tipo_Producto', 'X531_Info_Biologica', 'X558_Variedad_Queso', 'X571_Peso_Bebe', 'X674_Tipo_Helado', 'X901_Localizacion', 'X902_Tipo_Producto', 'X903_Envase', 'X904_Variedad_Sabor', 'X5_Num_Tot_Unidades', 'X18_Num_Tot_Paquetes_Botes', 'X66_Preferred_Unit_Measure', 'TipoMaquina', 'Promo_Folleto', 'Promo_Envase', 'Promo_TPR', 'Ciclo_Vida', 'Clase_EGM', 'Clase_Social', 'Habitat_Metropolitano', 'Habitat_Municipal_Std', 'Inmigrante', 'Provincia', 'Region', 'promo_folleto', 'promo_envase', 'promo', 'origin']\n",
      "df_per_year_p ['level_0', 'index', 'idCompra', 'CodPanelista', 'CodigoBarras', 'CodProducto', 'FechaCesta', 'PrecioCompra', 'Cantidad', 'Precio', 'CodLugarCompra', 'CodIndividuo', 'TipoMaquina', 'Promo_Folleto', 'Promo_Envase', 'Promo_TPR', 'promo', 't', 'price_per_unit', 'predicted', 'z', 'outlier', 'CC_AA', 'Edad_Ama', 'NF', 'Numero_Gatos', 'Numero_Perros', 'Presencia_Ni_os', 'CodIMC', 'IMC', 'Ponderacion', 'Ciclo_Vida', 'Clase_EGM', 'Clase_Social', 'Habitat_Metropolitano', 'Habitat_Municipal_Std', 'Inmigrante', 'Provincia', 'Region', 'Lugar_Compra', 'Canal', 'CodVF', 'VF', 'SA7_BPL', 'SA4_Fabricante', 'SA3_Marca', 'SA2_Submarca', 'X102_Aditivos', 'X108_Usuario', 'X109_Estado', 'X112_Niv_Calorias', 'X124_Estilo', 'X127_Tipo_Ba_ado_Choc', 'X129_Tipo_Pasteleria', 'X135_Uso', 'X143_Tipo_Corte', 'X163_Info_Cafeina', 'X167_Grado_Curacion', 'X169_Cont_Materia_Grasa', 'X174_Despiece_Corte', 'X182_Tipo_Queso', 'X188_Tipo_Pan', 'X189_Tipo_Viena', 'X206_Tipo_Pescado', 'X230_Niv_Concentracion', 'X314_Tipo_Cena_Entrante', 'X315_Tipo_Carne', 'X323_Tipo_Sazonamiento', 'X328_Tipo_Aceite', 'X329_Pureness_Niveau', 'X360_Tipo_Verdura', 'X366_Tipo_Postre', 'X383_Tipo_Yogurt', 'X384_Tipo_Cena', 'X489_Como_Compro_', 'X490_Fresca_Congelada', 'X491_Presentacion', 'X497_Tipo_Queso', 'X498_Marcas_Queso', 'X500_Tipo_Embutido', 'X514_Tipo_Carne', 'X527_Tipo_Cafe', 'X529_Tipo_Producto', 'X531_Info_Biologica', 'X558_Variedad_Queso', 'X571_Peso_Bebe', 'X674_Tipo_Helado', 'X901_Localizacion', 'X902_Tipo_Producto', 'X903_Envase', 'X904_Variedad_Sabor', 'X5_Num_Tot_Unidades', 'X18_Num_Tot_Paquetes_Botes', 'X66_Preferred_Unit_Measure', 'origin']\n",
      "df_per_year_p_1 ['level_0', 'index', 'idCompra', 'CodPanelista', 'CodigoBarras', 'CodProducto', 'FechaCesta', 'PrecioCompra', 'Cantidad', 'Precio', 'CodLugarCompra', 'CodIndividuo', 'TipoMaquina', 'Promo_Folleto', 'Promo_Envase', 'Promo_TPR', 'promo', 't', 'price_per_unit', 'predicted', 'z', 'outlier', 'CC_AA', 'Edad_Ama', 'NF', 'Numero_Gatos', 'Numero_Perros', 'Presencia_Ni_os', 'CodIMC', 'IMC', 'Ponderacion', 'Ciclo_Vida', 'Clase_EGM', 'Clase_Social', 'Habitat_Metropolitano', 'Habitat_Municipal_Std', 'Inmigrante', 'Provincia', 'Region', 'Lugar_Compra', 'Canal', 'CodVF', 'VF', 'SA7_BPL', 'SA4_Fabricante', 'SA3_Marca', 'SA2_Submarca', 'X102_Aditivos', 'X108_Usuario', 'X109_Estado', 'X112_Niv_Calorias', 'X124_Estilo', 'X127_Tipo_Ba_ado_Choc', 'X129_Tipo_Pasteleria', 'X135_Uso', 'X143_Tipo_Corte', 'X163_Info_Cafeina', 'X167_Grado_Curacion', 'X169_Cont_Materia_Grasa', 'X174_Despiece_Corte', 'X182_Tipo_Queso', 'X188_Tipo_Pan', 'X189_Tipo_Viena', 'X206_Tipo_Pescado', 'X230_Niv_Concentracion', 'X314_Tipo_Cena_Entrante', 'X315_Tipo_Carne', 'X323_Tipo_Sazonamiento', 'X328_Tipo_Aceite', 'X329_Pureness_Niveau', 'X360_Tipo_Verdura', 'X366_Tipo_Postre', 'X383_Tipo_Yogurt', 'X384_Tipo_Cena', 'X489_Como_Compro_', 'X490_Fresca_Congelada', 'X491_Presentacion', 'X497_Tipo_Queso', 'X498_Marcas_Queso', 'X500_Tipo_Embutido', 'X514_Tipo_Carne', 'X527_Tipo_Cafe', 'X529_Tipo_Producto', 'X531_Info_Biologica', 'X558_Variedad_Queso', 'X571_Peso_Bebe', 'X674_Tipo_Helado', 'X901_Localizacion', 'X902_Tipo_Producto', 'X903_Envase', 'X904_Variedad_Sabor', 'X5_Num_Tot_Unidades', 'X18_Num_Tot_Paquetes_Botes', 'X66_Preferred_Unit_Measure', 'origin']\n",
      "df_per_year_p_2 ['level_0', 'index', 'idCompra', 'CodPanelista', 'CodigoBarras', 'CodProducto', 'FechaCesta', 'PrecioCompra', 'Cantidad', 'Precio', 'CodLugarCompra', 'CodIndividuo', 'TipoMaquina', 'Promo_Folleto', 'Promo_Envase', 'Promo_TPR', 'promo', 't', 'price_per_unit', 'predicted', 'z', 'outlier', 'CC_AA', 'Edad_Ama', 'NF', 'Numero_Gatos', 'Numero_Perros', 'Presencia_Ni_os', 'CodIMC', 'IMC', 'Ponderacion', 'Ciclo_Vida', 'Clase_EGM', 'Clase_Social', 'Habitat_Metropolitano', 'Habitat_Municipal_Std', 'Inmigrante', 'Provincia', 'Region', 'Lugar_Compra', 'Canal', 'CodVF', 'VF', 'SA7_BPL', 'SA4_Fabricante', 'SA3_Marca', 'SA2_Submarca', 'X102_Aditivos', 'X108_Usuario', 'X109_Estado', 'X112_Niv_Calorias', 'X124_Estilo', 'X127_Tipo_Ba_ado_Choc', 'X129_Tipo_Pasteleria', 'X135_Uso', 'X143_Tipo_Corte', 'X163_Info_Cafeina', 'X167_Grado_Curacion', 'X169_Cont_Materia_Grasa', 'X174_Despiece_Corte', 'X182_Tipo_Queso', 'X188_Tipo_Pan', 'X189_Tipo_Viena', 'X206_Tipo_Pescado', 'X230_Niv_Concentracion', 'X314_Tipo_Cena_Entrante', 'X315_Tipo_Carne', 'X323_Tipo_Sazonamiento', 'X328_Tipo_Aceite', 'X329_Pureness_Niveau', 'X360_Tipo_Verdura', 'X366_Tipo_Postre', 'X383_Tipo_Yogurt', 'X384_Tipo_Cena', 'X489_Como_Compro_', 'X490_Fresca_Congelada', 'X491_Presentacion', 'X497_Tipo_Queso', 'X498_Marcas_Queso', 'X500_Tipo_Embutido', 'X514_Tipo_Carne', 'X527_Tipo_Cafe', 'X529_Tipo_Producto', 'X531_Info_Biologica', 'X558_Variedad_Queso', 'X571_Peso_Bebe', 'X674_Tipo_Helado', 'X901_Localizacion', 'X902_Tipo_Producto', 'X903_Envase', 'X904_Variedad_Sabor', 'X5_Num_Tot_Unidades', 'X18_Num_Tot_Paquetes_Botes', 'X66_Preferred_Unit_Measure', 'origin']\n"
     ]
    }
   ],
   "source": [
    "lines=[]\n",
    "\n",
    "#df_full=df_per_year=pd.read_stata(result_dir+f'{year}_purchases.dta')\n",
    "all_c=pd.read_stata(result_dir+f'all_customers.dta')\n",
    "all_c = all_c.loc[:, ~all_c.columns.str.contains('^Unnamed')]\n",
    "\n",
    "all_s=pd.read_stata(result_dir+f'all_shops.dta')\n",
    "all_s = all_s.loc[:, ~all_s.columns.str.contains('^Unnamed')]\n",
    "\n",
    "all_pr=pd.read_stata(result_dir+f'all_products.dta')\n",
    "all_pr = all_pr.loc[:, ~all_pr.columns.str.contains('^Unnamed')]\n",
    "\n",
    "#all_pr=df_orig.rename(columns=name_map)\n",
    "#all_s=df_orig.rename(columns=name_map)\n",
    "\n",
    "#names = df_orig.columns.tolist()\n",
    "\n",
    "\n",
    "def remove_sp_char(text):\n",
    "    res = ''.join([i if ord(i) < 128 else '_' for i in text])\n",
    "    return res.replace('__', '_')\n",
    "\n",
    "\n",
    "\n",
    "for year in range(2014,2015):\n",
    "    # load data\n",
    "    input_fn=f'Datos_{year}.csv'\n",
    "    enc=\"ISO-8859-1\"\n",
    "    delimiter=\";\"\n",
    "    decimal=\".\"\n",
    "    if year<2018: \n",
    "        decimal=\",\"\n",
    "        enc=\"utf-8\"\n",
    "        input_fn = f'{year} data.csv'\n",
    "        delimiter=\",\"\n",
    "    # read 3 lines from the yearly source file\n",
    "    '''df_orig=pd.read_csv(data_dir+input_fn,nrows=3,encoding=\"iso-8859-1\",delimiter=delimiter ,decimal=decimal,\n",
    "                          error_bad_lines=False, parse_dates=['FechaCesta'])'''\n",
    "    df_orig=load_and_preprocess_data(year, 3)\n",
    "    '''\n",
    "    replace_chars={\"Ã.\": \"ñ\", \"Ã³\":\"ó\",\"Ã\":\"í\"}  \n",
    "    df_orig= df_orig.replace(replace_chars)\n",
    "    column_names=df_orig.columns\n",
    "    for k,v in replace_chars.items():\n",
    "        column_names=[cn.replace(k,v) for cn in column_names]\n",
    "    column_rename = dict(zip(df_orig.columns.to_list()\n",
    "                             , column_names))\n",
    "\n",
    "    df_orig = df_orig.rename(columns=column_rename)\n",
    "    '''\n",
    "    print(df_orig.iloc[0][['idCompra','Promo_Envase','Promo_Folleto','Promo_TPR']])\n",
    "    df_orig.to_stata('orig.dta')\n",
    "    df_orig=pd.read_stata('orig.dta')\n",
    "    print(df_orig.iloc[0][['idCompra','Promo_Envase','Promo_Folleto','Promo_TPR']])\n",
    "\n",
    "\n",
    "    names=df_orig.columns.tolist()\n",
    "\n",
    "    fixed_names = [remove_sp_char(n) for n in names]\n",
    "    name_map = dict(zip(names, fixed_names))\n",
    "\n",
    "    df_orig=df_orig.rename(columns=name_map)\n",
    "\n",
    "    #print(df_orig.columns)\n",
    "    idCompras=df_orig['idCompra'].tolist()\n",
    "    #load the yearly purchase  \n",
    "    df_per_year_p=pd.read_stata(result_dir+f'{year}_purchases_u.dta')\n",
    "    df_per_year_p = df_per_year_p.loc[:, ~df_per_year_p.columns.str.contains('^Unnamed')]\n",
    "\n",
    "    df_per_year_c=pd.read_stata(result_dir+f'{year}_customers_u.dta')\n",
    "    df_per_year_c = df_per_year_c.loc[:, ~df_per_year_c.columns.str.contains('^Unnamed')]\n",
    "\n",
    "    df_per_year_s=pd.read_stata(result_dir+f'{year}_shops_u.dta')\n",
    "    df_per_year_s = df_per_year_s.loc[:, ~df_per_year_s.columns.str.contains('^Unnamed')]\n",
    "\n",
    "    df_per_year_pr=pd.read_stata(result_dir+f'{year}_products_u.dta')\n",
    "    df_per_year_pr = df_per_year_pr.loc[:, ~df_per_year_pr.columns.str.contains('^Unnamed')]\n",
    "\n",
    "    df_per_year_p_1=pd.read_stata(result_dir+f'{year}_purchases.dta')\n",
    "    df_per_year_p_1 = df_per_year_p_1.loc[:, ~df_per_year_p_1.columns.str.contains('^Unnamed')]\n",
    "    df_per_year_c_1=pd.read_stata(result_dir+f'{year}_customers.dta')\n",
    "    df_per_year_c_1 = df_per_year_c_1.loc[:, ~df_per_year_c_1.columns.str.contains('^Unnamed')]\n",
    "\n",
    "    df_per_year_s_1=pd.read_stata(result_dir+f'{year}_shops_u.dta')\n",
    "    df_per_year_s_1 = df_per_year_s_1.loc[:, ~df_per_year_s_1.columns.str.contains('^Unnamed')]\n",
    "\n",
    "    df_per_year_pr_1=pd.read_stata(result_dir+f'{year}_products_u.dta')\n",
    "    df_per_year_pr_1 = df_per_year_pr_1.loc[:, ~df_per_year_pr_1.columns.str.contains('^Unnamed')]\n",
    "\n",
    "\n",
    "    df_per_year_p=df_per_year_p[df_per_year_p['idCompra'].isin(idCompras)]\n",
    "    df_per_year_p_1=df_per_year_p.copy()\n",
    "    df_per_year_p=df_per_year_p.merge(df_per_year_c).merge(df_per_year_s).merge(df_per_year_pr)\n",
    "    df_per_year_p_2=df_per_year_p_1.merge(df_per_year_c_1).merge(df_per_year_s_1).merge(df_per_year_pr_1)\n",
    "\n",
    "    df_per_year_p_1=df_per_year_p.merge(all_c).merge(all_s).merge(all_pr)\n",
    "    df_orig['origin']='orig'\n",
    "    df_per_year_p['origin']='per_year'\n",
    "    df_per_year_p_1['origin']='per_year_all'  \n",
    "    df_per_year_p_2['origin']='per_year_all_sep_cat'  \n",
    "\n",
    "\n",
    "    #df_per_year_p=pd.reed_stata(result_dir+f'{year}_purchase.dta')\n",
    "    lines.append(df_orig)\n",
    "    print('df_orig',df_orig.columns.tolist())\n",
    "    lines.append(df_per_year_p)\n",
    "    print('df_per_year_p',df_per_year_p.columns.tolist())\n",
    "\n",
    "    lines.append(df_per_year_p_1)\n",
    "    print('df_per_year_p_1',df_per_year_p_1.columns.tolist())\n",
    "\n",
    "    lines.append(df_per_year_p_2)\n",
    "    print('df_per_year_p_2',df_per_year_p_2.columns.tolist())\n",
    "\n",
    "\n",
    "res=pd.concat(lines)\n"
   ],
   "metadata": {
    "collapsed": false,
    "ExecuteTime": {
     "end_time": "2023-12-13T19:57:51.266204Z",
     "start_time": "2023-12-13T19:55:24.517702Z"
    }
   },
   "id": "fc50865647163e48"
  },
  {
   "cell_type": "code",
   "execution_count": null,
   "outputs": [],
   "source": [],
   "metadata": {
    "collapsed": false
   },
   "id": "668000234df9b43e"
  },
  {
   "cell_type": "code",
   "execution_count": 78,
   "outputs": [],
   "source": [
    "res = res.sort_values('idCompra')"
   ],
   "metadata": {
    "collapsed": false,
    "ExecuteTime": {
     "end_time": "2023-12-13T19:45:48.311628Z",
     "start_time": "2023-12-13T19:45:48.245915Z"
    }
   },
   "id": "1ac7855485d4c93d"
  },
  {
   "cell_type": "code",
   "execution_count": 79,
   "outputs": [],
   "source": [
    "res.to_csv('compare.csv')"
   ],
   "metadata": {
    "collapsed": false,
    "ExecuteTime": {
     "end_time": "2023-12-13T19:45:49.180153Z",
     "start_time": "2023-12-13T19:45:49.101655Z"
    }
   },
   "id": "35cb52ffa95bf978"
  },
  {
   "cell_type": "code",
   "execution_count": 74,
   "outputs": [
    {
     "data": {
      "text/plain": "['index',\n 'Unnamed_0',\n 'Unnamed_0_1',\n 'idCompra',\n 'CodPanelista',\n 'CodProducto',\n 'CodigoBarras',\n 'FechaCesta',\n 'PrecioCompra',\n 'Cantidad',\n 'Precio',\n 'CodLugarCompra',\n 'Lugar_Compra',\n 'Canal',\n 'CodIndividuo',\n 'CC_AA',\n 'Edad_Ama',\n 'NF',\n 'Numero_Gatos',\n 'Numero_Perros',\n 'Presencia_Ni_os',\n 'CodIMC',\n 'IMC',\n 'Ponderacion',\n 'CodVF',\n 'VF',\n 'SA7_BPL',\n 'SA4_Fabricante',\n 'SA3_Marca',\n 'SA2_Submarca',\n 'X102_Aditivos',\n 'X108_Usuario',\n 'X109_Estado',\n 'X112_Niv_Calorias',\n 'X124_Estilo',\n 'X127_Tipo_Ba_ado_Choc',\n 'X129_Tipo_Pasteleria',\n 'X135_Uso',\n 'X143_Tipo_Corte',\n 'X163_Info_Cafeina',\n 'X167_Grado_Curacion',\n 'X169_Cont_Materia_Grasa',\n 'X174_Despiece_Corte',\n 'X182_Tipo_Queso',\n 'X188_Tipo_Pan',\n 'X189_Tipo_Viena',\n 'X206_Tipo_Pescado',\n 'X230_Niv_Concentracion',\n 'X314_Tipo_Cena_Entrante',\n 'X315_Tipo_Carne',\n 'X323_Tipo_Sazonamiento',\n 'X328_Tipo_Aceite',\n 'X329_Pureness_Niveau',\n 'X360_Tipo_Verdura',\n 'X366_Tipo_Postre',\n 'X383_Tipo_Yogurt',\n 'X384_Tipo_Cena',\n 'X489_Como_Compro_',\n 'X490_Fresca_Congelada',\n 'X491_Presentacion',\n 'X497_Tipo_Queso',\n 'X498_Marcas_Queso',\n 'X500_Tipo_Embutido',\n 'X514_Tipo_Carne',\n 'X527_Tipo_Cafe',\n 'X529_Tipo_Producto',\n 'X531_Info_Biologica',\n 'X558_Variedad_Queso',\n 'X571_Peso_Bebe',\n 'X674_Tipo_Helado',\n 'X901_Localizacion',\n 'X902_Tipo_Producto',\n 'X903_Envase',\n 'X904_Variedad_Sabor',\n 'X5_Num_Tot_Unidades',\n 'X18_Num_Tot_Paquetes_Botes',\n 'X66_Preferred_Unit_Measure',\n 'TipoMaquina',\n 'Promo_Folleto',\n 'Promo_Envase',\n 'Promo_TPR',\n 'Ciclo_Vida',\n 'Clase_EGM',\n 'Clase_Social',\n 'Habitat_Metropolitano',\n 'Habitat_Municipal_Std',\n 'Inmigrante',\n 'Provincia',\n 'Region',\n 'promo_folleto',\n 'promo_envase',\n 'promo',\n 'origin',\n 'level_0',\n 't',\n 'price_per_unit',\n 'predicted',\n 'z',\n 'outlier']"
     },
     "execution_count": 74,
     "metadata": {},
     "output_type": "execute_result"
    }
   ],
   "source": [
    "res.columns.tolist()"
   ],
   "metadata": {
    "collapsed": false,
    "ExecuteTime": {
     "end_time": "2023-12-13T19:40:20.925596Z",
     "start_time": "2023-12-13T19:40:20.873345Z"
    }
   },
   "id": "283db5608f3c4b32"
  },
  {
   "cell_type": "code",
   "execution_count": 48,
   "outputs": [
    {
     "data": {
      "text/plain": "Index(['index', 'CodProducto', 'CodigoBarras', 'CodVF', 'VF', 'SA7_BPL',\n       'SA4_Fabricante', 'SA3_Marca', 'SA2_Submarca', 'X102_Aditivos',\n       'X108_Usuario', 'X109_Estado', 'X112_Niv_Calorias', 'X124_Estilo',\n       'X127_Tipo_Ba_ado_Choc', 'X129_Tipo_Pasteleria', 'X135_Uso',\n       'X143_Tipo_Corte', 'X163_Info_Cafeina', 'X167_Grado_Curacion',\n       'X169_Cont_Materia_Grasa', 'X174_Despiece_Corte', 'X182_Tipo_Queso',\n       'X188_Tipo_Pan', 'X189_Tipo_Viena', 'X206_Tipo_Pescado',\n       'X230_Niv_Concentracion', 'X314_Tipo_Cena_Entrante', 'X315_Tipo_Carne',\n       'X323_Tipo_Sazonamiento', 'X328_Tipo_Aceite', 'X329_Pureness_Niveau',\n       'X360_Tipo_Verdura', 'X366_Tipo_Postre', 'X383_Tipo_Yogurt',\n       'X384_Tipo_Cena', 'X489_Como_Compro_', 'X490_Fresca_Congelada',\n       'X491_Presentacion', 'X497_Tipo_Queso', 'X498_Marcas_Queso',\n       'X500_Tipo_Embutido', 'X514_Tipo_Carne', 'X527_Tipo_Cafe',\n       'X529_Tipo_Producto', 'X531_Info_Biologica', 'X558_Variedad_Queso',\n       'X571_Peso_Bebe', 'X674_Tipo_Helado', 'X901_Localizacion',\n       'X902_Tipo_Producto', 'X903_Envase', 'X904_Variedad_Sabor',\n       'X5_Num_Tot_Unidades', 'X18_Num_Tot_Paquetes_Botes',\n       'X66_Preferred_Unit_Measure'],\n      dtype='object')"
     },
     "execution_count": 48,
     "metadata": {},
     "output_type": "execute_result"
    }
   ],
   "source": [
    "all_pr.columns"
   ],
   "metadata": {
    "collapsed": false,
    "ExecuteTime": {
     "end_time": "2023-12-09T21:04:37.048865Z",
     "start_time": "2023-12-09T21:04:36.977807Z"
    }
   },
   "id": "1a3aceb8929be1ed"
  },
  {
   "cell_type": "code",
   "execution_count": 49,
   "outputs": [
    {
     "data": {
      "text/plain": "92"
     },
     "execution_count": 49,
     "metadata": {},
     "output_type": "execute_result"
    }
   ],
   "source": [
    "len(df_orig.columns.tolist())"
   ],
   "metadata": {
    "collapsed": false,
    "ExecuteTime": {
     "end_time": "2023-12-13T17:50:06.253251Z",
     "start_time": "2023-12-13T17:50:06.184868Z"
    }
   },
   "id": "f998ca86e4cb7e2"
  },
  {
   "cell_type": "code",
   "execution_count": 75,
   "outputs": [
    {
     "data": {
      "text/plain": "   index  Unnamed_0  Unnamed_0_1  idCompra  CodPanelista  CodProducto  \\\n0      0        0.0          1.0  48348413        187220        11649   \n0      0        NaN          NaN  48348413        187220        11649   \n0      0        NaN          NaN  48348413        187220        11649   \n0      0        NaN          NaN  48348413        187220        11649   \n1      1        1.0          2.0  48348415        187220        46899   \n\n    CodigoBarras FechaCesta  PrecioCompra  Cantidad  ...  promo_folleto  \\\n0  3123930711000 2013-12-30        2233.0    2000.0  ...            NaN   \n0  3123930711000 2013-12-30        2233.0    2000.0  ...            NaN   \n0  3123930711000 2013-12-30        2233.0    2000.0  ...            NaN   \n0  3123930711000 2013-12-30        2233.0    2000.0  ...            NaN   \n1  8410066001026 2013-12-30        2233.0    3000.0  ...            NaN   \n\n   promo_envase promo                origin level_0      t  price_per_unit  \\\n0           NaN     1                  orig     NaN    NaN             NaN   \n0           NaN     1              per_year     0.0  364.0           0.129   \n0           NaN     1          per_year_all     0.0  364.0           0.129   \n0           NaN     1  per_year_all_sep_cat     0.0  364.0           0.129   \n1           NaN     1                  orig     NaN    NaN             NaN   \n\n  predicted         z  outlier  \n0       NaN       NaN      NaN  \n0  0.118486  0.098759      0.0  \n0  0.118486  0.098759      0.0  \n0  0.118486  0.098759      0.0  \n1       NaN       NaN      NaN  \n\n[5 rows x 99 columns]",
      "text/html": "<div>\n<style scoped>\n    .dataframe tbody tr th:only-of-type {\n        vertical-align: middle;\n    }\n\n    .dataframe tbody tr th {\n        vertical-align: top;\n    }\n\n    .dataframe thead th {\n        text-align: right;\n    }\n</style>\n<table border=\"1\" class=\"dataframe\">\n  <thead>\n    <tr style=\"text-align: right;\">\n      <th></th>\n      <th>index</th>\n      <th>Unnamed_0</th>\n      <th>Unnamed_0_1</th>\n      <th>idCompra</th>\n      <th>CodPanelista</th>\n      <th>CodProducto</th>\n      <th>CodigoBarras</th>\n      <th>FechaCesta</th>\n      <th>PrecioCompra</th>\n      <th>Cantidad</th>\n      <th>...</th>\n      <th>promo_folleto</th>\n      <th>promo_envase</th>\n      <th>promo</th>\n      <th>origin</th>\n      <th>level_0</th>\n      <th>t</th>\n      <th>price_per_unit</th>\n      <th>predicted</th>\n      <th>z</th>\n      <th>outlier</th>\n    </tr>\n  </thead>\n  <tbody>\n    <tr>\n      <th>0</th>\n      <td>0</td>\n      <td>0.0</td>\n      <td>1.0</td>\n      <td>48348413</td>\n      <td>187220</td>\n      <td>11649</td>\n      <td>3123930711000</td>\n      <td>2013-12-30</td>\n      <td>2233.0</td>\n      <td>2000.0</td>\n      <td>...</td>\n      <td>NaN</td>\n      <td>NaN</td>\n      <td>1</td>\n      <td>orig</td>\n      <td>NaN</td>\n      <td>NaN</td>\n      <td>NaN</td>\n      <td>NaN</td>\n      <td>NaN</td>\n      <td>NaN</td>\n    </tr>\n    <tr>\n      <th>0</th>\n      <td>0</td>\n      <td>NaN</td>\n      <td>NaN</td>\n      <td>48348413</td>\n      <td>187220</td>\n      <td>11649</td>\n      <td>3123930711000</td>\n      <td>2013-12-30</td>\n      <td>2233.0</td>\n      <td>2000.0</td>\n      <td>...</td>\n      <td>NaN</td>\n      <td>NaN</td>\n      <td>1</td>\n      <td>per_year</td>\n      <td>0.0</td>\n      <td>364.0</td>\n      <td>0.129</td>\n      <td>0.118486</td>\n      <td>0.098759</td>\n      <td>0.0</td>\n    </tr>\n    <tr>\n      <th>0</th>\n      <td>0</td>\n      <td>NaN</td>\n      <td>NaN</td>\n      <td>48348413</td>\n      <td>187220</td>\n      <td>11649</td>\n      <td>3123930711000</td>\n      <td>2013-12-30</td>\n      <td>2233.0</td>\n      <td>2000.0</td>\n      <td>...</td>\n      <td>NaN</td>\n      <td>NaN</td>\n      <td>1</td>\n      <td>per_year_all</td>\n      <td>0.0</td>\n      <td>364.0</td>\n      <td>0.129</td>\n      <td>0.118486</td>\n      <td>0.098759</td>\n      <td>0.0</td>\n    </tr>\n    <tr>\n      <th>0</th>\n      <td>0</td>\n      <td>NaN</td>\n      <td>NaN</td>\n      <td>48348413</td>\n      <td>187220</td>\n      <td>11649</td>\n      <td>3123930711000</td>\n      <td>2013-12-30</td>\n      <td>2233.0</td>\n      <td>2000.0</td>\n      <td>...</td>\n      <td>NaN</td>\n      <td>NaN</td>\n      <td>1</td>\n      <td>per_year_all_sep_cat</td>\n      <td>0.0</td>\n      <td>364.0</td>\n      <td>0.129</td>\n      <td>0.118486</td>\n      <td>0.098759</td>\n      <td>0.0</td>\n    </tr>\n    <tr>\n      <th>1</th>\n      <td>1</td>\n      <td>1.0</td>\n      <td>2.0</td>\n      <td>48348415</td>\n      <td>187220</td>\n      <td>46899</td>\n      <td>8410066001026</td>\n      <td>2013-12-30</td>\n      <td>2233.0</td>\n      <td>3000.0</td>\n      <td>...</td>\n      <td>NaN</td>\n      <td>NaN</td>\n      <td>1</td>\n      <td>orig</td>\n      <td>NaN</td>\n      <td>NaN</td>\n      <td>NaN</td>\n      <td>NaN</td>\n      <td>NaN</td>\n      <td>NaN</td>\n    </tr>\n  </tbody>\n</table>\n<p>5 rows × 99 columns</p>\n</div>"
     },
     "execution_count": 75,
     "metadata": {},
     "output_type": "execute_result"
    }
   ],
   "source": [
    "res.head()"
   ],
   "metadata": {
    "collapsed": false,
    "ExecuteTime": {
     "end_time": "2023-12-13T19:40:28.899573Z",
     "start_time": "2023-12-13T19:40:28.834075Z"
    }
   },
   "id": "3d6cd9f1e1e805e5"
  },
  {
   "cell_type": "code",
   "execution_count": 55,
   "outputs": [
    {
     "data": {
      "text/plain": "['level_0', 'promo', 't', 'price_per_unit', 'predicted', 'z', 'outlier']"
     },
     "execution_count": 55,
     "metadata": {},
     "output_type": "execute_result"
    }
   ],
   "source": [
    "[c for c in res.columns.tolist() if c not in df_orig.columns.tolist()]"
   ],
   "metadata": {
    "collapsed": false,
    "ExecuteTime": {
     "end_time": "2023-12-13T18:26:05.101638Z",
     "start_time": "2023-12-13T18:26:04.826030Z"
    }
   },
   "id": "a64c5893415e3f4f"
  },
  {
   "cell_type": "code",
   "execution_count": 48,
   "outputs": [
    {
     "data": {
      "text/plain": "[]"
     },
     "execution_count": 48,
     "metadata": {},
     "output_type": "execute_result"
    }
   ],
   "source": [
    "[c for c in df_orig.columns.tolist() if c not in res.columns.tolist()]\n"
   ],
   "metadata": {
    "collapsed": false,
    "ExecuteTime": {
     "end_time": "2023-12-13T17:49:34.504351Z",
     "start_time": "2023-12-13T17:49:34.388960Z"
    }
   },
   "id": "da58b316344711d9"
  },
  {
   "cell_type": "code",
   "execution_count": 82,
   "outputs": [
    {
     "data": {
      "text/plain": "Index(['level_0', 'index', 'CodPanelista', 'CC_AA', 'Edad_Ama', 'NF',\n       'Numero_Gatos', 'Numero_Perros', 'Presencia_Ni_os', 'CodIMC', 'IMC',\n       'Ponderacion', 'Ciclo_Vida', 'Clase_EGM', 'Clase_Social',\n       'Habitat_Metropolitano', 'Habitat_Municipal_Std', 'Inmigrante',\n       'Provincia', 'Region'],\n      dtype='object')"
     },
     "execution_count": 82,
     "metadata": {},
     "output_type": "execute_result"
    }
   ],
   "source": [
    "df_per_year_c.columns"
   ],
   "metadata": {
    "collapsed": false,
    "ExecuteTime": {
     "end_time": "2023-12-13T19:58:16.556407Z",
     "start_time": "2023-12-13T19:58:16.515644Z"
    }
   },
   "id": "d2bbff285583c4c8"
  },
  {
   "cell_type": "code",
   "execution_count": 83,
   "outputs": [
    {
     "ename": "ValueError",
     "evalue": "cannot insert level_0, already exists",
     "output_type": "error",
     "traceback": [
      "\u001B[0;31m---------------------------------------------------------------------------\u001B[0m",
      "\u001B[0;31mValueError\u001B[0m                                Traceback (most recent call last)",
      "\u001B[0;32m<ipython-input-83-16a2c0d577c2>\u001B[0m in \u001B[0;36m<module>\u001B[0;34m\u001B[0m\n\u001B[0;32m----> 1\u001B[0;31m \u001B[0mdf_per_year_c\u001B[0m\u001B[0;34m.\u001B[0m\u001B[0mreset_index\u001B[0m\u001B[0;34m(\u001B[0m\u001B[0;34m)\u001B[0m\u001B[0;34m\u001B[0m\u001B[0m\n\u001B[0m",
      "\u001B[0;32m~/anaconda3/envs/kantar_data_env/lib/python3.7/site-packages/pandas/core/frame.py\u001B[0m in \u001B[0;36mreset_index\u001B[0;34m(self, level, drop, inplace, col_level, col_fill)\u001B[0m\n\u001B[1;32m   4853\u001B[0m                 \u001B[0;31m# to ndarray and maybe infer different dtype\u001B[0m\u001B[0;34m\u001B[0m\u001B[0;34m\u001B[0m\u001B[0m\n\u001B[1;32m   4854\u001B[0m                 \u001B[0mlevel_values\u001B[0m \u001B[0;34m=\u001B[0m \u001B[0m_maybe_casted_values\u001B[0m\u001B[0;34m(\u001B[0m\u001B[0mlev\u001B[0m\u001B[0;34m,\u001B[0m \u001B[0mlab\u001B[0m\u001B[0;34m)\u001B[0m\u001B[0;34m\u001B[0m\u001B[0m\n\u001B[0;32m-> 4855\u001B[0;31m                 \u001B[0mnew_obj\u001B[0m\u001B[0;34m.\u001B[0m\u001B[0minsert\u001B[0m\u001B[0;34m(\u001B[0m\u001B[0;36m0\u001B[0m\u001B[0;34m,\u001B[0m \u001B[0mname\u001B[0m\u001B[0;34m,\u001B[0m \u001B[0mlevel_values\u001B[0m\u001B[0;34m)\u001B[0m\u001B[0;34m\u001B[0m\u001B[0m\n\u001B[0m\u001B[1;32m   4856\u001B[0m \u001B[0;34m\u001B[0m\u001B[0m\n\u001B[1;32m   4857\u001B[0m         \u001B[0mnew_obj\u001B[0m\u001B[0;34m.\u001B[0m\u001B[0mindex\u001B[0m \u001B[0;34m=\u001B[0m \u001B[0mnew_index\u001B[0m\u001B[0;34m\u001B[0m\u001B[0m\n",
      "\u001B[0;32m~/anaconda3/envs/kantar_data_env/lib/python3.7/site-packages/pandas/core/frame.py\u001B[0m in \u001B[0;36minsert\u001B[0;34m(self, loc, column, value, allow_duplicates)\u001B[0m\n\u001B[1;32m   3622\u001B[0m         \u001B[0mself\u001B[0m\u001B[0;34m.\u001B[0m\u001B[0m_ensure_valid_index\u001B[0m\u001B[0;34m(\u001B[0m\u001B[0mvalue\u001B[0m\u001B[0;34m)\u001B[0m\u001B[0;34m\u001B[0m\u001B[0m\n\u001B[1;32m   3623\u001B[0m         \u001B[0mvalue\u001B[0m \u001B[0;34m=\u001B[0m \u001B[0mself\u001B[0m\u001B[0;34m.\u001B[0m\u001B[0m_sanitize_column\u001B[0m\u001B[0;34m(\u001B[0m\u001B[0mcolumn\u001B[0m\u001B[0;34m,\u001B[0m \u001B[0mvalue\u001B[0m\u001B[0;34m,\u001B[0m \u001B[0mbroadcast\u001B[0m\u001B[0;34m=\u001B[0m\u001B[0;32mFalse\u001B[0m\u001B[0;34m)\u001B[0m\u001B[0;34m\u001B[0m\u001B[0m\n\u001B[0;32m-> 3624\u001B[0;31m         \u001B[0mself\u001B[0m\u001B[0;34m.\u001B[0m\u001B[0m_mgr\u001B[0m\u001B[0;34m.\u001B[0m\u001B[0minsert\u001B[0m\u001B[0;34m(\u001B[0m\u001B[0mloc\u001B[0m\u001B[0;34m,\u001B[0m \u001B[0mcolumn\u001B[0m\u001B[0;34m,\u001B[0m \u001B[0mvalue\u001B[0m\u001B[0;34m,\u001B[0m \u001B[0mallow_duplicates\u001B[0m\u001B[0;34m=\u001B[0m\u001B[0mallow_duplicates\u001B[0m\u001B[0;34m)\u001B[0m\u001B[0;34m\u001B[0m\u001B[0m\n\u001B[0m\u001B[1;32m   3625\u001B[0m \u001B[0;34m\u001B[0m\u001B[0m\n\u001B[1;32m   3626\u001B[0m     \u001B[0;32mdef\u001B[0m \u001B[0massign\u001B[0m\u001B[0;34m(\u001B[0m\u001B[0mself\u001B[0m\u001B[0;34m,\u001B[0m \u001B[0;34m**\u001B[0m\u001B[0mkwargs\u001B[0m\u001B[0;34m)\u001B[0m \u001B[0;34m->\u001B[0m \u001B[0;34m\"DataFrame\"\u001B[0m\u001B[0;34m:\u001B[0m\u001B[0;34m\u001B[0m\u001B[0m\n",
      "\u001B[0;32m~/anaconda3/envs/kantar_data_env/lib/python3.7/site-packages/pandas/core/internals/managers.py\u001B[0m in \u001B[0;36minsert\u001B[0;34m(self, loc, item, value, allow_duplicates)\u001B[0m\n\u001B[1;32m   1175\u001B[0m         \u001B[0;32mif\u001B[0m \u001B[0;32mnot\u001B[0m \u001B[0mallow_duplicates\u001B[0m \u001B[0;32mand\u001B[0m \u001B[0mitem\u001B[0m \u001B[0;32min\u001B[0m \u001B[0mself\u001B[0m\u001B[0;34m.\u001B[0m\u001B[0mitems\u001B[0m\u001B[0;34m:\u001B[0m\u001B[0;34m\u001B[0m\u001B[0m\n\u001B[1;32m   1176\u001B[0m             \u001B[0;31m# Should this be a different kind of error??\u001B[0m\u001B[0;34m\u001B[0m\u001B[0;34m\u001B[0m\u001B[0m\n\u001B[0;32m-> 1177\u001B[0;31m             \u001B[0;32mraise\u001B[0m \u001B[0mValueError\u001B[0m\u001B[0;34m(\u001B[0m\u001B[0;34mf\"cannot insert {item}, already exists\"\u001B[0m\u001B[0;34m)\u001B[0m\u001B[0;34m\u001B[0m\u001B[0m\n\u001B[0m\u001B[1;32m   1178\u001B[0m \u001B[0;34m\u001B[0m\u001B[0m\n\u001B[1;32m   1179\u001B[0m         \u001B[0;32mif\u001B[0m \u001B[0;32mnot\u001B[0m \u001B[0misinstance\u001B[0m\u001B[0;34m(\u001B[0m\u001B[0mloc\u001B[0m\u001B[0;34m,\u001B[0m \u001B[0mint\u001B[0m\u001B[0;34m)\u001B[0m\u001B[0;34m:\u001B[0m\u001B[0;34m\u001B[0m\u001B[0m\n",
      "\u001B[0;31mValueError\u001B[0m: cannot insert level_0, already exists"
     ]
    }
   ],
   "source": [
    "df_per_year_c.reset_index()"
   ],
   "metadata": {
    "collapsed": false,
    "ExecuteTime": {
     "end_time": "2023-12-13T19:58:46.822392Z",
     "start_time": "2023-12-13T19:58:46.564925Z"
    }
   },
   "id": "fcc39c459a876228"
  },
  {
   "cell_type": "code",
   "execution_count": null,
   "outputs": [],
   "source": [],
   "metadata": {
    "collapsed": false
   },
   "id": "e6339baeb623f135"
  }
 ],
 "metadata": {
  "kernelspec": {
   "display_name": "Python 3",
   "language": "python",
   "name": "python3"
  },
  "language_info": {
   "codemirror_mode": {
    "name": "ipython",
    "version": 2
   },
   "file_extension": ".py",
   "mimetype": "text/x-python",
   "name": "python",
   "nbconvert_exporter": "python",
   "pygments_lexer": "ipython2",
   "version": "2.7.6"
  }
 },
 "nbformat": 4,
 "nbformat_minor": 5
}
